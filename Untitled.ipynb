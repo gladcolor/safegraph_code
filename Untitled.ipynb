{
 "cells": [
  {
   "cell_type": "code",
   "execution_count": 4,
   "id": "9f2df805",
   "metadata": {},
   "outputs": [
    {
     "name": "stdout",
     "output_type": "stream",
     "text": [
      "placekey\n",
      "parent_placekey\n",
      "location_name\n",
      "street_address\n",
      "city\n",
      "region\n",
      "postal_code\n",
      "iso_country_code\n",
      "safegraph_brand_ids\n",
      "brands\n",
      "date_range_start\n",
      "date_range_end\n",
      "raw_visit_counts\n",
      "raw_visitor_counts\n",
      "visits_by_day\n",
      "visits_by_each_hour\n",
      "poi_cbg\n",
      "visitor_home_cbgs\n",
      "visitor_daytime_cbgs\n",
      "visitor_country_of_origin\n",
      "distance_from_home\n",
      "median_dwell\n",
      "bucketed_dwell_times\n",
      "related_same_day_brand\n",
      "related_same_week_brand\n",
      "device_type\n",
      "safegraph_place_id\n",
      "parent_safegraph_place_id\n"
     ]
    },
    {
     "data": {
      "text/html": [
       "<div>\n",
       "<style scoped>\n",
       "    .dataframe tbody tr th:only-of-type {\n",
       "        vertical-align: middle;\n",
       "    }\n",
       "\n",
       "    .dataframe tbody tr th {\n",
       "        vertical-align: top;\n",
       "    }\n",
       "\n",
       "    .dataframe thead th {\n",
       "        text-align: right;\n",
       "    }\n",
       "</style>\n",
       "<table border=\"1\" class=\"dataframe\">\n",
       "  <thead>\n",
       "    <tr style=\"text-align: right;\">\n",
       "      <th></th>\n",
       "      <th>placekey</th>\n",
       "      <th>parent_placekey</th>\n",
       "      <th>location_name</th>\n",
       "      <th>street_address</th>\n",
       "      <th>city</th>\n",
       "      <th>region</th>\n",
       "      <th>postal_code</th>\n",
       "      <th>iso_country_code</th>\n",
       "      <th>safegraph_brand_ids</th>\n",
       "      <th>brands</th>\n",
       "      <th>...</th>\n",
       "      <th>visitor_daytime_cbgs</th>\n",
       "      <th>visitor_country_of_origin</th>\n",
       "      <th>distance_from_home</th>\n",
       "      <th>median_dwell</th>\n",
       "      <th>bucketed_dwell_times</th>\n",
       "      <th>related_same_day_brand</th>\n",
       "      <th>related_same_week_brand</th>\n",
       "      <th>device_type</th>\n",
       "      <th>safegraph_place_id</th>\n",
       "      <th>parent_safegraph_place_id</th>\n",
       "    </tr>\n",
       "  </thead>\n",
       "  <tbody>\n",
       "    <tr>\n",
       "      <th>37278</th>\n",
       "      <td>zzw-222@8fy-82z-kfz</td>\n",
       "      <td>NaN</td>\n",
       "      <td>Sensible Equipment Company Inc</td>\n",
       "      <td>1015 Webster Ave</td>\n",
       "      <td>Orlando</td>\n",
       "      <td>FL</td>\n",
       "      <td>32804</td>\n",
       "      <td>US</td>\n",
       "      <td>NaN</td>\n",
       "      <td>NaN</td>\n",
       "      <td>...</td>\n",
       "      <td>{}</td>\n",
       "      <td>{}</td>\n",
       "      <td>NaN</td>\n",
       "      <td>51.5</td>\n",
       "      <td>{\"&lt;5\":0,\"5-10\":1,\"11-20\":0,\"21-60\":0,\"61-120\":...</td>\n",
       "      <td>{}</td>\n",
       "      <td>{}</td>\n",
       "      <td>{\"android\":0,\"ios\":0}</td>\n",
       "      <td>NaN</td>\n",
       "      <td>NaN</td>\n",
       "    </tr>\n",
       "  </tbody>\n",
       "</table>\n",
       "<p>1 rows × 28 columns</p>\n",
       "</div>"
      ],
      "text/plain": [
       "                  placekey parent_placekey                   location_name  \\\n",
       "37278  zzw-222@8fy-82z-kfz             NaN  Sensible Equipment Company Inc   \n",
       "\n",
       "         street_address     city region  postal_code iso_country_code  \\\n",
       "37278  1015 Webster Ave  Orlando     FL        32804               US   \n",
       "\n",
       "      safegraph_brand_ids brands  ... visitor_daytime_cbgs  \\\n",
       "37278                 NaN    NaN  ...                   {}   \n",
       "\n",
       "      visitor_country_of_origin  distance_from_home  median_dwell  \\\n",
       "37278                        {}                 NaN          51.5   \n",
       "\n",
       "                                    bucketed_dwell_times  \\\n",
       "37278  {\"<5\":0,\"5-10\":1,\"11-20\":0,\"21-60\":0,\"61-120\":...   \n",
       "\n",
       "      related_same_day_brand  related_same_week_brand            device_type  \\\n",
       "37278                     {}                       {}  {\"android\":0,\"ios\":0}   \n",
       "\n",
       "      safegraph_place_id parent_safegraph_place_id  \n",
       "37278                NaN                       NaN  \n",
       "\n",
       "[1 rows x 28 columns]"
      ]
     },
     "execution_count": 4,
     "metadata": {},
     "output_type": "execute_result"
    }
   ],
   "source": [
    "import pandas as pd\n",
    "df = pd.read_csv(r'/media/gpu/Seagate/weekly_patterns_20211211/to_cluster_202112/2021/12/2021_12_06_row=42264_1.csv')\n",
    "[print(c) for c in df.columns]\n",
    "df.sample(1)"
   ]
  },
  {
   "cell_type": "code",
   "execution_count": 3,
   "id": "6133415f-5b0a-4902-b858-ef815ca28d57",
   "metadata": {},
   "outputs": [
    {
     "name": "stdout",
     "output_type": "stream",
     "text": [
      "Collecting NRCLex\n",
      "  Downloading NRCLex-3.0.0.tar.gz (396 kB)\n",
      "     -------------------------------------- 396.4/396.4 KB 1.7 MB/s eta 0:00:00\n",
      "  Preparing metadata (setup.py): started\n",
      "  Preparing metadata (setup.py): finished with status 'done'\n",
      "Collecting textblob\n",
      "  Downloading textblob-0.17.1-py2.py3-none-any.whl (636 kB)\n",
      "     -------------------------------------- 636.8/636.8 KB 8.0 MB/s eta 0:00:00\n",
      "Collecting nltk>=3.1\n",
      "  Downloading nltk-3.7-py3-none-any.whl (1.5 MB)\n",
      "     ---------------------------------------- 1.5/1.5 MB 31.6 MB/s eta 0:00:00\n",
      "Collecting click\n",
      "  Downloading click-8.0.4-py3-none-any.whl (97 kB)\n",
      "     ---------------------------------------- 97.5/97.5 KB ? eta 0:00:00\n",
      "Collecting joblib\n",
      "  Downloading joblib-1.1.0-py2.py3-none-any.whl (306 kB)\n",
      "     -------------------------------------- 307.0/307.0 KB 6.3 MB/s eta 0:00:00\n",
      "Collecting tqdm\n",
      "  Downloading tqdm-4.63.0-py2.py3-none-any.whl (76 kB)\n",
      "     ---------------------------------------- 76.6/76.6 KB ? eta 0:00:00\n",
      "Collecting regex>=2021.8.3\n",
      "  Downloading regex-2022.3.15-cp310-cp310-win_amd64.whl (274 kB)\n",
      "     ------------------------------------- 274.4/274.4 KB 17.6 MB/s eta 0:00:00\n",
      "Requirement already satisfied: colorama in c:\\programdata\\anaconda3\\envs\\safegraph\\lib\\site-packages (from click->nltk>=3.1->textblob->NRCLex) (0.4.4)\n",
      "Building wheels for collected packages: NRCLex\n",
      "  Building wheel for NRCLex (setup.py): started\n",
      "  Building wheel for NRCLex (setup.py): finished with status 'done'\n",
      "  Created wheel for NRCLex: filename=NRCLex-3.0.0-py3-none-any.whl size=43339 sha256=0d6dd2c93dc760472f251e2662c7681e21e2312427342b5319357aa89b48f975\n",
      "  Stored in directory: c:\\users\\gpu\\appdata\\local\\pip\\cache\\wheels\\d2\\10\\44\\6abfb1234298806a145fd6bcaec8cbc712e88dd1cd6cb242fa\n",
      "Successfully built NRCLex\n",
      "Installing collected packages: tqdm, regex, joblib, click, nltk, textblob, NRCLex\n",
      "Successfully installed NRCLex-3.0.0 click-8.0.4 joblib-1.1.0 nltk-3.7 regex-2022.3.15 textblob-0.17.1 tqdm-4.63.0\n"
     ]
    }
   ],
   "source": [
    "!pip install NRCLex"
   ]
  },
  {
   "cell_type": "code",
   "execution_count": 8,
   "id": "c66c57d0-6ae4-446c-bc76-f12874baf8ff",
   "metadata": {},
   "outputs": [
    {
     "name": "stderr",
     "output_type": "stream",
     "text": [
      "[nltk_data] Downloading package punkt to\n",
      "[nltk_data]     C:\\Users\\GPU\\AppData\\Roaming\\nltk_data...\n",
      "[nltk_data]   Unzipping tokenizers\\punkt.zip.\n"
     ]
    },
    {
     "data": {
      "text/plain": [
       "True"
      ]
     },
     "execution_count": 8,
     "metadata": {},
     "output_type": "execute_result"
    }
   ],
   "source": [
    "import nltk\n",
    "nltk.download('punkt')"
   ]
  },
  {
   "cell_type": "code",
   "execution_count": 9,
   "id": "2724bfb1-0fa4-4e41-8da0-ee18f217ae76",
   "metadata": {},
   "outputs": [],
   "source": [
    "from nrclex import NRCLex"
   ]
  },
  {
   "cell_type": "code",
   "execution_count": 10,
   "id": "fba1243a-4740-42d0-bc22-7b19e8316d01",
   "metadata": {},
   "outputs": [
    {
     "ename": "TypeError",
     "evalue": "NRCLex.__init__() got an unexpected keyword argument 'lexicon_file'",
     "output_type": "error",
     "traceback": [
      "\u001b[1;31m---------------------------------------------------------------------------\u001b[0m",
      "\u001b[1;31mTypeError\u001b[0m                                 Traceback (most recent call last)",
      "Input \u001b[1;32mIn [10]\u001b[0m, in \u001b[0;36m<cell line: 1>\u001b[1;34m()\u001b[0m\n\u001b[1;32m----> 1\u001b[0m text_object \u001b[38;5;241m=\u001b[39m \u001b[43mNRCLex\u001b[49m\u001b[43m(\u001b[49m\u001b[43mlexicon_file\u001b[49m\u001b[38;5;241;43m=\u001b[39;49m\u001b[38;5;124;43m'\u001b[39;49m\u001b[38;5;124;43mnrc_en.json\u001b[39;49m\u001b[38;5;124;43m'\u001b[39;49m\u001b[43m)\u001b[49m\n",
      "\u001b[1;31mTypeError\u001b[0m: NRCLex.__init__() got an unexpected keyword argument 'lexicon_file'"
     ]
    }
   ],
   "source": [
    "text_object = NRCLex(lexicon_file='nrc_en.json')"
   ]
  },
  {
   "cell_type": "code",
   "execution_count": 15,
   "id": "d2422e1b-8082-4344-a641-0fba5c589ed8",
   "metadata": {},
   "outputs": [
    {
     "data": {
      "text/plain": [
       "[('trust', 0.3333333333333333), ('positive', 0.3333333333333333)]"
      ]
     },
     "execution_count": 15,
     "metadata": {},
     "output_type": "execute_result"
    }
   ],
   "source": [
    "t = NRCLex(text=r\"NRCLex will measure emotional affect from a body of text. Affect dictionary contains approximately 27,000 words, and is based on the National Research Council Canada (NRC) affect lexicon (see link below) and the NLTK library's WordNet synonym sets.\")\n",
    "t.top_emotions"
   ]
  },
  {
   "cell_type": "code",
   "execution_count": null,
   "id": "073de797-5368-4aaf-9586-4f3df4a3aa9a",
   "metadata": {},
   "outputs": [],
   "source": []
  }
 ],
 "metadata": {
  "kernelspec": {
   "display_name": "geo",
   "language": "python",
   "name": "geo"
  },
  "language_info": {
   "codemirror_mode": {
    "name": "ipython",
    "version": 3
   },
   "file_extension": ".py",
   "mimetype": "text/x-python",
   "name": "python",
   "nbconvert_exporter": "python",
   "pygments_lexer": "ipython3",
   "version": "3.8.3"
  }
 },
 "nbformat": 4,
 "nbformat_minor": 5
}
