{
 "cells": [
  {
   "cell_type": "code",
   "execution_count": 102,
   "metadata": {},
   "outputs": [
    {
     "name": "stdout",
     "output_type": "stream",
     "text": [
      "Requirement already satisfied: dask in c:\\programdata\\anaconda3\\envs\\gdal_env\\lib\\site-packages (2021.5.1)\n",
      "Requirement already satisfied: pyyaml in c:\\programdata\\anaconda3\\envs\\gdal_env\\lib\\site-packages (from dask) (5.4.1)\n",
      "Requirement already satisfied: cloudpickle>=1.1.1 in c:\\programdata\\anaconda3\\envs\\gdal_env\\lib\\site-packages (from dask) (1.6.0)\n",
      "Requirement already satisfied: toolz>=0.8.2 in c:\\programdata\\anaconda3\\envs\\gdal_env\\lib\\site-packages (from dask) (0.11.1)\n",
      "Requirement already satisfied: partd>=0.3.10 in c:\\programdata\\anaconda3\\envs\\gdal_env\\lib\\site-packages (from dask) (1.2.0)\n",
      "Requirement already satisfied: fsspec>=0.6.0 in c:\\programdata\\anaconda3\\envs\\gdal_env\\lib\\site-packages (from dask) (2021.5.0)\n",
      "Requirement already satisfied: locket in c:\\programdata\\anaconda3\\envs\\gdal_env\\lib\\site-packages (from partd>=0.3.10->dask) (0.2.1)\n",
      "Note: you may need to restart the kernel to use updated packages.\n"
     ]
    }
   ],
   "source": [
    "pip install dask"
   ]
  },
  {
   "cell_type": "code",
   "execution_count": 1,
   "metadata": {
    "ExecuteTime": {
     "end_time": "2021-06-03T05:00:50.129734Z",
     "start_time": "2021-06-03T05:00:49.007647Z"
    }
   },
   "outputs": [
    {
     "ename": "OSError",
     "evalue": "could not find or load spatialindex_c-64.dll",
     "output_type": "error",
     "traceback": [
      "\u001b[1;31m---------------------------------------------------------------------------\u001b[0m",
      "\u001b[1;31mOSError\u001b[0m                                   Traceback (most recent call last)",
      "\u001b[1;32m<ipython-input-1-bbfde0053b69>\u001b[0m in \u001b[0;36m<module>\u001b[1;34m\u001b[0m\n\u001b[0;32m      1\u001b[0m \u001b[1;32mimport\u001b[0m \u001b[0mos\u001b[0m\u001b[1;33m\u001b[0m\u001b[1;33m\u001b[0m\u001b[0m\n\u001b[0;32m      2\u001b[0m \u001b[1;32mimport\u001b[0m \u001b[0mglob\u001b[0m\u001b[1;33m\u001b[0m\u001b[1;33m\u001b[0m\u001b[0m\n\u001b[1;32m----> 3\u001b[1;33m \u001b[1;32mimport\u001b[0m \u001b[0mgeopandas\u001b[0m \u001b[1;32mas\u001b[0m \u001b[0mgpd\u001b[0m\u001b[1;33m\u001b[0m\u001b[1;33m\u001b[0m\u001b[0m\n\u001b[0m\u001b[0;32m      4\u001b[0m \u001b[1;32mimport\u001b[0m \u001b[0mpandas\u001b[0m \u001b[1;32mas\u001b[0m \u001b[0mpd\u001b[0m\u001b[1;33m\u001b[0m\u001b[1;33m\u001b[0m\u001b[0m\n\u001b[0;32m      5\u001b[0m \u001b[1;32mimport\u001b[0m \u001b[0mast\u001b[0m\u001b[1;33m\u001b[0m\u001b[1;33m\u001b[0m\u001b[0m\n",
      "\u001b[1;32mD:\\Anaconda3\\lib\\site-packages\\geopandas\\__init__.py\u001b[0m in \u001b[0;36m<module>\u001b[1;34m\u001b[0m\n\u001b[1;32m----> 1\u001b[1;33m \u001b[1;32mfrom\u001b[0m \u001b[0mgeopandas\u001b[0m\u001b[1;33m.\u001b[0m\u001b[0m_config\u001b[0m \u001b[1;32mimport\u001b[0m \u001b[0moptions\u001b[0m  \u001b[1;31m# noqa\u001b[0m\u001b[1;33m\u001b[0m\u001b[1;33m\u001b[0m\u001b[0m\n\u001b[0m\u001b[0;32m      2\u001b[0m \u001b[1;33m\u001b[0m\u001b[0m\n\u001b[0;32m      3\u001b[0m \u001b[1;32mfrom\u001b[0m \u001b[0mgeopandas\u001b[0m\u001b[1;33m.\u001b[0m\u001b[0mgeoseries\u001b[0m \u001b[1;32mimport\u001b[0m \u001b[0mGeoSeries\u001b[0m  \u001b[1;31m# noqa\u001b[0m\u001b[1;33m\u001b[0m\u001b[1;33m\u001b[0m\u001b[0m\n\u001b[0;32m      4\u001b[0m \u001b[1;32mfrom\u001b[0m \u001b[0mgeopandas\u001b[0m\u001b[1;33m.\u001b[0m\u001b[0mgeodataframe\u001b[0m \u001b[1;32mimport\u001b[0m \u001b[0mGeoDataFrame\u001b[0m  \u001b[1;31m# noqa\u001b[0m\u001b[1;33m\u001b[0m\u001b[1;33m\u001b[0m\u001b[0m\n\u001b[0;32m      5\u001b[0m \u001b[1;32mfrom\u001b[0m \u001b[0mgeopandas\u001b[0m\u001b[1;33m.\u001b[0m\u001b[0marray\u001b[0m \u001b[1;32mimport\u001b[0m \u001b[0mpoints_from_xy\u001b[0m  \u001b[1;31m# noqa\u001b[0m\u001b[1;33m\u001b[0m\u001b[1;33m\u001b[0m\u001b[0m\n",
      "\u001b[1;32mD:\\Anaconda3\\lib\\site-packages\\geopandas\\_config.py\u001b[0m in \u001b[0;36m<module>\u001b[1;34m\u001b[0m\n\u001b[0;32m    124\u001b[0m use_pygeos = Option(\n\u001b[0;32m    125\u001b[0m     \u001b[0mkey\u001b[0m\u001b[1;33m=\u001b[0m\u001b[1;34m\"use_pygeos\"\u001b[0m\u001b[1;33m,\u001b[0m\u001b[1;33m\u001b[0m\u001b[1;33m\u001b[0m\u001b[0m\n\u001b[1;32m--> 126\u001b[1;33m     \u001b[0mdefault_value\u001b[0m\u001b[1;33m=\u001b[0m\u001b[0m_default_use_pygeos\u001b[0m\u001b[1;33m(\u001b[0m\u001b[1;33m)\u001b[0m\u001b[1;33m,\u001b[0m\u001b[1;33m\u001b[0m\u001b[1;33m\u001b[0m\u001b[0m\n\u001b[0m\u001b[0;32m    127\u001b[0m     doc=(\n\u001b[0;32m    128\u001b[0m         \u001b[1;34m\"Whether to use PyGEOS to speed up spatial operations. The default is True \"\u001b[0m\u001b[1;33m\u001b[0m\u001b[1;33m\u001b[0m\u001b[0m\n",
      "\u001b[1;32mD:\\Anaconda3\\lib\\site-packages\\geopandas\\_config.py\u001b[0m in \u001b[0;36m_default_use_pygeos\u001b[1;34m()\u001b[0m\n\u001b[0;32m    110\u001b[0m \u001b[1;33m\u001b[0m\u001b[0m\n\u001b[0;32m    111\u001b[0m \u001b[1;32mdef\u001b[0m \u001b[0m_default_use_pygeos\u001b[0m\u001b[1;33m(\u001b[0m\u001b[1;33m)\u001b[0m\u001b[1;33m:\u001b[0m\u001b[1;33m\u001b[0m\u001b[1;33m\u001b[0m\u001b[0m\n\u001b[1;32m--> 112\u001b[1;33m     \u001b[1;32mimport\u001b[0m \u001b[0mgeopandas\u001b[0m\u001b[1;33m.\u001b[0m\u001b[0m_compat\u001b[0m \u001b[1;32mas\u001b[0m \u001b[0mcompat\u001b[0m\u001b[1;33m\u001b[0m\u001b[1;33m\u001b[0m\u001b[0m\n\u001b[0m\u001b[0;32m    113\u001b[0m \u001b[1;33m\u001b[0m\u001b[0m\n\u001b[0;32m    114\u001b[0m     \u001b[1;32mreturn\u001b[0m \u001b[0mcompat\u001b[0m\u001b[1;33m.\u001b[0m\u001b[0mUSE_PYGEOS\u001b[0m\u001b[1;33m\u001b[0m\u001b[1;33m\u001b[0m\u001b[0m\n",
      "\u001b[1;32mD:\\Anaconda3\\lib\\site-packages\\geopandas\\_compat.py\u001b[0m in \u001b[0;36m<module>\u001b[1;34m\u001b[0m\n\u001b[0;32m    200\u001b[0m \u001b[0mRTREE_GE_094\u001b[0m \u001b[1;33m=\u001b[0m \u001b[1;32mFalse\u001b[0m\u001b[1;33m\u001b[0m\u001b[1;33m\u001b[0m\u001b[0m\n\u001b[0;32m    201\u001b[0m \u001b[1;32mtry\u001b[0m\u001b[1;33m:\u001b[0m\u001b[1;33m\u001b[0m\u001b[1;33m\u001b[0m\u001b[0m\n\u001b[1;32m--> 202\u001b[1;33m     \u001b[1;32mimport\u001b[0m \u001b[0mrtree\u001b[0m  \u001b[1;31m# noqa\u001b[0m\u001b[1;33m\u001b[0m\u001b[1;33m\u001b[0m\u001b[0m\n\u001b[0m\u001b[0;32m    203\u001b[0m \u001b[1;33m\u001b[0m\u001b[0m\n\u001b[0;32m    204\u001b[0m     \u001b[0mHAS_RTREE\u001b[0m \u001b[1;33m=\u001b[0m \u001b[1;32mTrue\u001b[0m\u001b[1;33m\u001b[0m\u001b[1;33m\u001b[0m\u001b[0m\n",
      "\u001b[1;32mD:\\Anaconda3\\lib\\site-packages\\rtree\\__init__.py\u001b[0m in \u001b[0;36m<module>\u001b[1;34m\u001b[0m\n\u001b[0;32m      7\u001b[0m \u001b[0m__version__\u001b[0m \u001b[1;33m=\u001b[0m \u001b[1;34m'0.9.7'\u001b[0m\u001b[1;33m\u001b[0m\u001b[1;33m\u001b[0m\u001b[0m\n\u001b[0;32m      8\u001b[0m \u001b[1;33m\u001b[0m\u001b[0m\n\u001b[1;32m----> 9\u001b[1;33m \u001b[1;32mfrom\u001b[0m \u001b[1;33m.\u001b[0m\u001b[0mindex\u001b[0m \u001b[1;32mimport\u001b[0m \u001b[0mRtree\u001b[0m\u001b[1;33m,\u001b[0m \u001b[0mIndex\u001b[0m  \u001b[1;31m# noqa\u001b[0m\u001b[1;33m\u001b[0m\u001b[1;33m\u001b[0m\u001b[0m\n\u001b[0m",
      "\u001b[1;32mD:\\Anaconda3\\lib\\site-packages\\rtree\\index.py\u001b[0m in \u001b[0;36m<module>\u001b[1;34m\u001b[0m\n\u001b[0;32m      4\u001b[0m \u001b[1;32mimport\u001b[0m \u001b[0mpprint\u001b[0m\u001b[1;33m\u001b[0m\u001b[1;33m\u001b[0m\u001b[0m\n\u001b[0;32m      5\u001b[0m \u001b[1;33m\u001b[0m\u001b[0m\n\u001b[1;32m----> 6\u001b[1;33m \u001b[1;32mfrom\u001b[0m \u001b[1;33m.\u001b[0m \u001b[1;32mimport\u001b[0m \u001b[0mcore\u001b[0m\u001b[1;33m\u001b[0m\u001b[1;33m\u001b[0m\u001b[0m\n\u001b[0m\u001b[0;32m      7\u001b[0m \u001b[1;33m\u001b[0m\u001b[0m\n\u001b[0;32m      8\u001b[0m \u001b[1;32mimport\u001b[0m \u001b[0mpickle\u001b[0m\u001b[1;33m\u001b[0m\u001b[1;33m\u001b[0m\u001b[0m\n",
      "\u001b[1;32mD:\\Anaconda3\\lib\\site-packages\\rtree\\core.py\u001b[0m in \u001b[0;36m<module>\u001b[1;34m\u001b[0m\n\u001b[0;32m     73\u001b[0m \u001b[1;33m\u001b[0m\u001b[0m\n\u001b[0;32m     74\u001b[0m \u001b[1;31m# load the shared library by looking in likely places\u001b[0m\u001b[1;33m\u001b[0m\u001b[1;33m\u001b[0m\u001b[1;33m\u001b[0m\u001b[0m\n\u001b[1;32m---> 75\u001b[1;33m \u001b[0mrt\u001b[0m \u001b[1;33m=\u001b[0m \u001b[0mfinder\u001b[0m\u001b[1;33m.\u001b[0m\u001b[0mload\u001b[0m\u001b[1;33m(\u001b[0m\u001b[1;33m)\u001b[0m\u001b[1;33m\u001b[0m\u001b[1;33m\u001b[0m\u001b[0m\n\u001b[0m\u001b[0;32m     76\u001b[0m \u001b[1;33m\u001b[0m\u001b[0m\n\u001b[0;32m     77\u001b[0m \u001b[0mrt\u001b[0m\u001b[1;33m.\u001b[0m\u001b[0mError_GetLastErrorNum\u001b[0m\u001b[1;33m.\u001b[0m\u001b[0mrestype\u001b[0m \u001b[1;33m=\u001b[0m \u001b[0mctypes\u001b[0m\u001b[1;33m.\u001b[0m\u001b[0mc_int\u001b[0m\u001b[1;33m\u001b[0m\u001b[1;33m\u001b[0m\u001b[0m\n",
      "\u001b[1;32mD:\\Anaconda3\\lib\\site-packages\\rtree\\finder.py\u001b[0m in \u001b[0;36mload\u001b[1;34m()\u001b[0m\n\u001b[0;32m     65\u001b[0m             \u001b[1;32mfinally\u001b[0m\u001b[1;33m:\u001b[0m\u001b[1;33m\u001b[0m\u001b[1;33m\u001b[0m\u001b[0m\n\u001b[0;32m     66\u001b[0m                 \u001b[0mos\u001b[0m\u001b[1;33m.\u001b[0m\u001b[0menviron\u001b[0m\u001b[1;33m[\u001b[0m\u001b[1;34m'PATH'\u001b[0m\u001b[1;33m]\u001b[0m \u001b[1;33m=\u001b[0m \u001b[0moldenv\u001b[0m\u001b[1;33m\u001b[0m\u001b[1;33m\u001b[0m\u001b[0m\n\u001b[1;32m---> 67\u001b[1;33m         \u001b[1;32mraise\u001b[0m \u001b[0mOSError\u001b[0m\u001b[1;33m(\u001b[0m\u001b[1;34m\"could not find or load {}\"\u001b[0m\u001b[1;33m.\u001b[0m\u001b[0mformat\u001b[0m\u001b[1;33m(\u001b[0m\u001b[0mlib_name\u001b[0m\u001b[1;33m)\u001b[0m\u001b[1;33m)\u001b[0m\u001b[1;33m\u001b[0m\u001b[1;33m\u001b[0m\u001b[0m\n\u001b[0m\u001b[0;32m     68\u001b[0m \u001b[1;33m\u001b[0m\u001b[0m\n\u001b[0;32m     69\u001b[0m     \u001b[1;32melif\u001b[0m \u001b[0mos\u001b[0m\u001b[1;33m.\u001b[0m\u001b[0mname\u001b[0m \u001b[1;33m==\u001b[0m \u001b[1;34m'posix'\u001b[0m\u001b[1;33m:\u001b[0m\u001b[1;33m\u001b[0m\u001b[1;33m\u001b[0m\u001b[0m\n",
      "\u001b[1;31mOSError\u001b[0m: could not find or load spatialindex_c-64.dll"
     ]
    }
   ],
   "source": [
    "import os\n",
    "import glob\n",
    "import geopandas as gpd\n",
    "import pandas as pd\n",
    "import ast\n",
    "import json\n",
    "from shapely.geometry import Point, LineString\n",
    "import dask\n",
    "import dask.dataframe as dd\n",
    "from dask.distributed import Client\n",
    "\n",
    "client = dask.distributed.Client()"
   ]
  },
  {
   "cell_type": "code",
   "execution_count": 3,
   "metadata": {
    "ExecuteTime": {
     "end_time": "2021-04-22T19:44:14.237596Z",
     "start_time": "2021-04-22T19:44:14.234590Z"
    }
   },
   "outputs": [],
   "source": [
    "csv_file = r'F:\\\\Safegraph\\\\Neigborhood\\\\patterns\\\\2021\\\\05\\\\04\\\\y=2021\\\\m=4\\\\part-00000-tid-1265847720957935305-ce8e0626-c194-4c9d-82d2-56460c6b1370-446576-1-c000.csv.gz'\n",
    "\n",
    "csv_file = r\"H:\\Safegraph\\Weekly Places Patterns v2 (until 2020-06-15)\\main-file\\2019-02-11-weekly-patterns.csv.gz\"\n",
    "\n",
    "csv_files = r\"H:\\Safegraph\\Weekly Places Patterns (for data from 2020-11-30 to Present)\\patterns\\2021\\05\\26\\18\\*.gz\""
   ]
  },
  {
   "cell_type": "code",
   "execution_count": 9,
   "metadata": {
    "ExecuteTime": {
     "end_time": "2021-06-03T05:06:29.120548Z",
     "start_time": "2021-06-03T05:05:29.140290Z"
    }
   },
   "outputs": [],
   "source": [
    "csv_files = r\"H:\\Safegraph\\Weekly Places Patterns (for data from 2020-11-30 to Present)\\patterns\\2021\\05\\26\\18\\*.gz\"\n",
    "\n",
    "csv_file = r'F:\\\\Safegraph\\\\Neigborhood\\\\patterns\\\\2021\\\\05\\\\04\\\\y=2021\\\\m=4\\\\part-00000-tid-1265847720957935305-ce8e0626-c194-4c9d-82d2-56460c6b1370-446576-1-c000.csv.gz'\n",
    "\n",
    "\n",
    "# ddf = dd.read_csv(csv_file, blocksize=None, encoding='utf-8').compute(scheduler='processes')\n",
    "df = pd.read_csv(csv_file,  encoding='utf-8') "
   ]
  },
  {
   "cell_type": "code",
   "execution_count": 91,
   "metadata": {},
   "outputs": [
    {
     "name": "stdout",
     "output_type": "stream",
     "text": [
      "Wall time: 1min 9s\n"
     ]
    }
   ],
   "source": [
    "%%time\n",
    "csv_files = r\"H:\\Safegraph\\Weekly Places Patterns (for data from 2020-11-30 to Present)\\patterns\\2021\\05\\26\\18\\*.csv\"\n",
    "df = dd.read_csv(csv_files).compute()"
   ]
  },
  {
   "cell_type": "code",
   "execution_count": 92,
   "metadata": {},
   "outputs": [
    {
     "data": {
      "text/plain": [
       "dask.dataframe.core.DataFrame"
      ]
     },
     "execution_count": 92,
     "metadata": {},
     "output_type": "execute_result"
    }
   ],
   "source": [
    "ddf = dd.from_pandas(df, npartitions=12)\n",
    "type(ddf)"
   ]
  },
  {
   "cell_type": "code",
   "execution_count": 5,
   "metadata": {},
   "outputs": [
    {
     "name": "stdout",
     "output_type": "stream",
     "text": [
      "Wall time: 1min 42s\n"
     ]
    }
   ],
   "source": [
    "csv_files = r\"H:\\Safegraph\\Weekly Places Patterns (for data from 2020-11-30 to Present)\\patterns\\2021\\05\\26\\18\\*.gz\"\n",
    "%%time\n",
    "ddf = dd.read_csv(csv_files, blocksize=None).compute()"
   ]
  },
  {
   "cell_type": "code",
   "execution_count": 11,
   "metadata": {},
   "outputs": [
    {
     "data": {
      "text/plain": [
       "4428203"
      ]
     },
     "execution_count": 11,
     "metadata": {},
     "output_type": "execute_result"
    }
   ],
   "source": [
    "len(ddf)"
   ]
  },
  {
   "cell_type": "code",
   "execution_count": 60,
   "metadata": {},
   "outputs": [
    {
     "ename": "AttributeError",
     "evalue": "module 'dask' has no attribute 'distributed'",
     "output_type": "error",
     "traceback": [
      "\u001b[1;31m---------------------------------------------------------------------------\u001b[0m",
      "\u001b[1;31mAttributeError\u001b[0m                            Traceback (most recent call last)",
      "\u001b[1;32m<ipython-input-60-bd78c9349ce5>\u001b[0m in \u001b[0;36m<module>\u001b[1;34m\u001b[0m\n\u001b[1;32m----> 1\u001b[1;33m \u001b[0mclient\u001b[0m \u001b[1;33m=\u001b[0m \u001b[0mdask\u001b[0m\u001b[1;33m.\u001b[0m\u001b[0mdistributed\u001b[0m\u001b[1;33m.\u001b[0m\u001b[0mClient\u001b[0m\u001b[1;33m(\u001b[0m\u001b[1;33m)\u001b[0m\u001b[1;33m\u001b[0m\u001b[1;33m\u001b[0m\u001b[0m\n\u001b[0m",
      "\u001b[1;31mAttributeError\u001b[0m: module 'dask' has no attribute 'distributed'"
     ]
    }
   ],
   "source": [
    "client = dask.distributed.Client()"
   ]
  },
  {
   "cell_type": "code",
   "execution_count": 12,
   "metadata": {},
   "outputs": [
    {
     "data": {
      "text/plain": [
       "2822667"
      ]
     },
     "execution_count": 12,
     "metadata": {},
     "output_type": "execute_result"
    }
   ],
   "source": [
    "len(ddf[\"visitor_home_cbgs\"].unique())"
   ]
  },
  {
   "cell_type": "code",
   "execution_count": 93,
   "metadata": {},
   "outputs": [
    {
     "name": "stderr",
     "output_type": "stream",
     "text": [
      "C:\\ProgramData\\Anaconda3\\envs\\gdal_env\\lib\\site-packages\\dask\\dataframe\\core.py:1393: UserWarning: sample does not support the number of sampled items parameter, 'n'. Please use the 'frac' parameter instead.\n",
      "  warnings.warn(msg)\n"
     ]
    },
    {
     "name": "stdout",
     "output_type": "stream",
     "text": [
      "4428203\n",
      "<class 'dask.dataframe.core.DataFrame'>\n",
      "<class 'dask.dataframe.core.DataFrame'>\n"
     ]
    },
    {
     "ename": "ValueError",
     "evalue": "Metadata inference failed in `apply`.\n\nYou have supplied a custom function and Dask is unable to \ndetermine the type of output that that function returns. \n\nTo resolve this please provide a meta= keyword.\nThe docstring of the Dask function you ran should have more information.\n\nOriginal error is below:\n------------------------\nJSONDecodeError('Expecting value: line 1 column 1 (char 0)')\n\nTraceback:\n---------\n  File \"C:\\ProgramData\\Anaconda3\\envs\\gdal_env\\lib\\site-packages\\dask\\dataframe\\utils.py\", line 176, in raise_on_meta_error\n    yield\n  File \"C:\\ProgramData\\Anaconda3\\envs\\gdal_env\\lib\\site-packages\\dask\\dataframe\\core.py\", line 5571, in _emulate\n    return func(*_extract_meta(args, True), **_extract_meta(kwargs, True))\n  File \"C:\\ProgramData\\Anaconda3\\envs\\gdal_env\\lib\\site-packages\\dask\\utils.py\", line 900, in __call__\n    return getattr(obj, self.method)(*args, **kwargs)\n  File \"C:\\ProgramData\\Anaconda3\\envs\\gdal_env\\lib\\site-packages\\pandas\\core\\frame.py\", line 7768, in apply\n    return op.get_result()\n  File \"C:\\ProgramData\\Anaconda3\\envs\\gdal_env\\lib\\site-packages\\pandas\\core\\apply.py\", line 185, in get_result\n    return self.apply_standard()\n  File \"C:\\ProgramData\\Anaconda3\\envs\\gdal_env\\lib\\site-packages\\pandas\\core\\apply.py\", line 276, in apply_standard\n    results, res_index = self.apply_series_generator()\n  File \"C:\\ProgramData\\Anaconda3\\envs\\gdal_env\\lib\\site-packages\\pandas\\core\\apply.py\", line 290, in apply_series_generator\n    results[i] = self.f(v)\n  File \"<ipython-input-93-3b5e20168c9f>\", line 7, in unfold_row_dict1\n    a_dict = json.loads(row[\"visitor_home_cbgs\"])\n  File \"C:\\ProgramData\\Anaconda3\\envs\\gdal_env\\lib\\json\\__init__.py\", line 348, in loads\n    return _default_decoder.decode(s)\n  File \"C:\\ProgramData\\Anaconda3\\envs\\gdal_env\\lib\\json\\decoder.py\", line 337, in decode\n    obj, end = self.raw_decode(s, idx=_w(s, 0).end())\n  File \"C:\\ProgramData\\Anaconda3\\envs\\gdal_env\\lib\\json\\decoder.py\", line 355, in raw_decode\n    raise JSONDecodeError(\"Expecting value\", s, err.value) from None\n",
     "output_type": "error",
     "traceback": [
      "\u001b[1;31m---------------------------------------------------------------------------\u001b[0m",
      "\u001b[1;31mJSONDecodeError\u001b[0m                           Traceback (most recent call last)",
      "\u001b[1;32mC:\\ProgramData\\Anaconda3\\envs\\gdal_env\\lib\\site-packages\\dask\\dataframe\\utils.py\u001b[0m in \u001b[0;36mraise_on_meta_error\u001b[1;34m(funcname, udf)\u001b[0m\n\u001b[0;32m    175\u001b[0m     \u001b[1;32mtry\u001b[0m\u001b[1;33m:\u001b[0m\u001b[1;33m\u001b[0m\u001b[1;33m\u001b[0m\u001b[0m\n\u001b[1;32m--> 176\u001b[1;33m         \u001b[1;32myield\u001b[0m\u001b[1;33m\u001b[0m\u001b[1;33m\u001b[0m\u001b[0m\n\u001b[0m\u001b[0;32m    177\u001b[0m     \u001b[1;32mexcept\u001b[0m \u001b[0mException\u001b[0m \u001b[1;32mas\u001b[0m \u001b[0me\u001b[0m\u001b[1;33m:\u001b[0m\u001b[1;33m\u001b[0m\u001b[1;33m\u001b[0m\u001b[0m\n",
      "\u001b[1;32mC:\\ProgramData\\Anaconda3\\envs\\gdal_env\\lib\\site-packages\\dask\\dataframe\\core.py\u001b[0m in \u001b[0;36m_emulate\u001b[1;34m(func, *args, **kwargs)\u001b[0m\n\u001b[0;32m   5570\u001b[0m     \u001b[1;32mwith\u001b[0m \u001b[0mraise_on_meta_error\u001b[0m\u001b[1;33m(\u001b[0m\u001b[0mfuncname\u001b[0m\u001b[1;33m(\u001b[0m\u001b[0mfunc\u001b[0m\u001b[1;33m)\u001b[0m\u001b[1;33m,\u001b[0m \u001b[0mudf\u001b[0m\u001b[1;33m=\u001b[0m\u001b[0mkwargs\u001b[0m\u001b[1;33m.\u001b[0m\u001b[0mpop\u001b[0m\u001b[1;33m(\u001b[0m\u001b[1;34m\"udf\"\u001b[0m\u001b[1;33m,\u001b[0m \u001b[1;32mFalse\u001b[0m\u001b[1;33m)\u001b[0m\u001b[1;33m)\u001b[0m\u001b[1;33m:\u001b[0m\u001b[1;33m\u001b[0m\u001b[1;33m\u001b[0m\u001b[0m\n\u001b[1;32m-> 5571\u001b[1;33m         \u001b[1;32mreturn\u001b[0m \u001b[0mfunc\u001b[0m\u001b[1;33m(\u001b[0m\u001b[1;33m*\u001b[0m\u001b[0m_extract_meta\u001b[0m\u001b[1;33m(\u001b[0m\u001b[0margs\u001b[0m\u001b[1;33m,\u001b[0m \u001b[1;32mTrue\u001b[0m\u001b[1;33m)\u001b[0m\u001b[1;33m,\u001b[0m \u001b[1;33m**\u001b[0m\u001b[0m_extract_meta\u001b[0m\u001b[1;33m(\u001b[0m\u001b[0mkwargs\u001b[0m\u001b[1;33m,\u001b[0m \u001b[1;32mTrue\u001b[0m\u001b[1;33m)\u001b[0m\u001b[1;33m)\u001b[0m\u001b[1;33m\u001b[0m\u001b[1;33m\u001b[0m\u001b[0m\n\u001b[0m\u001b[0;32m   5572\u001b[0m \u001b[1;33m\u001b[0m\u001b[0m\n",
      "\u001b[1;32mC:\\ProgramData\\Anaconda3\\envs\\gdal_env\\lib\\site-packages\\dask\\utils.py\u001b[0m in \u001b[0;36m__call__\u001b[1;34m(self, obj, *args, **kwargs)\u001b[0m\n\u001b[0;32m    899\u001b[0m     \u001b[1;32mdef\u001b[0m \u001b[0m__call__\u001b[0m\u001b[1;33m(\u001b[0m\u001b[0mself\u001b[0m\u001b[1;33m,\u001b[0m \u001b[0mobj\u001b[0m\u001b[1;33m,\u001b[0m \u001b[1;33m*\u001b[0m\u001b[0margs\u001b[0m\u001b[1;33m,\u001b[0m \u001b[1;33m**\u001b[0m\u001b[0mkwargs\u001b[0m\u001b[1;33m)\u001b[0m\u001b[1;33m:\u001b[0m\u001b[1;33m\u001b[0m\u001b[1;33m\u001b[0m\u001b[0m\n\u001b[1;32m--> 900\u001b[1;33m         \u001b[1;32mreturn\u001b[0m \u001b[0mgetattr\u001b[0m\u001b[1;33m(\u001b[0m\u001b[0mobj\u001b[0m\u001b[1;33m,\u001b[0m \u001b[0mself\u001b[0m\u001b[1;33m.\u001b[0m\u001b[0mmethod\u001b[0m\u001b[1;33m)\u001b[0m\u001b[1;33m(\u001b[0m\u001b[1;33m*\u001b[0m\u001b[0margs\u001b[0m\u001b[1;33m,\u001b[0m \u001b[1;33m**\u001b[0m\u001b[0mkwargs\u001b[0m\u001b[1;33m)\u001b[0m\u001b[1;33m\u001b[0m\u001b[1;33m\u001b[0m\u001b[0m\n\u001b[0m\u001b[0;32m    901\u001b[0m \u001b[1;33m\u001b[0m\u001b[0m\n",
      "\u001b[1;32mC:\\ProgramData\\Anaconda3\\envs\\gdal_env\\lib\\site-packages\\pandas\\core\\frame.py\u001b[0m in \u001b[0;36mapply\u001b[1;34m(self, func, axis, raw, result_type, args, **kwds)\u001b[0m\n\u001b[0;32m   7767\u001b[0m         )\n\u001b[1;32m-> 7768\u001b[1;33m         \u001b[1;32mreturn\u001b[0m \u001b[0mop\u001b[0m\u001b[1;33m.\u001b[0m\u001b[0mget_result\u001b[0m\u001b[1;33m(\u001b[0m\u001b[1;33m)\u001b[0m\u001b[1;33m\u001b[0m\u001b[1;33m\u001b[0m\u001b[0m\n\u001b[0m\u001b[0;32m   7769\u001b[0m \u001b[1;33m\u001b[0m\u001b[0m\n",
      "\u001b[1;32mC:\\ProgramData\\Anaconda3\\envs\\gdal_env\\lib\\site-packages\\pandas\\core\\apply.py\u001b[0m in \u001b[0;36mget_result\u001b[1;34m(self)\u001b[0m\n\u001b[0;32m    184\u001b[0m \u001b[1;33m\u001b[0m\u001b[0m\n\u001b[1;32m--> 185\u001b[1;33m         \u001b[1;32mreturn\u001b[0m \u001b[0mself\u001b[0m\u001b[1;33m.\u001b[0m\u001b[0mapply_standard\u001b[0m\u001b[1;33m(\u001b[0m\u001b[1;33m)\u001b[0m\u001b[1;33m\u001b[0m\u001b[1;33m\u001b[0m\u001b[0m\n\u001b[0m\u001b[0;32m    186\u001b[0m \u001b[1;33m\u001b[0m\u001b[0m\n",
      "\u001b[1;32mC:\\ProgramData\\Anaconda3\\envs\\gdal_env\\lib\\site-packages\\pandas\\core\\apply.py\u001b[0m in \u001b[0;36mapply_standard\u001b[1;34m(self)\u001b[0m\n\u001b[0;32m    275\u001b[0m     \u001b[1;32mdef\u001b[0m \u001b[0mapply_standard\u001b[0m\u001b[1;33m(\u001b[0m\u001b[0mself\u001b[0m\u001b[1;33m)\u001b[0m\u001b[1;33m:\u001b[0m\u001b[1;33m\u001b[0m\u001b[1;33m\u001b[0m\u001b[0m\n\u001b[1;32m--> 276\u001b[1;33m         \u001b[0mresults\u001b[0m\u001b[1;33m,\u001b[0m \u001b[0mres_index\u001b[0m \u001b[1;33m=\u001b[0m \u001b[0mself\u001b[0m\u001b[1;33m.\u001b[0m\u001b[0mapply_series_generator\u001b[0m\u001b[1;33m(\u001b[0m\u001b[1;33m)\u001b[0m\u001b[1;33m\u001b[0m\u001b[1;33m\u001b[0m\u001b[0m\n\u001b[0m\u001b[0;32m    277\u001b[0m \u001b[1;33m\u001b[0m\u001b[0m\n",
      "\u001b[1;32mC:\\ProgramData\\Anaconda3\\envs\\gdal_env\\lib\\site-packages\\pandas\\core\\apply.py\u001b[0m in \u001b[0;36mapply_series_generator\u001b[1;34m(self)\u001b[0m\n\u001b[0;32m    289\u001b[0m                 \u001b[1;31m# ignore SettingWithCopy here in case the user mutates\u001b[0m\u001b[1;33m\u001b[0m\u001b[1;33m\u001b[0m\u001b[1;33m\u001b[0m\u001b[0m\n\u001b[1;32m--> 290\u001b[1;33m                 \u001b[0mresults\u001b[0m\u001b[1;33m[\u001b[0m\u001b[0mi\u001b[0m\u001b[1;33m]\u001b[0m \u001b[1;33m=\u001b[0m \u001b[0mself\u001b[0m\u001b[1;33m.\u001b[0m\u001b[0mf\u001b[0m\u001b[1;33m(\u001b[0m\u001b[0mv\u001b[0m\u001b[1;33m)\u001b[0m\u001b[1;33m\u001b[0m\u001b[1;33m\u001b[0m\u001b[0m\n\u001b[0m\u001b[0;32m    291\u001b[0m                 \u001b[1;32mif\u001b[0m \u001b[0misinstance\u001b[0m\u001b[1;33m(\u001b[0m\u001b[0mresults\u001b[0m\u001b[1;33m[\u001b[0m\u001b[0mi\u001b[0m\u001b[1;33m]\u001b[0m\u001b[1;33m,\u001b[0m \u001b[0mABCSeries\u001b[0m\u001b[1;33m)\u001b[0m\u001b[1;33m:\u001b[0m\u001b[1;33m\u001b[0m\u001b[1;33m\u001b[0m\u001b[0m\n",
      "\u001b[1;32m<ipython-input-93-3b5e20168c9f>\u001b[0m in \u001b[0;36munfold_row_dict1\u001b[1;34m(row)\u001b[0m\n\u001b[0;32m      6\u001b[0m     \u001b[0mplacekey\u001b[0m \u001b[1;33m=\u001b[0m \u001b[0mrow\u001b[0m\u001b[1;33m[\u001b[0m\u001b[1;34m\"placekey\"\u001b[0m\u001b[1;33m]\u001b[0m\u001b[1;33m\u001b[0m\u001b[1;33m\u001b[0m\u001b[0m\n\u001b[1;32m----> 7\u001b[1;33m     \u001b[0ma_dict\u001b[0m \u001b[1;33m=\u001b[0m \u001b[0mjson\u001b[0m\u001b[1;33m.\u001b[0m\u001b[0mloads\u001b[0m\u001b[1;33m(\u001b[0m\u001b[0mrow\u001b[0m\u001b[1;33m[\u001b[0m\u001b[1;34m\"visitor_home_cbgs\"\u001b[0m\u001b[1;33m]\u001b[0m\u001b[1;33m)\u001b[0m\u001b[1;33m\u001b[0m\u001b[1;33m\u001b[0m\u001b[0m\n\u001b[0m\u001b[0;32m      8\u001b[0m     \u001b[1;32mreturn\u001b[0m \u001b[0mlist\u001b[0m\u001b[1;33m(\u001b[0m\u001b[0mzip\u001b[0m\u001b[1;33m(\u001b[0m\u001b[1;33m[\u001b[0m\u001b[0mplacekey\u001b[0m\u001b[1;33m]\u001b[0m \u001b[1;33m*\u001b[0m \u001b[0mlen\u001b[0m\u001b[1;33m(\u001b[0m\u001b[0ma_dict\u001b[0m\u001b[1;33m.\u001b[0m\u001b[0mkeys\u001b[0m\u001b[1;33m(\u001b[0m\u001b[1;33m)\u001b[0m\u001b[1;33m)\u001b[0m\u001b[1;33m,\u001b[0m \u001b[0ma_dict\u001b[0m\u001b[1;33m.\u001b[0m\u001b[0mkeys\u001b[0m\u001b[1;33m(\u001b[0m\u001b[1;33m)\u001b[0m\u001b[1;33m,\u001b[0m \u001b[0ma_dict\u001b[0m\u001b[1;33m.\u001b[0m\u001b[0mvalues\u001b[0m\u001b[1;33m(\u001b[0m\u001b[1;33m)\u001b[0m\u001b[1;33m)\u001b[0m\u001b[1;33m)\u001b[0m\u001b[1;33m\u001b[0m\u001b[1;33m\u001b[0m\u001b[0m\n",
      "\u001b[1;32mC:\\ProgramData\\Anaconda3\\envs\\gdal_env\\lib\\json\\__init__.py\u001b[0m in \u001b[0;36mloads\u001b[1;34m(s, encoding, cls, object_hook, parse_float, parse_int, parse_constant, object_pairs_hook, **kw)\u001b[0m\n\u001b[0;32m    347\u001b[0m             parse_constant is None and object_pairs_hook is None and not kw):\n\u001b[1;32m--> 348\u001b[1;33m         \u001b[1;32mreturn\u001b[0m \u001b[0m_default_decoder\u001b[0m\u001b[1;33m.\u001b[0m\u001b[0mdecode\u001b[0m\u001b[1;33m(\u001b[0m\u001b[0ms\u001b[0m\u001b[1;33m)\u001b[0m\u001b[1;33m\u001b[0m\u001b[1;33m\u001b[0m\u001b[0m\n\u001b[0m\u001b[0;32m    349\u001b[0m     \u001b[1;32mif\u001b[0m \u001b[0mcls\u001b[0m \u001b[1;32mis\u001b[0m \u001b[1;32mNone\u001b[0m\u001b[1;33m:\u001b[0m\u001b[1;33m\u001b[0m\u001b[1;33m\u001b[0m\u001b[0m\n",
      "\u001b[1;32mC:\\ProgramData\\Anaconda3\\envs\\gdal_env\\lib\\json\\decoder.py\u001b[0m in \u001b[0;36mdecode\u001b[1;34m(self, s, _w)\u001b[0m\n\u001b[0;32m    336\u001b[0m         \"\"\"\n\u001b[1;32m--> 337\u001b[1;33m         \u001b[0mobj\u001b[0m\u001b[1;33m,\u001b[0m \u001b[0mend\u001b[0m \u001b[1;33m=\u001b[0m \u001b[0mself\u001b[0m\u001b[1;33m.\u001b[0m\u001b[0mraw_decode\u001b[0m\u001b[1;33m(\u001b[0m\u001b[0ms\u001b[0m\u001b[1;33m,\u001b[0m \u001b[0midx\u001b[0m\u001b[1;33m=\u001b[0m\u001b[0m_w\u001b[0m\u001b[1;33m(\u001b[0m\u001b[0ms\u001b[0m\u001b[1;33m,\u001b[0m \u001b[1;36m0\u001b[0m\u001b[1;33m)\u001b[0m\u001b[1;33m.\u001b[0m\u001b[0mend\u001b[0m\u001b[1;33m(\u001b[0m\u001b[1;33m)\u001b[0m\u001b[1;33m)\u001b[0m\u001b[1;33m\u001b[0m\u001b[1;33m\u001b[0m\u001b[0m\n\u001b[0m\u001b[0;32m    338\u001b[0m         \u001b[0mend\u001b[0m \u001b[1;33m=\u001b[0m \u001b[0m_w\u001b[0m\u001b[1;33m(\u001b[0m\u001b[0ms\u001b[0m\u001b[1;33m,\u001b[0m \u001b[0mend\u001b[0m\u001b[1;33m)\u001b[0m\u001b[1;33m.\u001b[0m\u001b[0mend\u001b[0m\u001b[1;33m(\u001b[0m\u001b[1;33m)\u001b[0m\u001b[1;33m\u001b[0m\u001b[1;33m\u001b[0m\u001b[0m\n",
      "\u001b[1;32mC:\\ProgramData\\Anaconda3\\envs\\gdal_env\\lib\\json\\decoder.py\u001b[0m in \u001b[0;36mraw_decode\u001b[1;34m(self, s, idx)\u001b[0m\n\u001b[0;32m    354\u001b[0m         \u001b[1;32mexcept\u001b[0m \u001b[0mStopIteration\u001b[0m \u001b[1;32mas\u001b[0m \u001b[0merr\u001b[0m\u001b[1;33m:\u001b[0m\u001b[1;33m\u001b[0m\u001b[1;33m\u001b[0m\u001b[0m\n\u001b[1;32m--> 355\u001b[1;33m             \u001b[1;32mraise\u001b[0m \u001b[0mJSONDecodeError\u001b[0m\u001b[1;33m(\u001b[0m\u001b[1;34m\"Expecting value\"\u001b[0m\u001b[1;33m,\u001b[0m \u001b[0ms\u001b[0m\u001b[1;33m,\u001b[0m \u001b[0merr\u001b[0m\u001b[1;33m.\u001b[0m\u001b[0mvalue\u001b[0m\u001b[1;33m)\u001b[0m \u001b[1;32mfrom\u001b[0m \u001b[1;32mNone\u001b[0m\u001b[1;33m\u001b[0m\u001b[1;33m\u001b[0m\u001b[0m\n\u001b[0m\u001b[0;32m    356\u001b[0m         \u001b[1;32mreturn\u001b[0m \u001b[0mobj\u001b[0m\u001b[1;33m,\u001b[0m \u001b[0mend\u001b[0m\u001b[1;33m\u001b[0m\u001b[1;33m\u001b[0m\u001b[0m\n",
      "\u001b[1;31mJSONDecodeError\u001b[0m: Expecting value: line 1 column 1 (char 0)",
      "\nThe above exception was the direct cause of the following exception:\n",
      "\u001b[1;31mValueError\u001b[0m                                Traceback (most recent call last)",
      "\u001b[1;32m<ipython-input-93-3b5e20168c9f>\u001b[0m in \u001b[0;36m<module>\u001b[1;34m\u001b[0m\n\u001b[0;32m     22\u001b[0m \u001b[0mprint\u001b[0m\u001b[1;33m(\u001b[0m\u001b[0mtype\u001b[0m\u001b[1;33m(\u001b[0m\u001b[0mddf\u001b[0m\u001b[1;33m)\u001b[0m\u001b[1;33m)\u001b[0m\u001b[1;33m\u001b[0m\u001b[1;33m\u001b[0m\u001b[0m\n\u001b[0;32m     23\u001b[0m \u001b[1;33m\u001b[0m\u001b[0m\n\u001b[1;32m---> 24\u001b[1;33m \u001b[0ms_ddf\u001b[0m\u001b[1;33m[\u001b[0m\u001b[1;34m\"pairs\"\u001b[0m\u001b[1;33m]\u001b[0m \u001b[1;33m=\u001b[0m \u001b[0ms_ddf\u001b[0m\u001b[1;33m.\u001b[0m\u001b[0mapply\u001b[0m\u001b[1;33m(\u001b[0m\u001b[0munfold_row_dict1\u001b[0m\u001b[1;33m,\u001b[0m \u001b[0maxis\u001b[0m\u001b[1;33m=\u001b[0m\u001b[1;36m1\u001b[0m\u001b[1;33m)\u001b[0m\u001b[1;33m.\u001b[0m\u001b[0mcompute\u001b[0m\u001b[1;33m(\u001b[0m\u001b[1;33m)\u001b[0m\u001b[1;33m\u001b[0m\u001b[1;33m\u001b[0m\u001b[0m\n\u001b[0m\u001b[0;32m     25\u001b[0m \u001b[1;33m\u001b[0m\u001b[0m\n\u001b[0;32m     26\u001b[0m \u001b[1;33m\u001b[0m\u001b[0m\n",
      "\u001b[1;32mC:\\ProgramData\\Anaconda3\\envs\\gdal_env\\lib\\site-packages\\dask\\dataframe\\core.py\u001b[0m in \u001b[0;36mapply\u001b[1;34m(self, func, axis, broadcast, raw, reduce, args, meta, result_type, **kwds)\u001b[0m\n\u001b[0;32m   4736\u001b[0m         \u001b[1;32mif\u001b[0m \u001b[0mmeta\u001b[0m \u001b[1;32mis\u001b[0m \u001b[0mno_default\u001b[0m\u001b[1;33m:\u001b[0m\u001b[1;33m\u001b[0m\u001b[1;33m\u001b[0m\u001b[0m\n\u001b[0;32m   4737\u001b[0m             meta = _emulate(\n\u001b[1;32m-> 4738\u001b[1;33m                 \u001b[0mM\u001b[0m\u001b[1;33m.\u001b[0m\u001b[0mapply\u001b[0m\u001b[1;33m,\u001b[0m \u001b[0mself\u001b[0m\u001b[1;33m.\u001b[0m\u001b[0m_meta_nonempty\u001b[0m\u001b[1;33m,\u001b[0m \u001b[0mfunc\u001b[0m\u001b[1;33m,\u001b[0m \u001b[0margs\u001b[0m\u001b[1;33m=\u001b[0m\u001b[0margs\u001b[0m\u001b[1;33m,\u001b[0m \u001b[0mudf\u001b[0m\u001b[1;33m=\u001b[0m\u001b[1;32mTrue\u001b[0m\u001b[1;33m,\u001b[0m \u001b[1;33m**\u001b[0m\u001b[0mkwds\u001b[0m\u001b[1;33m\u001b[0m\u001b[1;33m\u001b[0m\u001b[0m\n\u001b[0m\u001b[0;32m   4739\u001b[0m             )\n\u001b[0;32m   4740\u001b[0m             \u001b[0mwarnings\u001b[0m\u001b[1;33m.\u001b[0m\u001b[0mwarn\u001b[0m\u001b[1;33m(\u001b[0m\u001b[0mmeta_warning\u001b[0m\u001b[1;33m(\u001b[0m\u001b[0mmeta\u001b[0m\u001b[1;33m)\u001b[0m\u001b[1;33m)\u001b[0m\u001b[1;33m\u001b[0m\u001b[1;33m\u001b[0m\u001b[0m\n",
      "\u001b[1;32mC:\\ProgramData\\Anaconda3\\envs\\gdal_env\\lib\\site-packages\\dask\\dataframe\\core.py\u001b[0m in \u001b[0;36m_emulate\u001b[1;34m(func, *args, **kwargs)\u001b[0m\n\u001b[0;32m   5569\u001b[0m     \"\"\"\n\u001b[0;32m   5570\u001b[0m     \u001b[1;32mwith\u001b[0m \u001b[0mraise_on_meta_error\u001b[0m\u001b[1;33m(\u001b[0m\u001b[0mfuncname\u001b[0m\u001b[1;33m(\u001b[0m\u001b[0mfunc\u001b[0m\u001b[1;33m)\u001b[0m\u001b[1;33m,\u001b[0m \u001b[0mudf\u001b[0m\u001b[1;33m=\u001b[0m\u001b[0mkwargs\u001b[0m\u001b[1;33m.\u001b[0m\u001b[0mpop\u001b[0m\u001b[1;33m(\u001b[0m\u001b[1;34m\"udf\"\u001b[0m\u001b[1;33m,\u001b[0m \u001b[1;32mFalse\u001b[0m\u001b[1;33m)\u001b[0m\u001b[1;33m)\u001b[0m\u001b[1;33m:\u001b[0m\u001b[1;33m\u001b[0m\u001b[1;33m\u001b[0m\u001b[0m\n\u001b[1;32m-> 5571\u001b[1;33m         \u001b[1;32mreturn\u001b[0m \u001b[0mfunc\u001b[0m\u001b[1;33m(\u001b[0m\u001b[1;33m*\u001b[0m\u001b[0m_extract_meta\u001b[0m\u001b[1;33m(\u001b[0m\u001b[0margs\u001b[0m\u001b[1;33m,\u001b[0m \u001b[1;32mTrue\u001b[0m\u001b[1;33m)\u001b[0m\u001b[1;33m,\u001b[0m \u001b[1;33m**\u001b[0m\u001b[0m_extract_meta\u001b[0m\u001b[1;33m(\u001b[0m\u001b[0mkwargs\u001b[0m\u001b[1;33m,\u001b[0m \u001b[1;32mTrue\u001b[0m\u001b[1;33m)\u001b[0m\u001b[1;33m)\u001b[0m\u001b[1;33m\u001b[0m\u001b[1;33m\u001b[0m\u001b[0m\n\u001b[0m\u001b[0;32m   5572\u001b[0m \u001b[1;33m\u001b[0m\u001b[0m\n\u001b[0;32m   5573\u001b[0m \u001b[1;33m\u001b[0m\u001b[0m\n",
      "\u001b[1;32mC:\\ProgramData\\Anaconda3\\envs\\gdal_env\\lib\\contextlib.py\u001b[0m in \u001b[0;36m__exit__\u001b[1;34m(self, type, value, traceback)\u001b[0m\n\u001b[0;32m    128\u001b[0m                 \u001b[0mvalue\u001b[0m \u001b[1;33m=\u001b[0m \u001b[0mtype\u001b[0m\u001b[1;33m(\u001b[0m\u001b[1;33m)\u001b[0m\u001b[1;33m\u001b[0m\u001b[1;33m\u001b[0m\u001b[0m\n\u001b[0;32m    129\u001b[0m             \u001b[1;32mtry\u001b[0m\u001b[1;33m:\u001b[0m\u001b[1;33m\u001b[0m\u001b[1;33m\u001b[0m\u001b[0m\n\u001b[1;32m--> 130\u001b[1;33m                 \u001b[0mself\u001b[0m\u001b[1;33m.\u001b[0m\u001b[0mgen\u001b[0m\u001b[1;33m.\u001b[0m\u001b[0mthrow\u001b[0m\u001b[1;33m(\u001b[0m\u001b[0mtype\u001b[0m\u001b[1;33m,\u001b[0m \u001b[0mvalue\u001b[0m\u001b[1;33m,\u001b[0m \u001b[0mtraceback\u001b[0m\u001b[1;33m)\u001b[0m\u001b[1;33m\u001b[0m\u001b[1;33m\u001b[0m\u001b[0m\n\u001b[0m\u001b[0;32m    131\u001b[0m             \u001b[1;32mexcept\u001b[0m \u001b[0mStopIteration\u001b[0m \u001b[1;32mas\u001b[0m \u001b[0mexc\u001b[0m\u001b[1;33m:\u001b[0m\u001b[1;33m\u001b[0m\u001b[1;33m\u001b[0m\u001b[0m\n\u001b[0;32m    132\u001b[0m                 \u001b[1;31m# Suppress StopIteration *unless* it's the same exception that\u001b[0m\u001b[1;33m\u001b[0m\u001b[1;33m\u001b[0m\u001b[1;33m\u001b[0m\u001b[0m\n",
      "\u001b[1;32mC:\\ProgramData\\Anaconda3\\envs\\gdal_env\\lib\\site-packages\\dask\\dataframe\\utils.py\u001b[0m in \u001b[0;36mraise_on_meta_error\u001b[1;34m(funcname, udf)\u001b[0m\n\u001b[0;32m    195\u001b[0m         )\n\u001b[0;32m    196\u001b[0m         \u001b[0mmsg\u001b[0m \u001b[1;33m=\u001b[0m \u001b[0mmsg\u001b[0m\u001b[1;33m.\u001b[0m\u001b[0mformat\u001b[0m\u001b[1;33m(\u001b[0m\u001b[1;34m\" in `{0}`\"\u001b[0m\u001b[1;33m.\u001b[0m\u001b[0mformat\u001b[0m\u001b[1;33m(\u001b[0m\u001b[0mfuncname\u001b[0m\u001b[1;33m)\u001b[0m \u001b[1;32mif\u001b[0m \u001b[0mfuncname\u001b[0m \u001b[1;32melse\u001b[0m \u001b[1;34m\"\"\u001b[0m\u001b[1;33m,\u001b[0m \u001b[0mrepr\u001b[0m\u001b[1;33m(\u001b[0m\u001b[0me\u001b[0m\u001b[1;33m)\u001b[0m\u001b[1;33m,\u001b[0m \u001b[0mtb\u001b[0m\u001b[1;33m)\u001b[0m\u001b[1;33m\u001b[0m\u001b[1;33m\u001b[0m\u001b[0m\n\u001b[1;32m--> 197\u001b[1;33m         \u001b[1;32mraise\u001b[0m \u001b[0mValueError\u001b[0m\u001b[1;33m(\u001b[0m\u001b[0mmsg\u001b[0m\u001b[1;33m)\u001b[0m \u001b[1;32mfrom\u001b[0m \u001b[0me\u001b[0m\u001b[1;33m\u001b[0m\u001b[1;33m\u001b[0m\u001b[0m\n\u001b[0m\u001b[0;32m    198\u001b[0m \u001b[1;33m\u001b[0m\u001b[0m\n\u001b[0;32m    199\u001b[0m \u001b[1;33m\u001b[0m\u001b[0m\n",
      "\u001b[1;31mValueError\u001b[0m: Metadata inference failed in `apply`.\n\nYou have supplied a custom function and Dask is unable to \ndetermine the type of output that that function returns. \n\nTo resolve this please provide a meta= keyword.\nThe docstring of the Dask function you ran should have more information.\n\nOriginal error is below:\n------------------------\nJSONDecodeError('Expecting value: line 1 column 1 (char 0)')\n\nTraceback:\n---------\n  File \"C:\\ProgramData\\Anaconda3\\envs\\gdal_env\\lib\\site-packages\\dask\\dataframe\\utils.py\", line 176, in raise_on_meta_error\n    yield\n  File \"C:\\ProgramData\\Anaconda3\\envs\\gdal_env\\lib\\site-packages\\dask\\dataframe\\core.py\", line 5571, in _emulate\n    return func(*_extract_meta(args, True), **_extract_meta(kwargs, True))\n  File \"C:\\ProgramData\\Anaconda3\\envs\\gdal_env\\lib\\site-packages\\dask\\utils.py\", line 900, in __call__\n    return getattr(obj, self.method)(*args, **kwargs)\n  File \"C:\\ProgramData\\Anaconda3\\envs\\gdal_env\\lib\\site-packages\\pandas\\core\\frame.py\", line 7768, in apply\n    return op.get_result()\n  File \"C:\\ProgramData\\Anaconda3\\envs\\gdal_env\\lib\\site-packages\\pandas\\core\\apply.py\", line 185, in get_result\n    return self.apply_standard()\n  File \"C:\\ProgramData\\Anaconda3\\envs\\gdal_env\\lib\\site-packages\\pandas\\core\\apply.py\", line 276, in apply_standard\n    results, res_index = self.apply_series_generator()\n  File \"C:\\ProgramData\\Anaconda3\\envs\\gdal_env\\lib\\site-packages\\pandas\\core\\apply.py\", line 290, in apply_series_generator\n    results[i] = self.f(v)\n  File \"<ipython-input-93-3b5e20168c9f>\", line 7, in unfold_row_dict1\n    a_dict = json.loads(row[\"visitor_home_cbgs\"])\n  File \"C:\\ProgramData\\Anaconda3\\envs\\gdal_env\\lib\\json\\__init__.py\", line 348, in loads\n    return _default_decoder.decode(s)\n  File \"C:\\ProgramData\\Anaconda3\\envs\\gdal_env\\lib\\json\\decoder.py\", line 337, in decode\n    obj, end = self.raw_decode(s, idx=_w(s, 0).end())\n  File \"C:\\ProgramData\\Anaconda3\\envs\\gdal_env\\lib\\json\\decoder.py\", line 355, in raw_decode\n    raise JSONDecodeError(\"Expecting value\", s, err.value) from None\n"
     ]
    }
   ],
   "source": [
    "import json\n",
    "import dask\n",
    "\n",
    "\n",
    "def unfold_row_dict1(row,):\n",
    "    placekey = row[\"placekey\"]\n",
    "    a_dict = json.loads(row[\"visitor_home_cbgs\"])\n",
    "    return str(list(zip([placekey] * len(a_dict.keys()), a_dict.keys(), a_dict.values())))\n",
    "    \n",
    "def unfold_row_dict(row, result_list):\n",
    "    placekey = row[\"placekey\"]\n",
    "    a_dict = json.loads(ddf.iloc[1][\"visitor_home_cbgs\"])\n",
    "    result_list += list(zip([placekey] * len(a_dict.keys()), a_dict.keys(), a_dict.values()))\n",
    "\n",
    "pair_list = []\n",
    "# unfold_row_dict(ddf.iloc[1], pair_list)\n",
    "\n",
    "# ddf.iloc[:].apply(unfold_row_dict, args=(pair_list,), axis=1).compute()\n",
    "s_ddf = ddf.sample(1)\n",
    "print(len(s_ddf))\n",
    "print(type(s_ddf))\n",
    "print(type(ddf))\n",
    "\n",
    "s_ddf[\"pairs\"] = s_ddf.apply(unfold_row_dict1, axis=1).compute()\n",
    "\n",
    "\n",
    "s_ddf[\"pairs\"]"
   ]
  },
  {
   "cell_type": "code",
   "execution_count": 175,
   "metadata": {},
   "outputs": [
    {
     "name": "stdout",
     "output_type": "stream",
     "text": [
      "10000\n",
      "<class 'pandas.core.frame.DataFrame'>\n"
     ]
    },
    {
     "data": {
      "text/plain": [
       "29223229"
      ]
     },
     "execution_count": 175,
     "metadata": {},
     "output_type": "execute_result"
    }
   ],
   "source": [
    "def unfold_row_dict1(row):\n",
    "    placekey = row[\"placekey\"]\n",
    "    cell_text = row[\"visitor_home_cbgs\"]\n",
    "    # print(cell_text)\n",
    "    if cell_text == \"\":\n",
    "        return \"\"\n",
    "    a_dict = json.loads(cell_text)\n",
    "    # print(a_dict)\n",
    "    return list(zip([placekey] * len(a_dict.keys()), a_dict.keys(), a_dict.values()))\n",
    "\n",
    "def unfold_row_dict(row, result_list):\n",
    "    placekey = row[\"placekey\"]\n",
    "    a_dict = json.loads(row[\"visitor_home_cbgs\"])\n",
    "    result_list += list(zip([placekey] * len(a_dict.keys()), a_dict.keys(), a_dict.values()))\n",
    "    \n",
    "# s_ddf = df.sample(len(df))\n",
    "s_ddf = df.sample(10000)\n",
    "# s_ddf = ddf.sample(0.0006)\n",
    "print(len(s_ddf))\n",
    "print(type(s_ddf))\n",
    "\n",
    "\n",
    "pair_list = []\n",
    "# df[\"pairs\"] = df.apply(unfold_row_dict1, axis=1)\n",
    "df.apply(unfold_row_dict, args=(pair_list,), axis=1)\n",
    "len(pair_list)"
   ]
  },
  {
   "cell_type": "code",
   "execution_count": 177,
   "metadata": {},
   "outputs": [],
   "source": [
    "pair_list_df = pd.DataFrame(pair_list)"
   ]
  },
  {
   "cell_type": "code",
   "execution_count": 184,
   "metadata": {},
   "outputs": [],
   "source": [
    "pair_list_df.columns = [\"placekey\", \"visitor_home_cbgs\", \"visits\"]"
   ]
  },
  {
   "cell_type": "code",
   "execution_count": 191,
   "metadata": {},
   "outputs": [
    {
     "data": {
      "text/html": [
       "<div>\n",
       "<style scoped>\n",
       "    .dataframe tbody tr th:only-of-type {\n",
       "        vertical-align: middle;\n",
       "    }\n",
       "\n",
       "    .dataframe tbody tr th {\n",
       "        vertical-align: top;\n",
       "    }\n",
       "\n",
       "    .dataframe thead th {\n",
       "        text-align: right;\n",
       "    }\n",
       "</style>\n",
       "<table border=\"1\" class=\"dataframe\">\n",
       "  <thead>\n",
       "    <tr style=\"text-align: right;\">\n",
       "      <th></th>\n",
       "      <th>placekey</th>\n",
       "      <th>visitor_home_cbgs</th>\n",
       "      <th>visits</th>\n",
       "    </tr>\n",
       "  </thead>\n",
       "  <tbody>\n",
       "    <tr>\n",
       "      <th>0</th>\n",
       "      <td>zzz-222@63j-f68-6rk</td>\n",
       "      <td>391130404053</td>\n",
       "      <td>7</td>\n",
       "    </tr>\n",
       "    <tr>\n",
       "      <th>1</th>\n",
       "      <td>zzz-222@63j-f68-6rk</td>\n",
       "      <td>391130403051</td>\n",
       "      <td>5</td>\n",
       "    </tr>\n",
       "    <tr>\n",
       "      <th>2</th>\n",
       "      <td>zzz-222@63j-f68-6rk</td>\n",
       "      <td>391130401031</td>\n",
       "      <td>5</td>\n",
       "    </tr>\n",
       "    <tr>\n",
       "      <th>3</th>\n",
       "      <td>zzz-222@63j-f68-6rk</td>\n",
       "      <td>390572403014</td>\n",
       "      <td>5</td>\n",
       "    </tr>\n",
       "    <tr>\n",
       "      <th>4</th>\n",
       "      <td>zzz-222@63j-f68-6rk</td>\n",
       "      <td>391130404013</td>\n",
       "      <td>5</td>\n",
       "    </tr>\n",
       "    <tr>\n",
       "      <th>...</th>\n",
       "      <td>...</td>\n",
       "      <td>...</td>\n",
       "      <td>...</td>\n",
       "    </tr>\n",
       "    <tr>\n",
       "      <th>29223224</th>\n",
       "      <td>zzw-223@5pw-6qv-249</td>\n",
       "      <td>170310804002</td>\n",
       "      <td>4</td>\n",
       "    </tr>\n",
       "    <tr>\n",
       "      <th>29223225</th>\n",
       "      <td>zzw-223@5pw-6qv-249</td>\n",
       "      <td>170318083012</td>\n",
       "      <td>4</td>\n",
       "    </tr>\n",
       "    <tr>\n",
       "      <th>29223226</th>\n",
       "      <td>224-222@66b-8ns-33q</td>\n",
       "      <td>360191018004</td>\n",
       "      <td>4</td>\n",
       "    </tr>\n",
       "    <tr>\n",
       "      <th>29223227</th>\n",
       "      <td>zzw-224@63f-kkm-q2k</td>\n",
       "      <td>371830529042</td>\n",
       "      <td>4</td>\n",
       "    </tr>\n",
       "    <tr>\n",
       "      <th>29223228</th>\n",
       "      <td>zzw-224@63f-kkm-q2k</td>\n",
       "      <td>371830534181</td>\n",
       "      <td>4</td>\n",
       "    </tr>\n",
       "  </tbody>\n",
       "</table>\n",
       "<p>29223229 rows × 3 columns</p>\n",
       "</div>"
      ],
      "text/plain": [
       "                     placekey visitor_home_cbgs  visits\n",
       "0         zzz-222@63j-f68-6rk      391130404053       7\n",
       "1         zzz-222@63j-f68-6rk      391130403051       5\n",
       "2         zzz-222@63j-f68-6rk      391130401031       5\n",
       "3         zzz-222@63j-f68-6rk      390572403014       5\n",
       "4         zzz-222@63j-f68-6rk      391130404013       5\n",
       "...                       ...               ...     ...\n",
       "29223224  zzw-223@5pw-6qv-249      170310804002       4\n",
       "29223225  zzw-223@5pw-6qv-249      170318083012       4\n",
       "29223226  224-222@66b-8ns-33q      360191018004       4\n",
       "29223227  zzw-224@63f-kkm-q2k      371830529042       4\n",
       "29223228  zzw-224@63f-kkm-q2k      371830534181       4\n",
       "\n",
       "[29223229 rows x 3 columns]"
      ]
     },
     "execution_count": 191,
     "metadata": {},
     "output_type": "execute_result"
    }
   ],
   "source": [
    "pair_list_df"
   ]
  },
  {
   "cell_type": "code",
   "execution_count": 195,
   "metadata": {},
   "outputs": [
    {
     "name": "stdout",
     "output_type": "stream",
     "text": [
      "Wall time: 0 ns\n"
     ]
    }
   ],
   "source": [
    "saved_path = os.path.dirname(csv_files)\n",
    "saved_name = os.path.join(saved_path, \"edges.csv\")\n",
    "%time\n",
    "pair_list_df.to_csv(saved_name, index=False)"
   ]
  },
  {
   "cell_type": "code",
   "execution_count": 197,
   "metadata": {},
   "outputs": [],
   "source": [
    "visits_sum_df = pair_list_df.groupby(\"visitor_home_cbgs\")[\"visits\"].sum().reindex()"
   ]
  },
  {
   "cell_type": "code",
   "execution_count": 199,
   "metadata": {},
   "outputs": [],
   "source": [
    "visits_sum_df.columns = [\"sum\"]"
   ]
  },
  {
   "cell_type": "code",
   "execution_count": 204,
   "metadata": {},
   "outputs": [
    {
     "data": {
      "text/plain": [
       "visitor_home_cbgs\n",
       "CA:62080022         4\n",
       "CA:35204172         4\n",
       "CA:24390210         4\n",
       "CA:24390204         4\n",
       "CA:24390200         4\n",
       "                ...  \n",
       "120950167301    28901\n",
       "481576732002    30302\n",
       "481576729001    34118\n",
       "120950171032    35368\n",
       "481576731011    43024\n",
       "Name: visits, Length: 259230, dtype: int64"
      ]
     },
     "execution_count": 204,
     "metadata": {},
     "output_type": "execute_result"
    }
   ],
   "source": [
    "visits_sum_df.sort_values()"
   ]
  },
  {
   "cell_type": "markdown",
   "metadata": {},
   "source": [
    "# Draw maps"
   ]
  },
  {
   "cell_type": "code",
   "execution_count": 174,
   "metadata": {},
   "outputs": [
    {
     "data": {
      "text/plain": [
       "'{\"060650430061\":4,\"060650432711\":4,\"060650430012\":4}'"
      ]
     },
     "execution_count": 174,
     "metadata": {},
     "output_type": "execute_result"
    }
   ],
   "source": [
    "df.iloc[-4000][\"visitor_home_cbgs\"]"
   ]
  },
  {
   "cell_type": "code",
   "execution_count": 67,
   "metadata": {},
   "outputs": [
    {
     "name": "stderr",
     "output_type": "stream",
     "text": [
      "C:\\ProgramData\\Anaconda3\\envs\\gdal_env\\lib\\site-packages\\distributed\\node.py:164: UserWarning: Port 8787 is already in use.\n",
      "Perhaps you already have a cluster running?\n",
      "Hosting the HTTP server on port 50043 instead\n",
      "  expected, actual\n"
     ]
    }
   ],
   "source": [
    "client = dask.distributed.Client()"
   ]
  },
  {
   "cell_type": "code",
   "execution_count": null,
   "metadata": {},
   "outputs": [],
   "source": []
  },
  {
   "cell_type": "code",
   "execution_count": 43,
   "metadata": {},
   "outputs": [
    {
     "data": {
      "text/plain": [
       "placekey                      object\n",
       "safegraph_place_id            object\n",
       "parent_placekey               object\n",
       "parent_safegraph_place_id     object\n",
       "location_name                 object\n",
       "street_address                object\n",
       "city                          object\n",
       "region                        object\n",
       "postal_code                   object\n",
       "iso_country_code              object\n",
       "safegraph_brand_ids           object\n",
       "brands                        object\n",
       "date_range_start              object\n",
       "date_range_end                object\n",
       "raw_visit_counts               int64\n",
       "raw_visitor_counts             int64\n",
       "visits_by_day                 object\n",
       "visits_by_each_hour           object\n",
       "poi_cbg                       object\n",
       "visitor_home_cbgs             object\n",
       "visitor_daytime_cbgs          object\n",
       "visitor_country_of_origin     object\n",
       "distance_from_home           float64\n",
       "median_dwell                 float64\n",
       "bucketed_dwell_times          object\n",
       "related_same_day_brand        object\n",
       "related_same_week_brand       object\n",
       "device_type                   object\n",
       "dtype: object"
      ]
     },
     "execution_count": 43,
     "metadata": {},
     "output_type": "execute_result"
    }
   ],
   "source": [
    "ddf.dtypes"
   ]
  },
  {
   "cell_type": "code",
   "execution_count": 40,
   "metadata": {},
   "outputs": [
    {
     "ename": "SyntaxError",
     "evalue": "invalid syntax (<ipython-input-40-423c42e73cfc>, line 2)",
     "output_type": "error",
     "traceback": [
      "\u001b[1;36m  File \u001b[1;32m\"<ipython-input-40-423c42e73cfc>\"\u001b[1;36m, line \u001b[1;32m2\u001b[0m\n\u001b[1;33m    reutrn zip(a_dict.keys(), a_dict.values())\u001b[0m\n\u001b[1;37m             ^\u001b[0m\n\u001b[1;31mSyntaxError\u001b[0m\u001b[1;31m:\u001b[0m invalid syntax\n"
     ]
    }
   ],
   "source": [
    "def unfold_dict(a_dict):\n",
    "    reutrn zip(a_dict.keys(), a_dict.values())"
   ]
  },
  {
   "cell_type": "code",
   "execution_count": 23,
   "metadata": {
    "ExecuteTime": {
     "end_time": "2021-04-22T19:45:42.458208Z",
     "start_time": "2021-04-22T19:44:15.264875Z"
    }
   },
   "outputs": [
    {
     "data": {
      "text/plain": [
       "{'391130404053': 7,\n",
       " '391130403051': 5,\n",
       " '391130401031': 5,\n",
       " '390572403014': 5,\n",
       " '391130404013': 5,\n",
       " '391130401021': 4,\n",
       " '391650305041': 4,\n",
       " '391650325012': 4,\n",
       " '391093801002': 4,\n",
       " '390610215053': 4,\n",
       " '391130404011': 4,\n",
       " '391650309004': 4,\n",
       " '390572201001': 4,\n",
       " '391130216012': 4,\n",
       " '391130403033': 4,\n",
       " '391130506003': 4,\n",
       " '390170110033': 4,\n",
       " '391130402012': 4,\n",
       " '390572701002': 4,\n",
       " '391650307002': 4,\n",
       " '391130404063': 4,\n",
       " '391650309001': 4,\n",
       " '121199112001': 4,\n",
       " '391130505043': 4,\n",
       " '391130404062': 4,\n",
       " '391130503011': 4,\n",
       " '391130403032': 4,\n",
       " '391130403063': 4}"
      ]
     },
     "execution_count": 23,
     "metadata": {},
     "output_type": "execute_result"
    }
   ],
   "source": [
    "json.loads(ddf.iloc[1][\"visitor_home_cbgs\"])"
   ]
  },
  {
   "cell_type": "code",
   "execution_count": 127,
   "metadata": {},
   "outputs": [
    {
     "data": {
      "text/plain": [
       "array(['{\"android\":0,\"ios\":0}', '{\"android\":53,\"ios\":71}',\n",
       "       '{\"android\":22,\"ios\":63}', ..., '{\"android\":714,\"ios\":771}',\n",
       "       '{\"android\":290,\"ios\":630}', '{\"android\":126,\"ios\":248}'],\n",
       "      dtype=object)"
      ]
     },
     "execution_count": 127,
     "metadata": {},
     "output_type": "execute_result"
    }
   ],
   "source": [
    "ddf[\"device_type\"].unique()"
   ]
  },
  {
   "cell_type": "markdown",
   "metadata": {},
   "source": [
    "# Extract targeted fips"
   ]
  },
  {
   "cell_type": "code",
   "execution_count": null,
   "metadata": {},
   "outputs": [],
   "source": []
  },
  {
   "cell_type": "code",
   "execution_count": 60,
   "metadata": {},
   "outputs": [],
   "source": [
    "def extract_neighorhood_pattern(df, fips):\n",
    "    column_name = \"device_home_areas\"\n",
    "    idxs  = df.apply(is_fips_in_row, args=(column_name, fips), axis=1)\n",
    "    return df[idxs]\n",
    "    \n",
    "def is_fips_in_row(row, column_name, fips):\n",
    "    return is_fips_in_dict(json.loads(row[column_name]), fips)\n",
    "    \n",
    "def is_fips_in_dict(poi_dict, fips):\n",
    "    fips = str(fips)\n",
    "    fips_len = len(fips)\n",
    "    for key in poi_dict.keys():\n",
    "        key = str(key)\n",
    "        if key[:fips_len] == fips:\n",
    "            # print(\"key:\", key)\n",
    "            return True\n",
    "    return False"
   ]
  },
  {
   "cell_type": "code",
   "execution_count": 73,
   "metadata": {},
   "outputs": [
    {
     "name": "stdout",
     "output_type": "stream",
     "text": [
      "2250\n"
     ]
    }
   ],
   "source": [
    "sampled_df = df.sample(10000)\n",
    "column_name = \"device_home_areas\"\n",
    "target_df = extract_neighorhood_pattern(sampled_df, \"45\")\n",
    "print(len(target_df))"
   ]
  },
  {
   "cell_type": "code",
   "execution_count": 89,
   "metadata": {},
   "outputs": [
    {
     "data": {
      "text/plain": [
       "183574    [2,0,2,1,2,2,4,9,36,25,15,20,18,31,22,32,15,35...\n",
       "Name: stops_by_each_hour, dtype: object"
      ]
     },
     "execution_count": 89,
     "metadata": {},
     "output_type": "execute_result"
    }
   ],
   "source": [
    "sampled_df = df.sample(1)\n",
    "sampled_df['stops_by_each_hour']"
   ]
  },
  {
   "cell_type": "code",
   "execution_count": 27,
   "metadata": {},
   "outputs": [
    {
     "name": "stdout",
     "output_type": "stream",
     "text": [
      "key: 450219704012\n"
     ]
    }
   ],
   "source": [
    "column_name = \"device_home_areas\"\n",
    "t = extract_neighorhood_pattern(sampled_df, \"45\").iloc[0]"
   ]
  },
  {
   "cell_type": "code",
   "execution_count": 22,
   "metadata": {},
   "outputs": [
    {
     "data": {
      "text/plain": [
       "dict_keys(['131850115002', '131850116001', '131850114032', '131850107003', '131850115001', '131850115003', '131850114034', '131850114033', '131850114031', '131850116002', '131850102024', '131850102023', '131850114021', '131850114011', '131850102025', '131018802002', '131739502004', '131018802001', '131850108003', '131850114022', '120479602003', '130279603003', '131850106043', '131018801001', '131850102011', '131850101031', '130759604002', '130719709004', '120130103004', '130659701001', '131850102021', '131850112004', '131850101011', '131850104023', '131850102026', '120419501002', '131739502001', '130279606001', '131850111002', '131850104022', '130279603004', '131850102022', '132879703003', '131850106042', '131850103012', '131850103022', '131850113013', '130279604002', '130279605001', '131850112001', '121030250091', '131850101022', '131850102012', '481130031012', '120231105005', '131850104012', '130690108021', '120479602001', '120110309032', '131850103013', '131850105003', '131899505001', '131739501002', '131850109001', '132171003002', '171670037005', '120310137232', '120730026031', '132779604004', '120791101003', '130339502002', '120310127031', '131850107002', '132759602001', '131739502005', '120830022011', '132879703004', '130159602005', '130279603001', '121199114001', '130659701002', '133159604001', '121219701005', '130311102003', '131530211081', '131850101021', '130690105003', '120791104001', '130759603002', '131210102053', '280490110022', '131850106011', '130950116002', '120890504001', '131739502003', '121010318081', '132950205012', '130199706003', '291879507001', '120570133151', '121130107062', '120479601001', '120310103012', '132250402002', '120150103012', '132379602022', '131850108002', '130690103001', '181270502025', '130619603003', '130670314053', '010690408003', '121090214031', '130759603005', '130379501001', '011010026004', '121030269122', '130670301032', '360270604002', '131850113011', '132999506001', '131530214002', '132779604006', '132999508006', '132999505001', '131850106041', '371190061043', '131739501001', '130059701001', '471570202102', '120310144102', '132019502001', '130279604003', '131850105002', '120050014022', '120710302021', '131850101012', '450790114161', '011310351004', '121130103001', '120791103021', '211130605042', '130759602002', '131171303022', '130759604003', '131850101023', '180030116033', '212150801021', '121319502002', '130939703003', '131850103011', '121170217051', '130719701001', '212150801011', '261390219011', '120791103011', '131850112002', '130771706022', '120830009021', '120479601002', '132250403011', '010690410001', '131030301003', '120110107021', '132779603004', '131850101032', '131850106013', '132779605001', '120479602002', '120690308032', '120791101002', '120499704003', '120110503101', '131850113012', '130199705002', '130490101004', '120231106012', '131850110001', '130259603003', '131850113022', '450630212032', '130670303283', '120710802021', '360810719002', '130570908032', '131850107001', '120330036031', '120791101001', '121010325004', '131530203002', '130690106003', '060710121031', '721355101011', '130759604001', '131210077063', '130939702001', '290770022001', '130510108083', '121050122043', '131390009003', '120791103022'])"
      ]
     },
     "execution_count": 22,
     "metadata": {},
     "output_type": "execute_result"
    }
   ],
   "source": [
    "t_dict = json.loads(t['device_home_areas'])\n",
    "t_dict.keys()\n"
   ]
  },
  {
   "cell_type": "code",
   "execution_count": 5,
   "metadata": {
    "ExecuteTime": {
     "end_time": "2021-04-22T19:15:58.186271Z",
     "start_time": "2021-04-22T19:15:58.179280Z"
    }
   },
   "outputs": [
    {
     "data": {
      "text/plain": [
       "area                                        int64\n",
       "area_type                                  object\n",
       "origin_area_type                           object\n",
       "date_range_start                           object\n",
       "date_range_end                             object\n",
       "day_counts                                 object\n",
       "raw_stop_counts                             int64\n",
       "raw_device_counts                           int64\n",
       "stops_by_day                               object\n",
       "stops_by_each_hour                         object\n",
       "device_home_areas                          object\n",
       "weekday_device_home_areas                  object\n",
       "weekend_device_home_areas                  object\n",
       "breakfast_device_home_areas                object\n",
       "lunch_device_home_areas                    object\n",
       "afternoon_tea_device_home_areas            object\n",
       "dinner_device_home_areas                   object\n",
       "nightlife_device_home_areas                object\n",
       "work_hours_device_home_areas               object\n",
       "work_behavior_device_home_areas            object\n",
       "device_daytime_areas                       object\n",
       "distance_from_home                        float64\n",
       "distance_from_primary_daytime_location    float64\n",
       "median_dwell                              float64\n",
       "top_same_day_brand                         object\n",
       "top_same_month_brand                       object\n",
       "popularity_by_each_hour                    object\n",
       "popularity_by_hour_monday                  object\n",
       "popularity_by_hour_tuesday                 object\n",
       "popularity_by_hour_wednesday               object\n",
       "popularity_by_hour_thursday                object\n",
       "popularity_by_hour_friday                  object\n",
       "popularity_by_hour_saturday                object\n",
       "popularity_by_hour_sunday                  object\n",
       "device_type                                object\n",
       "iso_country_code                           object\n",
       "region                                     object\n",
       "dtype: object"
      ]
     },
     "execution_count": 5,
     "metadata": {},
     "output_type": "execute_result"
    }
   ],
   "source": [
    "df.dtypes"
   ]
  },
  {
   "cell_type": "code",
   "execution_count": 101,
   "metadata": {
    "ExecuteTime": {
     "end_time": "2021-04-22T20:40:36.762649Z",
     "start_time": "2021-04-22T20:40:36.740707Z"
    }
   },
   "outputs": [
    {
     "name": "stdout",
     "output_type": "stream",
     "text": [
      "safegraph_place_id:, len:      \n",
      "  sg:738274ac416f48bb9ea90a611b8c9add\n",
      "\n",
      "location_name:, len:      \n",
      "  Dollar General\n",
      "\n",
      "street_address:, len:      \n",
      "  1807 N 195th Ave\n",
      "\n",
      "city:, len:      \n",
      "  Buckeye\n",
      "\n",
      "region:, len:      \n",
      "  AZ\n",
      "\n",
      "postal_code:, len:      \n",
      "  85396\n",
      "\n",
      "iso_country_code:, len:      \n",
      "  US\n",
      "\n",
      "safegraph_brand_ids:, len:      \n",
      "  SG_BRAND_a4efb9d8ddf0f71207d49f713c5bc1e9\n",
      "\n",
      "brands:, len:      \n",
      "  Dollar General\n",
      "\n",
      "date_range_start:, len:      \n",
      "  2019-02-11T00:00:00-07:00\n",
      "\n",
      "date_range_end:, len:      \n",
      "  2019-02-18T00:00:00-07:00\n",
      "\n",
      "raw_visit_counts:, len:      \n",
      "  12\n",
      "\n",
      "raw_visitor_counts:, len:      \n",
      "  12\n",
      "\n",
      "visits_by_day:, len: 7     \n",
      "  [0,0,2,2,3,3,2]\n",
      "\n",
      "visits_by_each_hour:, len: 168     \n",
      "  [0,0,0,0,0,0,0,0,0,0,0,0,0,0,0,0,0,0,0,0,0,0,0,0,0,0,0,0,0,0,0,0,0,0,0,0,0,0,0,0,0,0,0,0,0,0,0,0,0,0,0,0,0,0,0,0,0,0,0,0,0,0,0,0,0,0,1,0,1,0,0,0,0,0,0,0,0,0,0,0,0,0,0,0,0,0,0,0,0,1,0,0,0,0,1,0,0,0,0,0,0,0,0,0,0,0,0,0,0,0,0,0,0,0,0,0,0,2,0,1,1,1,0,0,0,0,0,0,0,0,0,0,0,0,0,0,0,0,0,0,0,0,1,0,1,0,0,0,0,0,0,0,0,0,0,0,0,1,0,0,0,0,0,0,0,0,0,0]\n",
      "\n",
      "poi_cbg:, len:      \n",
      "  40130506063.0\n",
      "\n",
      "visitor_home_cbgs:, len: 1     \n",
      "  {\"040130610452\":4}\n",
      "\n",
      "visitor_daytime_cbgs:, len: 3     \n",
      "  {\"040130506063\":4,\"040136135001\":4,\"040136147002\":4}\n",
      "\n",
      "visitor_country_of_origin:, len: 1     \n",
      "  {\"US\":11}\n",
      "\n",
      "distance_from_home:, len:      \n",
      "  5491.0\n",
      "\n",
      "median_dwell:, len:      \n",
      "  82.0\n",
      "\n",
      "bucketed_dwell_times:, len: 5     \n",
      "  {\"<5\":0,\"5-20\":4,\"21-60\":1,\"61-240\":7,\">240\":0}\n",
      "\n",
      "related_same_day_brand:, len: 1     \n",
      "  {\"Cold Stone Creamery\":33}\n",
      "\n",
      "related_same_week_brand:, len: 20     \n",
      "  {\"Starbucks\":29,\"Dutch Bros Coffee\":17,\"Chevron\":15,\"Costco Wholesale Corp.\":15,\"Taco Bell\":14,\"Target\":13,\"Walmart\":13,\"McDonald's\":9,\"Ocean Prime\":8,\"Blue Martini Lounge\":8,\"Runnings\":8,\"American Furniture Warehouse (AFW)\":8,\"Barro's Pizza\":8,\"Native Grill & Wings\":8,\"Rudy's Texas Bar-B-Q\":8,\"Torrid\":8,\"Yard House\":8,\"Portillo's Restaurants\":8,\"Perkins Restaurant & Bakery\":8,\"Caribou Coffee\":8}\n",
      "\n",
      "device_type:, len: 2     \n",
      "  {\"android\":7,\"ios\":6}\n",
      "\n"
     ]
    }
   ],
   "source": [
    "columns = list(df.columns)\n",
    "for c in columns:\n",
    "    len_c = ''\n",
    "    cell = df.iloc[11200][c]\n",
    "    if str(cell)[0] == \"[\":\n",
    "        a_list = ast.literal_eval(cell)\n",
    "        len_c = len(a_list)\n",
    "    if str(cell)[0] == \"{\":\n",
    "        jdata = json.loads(cell)\n",
    "\n",
    "        len_c = len(jdata.keys())\n",
    "    print(f\"{c}:, len: {len_c}     \\n  {cell}\\n\")"
   ]
  },
  {
   "cell_type": "code",
   "execution_count": 92,
   "metadata": {
    "ExecuteTime": {
     "end_time": "2021-04-22T19:59:48.745509Z",
     "start_time": "2021-04-22T19:59:48.735512Z"
    }
   },
   "outputs": [
    {
     "data": {
      "text/plain": [
       "220654"
      ]
     },
     "execution_count": 92,
     "metadata": {},
     "output_type": "execute_result"
    }
   ],
   "source": [
    "len(df)"
   ]
  },
  {
   "cell_type": "code",
   "execution_count": 8,
   "metadata": {
    "ExecuteTime": {
     "end_time": "2021-04-22T20:02:55.019565Z",
     "start_time": "2021-04-22T20:02:55.013569Z"
    }
   },
   "outputs": [
    {
     "data": {
      "text/plain": [
       "1342"
      ]
     },
     "execution_count": 8,
     "metadata": {},
     "output_type": "execute_result"
    }
   ],
   "source": [
    "import json\n",
    "jdata = json.loads(df.iloc[0]['device_home_areas'])\n",
    "len(jdata.keys())"
   ]
  },
  {
   "cell_type": "code",
   "execution_count": null,
   "metadata": {},
   "outputs": [],
   "source": []
  },
  {
   "cell_type": "code",
   "execution_count": null,
   "metadata": {},
   "outputs": [],
   "source": []
  }
 ],
 "metadata": {
  "kernelspec": {
   "display_name": "Python 3 (ipykernel)",
   "language": "python",
   "name": "python3"
  },
  "language_info": {
   "codemirror_mode": {
    "name": "ipython",
    "version": 3
   },
   "file_extension": ".py",
   "mimetype": "text/x-python",
   "name": "python",
   "nbconvert_exporter": "python",
   "pygments_lexer": "ipython3",
   "version": "3.7.10"
  },
  "toc": {
   "base_numbering": 1,
   "nav_menu": {},
   "number_sections": true,
   "sideBar": true,
   "skip_h1_title": false,
   "title_cell": "Table of Contents",
   "title_sidebar": "Contents",
   "toc_cell": false,
   "toc_position": {},
   "toc_section_display": true,
   "toc_window_display": true
  }
 },
 "nbformat": 4,
 "nbformat_minor": 4
}
