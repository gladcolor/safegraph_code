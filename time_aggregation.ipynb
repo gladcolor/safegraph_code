{
 "cells": [
  {
   "cell_type": "code",
   "execution_count": 3,
   "id": "79250382-0bb8-4276-a6ee-936902cf089b",
   "metadata": {},
   "outputs": [],
   "source": [
    "import os\n",
    "import glob\n",
    "import pandas as pd"
   ]
  },
  {
   "cell_type": "markdown",
   "id": "b4264869-6203-49ba-a28c-d2929a2e1436",
   "metadata": {},
   "source": [
    "# Load ACS 2019 data"
   ]
  },
  {
   "cell_type": "code",
   "execution_count": 31,
   "id": "5bc5851e-1e82-4057-9c9e-83a0cf53276e",
   "metadata": {},
   "outputs": [
    {
     "data": {
      "text/html": [
       "<div>\n",
       "<style scoped>\n",
       "    .dataframe tbody tr th:only-of-type {\n",
       "        vertical-align: middle;\n",
       "    }\n",
       "\n",
       "    .dataframe tbody tr th {\n",
       "        vertical-align: top;\n",
       "    }\n",
       "\n",
       "    .dataframe thead th {\n",
       "        text-align: right;\n",
       "    }\n",
       "</style>\n",
       "<table border=\"1\" class=\"dataframe\">\n",
       "  <thead>\n",
       "    <tr style=\"text-align: right;\">\n",
       "      <th></th>\n",
       "      <th>OBJECTID</th>\n",
       "      <th>STATEFP</th>\n",
       "      <th>COUNTYFP</th>\n",
       "      <th>TRACTCE</th>\n",
       "      <th>BLKGRPCE</th>\n",
       "      <th>INTPTLAT</th>\n",
       "      <th>INTPTLON</th>\n",
       "      <th>Shape_Area</th>\n",
       "      <th>GEOID_Data</th>\n",
       "      <th>county_code</th>\n",
       "      <th>...</th>\n",
       "      <th>County/County Equivalent</th>\n",
       "      <th>State Name</th>\n",
       "      <th>FIPS State Code</th>\n",
       "      <th>FIPS County Code</th>\n",
       "      <th>GEOID</th>\n",
       "      <th>total_household_income</th>\n",
       "      <th>total_households</th>\n",
       "      <th>mean_household_income</th>\n",
       "      <th>median_household_income</th>\n",
       "      <th>cbg_fips</th>\n",
       "    </tr>\n",
       "  </thead>\n",
       "  <tbody>\n",
       "    <tr>\n",
       "      <th>0</th>\n",
       "      <td>1.0</td>\n",
       "      <td>1</td>\n",
       "      <td>73</td>\n",
       "      <td>5903</td>\n",
       "      <td>3</td>\n",
       "      <td>33.603461</td>\n",
       "      <td>-86.680672</td>\n",
       "      <td>2.029247e+06</td>\n",
       "      <td>15000US010730059033</td>\n",
       "      <td>1073</td>\n",
       "      <td>...</td>\n",
       "      <td>Jefferson County</td>\n",
       "      <td>Alabama</td>\n",
       "      <td>1</td>\n",
       "      <td>73</td>\n",
       "      <td>15000US010730059033</td>\n",
       "      <td>38984602.0</td>\n",
       "      <td>811.0</td>\n",
       "      <td>48069.792848</td>\n",
       "      <td>41875</td>\n",
       "      <td>010730059033</td>\n",
       "    </tr>\n",
       "    <tr>\n",
       "      <th>1</th>\n",
       "      <td>2.0</td>\n",
       "      <td>1</td>\n",
       "      <td>73</td>\n",
       "      <td>5903</td>\n",
       "      <td>1</td>\n",
       "      <td>33.596329</td>\n",
       "      <td>-86.667229</td>\n",
       "      <td>4.292080e+06</td>\n",
       "      <td>15000US010730059031</td>\n",
       "      <td>1073</td>\n",
       "      <td>...</td>\n",
       "      <td>Jefferson County</td>\n",
       "      <td>Alabama</td>\n",
       "      <td>1</td>\n",
       "      <td>73</td>\n",
       "      <td>15000US010730059031</td>\n",
       "      <td>49694694.0</td>\n",
       "      <td>612.0</td>\n",
       "      <td>81200.480392</td>\n",
       "      <td>92649</td>\n",
       "      <td>010730059031</td>\n",
       "    </tr>\n",
       "    <tr>\n",
       "      <th>2</th>\n",
       "      <td>3.0</td>\n",
       "      <td>1</td>\n",
       "      <td>73</td>\n",
       "      <td>5905</td>\n",
       "      <td>3</td>\n",
       "      <td>33.611071</td>\n",
       "      <td>-86.693884</td>\n",
       "      <td>2.420730e+06</td>\n",
       "      <td>15000US010730059053</td>\n",
       "      <td>1073</td>\n",
       "      <td>...</td>\n",
       "      <td>Jefferson County</td>\n",
       "      <td>Alabama</td>\n",
       "      <td>1</td>\n",
       "      <td>73</td>\n",
       "      <td>15000US010730059053</td>\n",
       "      <td>55382145.5</td>\n",
       "      <td>867.0</td>\n",
       "      <td>63877.907151</td>\n",
       "      <td>48906</td>\n",
       "      <td>010730059053</td>\n",
       "    </tr>\n",
       "    <tr>\n",
       "      <th>3</th>\n",
       "      <td>4.0</td>\n",
       "      <td>1</td>\n",
       "      <td>73</td>\n",
       "      <td>5905</td>\n",
       "      <td>1</td>\n",
       "      <td>33.595858</td>\n",
       "      <td>-86.702036</td>\n",
       "      <td>1.443893e+06</td>\n",
       "      <td>15000US010730059051</td>\n",
       "      <td>1073</td>\n",
       "      <td>...</td>\n",
       "      <td>Jefferson County</td>\n",
       "      <td>Alabama</td>\n",
       "      <td>1</td>\n",
       "      <td>73</td>\n",
       "      <td>15000US010730059051</td>\n",
       "      <td>26347269.5</td>\n",
       "      <td>517.0</td>\n",
       "      <td>50961.836557</td>\n",
       "      <td>40679</td>\n",
       "      <td>010730059051</td>\n",
       "    </tr>\n",
       "    <tr>\n",
       "      <th>4</th>\n",
       "      <td>5.0</td>\n",
       "      <td>1</td>\n",
       "      <td>73</td>\n",
       "      <td>5702</td>\n",
       "      <td>3</td>\n",
       "      <td>33.472276</td>\n",
       "      <td>-86.878081</td>\n",
       "      <td>7.353911e+05</td>\n",
       "      <td>15000US010730057023</td>\n",
       "      <td>1073</td>\n",
       "      <td>...</td>\n",
       "      <td>Jefferson County</td>\n",
       "      <td>Alabama</td>\n",
       "      <td>1</td>\n",
       "      <td>73</td>\n",
       "      <td>15000US010730057023</td>\n",
       "      <td>8682417.5</td>\n",
       "      <td>205.0</td>\n",
       "      <td>42353.256098</td>\n",
       "      <td>38669</td>\n",
       "      <td>010730057023</td>\n",
       "    </tr>\n",
       "    <tr>\n",
       "      <th>...</th>\n",
       "      <td>...</td>\n",
       "      <td>...</td>\n",
       "      <td>...</td>\n",
       "      <td>...</td>\n",
       "      <td>...</td>\n",
       "      <td>...</td>\n",
       "      <td>...</td>\n",
       "      <td>...</td>\n",
       "      <td>...</td>\n",
       "      <td>...</td>\n",
       "      <td>...</td>\n",
       "      <td>...</td>\n",
       "      <td>...</td>\n",
       "      <td>...</td>\n",
       "      <td>...</td>\n",
       "      <td>...</td>\n",
       "      <td>...</td>\n",
       "      <td>...</td>\n",
       "      <td>...</td>\n",
       "      <td>...</td>\n",
       "      <td>...</td>\n",
       "    </tr>\n",
       "    <tr>\n",
       "      <th>219211</th>\n",
       "      <td>220329.0</td>\n",
       "      <td>72</td>\n",
       "      <td>21</td>\n",
       "      <td>30200</td>\n",
       "      <td>2</td>\n",
       "      <td>18.388845</td>\n",
       "      <td>-66.139217</td>\n",
       "      <td>1.393864e+05</td>\n",
       "      <td>15000US720210302002</td>\n",
       "      <td>72021</td>\n",
       "      <td>...</td>\n",
       "      <td>Bayamón Municipio</td>\n",
       "      <td>Puerto Rico</td>\n",
       "      <td>72</td>\n",
       "      <td>21</td>\n",
       "      <td>15000US720210302002</td>\n",
       "      <td>20134870.5</td>\n",
       "      <td>308.0</td>\n",
       "      <td>65372.956169</td>\n",
       "      <td>55096</td>\n",
       "      <td>720210302002</td>\n",
       "    </tr>\n",
       "    <tr>\n",
       "      <th>219212</th>\n",
       "      <td>220330.0</td>\n",
       "      <td>72</td>\n",
       "      <td>21</td>\n",
       "      <td>31401</td>\n",
       "      <td>2</td>\n",
       "      <td>18.380831</td>\n",
       "      <td>-66.166575</td>\n",
       "      <td>1.094411e+05</td>\n",
       "      <td>15000US720210314012</td>\n",
       "      <td>72021</td>\n",
       "      <td>...</td>\n",
       "      <td>Bayamón Municipio</td>\n",
       "      <td>Puerto Rico</td>\n",
       "      <td>72</td>\n",
       "      <td>21</td>\n",
       "      <td>15000US720210314012</td>\n",
       "      <td>7357399.5</td>\n",
       "      <td>246.0</td>\n",
       "      <td>29908.128049</td>\n",
       "      <td>23676</td>\n",
       "      <td>720210314012</td>\n",
       "    </tr>\n",
       "    <tr>\n",
       "      <th>219213</th>\n",
       "      <td>220331.0</td>\n",
       "      <td>72</td>\n",
       "      <td>21</td>\n",
       "      <td>31202</td>\n",
       "      <td>1</td>\n",
       "      <td>18.380341</td>\n",
       "      <td>-66.179203</td>\n",
       "      <td>1.994054e+05</td>\n",
       "      <td>15000US720210312021</td>\n",
       "      <td>72021</td>\n",
       "      <td>...</td>\n",
       "      <td>Bayamón Municipio</td>\n",
       "      <td>Puerto Rico</td>\n",
       "      <td>72</td>\n",
       "      <td>21</td>\n",
       "      <td>15000US720210312021</td>\n",
       "      <td>7087389.5</td>\n",
       "      <td>261.0</td>\n",
       "      <td>27154.749042</td>\n",
       "      <td>22788</td>\n",
       "      <td>720210312021</td>\n",
       "    </tr>\n",
       "    <tr>\n",
       "      <th>219214</th>\n",
       "      <td>220332.0</td>\n",
       "      <td>72</td>\n",
       "      <td>53</td>\n",
       "      <td>150400</td>\n",
       "      <td>3</td>\n",
       "      <td>18.340708</td>\n",
       "      <td>-65.635798</td>\n",
       "      <td>4.989720e+05</td>\n",
       "      <td>15000US720531504003</td>\n",
       "      <td>72053</td>\n",
       "      <td>...</td>\n",
       "      <td>Fajardo Municipio</td>\n",
       "      <td>Puerto Rico</td>\n",
       "      <td>72</td>\n",
       "      <td>53</td>\n",
       "      <td>15000US720531504003</td>\n",
       "      <td>4869957.5</td>\n",
       "      <td>158.0</td>\n",
       "      <td>30822.515823</td>\n",
       "      <td>0</td>\n",
       "      <td>720531504003</td>\n",
       "    </tr>\n",
       "    <tr>\n",
       "      <th>219215</th>\n",
       "      <td>220333.0</td>\n",
       "      <td>72</td>\n",
       "      <td>53</td>\n",
       "      <td>150104</td>\n",
       "      <td>4</td>\n",
       "      <td>18.367688</td>\n",
       "      <td>-65.629328</td>\n",
       "      <td>6.215389e+05</td>\n",
       "      <td>15000US720531501044</td>\n",
       "      <td>72053</td>\n",
       "      <td>...</td>\n",
       "      <td>Fajardo Municipio</td>\n",
       "      <td>Puerto Rico</td>\n",
       "      <td>72</td>\n",
       "      <td>53</td>\n",
       "      <td>15000US720531501044</td>\n",
       "      <td>4297414.0</td>\n",
       "      <td>190.0</td>\n",
       "      <td>22617.968421</td>\n",
       "      <td>21827</td>\n",
       "      <td>720531501044</td>\n",
       "    </tr>\n",
       "  </tbody>\n",
       "</table>\n",
       "<p>219216 rows × 32 columns</p>\n",
       "</div>"
      ],
      "text/plain": [
       "        OBJECTID  STATEFP  COUNTYFP  TRACTCE  BLKGRPCE   INTPTLAT   INTPTLON  \\\n",
       "0            1.0        1        73     5903         3  33.603461 -86.680672   \n",
       "1            2.0        1        73     5903         1  33.596329 -86.667229   \n",
       "2            3.0        1        73     5905         3  33.611071 -86.693884   \n",
       "3            4.0        1        73     5905         1  33.595858 -86.702036   \n",
       "4            5.0        1        73     5702         3  33.472276 -86.878081   \n",
       "...          ...      ...       ...      ...       ...        ...        ...   \n",
       "219211  220329.0       72        21    30200         2  18.388845 -66.139217   \n",
       "219212  220330.0       72        21    31401         2  18.380831 -66.166575   \n",
       "219213  220331.0       72        21    31202         1  18.380341 -66.179203   \n",
       "219214  220332.0       72        53   150400         3  18.340708 -65.635798   \n",
       "219215  220333.0       72        53   150104         4  18.367688 -65.629328   \n",
       "\n",
       "          Shape_Area           GEOID_Data  county_code  ...  \\\n",
       "0       2.029247e+06  15000US010730059033         1073  ...   \n",
       "1       4.292080e+06  15000US010730059031         1073  ...   \n",
       "2       2.420730e+06  15000US010730059053         1073  ...   \n",
       "3       1.443893e+06  15000US010730059051         1073  ...   \n",
       "4       7.353911e+05  15000US010730057023         1073  ...   \n",
       "...              ...                  ...          ...  ...   \n",
       "219211  1.393864e+05  15000US720210302002        72021  ...   \n",
       "219212  1.094411e+05  15000US720210314012        72021  ...   \n",
       "219213  1.994054e+05  15000US720210312021        72021  ...   \n",
       "219214  4.989720e+05  15000US720531504003        72053  ...   \n",
       "219215  6.215389e+05  15000US720531501044        72053  ...   \n",
       "\n",
       "       County/County Equivalent   State Name FIPS State Code  \\\n",
       "0              Jefferson County      Alabama               1   \n",
       "1              Jefferson County      Alabama               1   \n",
       "2              Jefferson County      Alabama               1   \n",
       "3              Jefferson County      Alabama               1   \n",
       "4              Jefferson County      Alabama               1   \n",
       "...                         ...          ...             ...   \n",
       "219211        Bayamón Municipio  Puerto Rico              72   \n",
       "219212        Bayamón Municipio  Puerto Rico              72   \n",
       "219213        Bayamón Municipio  Puerto Rico              72   \n",
       "219214        Fajardo Municipio  Puerto Rico              72   \n",
       "219215        Fajardo Municipio  Puerto Rico              72   \n",
       "\n",
       "        FIPS County Code                GEOID  total_household_income  \\\n",
       "0                     73  15000US010730059033              38984602.0   \n",
       "1                     73  15000US010730059031              49694694.0   \n",
       "2                     73  15000US010730059053              55382145.5   \n",
       "3                     73  15000US010730059051              26347269.5   \n",
       "4                     73  15000US010730057023               8682417.5   \n",
       "...                  ...                  ...                     ...   \n",
       "219211                21  15000US720210302002              20134870.5   \n",
       "219212                21  15000US720210314012               7357399.5   \n",
       "219213                21  15000US720210312021               7087389.5   \n",
       "219214                53  15000US720531504003               4869957.5   \n",
       "219215                53  15000US720531501044               4297414.0   \n",
       "\n",
       "        total_households  mean_household_income  median_household_income  \\\n",
       "0                  811.0           48069.792848                    41875   \n",
       "1                  612.0           81200.480392                    92649   \n",
       "2                  867.0           63877.907151                    48906   \n",
       "3                  517.0           50961.836557                    40679   \n",
       "4                  205.0           42353.256098                    38669   \n",
       "...                  ...                    ...                      ...   \n",
       "219211             308.0           65372.956169                    55096   \n",
       "219212             246.0           29908.128049                    23676   \n",
       "219213             261.0           27154.749042                    22788   \n",
       "219214             158.0           30822.515823                        0   \n",
       "219215             190.0           22617.968421                    21827   \n",
       "\n",
       "            cbg_fips  \n",
       "0       010730059033  \n",
       "1       010730059031  \n",
       "2       010730059053  \n",
       "3       010730059051  \n",
       "4       010730057023  \n",
       "...              ...  \n",
       "219211  720210302002  \n",
       "219212  720210314012  \n",
       "219213  720210312021  \n",
       "219214  720531504003  \n",
       "219215  720531501044  \n",
       "\n",
       "[219216 rows x 32 columns]"
      ]
     },
     "execution_count": 31,
     "metadata": {},
     "output_type": "execute_result"
    }
   ],
   "source": [
    "ACS2019_df = pd.read_csv(r'H:\\covid_mobility_results\\new_census_data\\ACS_2019_5YR_BG\\ACS_race_cbsa_income_2019.zip')\n",
    "ACS2019_df['cbg_fips'] = ACS2019_df['GEOID_Data'].str[-12:]\n",
    "# ACS2019_df"
   ]
  },
  {
   "cell_type": "markdown",
   "id": "f6aedbc8-353e-4be0-96ca-6747218662c7",
   "metadata": {
    "tags": []
   },
   "source": [
    "# Load POI category (CORE POI)"
   ]
  },
  {
   "cell_type": "code",
   "execution_count": 32,
   "id": "13c2afcc-121e-4526-9aea-3d63b46d3ea5",
   "metadata": {},
   "outputs": [
    {
     "name": "stderr",
     "output_type": "stream",
     "text": [
      "C:\\Users\\GPU\\.conda\\envs\\Google_street_view\\lib\\site-packages\\ipykernel_launcher.py:3: DtypeWarning: Columns (3,4,17,18) have mixed types.Specify dtype option on import or set low_memory=False.\n",
      "  This is separate from the ipykernel package so we can avoid doing imports until\n"
     ]
    },
    {
     "data": {
      "text/html": [
       "<div>\n",
       "<style scoped>\n",
       "    .dataframe tbody tr th:only-of-type {\n",
       "        vertical-align: middle;\n",
       "    }\n",
       "\n",
       "    .dataframe tbody tr th {\n",
       "        vertical-align: top;\n",
       "    }\n",
       "\n",
       "    .dataframe thead th {\n",
       "        text-align: right;\n",
       "    }\n",
       "</style>\n",
       "<table border=\"1\" class=\"dataframe\">\n",
       "  <thead>\n",
       "    <tr style=\"text-align: right;\">\n",
       "      <th></th>\n",
       "      <th>placekey</th>\n",
       "      <th>parent_placekey</th>\n",
       "      <th>location_name</th>\n",
       "      <th>safegraph_brand_ids</th>\n",
       "      <th>brands</th>\n",
       "      <th>top_category</th>\n",
       "      <th>sub_category</th>\n",
       "      <th>naics_code</th>\n",
       "      <th>latitude</th>\n",
       "      <th>longitude</th>\n",
       "      <th>...</th>\n",
       "      <th>region</th>\n",
       "      <th>postal_code</th>\n",
       "      <th>iso_country_code</th>\n",
       "      <th>phone_number</th>\n",
       "      <th>open_hours</th>\n",
       "      <th>category_tags</th>\n",
       "      <th>opened_on</th>\n",
       "      <th>closed_on</th>\n",
       "      <th>tracking_closed_since</th>\n",
       "      <th>geometry_type</th>\n",
       "    </tr>\n",
       "  </thead>\n",
       "  <tbody>\n",
       "    <tr>\n",
       "      <th>0</th>\n",
       "      <td>222-222@3b4-6mw-f2k</td>\n",
       "      <td>NaN</td>\n",
       "      <td>United States Postal Service (USPS)</td>\n",
       "      <td>SG_BRAND_27ee73cd1fb6f5e432852fea401eacce</td>\n",
       "      <td>United States Postal Service (USPS)</td>\n",
       "      <td>Postal Service</td>\n",
       "      <td>Postal Service</td>\n",
       "      <td>491110.0</td>\n",
       "      <td>64.738315</td>\n",
       "      <td>-155.490717</td>\n",
       "      <td>...</td>\n",
       "      <td>AK</td>\n",
       "      <td>99768</td>\n",
       "      <td>US</td>\n",
       "      <td>1.907468e+10</td>\n",
       "      <td>{ \"Mon\": [[\"9:30\", \"13:00\"]], \"Tue\": [[\"9:30\",...</td>\n",
       "      <td>NaN</td>\n",
       "      <td>NaN</td>\n",
       "      <td>NaN</td>\n",
       "      <td>2019-07-01</td>\n",
       "      <td>POLYGON</td>\n",
       "    </tr>\n",
       "    <tr>\n",
       "      <th>1</th>\n",
       "      <td>222-222@3bh-2bh-j35</td>\n",
       "      <td>NaN</td>\n",
       "      <td>Glacier D</td>\n",
       "      <td>NaN</td>\n",
       "      <td>NaN</td>\n",
       "      <td>Restaurants and Other Eating Places</td>\n",
       "      <td>Full-Service Restaurants</td>\n",
       "      <td>722511.0</td>\n",
       "      <td>59.608003</td>\n",
       "      <td>-151.438679</td>\n",
       "      <td>...</td>\n",
       "      <td>AK</td>\n",
       "      <td>99603</td>\n",
       "      <td>US</td>\n",
       "      <td>1.907236e+10</td>\n",
       "      <td>NaN</td>\n",
       "      <td>Burgers,Fish &amp; Chips,Mexican Food</td>\n",
       "      <td>NaN</td>\n",
       "      <td>NaN</td>\n",
       "      <td>2019-07-01</td>\n",
       "      <td>POLYGON</td>\n",
       "    </tr>\n",
       "    <tr>\n",
       "      <th>2</th>\n",
       "      <td>222-222@3bt-br8-6x5</td>\n",
       "      <td>NaN</td>\n",
       "      <td>George M Sullivan Generation Plant 2</td>\n",
       "      <td>NaN</td>\n",
       "      <td>NaN</td>\n",
       "      <td>Electric Power Generation, Transmission and Di...</td>\n",
       "      <td>Fossil Fuel Electric Power Generation</td>\n",
       "      <td>221112.0</td>\n",
       "      <td>61.229868</td>\n",
       "      <td>-149.718253</td>\n",
       "      <td>...</td>\n",
       "      <td>AK</td>\n",
       "      <td>99504</td>\n",
       "      <td>US</td>\n",
       "      <td>NaN</td>\n",
       "      <td>NaN</td>\n",
       "      <td>NaN</td>\n",
       "      <td>NaN</td>\n",
       "      <td>NaN</td>\n",
       "      <td>2019-07-01</td>\n",
       "      <td>POLYGON</td>\n",
       "    </tr>\n",
       "    <tr>\n",
       "      <th>3</th>\n",
       "      <td>222-222@3bt-by5-jsq</td>\n",
       "      <td>NaN</td>\n",
       "      <td>Koot's</td>\n",
       "      <td>NaN</td>\n",
       "      <td>NaN</td>\n",
       "      <td>Drinking Places (Alcoholic Beverages)</td>\n",
       "      <td>Drinking Places (Alcoholic Beverages)</td>\n",
       "      <td>722410.0</td>\n",
       "      <td>61.198135</td>\n",
       "      <td>-149.904680</td>\n",
       "      <td>...</td>\n",
       "      <td>AK</td>\n",
       "      <td>99503</td>\n",
       "      <td>US</td>\n",
       "      <td>NaN</td>\n",
       "      <td>{ \"Mon\": [[\"10:30\", \"24:00\"]], \"Tue\": [[\"0:00\"...</td>\n",
       "      <td>Bar or Pub,Late Night</td>\n",
       "      <td>NaN</td>\n",
       "      <td>NaN</td>\n",
       "      <td>2019-07-01</td>\n",
       "      <td>POLYGON</td>\n",
       "    </tr>\n",
       "    <tr>\n",
       "      <th>4</th>\n",
       "      <td>222-222@3bt-bzz-59f</td>\n",
       "      <td>NaN</td>\n",
       "      <td>Fairview Elementary</td>\n",
       "      <td>NaN</td>\n",
       "      <td>NaN</td>\n",
       "      <td>Elementary and Secondary Schools</td>\n",
       "      <td>Elementary and Secondary Schools</td>\n",
       "      <td>611110.0</td>\n",
       "      <td>61.209837</td>\n",
       "      <td>-149.855258</td>\n",
       "      <td>...</td>\n",
       "      <td>AK</td>\n",
       "      <td>99501</td>\n",
       "      <td>US</td>\n",
       "      <td>NaN</td>\n",
       "      <td>NaN</td>\n",
       "      <td>NaN</td>\n",
       "      <td>NaN</td>\n",
       "      <td>NaN</td>\n",
       "      <td>2019-07-01</td>\n",
       "      <td>POLYGON</td>\n",
       "    </tr>\n",
       "    <tr>\n",
       "      <th>...</th>\n",
       "      <td>...</td>\n",
       "      <td>...</td>\n",
       "      <td>...</td>\n",
       "      <td>...</td>\n",
       "      <td>...</td>\n",
       "      <td>...</td>\n",
       "      <td>...</td>\n",
       "      <td>...</td>\n",
       "      <td>...</td>\n",
       "      <td>...</td>\n",
       "      <td>...</td>\n",
       "      <td>...</td>\n",
       "      <td>...</td>\n",
       "      <td>...</td>\n",
       "      <td>...</td>\n",
       "      <td>...</td>\n",
       "      <td>...</td>\n",
       "      <td>...</td>\n",
       "      <td>...</td>\n",
       "      <td>...</td>\n",
       "      <td>...</td>\n",
       "    </tr>\n",
       "    <tr>\n",
       "      <th>1179868</th>\n",
       "      <td>zzz-223@62j-scv-td9</td>\n",
       "      <td>NaN</td>\n",
       "      <td>Conservation Area</td>\n",
       "      <td>NaN</td>\n",
       "      <td>NaN</td>\n",
       "      <td>Museums, Historical Sites, and Similar Institu...</td>\n",
       "      <td>Nature Parks and Other Similar Institutions</td>\n",
       "      <td>712190.0</td>\n",
       "      <td>42.504420</td>\n",
       "      <td>-71.296234</td>\n",
       "      <td>...</td>\n",
       "      <td>MA</td>\n",
       "      <td>1730</td>\n",
       "      <td>US</td>\n",
       "      <td>NaN</td>\n",
       "      <td>NaN</td>\n",
       "      <td>NaN</td>\n",
       "      <td>NaN</td>\n",
       "      <td>NaN</td>\n",
       "      <td>2019-07-01</td>\n",
       "      <td>POLYGON</td>\n",
       "    </tr>\n",
       "    <tr>\n",
       "      <th>1179869</th>\n",
       "      <td>zzz-223@63g-49v-g8v</td>\n",
       "      <td>NaN</td>\n",
       "      <td>Old Town</td>\n",
       "      <td>NaN</td>\n",
       "      <td>NaN</td>\n",
       "      <td>Museums, Historical Sites, and Similar Institu...</td>\n",
       "      <td>Nature Parks and Other Similar Institutions</td>\n",
       "      <td>712190.0</td>\n",
       "      <td>36.156703</td>\n",
       "      <td>-80.337303</td>\n",
       "      <td>...</td>\n",
       "      <td>NC</td>\n",
       "      <td>27106</td>\n",
       "      <td>US</td>\n",
       "      <td>NaN</td>\n",
       "      <td>NaN</td>\n",
       "      <td>NaN</td>\n",
       "      <td>NaN</td>\n",
       "      <td>NaN</td>\n",
       "      <td>2019-07-01</td>\n",
       "      <td>POLYGON</td>\n",
       "    </tr>\n",
       "    <tr>\n",
       "      <th>1179870</th>\n",
       "      <td>zzz-223@63j-xbj-zzz</td>\n",
       "      <td>NaN</td>\n",
       "      <td>Scioto Mile</td>\n",
       "      <td>NaN</td>\n",
       "      <td>NaN</td>\n",
       "      <td>Museums, Historical Sites, and Similar Institu...</td>\n",
       "      <td>Nature Parks and Other Similar Institutions</td>\n",
       "      <td>712190.0</td>\n",
       "      <td>39.964981</td>\n",
       "      <td>-83.011128</td>\n",
       "      <td>...</td>\n",
       "      <td>OH</td>\n",
       "      <td>43215</td>\n",
       "      <td>US</td>\n",
       "      <td>NaN</td>\n",
       "      <td>NaN</td>\n",
       "      <td>NaN</td>\n",
       "      <td>NaN</td>\n",
       "      <td>NaN</td>\n",
       "      <td>2019-07-01</td>\n",
       "      <td>POLYGON</td>\n",
       "    </tr>\n",
       "    <tr>\n",
       "      <th>1179871</th>\n",
       "      <td>zzz-223@63j-xfd-vmk</td>\n",
       "      <td>NaN</td>\n",
       "      <td>Winchester Bend Parkland</td>\n",
       "      <td>NaN</td>\n",
       "      <td>NaN</td>\n",
       "      <td>Museums, Historical Sites, and Similar Institu...</td>\n",
       "      <td>Nature Parks and Other Similar Institutions</td>\n",
       "      <td>712190.0</td>\n",
       "      <td>39.901848</td>\n",
       "      <td>-82.889222</td>\n",
       "      <td>...</td>\n",
       "      <td>OH</td>\n",
       "      <td>43232</td>\n",
       "      <td>US</td>\n",
       "      <td>NaN</td>\n",
       "      <td>NaN</td>\n",
       "      <td>NaN</td>\n",
       "      <td>NaN</td>\n",
       "      <td>NaN</td>\n",
       "      <td>2019-07-01</td>\n",
       "      <td>POLYGON</td>\n",
       "    </tr>\n",
       "    <tr>\n",
       "      <th>1179872</th>\n",
       "      <td>zzz-223@63r-nz7-sbk</td>\n",
       "      <td>NaN</td>\n",
       "      <td>Warrenton Fairgrounds</td>\n",
       "      <td>NaN</td>\n",
       "      <td>NaN</td>\n",
       "      <td>Museums, Historical Sites, and Similar Institu...</td>\n",
       "      <td>Nature Parks and Other Similar Institutions</td>\n",
       "      <td>712190.0</td>\n",
       "      <td>38.706709</td>\n",
       "      <td>-77.797273</td>\n",
       "      <td>...</td>\n",
       "      <td>VA</td>\n",
       "      <td>20186</td>\n",
       "      <td>US</td>\n",
       "      <td>NaN</td>\n",
       "      <td>NaN</td>\n",
       "      <td>NaN</td>\n",
       "      <td>NaN</td>\n",
       "      <td>NaN</td>\n",
       "      <td>2019-07-01</td>\n",
       "      <td>POLYGON</td>\n",
       "    </tr>\n",
       "  </tbody>\n",
       "</table>\n",
       "<p>6786255 rows × 22 columns</p>\n",
       "</div>"
      ],
      "text/plain": [
       "                    placekey parent_placekey  \\\n",
       "0        222-222@3b4-6mw-f2k             NaN   \n",
       "1        222-222@3bh-2bh-j35             NaN   \n",
       "2        222-222@3bt-br8-6x5             NaN   \n",
       "3        222-222@3bt-by5-jsq             NaN   \n",
       "4        222-222@3bt-bzz-59f             NaN   \n",
       "...                      ...             ...   \n",
       "1179868  zzz-223@62j-scv-td9             NaN   \n",
       "1179869  zzz-223@63g-49v-g8v             NaN   \n",
       "1179870  zzz-223@63j-xbj-zzz             NaN   \n",
       "1179871  zzz-223@63j-xfd-vmk             NaN   \n",
       "1179872  zzz-223@63r-nz7-sbk             NaN   \n",
       "\n",
       "                                location_name  \\\n",
       "0         United States Postal Service (USPS)   \n",
       "1                                   Glacier D   \n",
       "2        George M Sullivan Generation Plant 2   \n",
       "3                                      Koot's   \n",
       "4                         Fairview Elementary   \n",
       "...                                       ...   \n",
       "1179868                     Conservation Area   \n",
       "1179869                              Old Town   \n",
       "1179870                           Scioto Mile   \n",
       "1179871              Winchester Bend Parkland   \n",
       "1179872                 Warrenton Fairgrounds   \n",
       "\n",
       "                               safegraph_brand_ids  \\\n",
       "0        SG_BRAND_27ee73cd1fb6f5e432852fea401eacce   \n",
       "1                                              NaN   \n",
       "2                                              NaN   \n",
       "3                                              NaN   \n",
       "4                                              NaN   \n",
       "...                                            ...   \n",
       "1179868                                        NaN   \n",
       "1179869                                        NaN   \n",
       "1179870                                        NaN   \n",
       "1179871                                        NaN   \n",
       "1179872                                        NaN   \n",
       "\n",
       "                                      brands  \\\n",
       "0        United States Postal Service (USPS)   \n",
       "1                                        NaN   \n",
       "2                                        NaN   \n",
       "3                                        NaN   \n",
       "4                                        NaN   \n",
       "...                                      ...   \n",
       "1179868                                  NaN   \n",
       "1179869                                  NaN   \n",
       "1179870                                  NaN   \n",
       "1179871                                  NaN   \n",
       "1179872                                  NaN   \n",
       "\n",
       "                                              top_category  \\\n",
       "0                                           Postal Service   \n",
       "1                      Restaurants and Other Eating Places   \n",
       "2        Electric Power Generation, Transmission and Di...   \n",
       "3                    Drinking Places (Alcoholic Beverages)   \n",
       "4                         Elementary and Secondary Schools   \n",
       "...                                                    ...   \n",
       "1179868  Museums, Historical Sites, and Similar Institu...   \n",
       "1179869  Museums, Historical Sites, and Similar Institu...   \n",
       "1179870  Museums, Historical Sites, and Similar Institu...   \n",
       "1179871  Museums, Historical Sites, and Similar Institu...   \n",
       "1179872  Museums, Historical Sites, and Similar Institu...   \n",
       "\n",
       "                                        sub_category  naics_code   latitude  \\\n",
       "0                                     Postal Service    491110.0  64.738315   \n",
       "1                           Full-Service Restaurants    722511.0  59.608003   \n",
       "2              Fossil Fuel Electric Power Generation    221112.0  61.229868   \n",
       "3              Drinking Places (Alcoholic Beverages)    722410.0  61.198135   \n",
       "4                   Elementary and Secondary Schools    611110.0  61.209837   \n",
       "...                                              ...         ...        ...   \n",
       "1179868  Nature Parks and Other Similar Institutions    712190.0  42.504420   \n",
       "1179869  Nature Parks and Other Similar Institutions    712190.0  36.156703   \n",
       "1179870  Nature Parks and Other Similar Institutions    712190.0  39.964981   \n",
       "1179871  Nature Parks and Other Similar Institutions    712190.0  39.901848   \n",
       "1179872  Nature Parks and Other Similar Institutions    712190.0  38.706709   \n",
       "\n",
       "          longitude  ... region postal_code iso_country_code  phone_number  \\\n",
       "0       -155.490717  ...     AK       99768               US  1.907468e+10   \n",
       "1       -151.438679  ...     AK       99603               US  1.907236e+10   \n",
       "2       -149.718253  ...     AK       99504               US           NaN   \n",
       "3       -149.904680  ...     AK       99503               US           NaN   \n",
       "4       -149.855258  ...     AK       99501               US           NaN   \n",
       "...             ...  ...    ...         ...              ...           ...   \n",
       "1179868  -71.296234  ...     MA        1730               US           NaN   \n",
       "1179869  -80.337303  ...     NC       27106               US           NaN   \n",
       "1179870  -83.011128  ...     OH       43215               US           NaN   \n",
       "1179871  -82.889222  ...     OH       43232               US           NaN   \n",
       "1179872  -77.797273  ...     VA       20186               US           NaN   \n",
       "\n",
       "                                                open_hours  \\\n",
       "0        { \"Mon\": [[\"9:30\", \"13:00\"]], \"Tue\": [[\"9:30\",...   \n",
       "1                                                      NaN   \n",
       "2                                                      NaN   \n",
       "3        { \"Mon\": [[\"10:30\", \"24:00\"]], \"Tue\": [[\"0:00\"...   \n",
       "4                                                      NaN   \n",
       "...                                                    ...   \n",
       "1179868                                                NaN   \n",
       "1179869                                                NaN   \n",
       "1179870                                                NaN   \n",
       "1179871                                                NaN   \n",
       "1179872                                                NaN   \n",
       "\n",
       "                             category_tags opened_on closed_on  \\\n",
       "0                                      NaN       NaN       NaN   \n",
       "1        Burgers,Fish & Chips,Mexican Food       NaN       NaN   \n",
       "2                                      NaN       NaN       NaN   \n",
       "3                    Bar or Pub,Late Night       NaN       NaN   \n",
       "4                                      NaN       NaN       NaN   \n",
       "...                                    ...       ...       ...   \n",
       "1179868                                NaN       NaN       NaN   \n",
       "1179869                                NaN       NaN       NaN   \n",
       "1179870                                NaN       NaN       NaN   \n",
       "1179871                                NaN       NaN       NaN   \n",
       "1179872                                NaN       NaN       NaN   \n",
       "\n",
       "        tracking_closed_since  geometry_type  \n",
       "0                  2019-07-01        POLYGON  \n",
       "1                  2019-07-01        POLYGON  \n",
       "2                  2019-07-01        POLYGON  \n",
       "3                  2019-07-01        POLYGON  \n",
       "4                  2019-07-01        POLYGON  \n",
       "...                       ...            ...  \n",
       "1179868            2019-07-01        POLYGON  \n",
       "1179869            2019-07-01        POLYGON  \n",
       "1179870            2019-07-01        POLYGON  \n",
       "1179871            2019-07-01        POLYGON  \n",
       "1179872            2019-07-01        POLYGON  \n",
       "\n",
       "[6786255 rows x 22 columns]"
      ]
     },
     "execution_count": 32,
     "metadata": {},
     "output_type": "execute_result"
    }
   ],
   "source": [
    "core_POI_csvs = glob.glob(r'J:\\Safegraph\\US_POI_20220103\\*.csv.gz')\n",
    "\n",
    "core_POI_df = pd.concat([pd.read_csv(c) for c in core_POI_csvs])\n",
    "columns = [c.replace(\"sg_c__\", \"\") for c in core_POI_df.columns]\n",
    "core_POI_df.columns = columns\n",
    "# core_POI_df"
   ]
  },
  {
   "cell_type": "code",
   "execution_count": 33,
   "id": "2aaf6880-6ae0-4fba-b9a4-9e1639dd24c7",
   "metadata": {},
   "outputs": [],
   "source": [
    "usecols = ['placekey',\n",
    " 'top_category',\n",
    " 'sub_category',\n",
    " 'naics_code',\n",
    " 'latitude',\n",
    " 'longitude',\n",
    " 'phone_number',\n",
    " 'open_hours',\n",
    " 'category_tags',\n",
    " 'opened_on',\n",
    " 'closed_on',\n",
    " 'tracking_closed_since',\n",
    " 'geometry_type']\n",
    "\n",
    "core_POI_df = core_POI_df[usecols]"
   ]
  },
  {
   "cell_type": "code",
   "execution_count": 34,
   "id": "7a2c89e1-b018-468b-b182-baf3862dd8d0",
   "metadata": {},
   "outputs": [
    {
     "data": {
      "text/plain": [
       "Index(['placekey', 'top_category', 'sub_category', 'naics_code', 'latitude',\n",
       "       'longitude', 'phone_number', 'open_hours', 'category_tags', 'opened_on',\n",
       "       'closed_on', 'tracking_closed_since', 'geometry_type'],\n",
       "      dtype='object')"
      ]
     },
     "execution_count": 34,
     "metadata": {},
     "output_type": "execute_result"
    }
   ],
   "source": [
    "core_POI_df.columns"
   ]
  },
  {
   "cell_type": "code",
   "execution_count": 88,
   "id": "e4d958e4-24a0-4d5c-8c1d-5f030836a688",
   "metadata": {
    "scrolled": true,
    "tags": []
   },
   "outputs": [
    {
     "name": "stdout",
     "output_type": "stream",
     "text": [
      "State dir: J:\\Safegraph\\weekly_county_files\\weekly_patterns_2018_2021\\01 2018-01-01\n",
      "State dir: J:\\Safegraph\\weekly_county_files\\weekly_patterns_2018_2021\\02 2018-01-01\n",
      "State dir: J:\\Safegraph\\weekly_county_files\\weekly_patterns_2018_2021\\04 2018-01-01\n",
      "State dir: J:\\Safegraph\\weekly_county_files\\weekly_patterns_2018_2021\\05 2018-01-01\n",
      "State dir: J:\\Safegraph\\weekly_county_files\\weekly_patterns_2018_2021\\06 2018-01-01\n",
      "State dir: J:\\Safegraph\\weekly_county_files\\weekly_patterns_2018_2021\\08 2018-01-01\n",
      "State dir: J:\\Safegraph\\weekly_county_files\\weekly_patterns_2018_2021\\09 2018-01-01\n",
      "State dir: J:\\Safegraph\\weekly_county_files\\weekly_patterns_2018_2021\\10 2018-01-01\n",
      "State dir: J:\\Safegraph\\weekly_county_files\\weekly_patterns_2018_2021\\11 2018-01-01\n",
      "State dir: J:\\Safegraph\\weekly_county_files\\weekly_patterns_2018_2021\\12 2018-01-01\n",
      "State dir: J:\\Safegraph\\weekly_county_files\\weekly_patterns_2018_2021\\13 2018-01-01\n",
      "State dir: J:\\Safegraph\\weekly_county_files\\weekly_patterns_2018_2021\\15 2018-01-01\n",
      "State dir: J:\\Safegraph\\weekly_county_files\\weekly_patterns_2018_2021\\16 2018-01-01\n",
      "State dir: J:\\Safegraph\\weekly_county_files\\weekly_patterns_2018_2021\\17 2018-01-01\n",
      "State dir: J:\\Safegraph\\weekly_county_files\\weekly_patterns_2018_2021\\18 2018-01-01\n",
      "State dir: J:\\Safegraph\\weekly_county_files\\weekly_patterns_2018_2021\\19 2018-01-01\n",
      "State dir: J:\\Safegraph\\weekly_county_files\\weekly_patterns_2018_2021\\20 2018-01-01\n",
      "State dir: J:\\Safegraph\\weekly_county_files\\weekly_patterns_2018_2021\\21 2018-01-01\n",
      "State dir: J:\\Safegraph\\weekly_county_files\\weekly_patterns_2018_2021\\22 2018-01-01\n",
      "State dir: J:\\Safegraph\\weekly_county_files\\weekly_patterns_2018_2021\\23 2018-01-01\n",
      "State dir: J:\\Safegraph\\weekly_county_files\\weekly_patterns_2018_2021\\24 2018-01-01\n",
      "State dir: J:\\Safegraph\\weekly_county_files\\weekly_patterns_2018_2021\\25 2018-01-01\n",
      "State dir: J:\\Safegraph\\weekly_county_files\\weekly_patterns_2018_2021\\26 2018-01-01\n",
      "State dir: J:\\Safegraph\\weekly_county_files\\weekly_patterns_2018_2021\\27 2018-01-01\n",
      "State dir: J:\\Safegraph\\weekly_county_files\\weekly_patterns_2018_2021\\28 2018-01-01\n",
      "State dir: J:\\Safegraph\\weekly_county_files\\weekly_patterns_2018_2021\\29 2018-01-01\n",
      "State dir: J:\\Safegraph\\weekly_county_files\\weekly_patterns_2018_2021\\30 2018-01-01\n",
      "State dir: J:\\Safegraph\\weekly_county_files\\weekly_patterns_2018_2021\\31 2018-01-01\n",
      "State dir: J:\\Safegraph\\weekly_county_files\\weekly_patterns_2018_2021\\32 2018-01-01\n",
      "State dir: J:\\Safegraph\\weekly_county_files\\weekly_patterns_2018_2021\\33 2018-01-01\n",
      "State dir: J:\\Safegraph\\weekly_county_files\\weekly_patterns_2018_2021\\34 2018-01-01\n",
      "State dir: J:\\Safegraph\\weekly_county_files\\weekly_patterns_2018_2021\\35 2018-01-01\n",
      "State dir: J:\\Safegraph\\weekly_county_files\\weekly_patterns_2018_2021\\36 2018-01-01\n",
      "State dir: J:\\Safegraph\\weekly_county_files\\weekly_patterns_2018_2021\\37 2018-01-01\n",
      "State dir: J:\\Safegraph\\weekly_county_files\\weekly_patterns_2018_2021\\38 2018-01-01\n",
      "State dir: J:\\Safegraph\\weekly_county_files\\weekly_patterns_2018_2021\\39 2018-01-01\n",
      "State dir: J:\\Safegraph\\weekly_county_files\\weekly_patterns_2018_2021\\40 2018-01-01\n",
      "State dir: J:\\Safegraph\\weekly_county_files\\weekly_patterns_2018_2021\\41 2018-01-01\n",
      "State dir: J:\\Safegraph\\weekly_county_files\\weekly_patterns_2018_2021\\42 2018-01-01\n",
      "State dir: J:\\Safegraph\\weekly_county_files\\weekly_patterns_2018_2021\\44 2018-01-01\n",
      "State dir: J:\\Safegraph\\weekly_county_files\\weekly_patterns_2018_2021\\46 2018-01-01\n",
      "State dir: J:\\Safegraph\\weekly_county_files\\weekly_patterns_2018_2021\\47 2018-01-01\n",
      "State dir: J:\\Safegraph\\weekly_county_files\\weekly_patterns_2018_2021\\48 2018-01-01\n",
      "State dir: J:\\Safegraph\\weekly_county_files\\weekly_patterns_2018_2021\\49 2018-01-01\n",
      "State dir: J:\\Safegraph\\weekly_county_files\\weekly_patterns_2018_2021\\50 2018-01-01\n",
      "State dir: J:\\Safegraph\\weekly_county_files\\weekly_patterns_2018_2021\\51 2018-01-01\n",
      "State dir: J:\\Safegraph\\weekly_county_files\\weekly_patterns_2018_2021\\53 2018-01-01\n",
      "State dir: J:\\Safegraph\\weekly_county_files\\weekly_patterns_2018_2021\\54 2018-01-01\n",
      "State dir: J:\\Safegraph\\weekly_county_files\\weekly_patterns_2018_2021\\55 2018-01-01\n",
      "State dir: J:\\Safegraph\\weekly_county_files\\weekly_patterns_2018_2021\\56 2018-01-01\n",
      "State dir: J:\\Safegraph\\weekly_county_files\\weekly_patterns_2018_2021\\60 2018-01-01\n",
      "State dir: J:\\Safegraph\\weekly_county_files\\weekly_patterns_2018_2021\\66 2018-01-01\n",
      "State dir: J:\\Safegraph\\weekly_county_files\\weekly_patterns_2018_2021\\69 2018-01-01\n",
      "State dir: J:\\Safegraph\\weekly_county_files\\weekly_patterns_2018_2021\\72 2018-01-01\n",
      "State dir: J:\\Safegraph\\weekly_county_files\\weekly_patterns_2018_2021\\78 2018-01-01\n"
     ]
    }
   ],
   "source": [
    "def get_visits_csv_files(target_state_code_list, visits_dir, start_date):\n",
    "    # print(\"start_date:\", start_date)\n",
    "    visitor_home_csv_list = []\n",
    "    visitor_daytime_csv_list = []\n",
    "    for state in target_state_code_list:\n",
    "        state_dir = os.path.join(visits_dir, state)\n",
    "        print(\"State dir:\", state_dir, weekly_str)\n",
    "        \n",
    "        daytime_files = glob.glob(os.path.join(state_dir, r'*', fr'*visitor_daytime_cbgs_{start_date}*.csv'))\n",
    "        visitor_daytime_csv_list += daytime_files\n",
    "        \n",
    "        home_cbgs_files = glob.glob(os.path.join(state_dir, r'*', fr'*visitor_home_cbgs_{start_date}*.csv'))\n",
    "        # home_cbgs_files = glob.glob(os.path.join(state_dir, r'*', '*visitor_home_cbgs*.csv'))\n",
    "        visitor_home_csv_list += home_cbgs_files\n",
    "        # print(os.path.join(state_dir, r'*', fr'visitor_home_cbgs_{start_date}*.csv'))\n",
    "        # print(home_cbgs_files)\n",
    "        \n",
    "        # for root, dirs, files in os.walk(state_dir):\n",
    "        #     for  f in files:\n",
    "        #         if f'visitor_daytime_cbgs_{start_date}' in os.path.basename(f):\n",
    "        #             visitor_daytime_csv_list.append(os.path.join(root, f))\n",
    "        #         if f'visitor_home_cbgs_{start_date}' in os.path.basename(f):\n",
    "        #             visitor_home_csv_list.append(os.path.join(root, f))\n",
    "                    \n",
    "    return visitor_home_csv_list, visitor_daytime_csv_list\n",
    "\n",
    "# target_state_code_list = ['45', '01']\n",
    "\n",
    "visitor_home_csv_list, visitor_daytime_csv_list = get_visits_csv_files(\n",
    "                                                    target_state_code_list=target_state_code_list, \n",
    "                                                                          visits_dir=visits_dir, \n",
    "                                                                          start_date=weekly_str)\n",
    "\n",
    "# visitor_home_csv_list"
   ]
  },
  {
   "cell_type": "code",
   "execution_count": 63,
   "id": "dc5530f9-018f-4bfe-b871-536497a0109f",
   "metadata": {},
   "outputs": [],
   "source": [
    "for root, dirs, files in os.walk(r'J:\\Safegraph\\weekly_county_files\\weekly_patterns_2018_2021'):\n",
    "    target_state_code_list = dirs\n",
    "    break\n",
    "target_state_code_list.remove('45')\n",
    "target_state_code_list.remove('POI')\n",
    "\n",
    "# target_state_code_list"
   ]
  },
  {
   "cell_type": "code",
   "execution_count": 91,
   "id": "575028bf-6955-4924-bd4e-b7ca3d182026",
   "metadata": {},
   "outputs": [
    {
     "data": {
      "text/plain": [
       "['J:\\\\Safegraph\\\\weekly_county_files\\\\weekly_patterns_2018_2021\\\\01\\\\01001\\\\01001_visitor_daytime_cbgs_2018-01-01_To_2018-01-08.csv',\n",
       " 'J:\\\\Safegraph\\\\weekly_county_files\\\\weekly_patterns_2018_2021\\\\01\\\\01003\\\\01003_visitor_daytime_cbgs_2018-01-01_To_2018-01-08.csv',\n",
       " 'J:\\\\Safegraph\\\\weekly_county_files\\\\weekly_patterns_2018_2021\\\\01\\\\01005\\\\01005_visitor_daytime_cbgs_2018-01-01_To_2018-01-08.csv',\n",
       " 'J:\\\\Safegraph\\\\weekly_county_files\\\\weekly_patterns_2018_2021\\\\01\\\\01007\\\\01007_visitor_daytime_cbgs_2018-01-01_To_2018-01-08.csv',\n",
       " 'J:\\\\Safegraph\\\\weekly_county_files\\\\weekly_patterns_2018_2021\\\\01\\\\01009\\\\01009_visitor_daytime_cbgs_2018-01-01_To_2018-01-08.csv',\n",
       " 'J:\\\\Safegraph\\\\weekly_county_files\\\\weekly_patterns_2018_2021\\\\01\\\\01011\\\\01011_visitor_daytime_cbgs_2018-01-01_To_2018-01-08.csv',\n",
       " 'J:\\\\Safegraph\\\\weekly_county_files\\\\weekly_patterns_2018_2021\\\\01\\\\01013\\\\01013_visitor_daytime_cbgs_2018-01-01_To_2018-01-08.csv',\n",
       " 'J:\\\\Safegraph\\\\weekly_county_files\\\\weekly_patterns_2018_2021\\\\01\\\\01015\\\\01015_visitor_daytime_cbgs_2018-01-01_To_2018-01-08.csv',\n",
       " 'J:\\\\Safegraph\\\\weekly_county_files\\\\weekly_patterns_2018_2021\\\\01\\\\01017\\\\01017_visitor_daytime_cbgs_2018-01-01_To_2018-01-08.csv',\n",
       " 'J:\\\\Safegraph\\\\weekly_county_files\\\\weekly_patterns_2018_2021\\\\01\\\\01019\\\\01019_visitor_daytime_cbgs_2018-01-01_To_2018-01-08.csv',\n",
       " 'J:\\\\Safegraph\\\\weekly_county_files\\\\weekly_patterns_2018_2021\\\\01\\\\01021\\\\01021_visitor_daytime_cbgs_2018-01-01_To_2018-01-08.csv',\n",
       " 'J:\\\\Safegraph\\\\weekly_county_files\\\\weekly_patterns_2018_2021\\\\01\\\\01023\\\\01023_visitor_daytime_cbgs_2018-01-01_To_2018-01-08.csv',\n",
       " 'J:\\\\Safegraph\\\\weekly_county_files\\\\weekly_patterns_2018_2021\\\\01\\\\01025\\\\01025_visitor_daytime_cbgs_2018-01-01_To_2018-01-08.csv',\n",
       " 'J:\\\\Safegraph\\\\weekly_county_files\\\\weekly_patterns_2018_2021\\\\01\\\\01027\\\\01027_visitor_daytime_cbgs_2018-01-01_To_2018-01-08.csv',\n",
       " 'J:\\\\Safegraph\\\\weekly_county_files\\\\weekly_patterns_2018_2021\\\\01\\\\01029\\\\01029_visitor_daytime_cbgs_2018-01-01_To_2018-01-08.csv',\n",
       " 'J:\\\\Safegraph\\\\weekly_county_files\\\\weekly_patterns_2018_2021\\\\01\\\\01031\\\\01031_visitor_daytime_cbgs_2018-01-01_To_2018-01-08.csv',\n",
       " 'J:\\\\Safegraph\\\\weekly_county_files\\\\weekly_patterns_2018_2021\\\\01\\\\01033\\\\01033_visitor_daytime_cbgs_2018-01-01_To_2018-01-08.csv',\n",
       " 'J:\\\\Safegraph\\\\weekly_county_files\\\\weekly_patterns_2018_2021\\\\01\\\\01035\\\\01035_visitor_daytime_cbgs_2018-01-01_To_2018-01-08.csv',\n",
       " 'J:\\\\Safegraph\\\\weekly_county_files\\\\weekly_patterns_2018_2021\\\\01\\\\01037\\\\01037_visitor_daytime_cbgs_2018-01-01_To_2018-01-08.csv',\n",
       " 'J:\\\\Safegraph\\\\weekly_county_files\\\\weekly_patterns_2018_2021\\\\01\\\\01039\\\\01039_visitor_daytime_cbgs_2018-01-01_To_2018-01-08.csv',\n",
       " 'J:\\\\Safegraph\\\\weekly_county_files\\\\weekly_patterns_2018_2021\\\\01\\\\01041\\\\01041_visitor_daytime_cbgs_2018-01-01_To_2018-01-08.csv',\n",
       " 'J:\\\\Safegraph\\\\weekly_county_files\\\\weekly_patterns_2018_2021\\\\01\\\\01043\\\\01043_visitor_daytime_cbgs_2018-01-01_To_2018-01-08.csv',\n",
       " 'J:\\\\Safegraph\\\\weekly_county_files\\\\weekly_patterns_2018_2021\\\\01\\\\01045\\\\01045_visitor_daytime_cbgs_2018-01-01_To_2018-01-08.csv',\n",
       " 'J:\\\\Safegraph\\\\weekly_county_files\\\\weekly_patterns_2018_2021\\\\01\\\\01047\\\\01047_visitor_daytime_cbgs_2018-01-01_To_2018-01-08.csv',\n",
       " 'J:\\\\Safegraph\\\\weekly_county_files\\\\weekly_patterns_2018_2021\\\\01\\\\01049\\\\01049_visitor_daytime_cbgs_2018-01-01_To_2018-01-08.csv',\n",
       " 'J:\\\\Safegraph\\\\weekly_county_files\\\\weekly_patterns_2018_2021\\\\01\\\\01051\\\\01051_visitor_daytime_cbgs_2018-01-01_To_2018-01-08.csv',\n",
       " 'J:\\\\Safegraph\\\\weekly_county_files\\\\weekly_patterns_2018_2021\\\\01\\\\01053\\\\01053_visitor_daytime_cbgs_2018-01-01_To_2018-01-08.csv',\n",
       " 'J:\\\\Safegraph\\\\weekly_county_files\\\\weekly_patterns_2018_2021\\\\01\\\\01055\\\\01055_visitor_daytime_cbgs_2018-01-01_To_2018-01-08.csv',\n",
       " 'J:\\\\Safegraph\\\\weekly_county_files\\\\weekly_patterns_2018_2021\\\\01\\\\01057\\\\01057_visitor_daytime_cbgs_2018-01-01_To_2018-01-08.csv',\n",
       " 'J:\\\\Safegraph\\\\weekly_county_files\\\\weekly_patterns_2018_2021\\\\01\\\\01059\\\\01059_visitor_daytime_cbgs_2018-01-01_To_2018-01-08.csv',\n",
       " 'J:\\\\Safegraph\\\\weekly_county_files\\\\weekly_patterns_2018_2021\\\\01\\\\01061\\\\01061_visitor_daytime_cbgs_2018-01-01_To_2018-01-08.csv',\n",
       " 'J:\\\\Safegraph\\\\weekly_county_files\\\\weekly_patterns_2018_2021\\\\01\\\\01063\\\\01063_visitor_daytime_cbgs_2018-01-01_To_2018-01-08.csv',\n",
       " 'J:\\\\Safegraph\\\\weekly_county_files\\\\weekly_patterns_2018_2021\\\\01\\\\01065\\\\01065_visitor_daytime_cbgs_2018-01-01_To_2018-01-08.csv',\n",
       " 'J:\\\\Safegraph\\\\weekly_county_files\\\\weekly_patterns_2018_2021\\\\01\\\\01067\\\\01067_visitor_daytime_cbgs_2018-01-01_To_2018-01-08.csv',\n",
       " 'J:\\\\Safegraph\\\\weekly_county_files\\\\weekly_patterns_2018_2021\\\\01\\\\01069\\\\01069_visitor_daytime_cbgs_2018-01-01_To_2018-01-08.csv',\n",
       " 'J:\\\\Safegraph\\\\weekly_county_files\\\\weekly_patterns_2018_2021\\\\01\\\\01071\\\\01071_visitor_daytime_cbgs_2018-01-01_To_2018-01-08.csv',\n",
       " 'J:\\\\Safegraph\\\\weekly_county_files\\\\weekly_patterns_2018_2021\\\\01\\\\01073\\\\01073_visitor_daytime_cbgs_2018-01-01_To_2018-01-08.csv',\n",
       " 'J:\\\\Safegraph\\\\weekly_county_files\\\\weekly_patterns_2018_2021\\\\01\\\\01075\\\\01075_visitor_daytime_cbgs_2018-01-01_To_2018-01-08.csv',\n",
       " 'J:\\\\Safegraph\\\\weekly_county_files\\\\weekly_patterns_2018_2021\\\\01\\\\01077\\\\01077_visitor_daytime_cbgs_2018-01-01_To_2018-01-08.csv',\n",
       " 'J:\\\\Safegraph\\\\weekly_county_files\\\\weekly_patterns_2018_2021\\\\01\\\\01079\\\\01079_visitor_daytime_cbgs_2018-01-01_To_2018-01-08.csv',\n",
       " 'J:\\\\Safegraph\\\\weekly_county_files\\\\weekly_patterns_2018_2021\\\\01\\\\01081\\\\01081_visitor_daytime_cbgs_2018-01-01_To_2018-01-08.csv',\n",
       " 'J:\\\\Safegraph\\\\weekly_county_files\\\\weekly_patterns_2018_2021\\\\01\\\\01083\\\\01083_visitor_daytime_cbgs_2018-01-01_To_2018-01-08.csv',\n",
       " 'J:\\\\Safegraph\\\\weekly_county_files\\\\weekly_patterns_2018_2021\\\\01\\\\01085\\\\01085_visitor_daytime_cbgs_2018-01-01_To_2018-01-08.csv',\n",
       " 'J:\\\\Safegraph\\\\weekly_county_files\\\\weekly_patterns_2018_2021\\\\01\\\\01087\\\\01087_visitor_daytime_cbgs_2018-01-01_To_2018-01-08.csv',\n",
       " 'J:\\\\Safegraph\\\\weekly_county_files\\\\weekly_patterns_2018_2021\\\\01\\\\01089\\\\01089_visitor_daytime_cbgs_2018-01-01_To_2018-01-08.csv',\n",
       " 'J:\\\\Safegraph\\\\weekly_county_files\\\\weekly_patterns_2018_2021\\\\01\\\\01091\\\\01091_visitor_daytime_cbgs_2018-01-01_To_2018-01-08.csv',\n",
       " 'J:\\\\Safegraph\\\\weekly_county_files\\\\weekly_patterns_2018_2021\\\\01\\\\01093\\\\01093_visitor_daytime_cbgs_2018-01-01_To_2018-01-08.csv',\n",
       " 'J:\\\\Safegraph\\\\weekly_county_files\\\\weekly_patterns_2018_2021\\\\01\\\\01095\\\\01095_visitor_daytime_cbgs_2018-01-01_To_2018-01-08.csv',\n",
       " 'J:\\\\Safegraph\\\\weekly_county_files\\\\weekly_patterns_2018_2021\\\\01\\\\01097\\\\01097_visitor_daytime_cbgs_2018-01-01_To_2018-01-08.csv',\n",
       " 'J:\\\\Safegraph\\\\weekly_county_files\\\\weekly_patterns_2018_2021\\\\01\\\\01099\\\\01099_visitor_daytime_cbgs_2018-01-01_To_2018-01-08.csv',\n",
       " 'J:\\\\Safegraph\\\\weekly_county_files\\\\weekly_patterns_2018_2021\\\\01\\\\01101\\\\01101_visitor_daytime_cbgs_2018-01-01_To_2018-01-08.csv',\n",
       " 'J:\\\\Safegraph\\\\weekly_county_files\\\\weekly_patterns_2018_2021\\\\01\\\\01103\\\\01103_visitor_daytime_cbgs_2018-01-01_To_2018-01-08.csv',\n",
       " 'J:\\\\Safegraph\\\\weekly_county_files\\\\weekly_patterns_2018_2021\\\\01\\\\01105\\\\01105_visitor_daytime_cbgs_2018-01-01_To_2018-01-08.csv',\n",
       " 'J:\\\\Safegraph\\\\weekly_county_files\\\\weekly_patterns_2018_2021\\\\01\\\\01107\\\\01107_visitor_daytime_cbgs_2018-01-01_To_2018-01-08.csv',\n",
       " 'J:\\\\Safegraph\\\\weekly_county_files\\\\weekly_patterns_2018_2021\\\\01\\\\01109\\\\01109_visitor_daytime_cbgs_2018-01-01_To_2018-01-08.csv',\n",
       " 'J:\\\\Safegraph\\\\weekly_county_files\\\\weekly_patterns_2018_2021\\\\01\\\\01111\\\\01111_visitor_daytime_cbgs_2018-01-01_To_2018-01-08.csv',\n",
       " 'J:\\\\Safegraph\\\\weekly_county_files\\\\weekly_patterns_2018_2021\\\\01\\\\01113\\\\01113_visitor_daytime_cbgs_2018-01-01_To_2018-01-08.csv',\n",
       " 'J:\\\\Safegraph\\\\weekly_county_files\\\\weekly_patterns_2018_2021\\\\01\\\\01115\\\\01115_visitor_daytime_cbgs_2018-01-01_To_2018-01-08.csv',\n",
       " 'J:\\\\Safegraph\\\\weekly_county_files\\\\weekly_patterns_2018_2021\\\\01\\\\01117\\\\01117_visitor_daytime_cbgs_2018-01-01_To_2018-01-08.csv',\n",
       " 'J:\\\\Safegraph\\\\weekly_county_files\\\\weekly_patterns_2018_2021\\\\01\\\\01119\\\\01119_visitor_daytime_cbgs_2018-01-01_To_2018-01-08.csv',\n",
       " 'J:\\\\Safegraph\\\\weekly_county_files\\\\weekly_patterns_2018_2021\\\\01\\\\01121\\\\01121_visitor_daytime_cbgs_2018-01-01_To_2018-01-08.csv',\n",
       " 'J:\\\\Safegraph\\\\weekly_county_files\\\\weekly_patterns_2018_2021\\\\01\\\\01123\\\\01123_visitor_daytime_cbgs_2018-01-01_To_2018-01-08.csv',\n",
       " 'J:\\\\Safegraph\\\\weekly_county_files\\\\weekly_patterns_2018_2021\\\\01\\\\01125\\\\01125_visitor_daytime_cbgs_2018-01-01_To_2018-01-08.csv',\n",
       " 'J:\\\\Safegraph\\\\weekly_county_files\\\\weekly_patterns_2018_2021\\\\01\\\\01127\\\\01127_visitor_daytime_cbgs_2018-01-01_To_2018-01-08.csv',\n",
       " 'J:\\\\Safegraph\\\\weekly_county_files\\\\weekly_patterns_2018_2021\\\\01\\\\01129\\\\01129_visitor_daytime_cbgs_2018-01-01_To_2018-01-08.csv',\n",
       " 'J:\\\\Safegraph\\\\weekly_county_files\\\\weekly_patterns_2018_2021\\\\01\\\\01131\\\\01131_visitor_daytime_cbgs_2018-01-01_To_2018-01-08.csv',\n",
       " 'J:\\\\Safegraph\\\\weekly_county_files\\\\weekly_patterns_2018_2021\\\\01\\\\01133\\\\01133_visitor_daytime_cbgs_2018-01-01_To_2018-01-08.csv',\n",
       " 'J:\\\\Safegraph\\\\weekly_county_files\\\\weekly_patterns_2018_2021\\\\02\\\\02013\\\\02013_visitor_daytime_cbgs_2018-01-01_To_2018-01-08.csv',\n",
       " 'J:\\\\Safegraph\\\\weekly_county_files\\\\weekly_patterns_2018_2021\\\\02\\\\02016\\\\02016_visitor_daytime_cbgs_2018-01-01_To_2018-01-08.csv',\n",
       " 'J:\\\\Safegraph\\\\weekly_county_files\\\\weekly_patterns_2018_2021\\\\02\\\\02020\\\\02020_visitor_daytime_cbgs_2018-01-01_To_2018-01-08.csv',\n",
       " 'J:\\\\Safegraph\\\\weekly_county_files\\\\weekly_patterns_2018_2021\\\\02\\\\02050\\\\02050_visitor_daytime_cbgs_2018-01-01_To_2018-01-08.csv',\n",
       " 'J:\\\\Safegraph\\\\weekly_county_files\\\\weekly_patterns_2018_2021\\\\02\\\\02060\\\\02060_visitor_daytime_cbgs_2018-01-01_To_2018-01-08.csv',\n",
       " 'J:\\\\Safegraph\\\\weekly_county_files\\\\weekly_patterns_2018_2021\\\\02\\\\02068\\\\02068_visitor_daytime_cbgs_2018-01-01_To_2018-01-08.csv',\n",
       " 'J:\\\\Safegraph\\\\weekly_county_files\\\\weekly_patterns_2018_2021\\\\02\\\\02070\\\\02070_visitor_daytime_cbgs_2018-01-01_To_2018-01-08.csv',\n",
       " 'J:\\\\Safegraph\\\\weekly_county_files\\\\weekly_patterns_2018_2021\\\\02\\\\02090\\\\02090_visitor_daytime_cbgs_2018-01-01_To_2018-01-08.csv',\n",
       " 'J:\\\\Safegraph\\\\weekly_county_files\\\\weekly_patterns_2018_2021\\\\02\\\\02100\\\\02100_visitor_daytime_cbgs_2018-01-01_To_2018-01-08.csv',\n",
       " 'J:\\\\Safegraph\\\\weekly_county_files\\\\weekly_patterns_2018_2021\\\\02\\\\02105\\\\02105_visitor_daytime_cbgs_2018-01-01_To_2018-01-08.csv',\n",
       " 'J:\\\\Safegraph\\\\weekly_county_files\\\\weekly_patterns_2018_2021\\\\02\\\\02110\\\\02110_visitor_daytime_cbgs_2018-01-01_To_2018-01-08.csv',\n",
       " 'J:\\\\Safegraph\\\\weekly_county_files\\\\weekly_patterns_2018_2021\\\\02\\\\02122\\\\02122_visitor_daytime_cbgs_2018-01-01_To_2018-01-08.csv',\n",
       " 'J:\\\\Safegraph\\\\weekly_county_files\\\\weekly_patterns_2018_2021\\\\02\\\\02130\\\\02130_visitor_daytime_cbgs_2018-01-01_To_2018-01-08.csv',\n",
       " 'J:\\\\Safegraph\\\\weekly_county_files\\\\weekly_patterns_2018_2021\\\\02\\\\02150\\\\02150_visitor_daytime_cbgs_2018-01-01_To_2018-01-08.csv',\n",
       " 'J:\\\\Safegraph\\\\weekly_county_files\\\\weekly_patterns_2018_2021\\\\02\\\\02158\\\\02158_visitor_daytime_cbgs_2018-01-01_To_2018-01-08.csv',\n",
       " 'J:\\\\Safegraph\\\\weekly_county_files\\\\weekly_patterns_2018_2021\\\\02\\\\02164\\\\02164_visitor_daytime_cbgs_2018-01-01_To_2018-01-08.csv',\n",
       " 'J:\\\\Safegraph\\\\weekly_county_files\\\\weekly_patterns_2018_2021\\\\02\\\\02170\\\\02170_visitor_daytime_cbgs_2018-01-01_To_2018-01-08.csv',\n",
       " 'J:\\\\Safegraph\\\\weekly_county_files\\\\weekly_patterns_2018_2021\\\\02\\\\02180\\\\02180_visitor_daytime_cbgs_2018-01-01_To_2018-01-08.csv',\n",
       " 'J:\\\\Safegraph\\\\weekly_county_files\\\\weekly_patterns_2018_2021\\\\02\\\\02185\\\\02185_visitor_daytime_cbgs_2018-01-01_To_2018-01-08.csv',\n",
       " 'J:\\\\Safegraph\\\\weekly_county_files\\\\weekly_patterns_2018_2021\\\\02\\\\02188\\\\02188_visitor_daytime_cbgs_2018-01-01_To_2018-01-08.csv',\n",
       " 'J:\\\\Safegraph\\\\weekly_county_files\\\\weekly_patterns_2018_2021\\\\02\\\\02195\\\\02195_visitor_daytime_cbgs_2018-01-01_To_2018-01-08.csv',\n",
       " 'J:\\\\Safegraph\\\\weekly_county_files\\\\weekly_patterns_2018_2021\\\\02\\\\02198\\\\02198_visitor_daytime_cbgs_2018-01-01_To_2018-01-08.csv',\n",
       " 'J:\\\\Safegraph\\\\weekly_county_files\\\\weekly_patterns_2018_2021\\\\02\\\\02220\\\\02220_visitor_daytime_cbgs_2018-01-01_To_2018-01-08.csv',\n",
       " 'J:\\\\Safegraph\\\\weekly_county_files\\\\weekly_patterns_2018_2021\\\\02\\\\02230\\\\02230_visitor_daytime_cbgs_2018-01-01_To_2018-01-08.csv',\n",
       " 'J:\\\\Safegraph\\\\weekly_county_files\\\\weekly_patterns_2018_2021\\\\02\\\\02240\\\\02240_visitor_daytime_cbgs_2018-01-01_To_2018-01-08.csv',\n",
       " 'J:\\\\Safegraph\\\\weekly_county_files\\\\weekly_patterns_2018_2021\\\\02\\\\02261\\\\02261_visitor_daytime_cbgs_2018-01-01_To_2018-01-08.csv',\n",
       " 'J:\\\\Safegraph\\\\weekly_county_files\\\\weekly_patterns_2018_2021\\\\02\\\\02275\\\\02275_visitor_daytime_cbgs_2018-01-01_To_2018-01-08.csv',\n",
       " 'J:\\\\Safegraph\\\\weekly_county_files\\\\weekly_patterns_2018_2021\\\\02\\\\02282\\\\02282_visitor_daytime_cbgs_2018-01-01_To_2018-01-08.csv',\n",
       " 'J:\\\\Safegraph\\\\weekly_county_files\\\\weekly_patterns_2018_2021\\\\02\\\\02290\\\\02290_visitor_daytime_cbgs_2018-01-01_To_2018-01-08.csv',\n",
       " 'J:\\\\Safegraph\\\\weekly_county_files\\\\weekly_patterns_2018_2021\\\\04\\\\04001\\\\04001_visitor_daytime_cbgs_2018-01-01_To_2018-01-08.csv',\n",
       " 'J:\\\\Safegraph\\\\weekly_county_files\\\\weekly_patterns_2018_2021\\\\04\\\\04003\\\\04003_visitor_daytime_cbgs_2018-01-01_To_2018-01-08.csv',\n",
       " 'J:\\\\Safegraph\\\\weekly_county_files\\\\weekly_patterns_2018_2021\\\\04\\\\04005\\\\04005_visitor_daytime_cbgs_2018-01-01_To_2018-01-08.csv',\n",
       " 'J:\\\\Safegraph\\\\weekly_county_files\\\\weekly_patterns_2018_2021\\\\04\\\\04007\\\\04007_visitor_daytime_cbgs_2018-01-01_To_2018-01-08.csv',\n",
       " 'J:\\\\Safegraph\\\\weekly_county_files\\\\weekly_patterns_2018_2021\\\\04\\\\04009\\\\04009_visitor_daytime_cbgs_2018-01-01_To_2018-01-08.csv',\n",
       " 'J:\\\\Safegraph\\\\weekly_county_files\\\\weekly_patterns_2018_2021\\\\04\\\\04011\\\\04011_visitor_daytime_cbgs_2018-01-01_To_2018-01-08.csv',\n",
       " 'J:\\\\Safegraph\\\\weekly_county_files\\\\weekly_patterns_2018_2021\\\\04\\\\04012\\\\04012_visitor_daytime_cbgs_2018-01-01_To_2018-01-08.csv',\n",
       " 'J:\\\\Safegraph\\\\weekly_county_files\\\\weekly_patterns_2018_2021\\\\04\\\\04013\\\\04013_visitor_daytime_cbgs_2018-01-01_To_2018-01-08.csv',\n",
       " 'J:\\\\Safegraph\\\\weekly_county_files\\\\weekly_patterns_2018_2021\\\\04\\\\04015\\\\04015_visitor_daytime_cbgs_2018-01-01_To_2018-01-08.csv',\n",
       " 'J:\\\\Safegraph\\\\weekly_county_files\\\\weekly_patterns_2018_2021\\\\04\\\\04017\\\\04017_visitor_daytime_cbgs_2018-01-01_To_2018-01-08.csv',\n",
       " 'J:\\\\Safegraph\\\\weekly_county_files\\\\weekly_patterns_2018_2021\\\\04\\\\04019\\\\04019_visitor_daytime_cbgs_2018-01-01_To_2018-01-08.csv',\n",
       " 'J:\\\\Safegraph\\\\weekly_county_files\\\\weekly_patterns_2018_2021\\\\04\\\\04021\\\\04021_visitor_daytime_cbgs_2018-01-01_To_2018-01-08.csv',\n",
       " 'J:\\\\Safegraph\\\\weekly_county_files\\\\weekly_patterns_2018_2021\\\\04\\\\04023\\\\04023_visitor_daytime_cbgs_2018-01-01_To_2018-01-08.csv',\n",
       " 'J:\\\\Safegraph\\\\weekly_county_files\\\\weekly_patterns_2018_2021\\\\04\\\\04025\\\\04025_visitor_daytime_cbgs_2018-01-01_To_2018-01-08.csv',\n",
       " 'J:\\\\Safegraph\\\\weekly_county_files\\\\weekly_patterns_2018_2021\\\\04\\\\04027\\\\04027_visitor_daytime_cbgs_2018-01-01_To_2018-01-08.csv',\n",
       " 'J:\\\\Safegraph\\\\weekly_county_files\\\\weekly_patterns_2018_2021\\\\05\\\\05001\\\\05001_visitor_daytime_cbgs_2018-01-01_To_2018-01-08.csv',\n",
       " 'J:\\\\Safegraph\\\\weekly_county_files\\\\weekly_patterns_2018_2021\\\\05\\\\05003\\\\05003_visitor_daytime_cbgs_2018-01-01_To_2018-01-08.csv',\n",
       " 'J:\\\\Safegraph\\\\weekly_county_files\\\\weekly_patterns_2018_2021\\\\05\\\\05005\\\\05005_visitor_daytime_cbgs_2018-01-01_To_2018-01-08.csv',\n",
       " 'J:\\\\Safegraph\\\\weekly_county_files\\\\weekly_patterns_2018_2021\\\\05\\\\05007\\\\05007_visitor_daytime_cbgs_2018-01-01_To_2018-01-08.csv',\n",
       " 'J:\\\\Safegraph\\\\weekly_county_files\\\\weekly_patterns_2018_2021\\\\05\\\\05009\\\\05009_visitor_daytime_cbgs_2018-01-01_To_2018-01-08.csv',\n",
       " 'J:\\\\Safegraph\\\\weekly_county_files\\\\weekly_patterns_2018_2021\\\\05\\\\05011\\\\05011_visitor_daytime_cbgs_2018-01-01_To_2018-01-08.csv',\n",
       " 'J:\\\\Safegraph\\\\weekly_county_files\\\\weekly_patterns_2018_2021\\\\05\\\\05013\\\\05013_visitor_daytime_cbgs_2018-01-01_To_2018-01-08.csv',\n",
       " 'J:\\\\Safegraph\\\\weekly_county_files\\\\weekly_patterns_2018_2021\\\\05\\\\05015\\\\05015_visitor_daytime_cbgs_2018-01-01_To_2018-01-08.csv',\n",
       " 'J:\\\\Safegraph\\\\weekly_county_files\\\\weekly_patterns_2018_2021\\\\05\\\\05017\\\\05017_visitor_daytime_cbgs_2018-01-01_To_2018-01-08.csv',\n",
       " 'J:\\\\Safegraph\\\\weekly_county_files\\\\weekly_patterns_2018_2021\\\\05\\\\05019\\\\05019_visitor_daytime_cbgs_2018-01-01_To_2018-01-08.csv',\n",
       " 'J:\\\\Safegraph\\\\weekly_county_files\\\\weekly_patterns_2018_2021\\\\05\\\\05021\\\\05021_visitor_daytime_cbgs_2018-01-01_To_2018-01-08.csv',\n",
       " 'J:\\\\Safegraph\\\\weekly_county_files\\\\weekly_patterns_2018_2021\\\\05\\\\05023\\\\05023_visitor_daytime_cbgs_2018-01-01_To_2018-01-08.csv',\n",
       " 'J:\\\\Safegraph\\\\weekly_county_files\\\\weekly_patterns_2018_2021\\\\05\\\\05025\\\\05025_visitor_daytime_cbgs_2018-01-01_To_2018-01-08.csv',\n",
       " 'J:\\\\Safegraph\\\\weekly_county_files\\\\weekly_patterns_2018_2021\\\\05\\\\05027\\\\05027_visitor_daytime_cbgs_2018-01-01_To_2018-01-08.csv',\n",
       " 'J:\\\\Safegraph\\\\weekly_county_files\\\\weekly_patterns_2018_2021\\\\05\\\\05029\\\\05029_visitor_daytime_cbgs_2018-01-01_To_2018-01-08.csv',\n",
       " 'J:\\\\Safegraph\\\\weekly_county_files\\\\weekly_patterns_2018_2021\\\\05\\\\05031\\\\05031_visitor_daytime_cbgs_2018-01-01_To_2018-01-08.csv',\n",
       " 'J:\\\\Safegraph\\\\weekly_county_files\\\\weekly_patterns_2018_2021\\\\05\\\\05033\\\\05033_visitor_daytime_cbgs_2018-01-01_To_2018-01-08.csv',\n",
       " 'J:\\\\Safegraph\\\\weekly_county_files\\\\weekly_patterns_2018_2021\\\\05\\\\05035\\\\05035_visitor_daytime_cbgs_2018-01-01_To_2018-01-08.csv',\n",
       " 'J:\\\\Safegraph\\\\weekly_county_files\\\\weekly_patterns_2018_2021\\\\05\\\\05037\\\\05037_visitor_daytime_cbgs_2018-01-01_To_2018-01-08.csv',\n",
       " 'J:\\\\Safegraph\\\\weekly_county_files\\\\weekly_patterns_2018_2021\\\\05\\\\05039\\\\05039_visitor_daytime_cbgs_2018-01-01_To_2018-01-08.csv',\n",
       " 'J:\\\\Safegraph\\\\weekly_county_files\\\\weekly_patterns_2018_2021\\\\05\\\\05041\\\\05041_visitor_daytime_cbgs_2018-01-01_To_2018-01-08.csv',\n",
       " 'J:\\\\Safegraph\\\\weekly_county_files\\\\weekly_patterns_2018_2021\\\\05\\\\05043\\\\05043_visitor_daytime_cbgs_2018-01-01_To_2018-01-08.csv',\n",
       " 'J:\\\\Safegraph\\\\weekly_county_files\\\\weekly_patterns_2018_2021\\\\05\\\\05045\\\\05045_visitor_daytime_cbgs_2018-01-01_To_2018-01-08.csv',\n",
       " 'J:\\\\Safegraph\\\\weekly_county_files\\\\weekly_patterns_2018_2021\\\\05\\\\05047\\\\05047_visitor_daytime_cbgs_2018-01-01_To_2018-01-08.csv',\n",
       " 'J:\\\\Safegraph\\\\weekly_county_files\\\\weekly_patterns_2018_2021\\\\05\\\\05049\\\\05049_visitor_daytime_cbgs_2018-01-01_To_2018-01-08.csv',\n",
       " 'J:\\\\Safegraph\\\\weekly_county_files\\\\weekly_patterns_2018_2021\\\\05\\\\05051\\\\05051_visitor_daytime_cbgs_2018-01-01_To_2018-01-08.csv',\n",
       " 'J:\\\\Safegraph\\\\weekly_county_files\\\\weekly_patterns_2018_2021\\\\05\\\\05053\\\\05053_visitor_daytime_cbgs_2018-01-01_To_2018-01-08.csv',\n",
       " 'J:\\\\Safegraph\\\\weekly_county_files\\\\weekly_patterns_2018_2021\\\\05\\\\05055\\\\05055_visitor_daytime_cbgs_2018-01-01_To_2018-01-08.csv',\n",
       " 'J:\\\\Safegraph\\\\weekly_county_files\\\\weekly_patterns_2018_2021\\\\05\\\\05057\\\\05057_visitor_daytime_cbgs_2018-01-01_To_2018-01-08.csv',\n",
       " 'J:\\\\Safegraph\\\\weekly_county_files\\\\weekly_patterns_2018_2021\\\\05\\\\05059\\\\05059_visitor_daytime_cbgs_2018-01-01_To_2018-01-08.csv',\n",
       " 'J:\\\\Safegraph\\\\weekly_county_files\\\\weekly_patterns_2018_2021\\\\05\\\\05061\\\\05061_visitor_daytime_cbgs_2018-01-01_To_2018-01-08.csv',\n",
       " 'J:\\\\Safegraph\\\\weekly_county_files\\\\weekly_patterns_2018_2021\\\\05\\\\05063\\\\05063_visitor_daytime_cbgs_2018-01-01_To_2018-01-08.csv',\n",
       " 'J:\\\\Safegraph\\\\weekly_county_files\\\\weekly_patterns_2018_2021\\\\05\\\\05065\\\\05065_visitor_daytime_cbgs_2018-01-01_To_2018-01-08.csv',\n",
       " 'J:\\\\Safegraph\\\\weekly_county_files\\\\weekly_patterns_2018_2021\\\\05\\\\05067\\\\05067_visitor_daytime_cbgs_2018-01-01_To_2018-01-08.csv',\n",
       " 'J:\\\\Safegraph\\\\weekly_county_files\\\\weekly_patterns_2018_2021\\\\05\\\\05069\\\\05069_visitor_daytime_cbgs_2018-01-01_To_2018-01-08.csv',\n",
       " 'J:\\\\Safegraph\\\\weekly_county_files\\\\weekly_patterns_2018_2021\\\\05\\\\05071\\\\05071_visitor_daytime_cbgs_2018-01-01_To_2018-01-08.csv',\n",
       " 'J:\\\\Safegraph\\\\weekly_county_files\\\\weekly_patterns_2018_2021\\\\05\\\\05073\\\\05073_visitor_daytime_cbgs_2018-01-01_To_2018-01-08.csv',\n",
       " 'J:\\\\Safegraph\\\\weekly_county_files\\\\weekly_patterns_2018_2021\\\\05\\\\05075\\\\05075_visitor_daytime_cbgs_2018-01-01_To_2018-01-08.csv',\n",
       " 'J:\\\\Safegraph\\\\weekly_county_files\\\\weekly_patterns_2018_2021\\\\05\\\\05077\\\\05077_visitor_daytime_cbgs_2018-01-01_To_2018-01-08.csv',\n",
       " 'J:\\\\Safegraph\\\\weekly_county_files\\\\weekly_patterns_2018_2021\\\\05\\\\05079\\\\05079_visitor_daytime_cbgs_2018-01-01_To_2018-01-08.csv',\n",
       " 'J:\\\\Safegraph\\\\weekly_county_files\\\\weekly_patterns_2018_2021\\\\05\\\\05081\\\\05081_visitor_daytime_cbgs_2018-01-01_To_2018-01-08.csv',\n",
       " 'J:\\\\Safegraph\\\\weekly_county_files\\\\weekly_patterns_2018_2021\\\\05\\\\05083\\\\05083_visitor_daytime_cbgs_2018-01-01_To_2018-01-08.csv',\n",
       " 'J:\\\\Safegraph\\\\weekly_county_files\\\\weekly_patterns_2018_2021\\\\05\\\\05085\\\\05085_visitor_daytime_cbgs_2018-01-01_To_2018-01-08.csv',\n",
       " 'J:\\\\Safegraph\\\\weekly_county_files\\\\weekly_patterns_2018_2021\\\\05\\\\05087\\\\05087_visitor_daytime_cbgs_2018-01-01_To_2018-01-08.csv',\n",
       " 'J:\\\\Safegraph\\\\weekly_county_files\\\\weekly_patterns_2018_2021\\\\05\\\\05089\\\\05089_visitor_daytime_cbgs_2018-01-01_To_2018-01-08.csv',\n",
       " 'J:\\\\Safegraph\\\\weekly_county_files\\\\weekly_patterns_2018_2021\\\\05\\\\05091\\\\05091_visitor_daytime_cbgs_2018-01-01_To_2018-01-08.csv',\n",
       " 'J:\\\\Safegraph\\\\weekly_county_files\\\\weekly_patterns_2018_2021\\\\05\\\\05093\\\\05093_visitor_daytime_cbgs_2018-01-01_To_2018-01-08.csv',\n",
       " 'J:\\\\Safegraph\\\\weekly_county_files\\\\weekly_patterns_2018_2021\\\\05\\\\05095\\\\05095_visitor_daytime_cbgs_2018-01-01_To_2018-01-08.csv',\n",
       " 'J:\\\\Safegraph\\\\weekly_county_files\\\\weekly_patterns_2018_2021\\\\05\\\\05097\\\\05097_visitor_daytime_cbgs_2018-01-01_To_2018-01-08.csv',\n",
       " 'J:\\\\Safegraph\\\\weekly_county_files\\\\weekly_patterns_2018_2021\\\\05\\\\05099\\\\05099_visitor_daytime_cbgs_2018-01-01_To_2018-01-08.csv',\n",
       " 'J:\\\\Safegraph\\\\weekly_county_files\\\\weekly_patterns_2018_2021\\\\05\\\\05101\\\\05101_visitor_daytime_cbgs_2018-01-01_To_2018-01-08.csv',\n",
       " 'J:\\\\Safegraph\\\\weekly_county_files\\\\weekly_patterns_2018_2021\\\\05\\\\05103\\\\05103_visitor_daytime_cbgs_2018-01-01_To_2018-01-08.csv',\n",
       " 'J:\\\\Safegraph\\\\weekly_county_files\\\\weekly_patterns_2018_2021\\\\05\\\\05105\\\\05105_visitor_daytime_cbgs_2018-01-01_To_2018-01-08.csv',\n",
       " 'J:\\\\Safegraph\\\\weekly_county_files\\\\weekly_patterns_2018_2021\\\\05\\\\05107\\\\05107_visitor_daytime_cbgs_2018-01-01_To_2018-01-08.csv',\n",
       " 'J:\\\\Safegraph\\\\weekly_county_files\\\\weekly_patterns_2018_2021\\\\05\\\\05109\\\\05109_visitor_daytime_cbgs_2018-01-01_To_2018-01-08.csv',\n",
       " 'J:\\\\Safegraph\\\\weekly_county_files\\\\weekly_patterns_2018_2021\\\\05\\\\05111\\\\05111_visitor_daytime_cbgs_2018-01-01_To_2018-01-08.csv',\n",
       " 'J:\\\\Safegraph\\\\weekly_county_files\\\\weekly_patterns_2018_2021\\\\05\\\\05113\\\\05113_visitor_daytime_cbgs_2018-01-01_To_2018-01-08.csv',\n",
       " 'J:\\\\Safegraph\\\\weekly_county_files\\\\weekly_patterns_2018_2021\\\\05\\\\05115\\\\05115_visitor_daytime_cbgs_2018-01-01_To_2018-01-08.csv',\n",
       " 'J:\\\\Safegraph\\\\weekly_county_files\\\\weekly_patterns_2018_2021\\\\05\\\\05117\\\\05117_visitor_daytime_cbgs_2018-01-01_To_2018-01-08.csv',\n",
       " 'J:\\\\Safegraph\\\\weekly_county_files\\\\weekly_patterns_2018_2021\\\\05\\\\05119\\\\05119_visitor_daytime_cbgs_2018-01-01_To_2018-01-08.csv',\n",
       " 'J:\\\\Safegraph\\\\weekly_county_files\\\\weekly_patterns_2018_2021\\\\05\\\\05121\\\\05121_visitor_daytime_cbgs_2018-01-01_To_2018-01-08.csv',\n",
       " 'J:\\\\Safegraph\\\\weekly_county_files\\\\weekly_patterns_2018_2021\\\\05\\\\05123\\\\05123_visitor_daytime_cbgs_2018-01-01_To_2018-01-08.csv',\n",
       " 'J:\\\\Safegraph\\\\weekly_county_files\\\\weekly_patterns_2018_2021\\\\05\\\\05125\\\\05125_visitor_daytime_cbgs_2018-01-01_To_2018-01-08.csv',\n",
       " 'J:\\\\Safegraph\\\\weekly_county_files\\\\weekly_patterns_2018_2021\\\\05\\\\05127\\\\05127_visitor_daytime_cbgs_2018-01-01_To_2018-01-08.csv',\n",
       " 'J:\\\\Safegraph\\\\weekly_county_files\\\\weekly_patterns_2018_2021\\\\05\\\\05129\\\\05129_visitor_daytime_cbgs_2018-01-01_To_2018-01-08.csv',\n",
       " 'J:\\\\Safegraph\\\\weekly_county_files\\\\weekly_patterns_2018_2021\\\\05\\\\05131\\\\05131_visitor_daytime_cbgs_2018-01-01_To_2018-01-08.csv',\n",
       " 'J:\\\\Safegraph\\\\weekly_county_files\\\\weekly_patterns_2018_2021\\\\05\\\\05133\\\\05133_visitor_daytime_cbgs_2018-01-01_To_2018-01-08.csv',\n",
       " 'J:\\\\Safegraph\\\\weekly_county_files\\\\weekly_patterns_2018_2021\\\\05\\\\05135\\\\05135_visitor_daytime_cbgs_2018-01-01_To_2018-01-08.csv',\n",
       " 'J:\\\\Safegraph\\\\weekly_county_files\\\\weekly_patterns_2018_2021\\\\05\\\\05137\\\\05137_visitor_daytime_cbgs_2018-01-01_To_2018-01-08.csv',\n",
       " 'J:\\\\Safegraph\\\\weekly_county_files\\\\weekly_patterns_2018_2021\\\\05\\\\05139\\\\05139_visitor_daytime_cbgs_2018-01-01_To_2018-01-08.csv',\n",
       " 'J:\\\\Safegraph\\\\weekly_county_files\\\\weekly_patterns_2018_2021\\\\05\\\\05141\\\\05141_visitor_daytime_cbgs_2018-01-01_To_2018-01-08.csv',\n",
       " 'J:\\\\Safegraph\\\\weekly_county_files\\\\weekly_patterns_2018_2021\\\\05\\\\05143\\\\05143_visitor_daytime_cbgs_2018-01-01_To_2018-01-08.csv',\n",
       " 'J:\\\\Safegraph\\\\weekly_county_files\\\\weekly_patterns_2018_2021\\\\05\\\\05145\\\\05145_visitor_daytime_cbgs_2018-01-01_To_2018-01-08.csv',\n",
       " 'J:\\\\Safegraph\\\\weekly_county_files\\\\weekly_patterns_2018_2021\\\\05\\\\05147\\\\05147_visitor_daytime_cbgs_2018-01-01_To_2018-01-08.csv',\n",
       " 'J:\\\\Safegraph\\\\weekly_county_files\\\\weekly_patterns_2018_2021\\\\05\\\\05149\\\\05149_visitor_daytime_cbgs_2018-01-01_To_2018-01-08.csv',\n",
       " 'J:\\\\Safegraph\\\\weekly_county_files\\\\weekly_patterns_2018_2021\\\\06\\\\06001\\\\06001_visitor_daytime_cbgs_2018-01-01_To_2018-01-08.csv',\n",
       " 'J:\\\\Safegraph\\\\weekly_county_files\\\\weekly_patterns_2018_2021\\\\06\\\\06003\\\\06003_visitor_daytime_cbgs_2018-01-01_To_2018-01-08.csv',\n",
       " 'J:\\\\Safegraph\\\\weekly_county_files\\\\weekly_patterns_2018_2021\\\\06\\\\06005\\\\06005_visitor_daytime_cbgs_2018-01-01_To_2018-01-08.csv',\n",
       " 'J:\\\\Safegraph\\\\weekly_county_files\\\\weekly_patterns_2018_2021\\\\06\\\\06007\\\\06007_visitor_daytime_cbgs_2018-01-01_To_2018-01-08.csv',\n",
       " 'J:\\\\Safegraph\\\\weekly_county_files\\\\weekly_patterns_2018_2021\\\\06\\\\06009\\\\06009_visitor_daytime_cbgs_2018-01-01_To_2018-01-08.csv',\n",
       " 'J:\\\\Safegraph\\\\weekly_county_files\\\\weekly_patterns_2018_2021\\\\06\\\\06011\\\\06011_visitor_daytime_cbgs_2018-01-01_To_2018-01-08.csv',\n",
       " 'J:\\\\Safegraph\\\\weekly_county_files\\\\weekly_patterns_2018_2021\\\\06\\\\06013\\\\06013_visitor_daytime_cbgs_2018-01-01_To_2018-01-08.csv',\n",
       " 'J:\\\\Safegraph\\\\weekly_county_files\\\\weekly_patterns_2018_2021\\\\06\\\\06015\\\\06015_visitor_daytime_cbgs_2018-01-01_To_2018-01-08.csv',\n",
       " 'J:\\\\Safegraph\\\\weekly_county_files\\\\weekly_patterns_2018_2021\\\\06\\\\06017\\\\06017_visitor_daytime_cbgs_2018-01-01_To_2018-01-08.csv',\n",
       " 'J:\\\\Safegraph\\\\weekly_county_files\\\\weekly_patterns_2018_2021\\\\06\\\\06019\\\\06019_visitor_daytime_cbgs_2018-01-01_To_2018-01-08.csv',\n",
       " 'J:\\\\Safegraph\\\\weekly_county_files\\\\weekly_patterns_2018_2021\\\\06\\\\06021\\\\06021_visitor_daytime_cbgs_2018-01-01_To_2018-01-08.csv',\n",
       " 'J:\\\\Safegraph\\\\weekly_county_files\\\\weekly_patterns_2018_2021\\\\06\\\\06023\\\\06023_visitor_daytime_cbgs_2018-01-01_To_2018-01-08.csv',\n",
       " 'J:\\\\Safegraph\\\\weekly_county_files\\\\weekly_patterns_2018_2021\\\\06\\\\06025\\\\06025_visitor_daytime_cbgs_2018-01-01_To_2018-01-08.csv',\n",
       " 'J:\\\\Safegraph\\\\weekly_county_files\\\\weekly_patterns_2018_2021\\\\06\\\\06027\\\\06027_visitor_daytime_cbgs_2018-01-01_To_2018-01-08.csv',\n",
       " 'J:\\\\Safegraph\\\\weekly_county_files\\\\weekly_patterns_2018_2021\\\\06\\\\06029\\\\06029_visitor_daytime_cbgs_2018-01-01_To_2018-01-08.csv',\n",
       " 'J:\\\\Safegraph\\\\weekly_county_files\\\\weekly_patterns_2018_2021\\\\06\\\\06031\\\\06031_visitor_daytime_cbgs_2018-01-01_To_2018-01-08.csv',\n",
       " 'J:\\\\Safegraph\\\\weekly_county_files\\\\weekly_patterns_2018_2021\\\\06\\\\06033\\\\06033_visitor_daytime_cbgs_2018-01-01_To_2018-01-08.csv',\n",
       " 'J:\\\\Safegraph\\\\weekly_county_files\\\\weekly_patterns_2018_2021\\\\06\\\\06035\\\\06035_visitor_daytime_cbgs_2018-01-01_To_2018-01-08.csv',\n",
       " 'J:\\\\Safegraph\\\\weekly_county_files\\\\weekly_patterns_2018_2021\\\\06\\\\06037\\\\06037_visitor_daytime_cbgs_2018-01-01_To_2018-01-08.csv',\n",
       " 'J:\\\\Safegraph\\\\weekly_county_files\\\\weekly_patterns_2018_2021\\\\06\\\\06039\\\\06039_visitor_daytime_cbgs_2018-01-01_To_2018-01-08.csv',\n",
       " 'J:\\\\Safegraph\\\\weekly_county_files\\\\weekly_patterns_2018_2021\\\\06\\\\06041\\\\06041_visitor_daytime_cbgs_2018-01-01_To_2018-01-08.csv',\n",
       " 'J:\\\\Safegraph\\\\weekly_county_files\\\\weekly_patterns_2018_2021\\\\06\\\\06043\\\\06043_visitor_daytime_cbgs_2018-01-01_To_2018-01-08.csv',\n",
       " 'J:\\\\Safegraph\\\\weekly_county_files\\\\weekly_patterns_2018_2021\\\\06\\\\06045\\\\06045_visitor_daytime_cbgs_2018-01-01_To_2018-01-08.csv',\n",
       " 'J:\\\\Safegraph\\\\weekly_county_files\\\\weekly_patterns_2018_2021\\\\06\\\\06047\\\\06047_visitor_daytime_cbgs_2018-01-01_To_2018-01-08.csv',\n",
       " 'J:\\\\Safegraph\\\\weekly_county_files\\\\weekly_patterns_2018_2021\\\\06\\\\06049\\\\06049_visitor_daytime_cbgs_2018-01-01_To_2018-01-08.csv',\n",
       " 'J:\\\\Safegraph\\\\weekly_county_files\\\\weekly_patterns_2018_2021\\\\06\\\\06051\\\\06051_visitor_daytime_cbgs_2018-01-01_To_2018-01-08.csv',\n",
       " 'J:\\\\Safegraph\\\\weekly_county_files\\\\weekly_patterns_2018_2021\\\\06\\\\06053\\\\06053_visitor_daytime_cbgs_2018-01-01_To_2018-01-08.csv',\n",
       " 'J:\\\\Safegraph\\\\weekly_county_files\\\\weekly_patterns_2018_2021\\\\06\\\\06055\\\\06055_visitor_daytime_cbgs_2018-01-01_To_2018-01-08.csv',\n",
       " 'J:\\\\Safegraph\\\\weekly_county_files\\\\weekly_patterns_2018_2021\\\\06\\\\06057\\\\06057_visitor_daytime_cbgs_2018-01-01_To_2018-01-08.csv',\n",
       " 'J:\\\\Safegraph\\\\weekly_county_files\\\\weekly_patterns_2018_2021\\\\06\\\\06059\\\\06059_visitor_daytime_cbgs_2018-01-01_To_2018-01-08.csv',\n",
       " 'J:\\\\Safegraph\\\\weekly_county_files\\\\weekly_patterns_2018_2021\\\\06\\\\06061\\\\06061_visitor_daytime_cbgs_2018-01-01_To_2018-01-08.csv',\n",
       " 'J:\\\\Safegraph\\\\weekly_county_files\\\\weekly_patterns_2018_2021\\\\06\\\\06063\\\\06063_visitor_daytime_cbgs_2018-01-01_To_2018-01-08.csv',\n",
       " 'J:\\\\Safegraph\\\\weekly_county_files\\\\weekly_patterns_2018_2021\\\\06\\\\06065\\\\06065_visitor_daytime_cbgs_2018-01-01_To_2018-01-08.csv',\n",
       " 'J:\\\\Safegraph\\\\weekly_county_files\\\\weekly_patterns_2018_2021\\\\06\\\\06067\\\\06067_visitor_daytime_cbgs_2018-01-01_To_2018-01-08.csv',\n",
       " 'J:\\\\Safegraph\\\\weekly_county_files\\\\weekly_patterns_2018_2021\\\\06\\\\06069\\\\06069_visitor_daytime_cbgs_2018-01-01_To_2018-01-08.csv',\n",
       " 'J:\\\\Safegraph\\\\weekly_county_files\\\\weekly_patterns_2018_2021\\\\06\\\\06071\\\\06071_visitor_daytime_cbgs_2018-01-01_To_2018-01-08.csv',\n",
       " 'J:\\\\Safegraph\\\\weekly_county_files\\\\weekly_patterns_2018_2021\\\\06\\\\06073\\\\06073_visitor_daytime_cbgs_2018-01-01_To_2018-01-08.csv',\n",
       " 'J:\\\\Safegraph\\\\weekly_county_files\\\\weekly_patterns_2018_2021\\\\06\\\\06075\\\\06075_visitor_daytime_cbgs_2018-01-01_To_2018-01-08.csv',\n",
       " 'J:\\\\Safegraph\\\\weekly_county_files\\\\weekly_patterns_2018_2021\\\\06\\\\06077\\\\06077_visitor_daytime_cbgs_2018-01-01_To_2018-01-08.csv',\n",
       " 'J:\\\\Safegraph\\\\weekly_county_files\\\\weekly_patterns_2018_2021\\\\06\\\\06079\\\\06079_visitor_daytime_cbgs_2018-01-01_To_2018-01-08.csv',\n",
       " 'J:\\\\Safegraph\\\\weekly_county_files\\\\weekly_patterns_2018_2021\\\\06\\\\06081\\\\06081_visitor_daytime_cbgs_2018-01-01_To_2018-01-08.csv',\n",
       " 'J:\\\\Safegraph\\\\weekly_county_files\\\\weekly_patterns_2018_2021\\\\06\\\\06083\\\\06083_visitor_daytime_cbgs_2018-01-01_To_2018-01-08.csv',\n",
       " 'J:\\\\Safegraph\\\\weekly_county_files\\\\weekly_patterns_2018_2021\\\\06\\\\06085\\\\06085_visitor_daytime_cbgs_2018-01-01_To_2018-01-08.csv',\n",
       " 'J:\\\\Safegraph\\\\weekly_county_files\\\\weekly_patterns_2018_2021\\\\06\\\\06087\\\\06087_visitor_daytime_cbgs_2018-01-01_To_2018-01-08.csv',\n",
       " 'J:\\\\Safegraph\\\\weekly_county_files\\\\weekly_patterns_2018_2021\\\\06\\\\06089\\\\06089_visitor_daytime_cbgs_2018-01-01_To_2018-01-08.csv',\n",
       " 'J:\\\\Safegraph\\\\weekly_county_files\\\\weekly_patterns_2018_2021\\\\06\\\\06091\\\\06091_visitor_daytime_cbgs_2018-01-01_To_2018-01-08.csv',\n",
       " 'J:\\\\Safegraph\\\\weekly_county_files\\\\weekly_patterns_2018_2021\\\\06\\\\06093\\\\06093_visitor_daytime_cbgs_2018-01-01_To_2018-01-08.csv',\n",
       " 'J:\\\\Safegraph\\\\weekly_county_files\\\\weekly_patterns_2018_2021\\\\06\\\\06095\\\\06095_visitor_daytime_cbgs_2018-01-01_To_2018-01-08.csv',\n",
       " 'J:\\\\Safegraph\\\\weekly_county_files\\\\weekly_patterns_2018_2021\\\\06\\\\06097\\\\06097_visitor_daytime_cbgs_2018-01-01_To_2018-01-08.csv',\n",
       " 'J:\\\\Safegraph\\\\weekly_county_files\\\\weekly_patterns_2018_2021\\\\06\\\\06099\\\\06099_visitor_daytime_cbgs_2018-01-01_To_2018-01-08.csv',\n",
       " 'J:\\\\Safegraph\\\\weekly_county_files\\\\weekly_patterns_2018_2021\\\\06\\\\06101\\\\06101_visitor_daytime_cbgs_2018-01-01_To_2018-01-08.csv',\n",
       " 'J:\\\\Safegraph\\\\weekly_county_files\\\\weekly_patterns_2018_2021\\\\06\\\\06103\\\\06103_visitor_daytime_cbgs_2018-01-01_To_2018-01-08.csv',\n",
       " 'J:\\\\Safegraph\\\\weekly_county_files\\\\weekly_patterns_2018_2021\\\\06\\\\06105\\\\06105_visitor_daytime_cbgs_2018-01-01_To_2018-01-08.csv',\n",
       " 'J:\\\\Safegraph\\\\weekly_county_files\\\\weekly_patterns_2018_2021\\\\06\\\\06107\\\\06107_visitor_daytime_cbgs_2018-01-01_To_2018-01-08.csv',\n",
       " 'J:\\\\Safegraph\\\\weekly_county_files\\\\weekly_patterns_2018_2021\\\\06\\\\06109\\\\06109_visitor_daytime_cbgs_2018-01-01_To_2018-01-08.csv',\n",
       " 'J:\\\\Safegraph\\\\weekly_county_files\\\\weekly_patterns_2018_2021\\\\06\\\\06111\\\\06111_visitor_daytime_cbgs_2018-01-01_To_2018-01-08.csv',\n",
       " 'J:\\\\Safegraph\\\\weekly_county_files\\\\weekly_patterns_2018_2021\\\\06\\\\06113\\\\06113_visitor_daytime_cbgs_2018-01-01_To_2018-01-08.csv',\n",
       " 'J:\\\\Safegraph\\\\weekly_county_files\\\\weekly_patterns_2018_2021\\\\06\\\\06115\\\\06115_visitor_daytime_cbgs_2018-01-01_To_2018-01-08.csv',\n",
       " 'J:\\\\Safegraph\\\\weekly_county_files\\\\weekly_patterns_2018_2021\\\\08\\\\08001\\\\08001_visitor_daytime_cbgs_2018-01-01_To_2018-01-08.csv',\n",
       " 'J:\\\\Safegraph\\\\weekly_county_files\\\\weekly_patterns_2018_2021\\\\08\\\\08003\\\\08003_visitor_daytime_cbgs_2018-01-01_To_2018-01-08.csv',\n",
       " 'J:\\\\Safegraph\\\\weekly_county_files\\\\weekly_patterns_2018_2021\\\\08\\\\08005\\\\08005_visitor_daytime_cbgs_2018-01-01_To_2018-01-08.csv',\n",
       " 'J:\\\\Safegraph\\\\weekly_county_files\\\\weekly_patterns_2018_2021\\\\08\\\\08007\\\\08007_visitor_daytime_cbgs_2018-01-01_To_2018-01-08.csv',\n",
       " 'J:\\\\Safegraph\\\\weekly_county_files\\\\weekly_patterns_2018_2021\\\\08\\\\08009\\\\08009_visitor_daytime_cbgs_2018-01-01_To_2018-01-08.csv',\n",
       " 'J:\\\\Safegraph\\\\weekly_county_files\\\\weekly_patterns_2018_2021\\\\08\\\\08011\\\\08011_visitor_daytime_cbgs_2018-01-01_To_2018-01-08.csv',\n",
       " 'J:\\\\Safegraph\\\\weekly_county_files\\\\weekly_patterns_2018_2021\\\\08\\\\08013\\\\08013_visitor_daytime_cbgs_2018-01-01_To_2018-01-08.csv',\n",
       " 'J:\\\\Safegraph\\\\weekly_county_files\\\\weekly_patterns_2018_2021\\\\08\\\\08014\\\\08014_visitor_daytime_cbgs_2018-01-01_To_2018-01-08.csv',\n",
       " 'J:\\\\Safegraph\\\\weekly_county_files\\\\weekly_patterns_2018_2021\\\\08\\\\08015\\\\08015_visitor_daytime_cbgs_2018-01-01_To_2018-01-08.csv',\n",
       " 'J:\\\\Safegraph\\\\weekly_county_files\\\\weekly_patterns_2018_2021\\\\08\\\\08017\\\\08017_visitor_daytime_cbgs_2018-01-01_To_2018-01-08.csv',\n",
       " 'J:\\\\Safegraph\\\\weekly_county_files\\\\weekly_patterns_2018_2021\\\\08\\\\08019\\\\08019_visitor_daytime_cbgs_2018-01-01_To_2018-01-08.csv',\n",
       " 'J:\\\\Safegraph\\\\weekly_county_files\\\\weekly_patterns_2018_2021\\\\08\\\\08021\\\\08021_visitor_daytime_cbgs_2018-01-01_To_2018-01-08.csv',\n",
       " 'J:\\\\Safegraph\\\\weekly_county_files\\\\weekly_patterns_2018_2021\\\\08\\\\08023\\\\08023_visitor_daytime_cbgs_2018-01-01_To_2018-01-08.csv',\n",
       " 'J:\\\\Safegraph\\\\weekly_county_files\\\\weekly_patterns_2018_2021\\\\08\\\\08025\\\\08025_visitor_daytime_cbgs_2018-01-01_To_2018-01-08.csv',\n",
       " 'J:\\\\Safegraph\\\\weekly_county_files\\\\weekly_patterns_2018_2021\\\\08\\\\08027\\\\08027_visitor_daytime_cbgs_2018-01-01_To_2018-01-08.csv',\n",
       " 'J:\\\\Safegraph\\\\weekly_county_files\\\\weekly_patterns_2018_2021\\\\08\\\\08029\\\\08029_visitor_daytime_cbgs_2018-01-01_To_2018-01-08.csv',\n",
       " 'J:\\\\Safegraph\\\\weekly_county_files\\\\weekly_patterns_2018_2021\\\\08\\\\08031\\\\08031_visitor_daytime_cbgs_2018-01-01_To_2018-01-08.csv',\n",
       " 'J:\\\\Safegraph\\\\weekly_county_files\\\\weekly_patterns_2018_2021\\\\08\\\\08033\\\\08033_visitor_daytime_cbgs_2018-01-01_To_2018-01-08.csv',\n",
       " 'J:\\\\Safegraph\\\\weekly_county_files\\\\weekly_patterns_2018_2021\\\\08\\\\08035\\\\08035_visitor_daytime_cbgs_2018-01-01_To_2018-01-08.csv',\n",
       " 'J:\\\\Safegraph\\\\weekly_county_files\\\\weekly_patterns_2018_2021\\\\08\\\\08037\\\\08037_visitor_daytime_cbgs_2018-01-01_To_2018-01-08.csv',\n",
       " 'J:\\\\Safegraph\\\\weekly_county_files\\\\weekly_patterns_2018_2021\\\\08\\\\08039\\\\08039_visitor_daytime_cbgs_2018-01-01_To_2018-01-08.csv',\n",
       " 'J:\\\\Safegraph\\\\weekly_county_files\\\\weekly_patterns_2018_2021\\\\08\\\\08041\\\\08041_visitor_daytime_cbgs_2018-01-01_To_2018-01-08.csv',\n",
       " 'J:\\\\Safegraph\\\\weekly_county_files\\\\weekly_patterns_2018_2021\\\\08\\\\08043\\\\08043_visitor_daytime_cbgs_2018-01-01_To_2018-01-08.csv',\n",
       " 'J:\\\\Safegraph\\\\weekly_county_files\\\\weekly_patterns_2018_2021\\\\08\\\\08045\\\\08045_visitor_daytime_cbgs_2018-01-01_To_2018-01-08.csv',\n",
       " 'J:\\\\Safegraph\\\\weekly_county_files\\\\weekly_patterns_2018_2021\\\\08\\\\08047\\\\08047_visitor_daytime_cbgs_2018-01-01_To_2018-01-08.csv',\n",
       " 'J:\\\\Safegraph\\\\weekly_county_files\\\\weekly_patterns_2018_2021\\\\08\\\\08049\\\\08049_visitor_daytime_cbgs_2018-01-01_To_2018-01-08.csv',\n",
       " 'J:\\\\Safegraph\\\\weekly_county_files\\\\weekly_patterns_2018_2021\\\\08\\\\08051\\\\08051_visitor_daytime_cbgs_2018-01-01_To_2018-01-08.csv',\n",
       " 'J:\\\\Safegraph\\\\weekly_county_files\\\\weekly_patterns_2018_2021\\\\08\\\\08053\\\\08053_visitor_daytime_cbgs_2018-01-01_To_2018-01-08.csv',\n",
       " 'J:\\\\Safegraph\\\\weekly_county_files\\\\weekly_patterns_2018_2021\\\\08\\\\08055\\\\08055_visitor_daytime_cbgs_2018-01-01_To_2018-01-08.csv',\n",
       " 'J:\\\\Safegraph\\\\weekly_county_files\\\\weekly_patterns_2018_2021\\\\08\\\\08057\\\\08057_visitor_daytime_cbgs_2018-01-01_To_2018-01-08.csv',\n",
       " 'J:\\\\Safegraph\\\\weekly_county_files\\\\weekly_patterns_2018_2021\\\\08\\\\08059\\\\08059_visitor_daytime_cbgs_2018-01-01_To_2018-01-08.csv',\n",
       " 'J:\\\\Safegraph\\\\weekly_county_files\\\\weekly_patterns_2018_2021\\\\08\\\\08061\\\\08061_visitor_daytime_cbgs_2018-01-01_To_2018-01-08.csv',\n",
       " 'J:\\\\Safegraph\\\\weekly_county_files\\\\weekly_patterns_2018_2021\\\\08\\\\08063\\\\08063_visitor_daytime_cbgs_2018-01-01_To_2018-01-08.csv',\n",
       " 'J:\\\\Safegraph\\\\weekly_county_files\\\\weekly_patterns_2018_2021\\\\08\\\\08065\\\\08065_visitor_daytime_cbgs_2018-01-01_To_2018-01-08.csv',\n",
       " 'J:\\\\Safegraph\\\\weekly_county_files\\\\weekly_patterns_2018_2021\\\\08\\\\08067\\\\08067_visitor_daytime_cbgs_2018-01-01_To_2018-01-08.csv',\n",
       " 'J:\\\\Safegraph\\\\weekly_county_files\\\\weekly_patterns_2018_2021\\\\08\\\\08069\\\\08069_visitor_daytime_cbgs_2018-01-01_To_2018-01-08.csv',\n",
       " 'J:\\\\Safegraph\\\\weekly_county_files\\\\weekly_patterns_2018_2021\\\\08\\\\08071\\\\08071_visitor_daytime_cbgs_2018-01-01_To_2018-01-08.csv',\n",
       " 'J:\\\\Safegraph\\\\weekly_county_files\\\\weekly_patterns_2018_2021\\\\08\\\\08073\\\\08073_visitor_daytime_cbgs_2018-01-01_To_2018-01-08.csv',\n",
       " 'J:\\\\Safegraph\\\\weekly_county_files\\\\weekly_patterns_2018_2021\\\\08\\\\08075\\\\08075_visitor_daytime_cbgs_2018-01-01_To_2018-01-08.csv',\n",
       " 'J:\\\\Safegraph\\\\weekly_county_files\\\\weekly_patterns_2018_2021\\\\08\\\\08077\\\\08077_visitor_daytime_cbgs_2018-01-01_To_2018-01-08.csv',\n",
       " 'J:\\\\Safegraph\\\\weekly_county_files\\\\weekly_patterns_2018_2021\\\\08\\\\08079\\\\08079_visitor_daytime_cbgs_2018-01-01_To_2018-01-08.csv',\n",
       " 'J:\\\\Safegraph\\\\weekly_county_files\\\\weekly_patterns_2018_2021\\\\08\\\\08081\\\\08081_visitor_daytime_cbgs_2018-01-01_To_2018-01-08.csv',\n",
       " 'J:\\\\Safegraph\\\\weekly_county_files\\\\weekly_patterns_2018_2021\\\\08\\\\08083\\\\08083_visitor_daytime_cbgs_2018-01-01_To_2018-01-08.csv',\n",
       " 'J:\\\\Safegraph\\\\weekly_county_files\\\\weekly_patterns_2018_2021\\\\08\\\\08085\\\\08085_visitor_daytime_cbgs_2018-01-01_To_2018-01-08.csv',\n",
       " 'J:\\\\Safegraph\\\\weekly_county_files\\\\weekly_patterns_2018_2021\\\\08\\\\08087\\\\08087_visitor_daytime_cbgs_2018-01-01_To_2018-01-08.csv',\n",
       " 'J:\\\\Safegraph\\\\weekly_county_files\\\\weekly_patterns_2018_2021\\\\08\\\\08089\\\\08089_visitor_daytime_cbgs_2018-01-01_To_2018-01-08.csv',\n",
       " 'J:\\\\Safegraph\\\\weekly_county_files\\\\weekly_patterns_2018_2021\\\\08\\\\08091\\\\08091_visitor_daytime_cbgs_2018-01-01_To_2018-01-08.csv',\n",
       " 'J:\\\\Safegraph\\\\weekly_county_files\\\\weekly_patterns_2018_2021\\\\08\\\\08093\\\\08093_visitor_daytime_cbgs_2018-01-01_To_2018-01-08.csv',\n",
       " 'J:\\\\Safegraph\\\\weekly_county_files\\\\weekly_patterns_2018_2021\\\\08\\\\08095\\\\08095_visitor_daytime_cbgs_2018-01-01_To_2018-01-08.csv',\n",
       " 'J:\\\\Safegraph\\\\weekly_county_files\\\\weekly_patterns_2018_2021\\\\08\\\\08097\\\\08097_visitor_daytime_cbgs_2018-01-01_To_2018-01-08.csv',\n",
       " 'J:\\\\Safegraph\\\\weekly_county_files\\\\weekly_patterns_2018_2021\\\\08\\\\08099\\\\08099_visitor_daytime_cbgs_2018-01-01_To_2018-01-08.csv',\n",
       " 'J:\\\\Safegraph\\\\weekly_county_files\\\\weekly_patterns_2018_2021\\\\08\\\\08101\\\\08101_visitor_daytime_cbgs_2018-01-01_To_2018-01-08.csv',\n",
       " 'J:\\\\Safegraph\\\\weekly_county_files\\\\weekly_patterns_2018_2021\\\\08\\\\08103\\\\08103_visitor_daytime_cbgs_2018-01-01_To_2018-01-08.csv',\n",
       " 'J:\\\\Safegraph\\\\weekly_county_files\\\\weekly_patterns_2018_2021\\\\08\\\\08105\\\\08105_visitor_daytime_cbgs_2018-01-01_To_2018-01-08.csv',\n",
       " 'J:\\\\Safegraph\\\\weekly_county_files\\\\weekly_patterns_2018_2021\\\\08\\\\08107\\\\08107_visitor_daytime_cbgs_2018-01-01_To_2018-01-08.csv',\n",
       " 'J:\\\\Safegraph\\\\weekly_county_files\\\\weekly_patterns_2018_2021\\\\08\\\\08109\\\\08109_visitor_daytime_cbgs_2018-01-01_To_2018-01-08.csv',\n",
       " 'J:\\\\Safegraph\\\\weekly_county_files\\\\weekly_patterns_2018_2021\\\\08\\\\08111\\\\08111_visitor_daytime_cbgs_2018-01-01_To_2018-01-08.csv',\n",
       " 'J:\\\\Safegraph\\\\weekly_county_files\\\\weekly_patterns_2018_2021\\\\08\\\\08113\\\\08113_visitor_daytime_cbgs_2018-01-01_To_2018-01-08.csv',\n",
       " 'J:\\\\Safegraph\\\\weekly_county_files\\\\weekly_patterns_2018_2021\\\\08\\\\08115\\\\08115_visitor_daytime_cbgs_2018-01-01_To_2018-01-08.csv',\n",
       " 'J:\\\\Safegraph\\\\weekly_county_files\\\\weekly_patterns_2018_2021\\\\08\\\\08117\\\\08117_visitor_daytime_cbgs_2018-01-01_To_2018-01-08.csv',\n",
       " 'J:\\\\Safegraph\\\\weekly_county_files\\\\weekly_patterns_2018_2021\\\\08\\\\08119\\\\08119_visitor_daytime_cbgs_2018-01-01_To_2018-01-08.csv',\n",
       " 'J:\\\\Safegraph\\\\weekly_county_files\\\\weekly_patterns_2018_2021\\\\08\\\\08121\\\\08121_visitor_daytime_cbgs_2018-01-01_To_2018-01-08.csv',\n",
       " 'J:\\\\Safegraph\\\\weekly_county_files\\\\weekly_patterns_2018_2021\\\\08\\\\08123\\\\08123_visitor_daytime_cbgs_2018-01-01_To_2018-01-08.csv',\n",
       " 'J:\\\\Safegraph\\\\weekly_county_files\\\\weekly_patterns_2018_2021\\\\08\\\\08125\\\\08125_visitor_daytime_cbgs_2018-01-01_To_2018-01-08.csv',\n",
       " 'J:\\\\Safegraph\\\\weekly_county_files\\\\weekly_patterns_2018_2021\\\\09\\\\09001\\\\09001_visitor_daytime_cbgs_2018-01-01_To_2018-01-08.csv',\n",
       " 'J:\\\\Safegraph\\\\weekly_county_files\\\\weekly_patterns_2018_2021\\\\09\\\\09003\\\\09003_visitor_daytime_cbgs_2018-01-01_To_2018-01-08.csv',\n",
       " 'J:\\\\Safegraph\\\\weekly_county_files\\\\weekly_patterns_2018_2021\\\\09\\\\09005\\\\09005_visitor_daytime_cbgs_2018-01-01_To_2018-01-08.csv',\n",
       " 'J:\\\\Safegraph\\\\weekly_county_files\\\\weekly_patterns_2018_2021\\\\09\\\\09007\\\\09007_visitor_daytime_cbgs_2018-01-01_To_2018-01-08.csv',\n",
       " 'J:\\\\Safegraph\\\\weekly_county_files\\\\weekly_patterns_2018_2021\\\\09\\\\09009\\\\09009_visitor_daytime_cbgs_2018-01-01_To_2018-01-08.csv',\n",
       " 'J:\\\\Safegraph\\\\weekly_county_files\\\\weekly_patterns_2018_2021\\\\09\\\\09011\\\\09011_visitor_daytime_cbgs_2018-01-01_To_2018-01-08.csv',\n",
       " 'J:\\\\Safegraph\\\\weekly_county_files\\\\weekly_patterns_2018_2021\\\\09\\\\09013\\\\09013_visitor_daytime_cbgs_2018-01-01_To_2018-01-08.csv',\n",
       " 'J:\\\\Safegraph\\\\weekly_county_files\\\\weekly_patterns_2018_2021\\\\09\\\\09015\\\\09015_visitor_daytime_cbgs_2018-01-01_To_2018-01-08.csv',\n",
       " 'J:\\\\Safegraph\\\\weekly_county_files\\\\weekly_patterns_2018_2021\\\\10\\\\10001\\\\10001_visitor_daytime_cbgs_2018-01-01_To_2018-01-08.csv',\n",
       " 'J:\\\\Safegraph\\\\weekly_county_files\\\\weekly_patterns_2018_2021\\\\10\\\\10003\\\\10003_visitor_daytime_cbgs_2018-01-01_To_2018-01-08.csv',\n",
       " 'J:\\\\Safegraph\\\\weekly_county_files\\\\weekly_patterns_2018_2021\\\\10\\\\10005\\\\10005_visitor_daytime_cbgs_2018-01-01_To_2018-01-08.csv',\n",
       " 'J:\\\\Safegraph\\\\weekly_county_files\\\\weekly_patterns_2018_2021\\\\11\\\\11001\\\\11001_visitor_daytime_cbgs_2018-01-01_To_2018-01-08.csv',\n",
       " 'J:\\\\Safegraph\\\\weekly_county_files\\\\weekly_patterns_2018_2021\\\\12\\\\12001\\\\12001_visitor_daytime_cbgs_2018-01-01_To_2018-01-08.csv',\n",
       " 'J:\\\\Safegraph\\\\weekly_county_files\\\\weekly_patterns_2018_2021\\\\12\\\\12003\\\\12003_visitor_daytime_cbgs_2018-01-01_To_2018-01-08.csv',\n",
       " 'J:\\\\Safegraph\\\\weekly_county_files\\\\weekly_patterns_2018_2021\\\\12\\\\12005\\\\12005_visitor_daytime_cbgs_2018-01-01_To_2018-01-08.csv',\n",
       " 'J:\\\\Safegraph\\\\weekly_county_files\\\\weekly_patterns_2018_2021\\\\12\\\\12007\\\\12007_visitor_daytime_cbgs_2018-01-01_To_2018-01-08.csv',\n",
       " 'J:\\\\Safegraph\\\\weekly_county_files\\\\weekly_patterns_2018_2021\\\\12\\\\12009\\\\12009_visitor_daytime_cbgs_2018-01-01_To_2018-01-08.csv',\n",
       " 'J:\\\\Safegraph\\\\weekly_county_files\\\\weekly_patterns_2018_2021\\\\12\\\\12011\\\\12011_visitor_daytime_cbgs_2018-01-01_To_2018-01-08.csv',\n",
       " 'J:\\\\Safegraph\\\\weekly_county_files\\\\weekly_patterns_2018_2021\\\\12\\\\12013\\\\12013_visitor_daytime_cbgs_2018-01-01_To_2018-01-08.csv',\n",
       " 'J:\\\\Safegraph\\\\weekly_county_files\\\\weekly_patterns_2018_2021\\\\12\\\\12015\\\\12015_visitor_daytime_cbgs_2018-01-01_To_2018-01-08.csv',\n",
       " 'J:\\\\Safegraph\\\\weekly_county_files\\\\weekly_patterns_2018_2021\\\\12\\\\12017\\\\12017_visitor_daytime_cbgs_2018-01-01_To_2018-01-08.csv',\n",
       " 'J:\\\\Safegraph\\\\weekly_county_files\\\\weekly_patterns_2018_2021\\\\12\\\\12019\\\\12019_visitor_daytime_cbgs_2018-01-01_To_2018-01-08.csv',\n",
       " 'J:\\\\Safegraph\\\\weekly_county_files\\\\weekly_patterns_2018_2021\\\\12\\\\12021\\\\12021_visitor_daytime_cbgs_2018-01-01_To_2018-01-08.csv',\n",
       " 'J:\\\\Safegraph\\\\weekly_county_files\\\\weekly_patterns_2018_2021\\\\12\\\\12023\\\\12023_visitor_daytime_cbgs_2018-01-01_To_2018-01-08.csv',\n",
       " 'J:\\\\Safegraph\\\\weekly_county_files\\\\weekly_patterns_2018_2021\\\\12\\\\12027\\\\12027_visitor_daytime_cbgs_2018-01-01_To_2018-01-08.csv',\n",
       " 'J:\\\\Safegraph\\\\weekly_county_files\\\\weekly_patterns_2018_2021\\\\12\\\\12029\\\\12029_visitor_daytime_cbgs_2018-01-01_To_2018-01-08.csv',\n",
       " 'J:\\\\Safegraph\\\\weekly_county_files\\\\weekly_patterns_2018_2021\\\\12\\\\12031\\\\12031_visitor_daytime_cbgs_2018-01-01_To_2018-01-08.csv',\n",
       " 'J:\\\\Safegraph\\\\weekly_county_files\\\\weekly_patterns_2018_2021\\\\12\\\\12033\\\\12033_visitor_daytime_cbgs_2018-01-01_To_2018-01-08.csv',\n",
       " 'J:\\\\Safegraph\\\\weekly_county_files\\\\weekly_patterns_2018_2021\\\\12\\\\12035\\\\12035_visitor_daytime_cbgs_2018-01-01_To_2018-01-08.csv',\n",
       " 'J:\\\\Safegraph\\\\weekly_county_files\\\\weekly_patterns_2018_2021\\\\12\\\\12037\\\\12037_visitor_daytime_cbgs_2018-01-01_To_2018-01-08.csv',\n",
       " 'J:\\\\Safegraph\\\\weekly_county_files\\\\weekly_patterns_2018_2021\\\\12\\\\12039\\\\12039_visitor_daytime_cbgs_2018-01-01_To_2018-01-08.csv',\n",
       " 'J:\\\\Safegraph\\\\weekly_county_files\\\\weekly_patterns_2018_2021\\\\12\\\\12041\\\\12041_visitor_daytime_cbgs_2018-01-01_To_2018-01-08.csv',\n",
       " 'J:\\\\Safegraph\\\\weekly_county_files\\\\weekly_patterns_2018_2021\\\\12\\\\12043\\\\12043_visitor_daytime_cbgs_2018-01-01_To_2018-01-08.csv',\n",
       " 'J:\\\\Safegraph\\\\weekly_county_files\\\\weekly_patterns_2018_2021\\\\12\\\\12045\\\\12045_visitor_daytime_cbgs_2018-01-01_To_2018-01-08.csv',\n",
       " 'J:\\\\Safegraph\\\\weekly_county_files\\\\weekly_patterns_2018_2021\\\\12\\\\12047\\\\12047_visitor_daytime_cbgs_2018-01-01_To_2018-01-08.csv',\n",
       " 'J:\\\\Safegraph\\\\weekly_county_files\\\\weekly_patterns_2018_2021\\\\12\\\\12049\\\\12049_visitor_daytime_cbgs_2018-01-01_To_2018-01-08.csv',\n",
       " 'J:\\\\Safegraph\\\\weekly_county_files\\\\weekly_patterns_2018_2021\\\\12\\\\12051\\\\12051_visitor_daytime_cbgs_2018-01-01_To_2018-01-08.csv',\n",
       " 'J:\\\\Safegraph\\\\weekly_county_files\\\\weekly_patterns_2018_2021\\\\12\\\\12053\\\\12053_visitor_daytime_cbgs_2018-01-01_To_2018-01-08.csv',\n",
       " 'J:\\\\Safegraph\\\\weekly_county_files\\\\weekly_patterns_2018_2021\\\\12\\\\12055\\\\12055_visitor_daytime_cbgs_2018-01-01_To_2018-01-08.csv',\n",
       " 'J:\\\\Safegraph\\\\weekly_county_files\\\\weekly_patterns_2018_2021\\\\12\\\\12057\\\\12057_visitor_daytime_cbgs_2018-01-01_To_2018-01-08.csv',\n",
       " 'J:\\\\Safegraph\\\\weekly_county_files\\\\weekly_patterns_2018_2021\\\\12\\\\12059\\\\12059_visitor_daytime_cbgs_2018-01-01_To_2018-01-08.csv',\n",
       " 'J:\\\\Safegraph\\\\weekly_county_files\\\\weekly_patterns_2018_2021\\\\12\\\\12061\\\\12061_visitor_daytime_cbgs_2018-01-01_To_2018-01-08.csv',\n",
       " 'J:\\\\Safegraph\\\\weekly_county_files\\\\weekly_patterns_2018_2021\\\\12\\\\12063\\\\12063_visitor_daytime_cbgs_2018-01-01_To_2018-01-08.csv',\n",
       " 'J:\\\\Safegraph\\\\weekly_county_files\\\\weekly_patterns_2018_2021\\\\12\\\\12065\\\\12065_visitor_daytime_cbgs_2018-01-01_To_2018-01-08.csv',\n",
       " 'J:\\\\Safegraph\\\\weekly_county_files\\\\weekly_patterns_2018_2021\\\\12\\\\12067\\\\12067_visitor_daytime_cbgs_2018-01-01_To_2018-01-08.csv',\n",
       " 'J:\\\\Safegraph\\\\weekly_county_files\\\\weekly_patterns_2018_2021\\\\12\\\\12069\\\\12069_visitor_daytime_cbgs_2018-01-01_To_2018-01-08.csv',\n",
       " 'J:\\\\Safegraph\\\\weekly_county_files\\\\weekly_patterns_2018_2021\\\\12\\\\12071\\\\12071_visitor_daytime_cbgs_2018-01-01_To_2018-01-08.csv',\n",
       " 'J:\\\\Safegraph\\\\weekly_county_files\\\\weekly_patterns_2018_2021\\\\12\\\\12073\\\\12073_visitor_daytime_cbgs_2018-01-01_To_2018-01-08.csv',\n",
       " 'J:\\\\Safegraph\\\\weekly_county_files\\\\weekly_patterns_2018_2021\\\\12\\\\12075\\\\12075_visitor_daytime_cbgs_2018-01-01_To_2018-01-08.csv',\n",
       " 'J:\\\\Safegraph\\\\weekly_county_files\\\\weekly_patterns_2018_2021\\\\12\\\\12077\\\\12077_visitor_daytime_cbgs_2018-01-01_To_2018-01-08.csv',\n",
       " 'J:\\\\Safegraph\\\\weekly_county_files\\\\weekly_patterns_2018_2021\\\\12\\\\12079\\\\12079_visitor_daytime_cbgs_2018-01-01_To_2018-01-08.csv',\n",
       " 'J:\\\\Safegraph\\\\weekly_county_files\\\\weekly_patterns_2018_2021\\\\12\\\\12081\\\\12081_visitor_daytime_cbgs_2018-01-01_To_2018-01-08.csv',\n",
       " 'J:\\\\Safegraph\\\\weekly_county_files\\\\weekly_patterns_2018_2021\\\\12\\\\12083\\\\12083_visitor_daytime_cbgs_2018-01-01_To_2018-01-08.csv',\n",
       " 'J:\\\\Safegraph\\\\weekly_county_files\\\\weekly_patterns_2018_2021\\\\12\\\\12085\\\\12085_visitor_daytime_cbgs_2018-01-01_To_2018-01-08.csv',\n",
       " 'J:\\\\Safegraph\\\\weekly_county_files\\\\weekly_patterns_2018_2021\\\\12\\\\12086\\\\12086_visitor_daytime_cbgs_2018-01-01_To_2018-01-08.csv',\n",
       " 'J:\\\\Safegraph\\\\weekly_county_files\\\\weekly_patterns_2018_2021\\\\12\\\\12087\\\\12087_visitor_daytime_cbgs_2018-01-01_To_2018-01-08.csv',\n",
       " 'J:\\\\Safegraph\\\\weekly_county_files\\\\weekly_patterns_2018_2021\\\\12\\\\12089\\\\12089_visitor_daytime_cbgs_2018-01-01_To_2018-01-08.csv',\n",
       " 'J:\\\\Safegraph\\\\weekly_county_files\\\\weekly_patterns_2018_2021\\\\12\\\\12091\\\\12091_visitor_daytime_cbgs_2018-01-01_To_2018-01-08.csv',\n",
       " 'J:\\\\Safegraph\\\\weekly_county_files\\\\weekly_patterns_2018_2021\\\\12\\\\12093\\\\12093_visitor_daytime_cbgs_2018-01-01_To_2018-01-08.csv',\n",
       " 'J:\\\\Safegraph\\\\weekly_county_files\\\\weekly_patterns_2018_2021\\\\12\\\\12095\\\\12095_visitor_daytime_cbgs_2018-01-01_To_2018-01-08.csv',\n",
       " 'J:\\\\Safegraph\\\\weekly_county_files\\\\weekly_patterns_2018_2021\\\\12\\\\12097\\\\12097_visitor_daytime_cbgs_2018-01-01_To_2018-01-08.csv',\n",
       " 'J:\\\\Safegraph\\\\weekly_county_files\\\\weekly_patterns_2018_2021\\\\12\\\\12099\\\\12099_visitor_daytime_cbgs_2018-01-01_To_2018-01-08.csv',\n",
       " 'J:\\\\Safegraph\\\\weekly_county_files\\\\weekly_patterns_2018_2021\\\\12\\\\12101\\\\12101_visitor_daytime_cbgs_2018-01-01_To_2018-01-08.csv',\n",
       " 'J:\\\\Safegraph\\\\weekly_county_files\\\\weekly_patterns_2018_2021\\\\12\\\\12103\\\\12103_visitor_daytime_cbgs_2018-01-01_To_2018-01-08.csv',\n",
       " 'J:\\\\Safegraph\\\\weekly_county_files\\\\weekly_patterns_2018_2021\\\\12\\\\12105\\\\12105_visitor_daytime_cbgs_2018-01-01_To_2018-01-08.csv',\n",
       " 'J:\\\\Safegraph\\\\weekly_county_files\\\\weekly_patterns_2018_2021\\\\12\\\\12107\\\\12107_visitor_daytime_cbgs_2018-01-01_To_2018-01-08.csv',\n",
       " 'J:\\\\Safegraph\\\\weekly_county_files\\\\weekly_patterns_2018_2021\\\\12\\\\12109\\\\12109_visitor_daytime_cbgs_2018-01-01_To_2018-01-08.csv',\n",
       " 'J:\\\\Safegraph\\\\weekly_county_files\\\\weekly_patterns_2018_2021\\\\12\\\\12111\\\\12111_visitor_daytime_cbgs_2018-01-01_To_2018-01-08.csv',\n",
       " 'J:\\\\Safegraph\\\\weekly_county_files\\\\weekly_patterns_2018_2021\\\\12\\\\12113\\\\12113_visitor_daytime_cbgs_2018-01-01_To_2018-01-08.csv',\n",
       " 'J:\\\\Safegraph\\\\weekly_county_files\\\\weekly_patterns_2018_2021\\\\12\\\\12115\\\\12115_visitor_daytime_cbgs_2018-01-01_To_2018-01-08.csv',\n",
       " 'J:\\\\Safegraph\\\\weekly_county_files\\\\weekly_patterns_2018_2021\\\\12\\\\12117\\\\12117_visitor_daytime_cbgs_2018-01-01_To_2018-01-08.csv',\n",
       " 'J:\\\\Safegraph\\\\weekly_county_files\\\\weekly_patterns_2018_2021\\\\12\\\\12119\\\\12119_visitor_daytime_cbgs_2018-01-01_To_2018-01-08.csv',\n",
       " 'J:\\\\Safegraph\\\\weekly_county_files\\\\weekly_patterns_2018_2021\\\\12\\\\12121\\\\12121_visitor_daytime_cbgs_2018-01-01_To_2018-01-08.csv',\n",
       " 'J:\\\\Safegraph\\\\weekly_county_files\\\\weekly_patterns_2018_2021\\\\12\\\\12123\\\\12123_visitor_daytime_cbgs_2018-01-01_To_2018-01-08.csv',\n",
       " 'J:\\\\Safegraph\\\\weekly_county_files\\\\weekly_patterns_2018_2021\\\\12\\\\12125\\\\12125_visitor_daytime_cbgs_2018-01-01_To_2018-01-08.csv',\n",
       " 'J:\\\\Safegraph\\\\weekly_county_files\\\\weekly_patterns_2018_2021\\\\12\\\\12127\\\\12127_visitor_daytime_cbgs_2018-01-01_To_2018-01-08.csv',\n",
       " 'J:\\\\Safegraph\\\\weekly_county_files\\\\weekly_patterns_2018_2021\\\\12\\\\12129\\\\12129_visitor_daytime_cbgs_2018-01-01_To_2018-01-08.csv',\n",
       " 'J:\\\\Safegraph\\\\weekly_county_files\\\\weekly_patterns_2018_2021\\\\12\\\\12131\\\\12131_visitor_daytime_cbgs_2018-01-01_To_2018-01-08.csv',\n",
       " 'J:\\\\Safegraph\\\\weekly_county_files\\\\weekly_patterns_2018_2021\\\\12\\\\12133\\\\12133_visitor_daytime_cbgs_2018-01-01_To_2018-01-08.csv',\n",
       " 'J:\\\\Safegraph\\\\weekly_county_files\\\\weekly_patterns_2018_2021\\\\13\\\\13001\\\\13001_visitor_daytime_cbgs_2018-01-01_To_2018-01-08.csv',\n",
       " 'J:\\\\Safegraph\\\\weekly_county_files\\\\weekly_patterns_2018_2021\\\\13\\\\13003\\\\13003_visitor_daytime_cbgs_2018-01-01_To_2018-01-08.csv',\n",
       " 'J:\\\\Safegraph\\\\weekly_county_files\\\\weekly_patterns_2018_2021\\\\13\\\\13005\\\\13005_visitor_daytime_cbgs_2018-01-01_To_2018-01-08.csv',\n",
       " 'J:\\\\Safegraph\\\\weekly_county_files\\\\weekly_patterns_2018_2021\\\\13\\\\13007\\\\13007_visitor_daytime_cbgs_2018-01-01_To_2018-01-08.csv',\n",
       " 'J:\\\\Safegraph\\\\weekly_county_files\\\\weekly_patterns_2018_2021\\\\13\\\\13009\\\\13009_visitor_daytime_cbgs_2018-01-01_To_2018-01-08.csv',\n",
       " 'J:\\\\Safegraph\\\\weekly_county_files\\\\weekly_patterns_2018_2021\\\\13\\\\13011\\\\13011_visitor_daytime_cbgs_2018-01-01_To_2018-01-08.csv',\n",
       " 'J:\\\\Safegraph\\\\weekly_county_files\\\\weekly_patterns_2018_2021\\\\13\\\\13013\\\\13013_visitor_daytime_cbgs_2018-01-01_To_2018-01-08.csv',\n",
       " 'J:\\\\Safegraph\\\\weekly_county_files\\\\weekly_patterns_2018_2021\\\\13\\\\13015\\\\13015_visitor_daytime_cbgs_2018-01-01_To_2018-01-08.csv',\n",
       " 'J:\\\\Safegraph\\\\weekly_county_files\\\\weekly_patterns_2018_2021\\\\13\\\\13017\\\\13017_visitor_daytime_cbgs_2018-01-01_To_2018-01-08.csv',\n",
       " 'J:\\\\Safegraph\\\\weekly_county_files\\\\weekly_patterns_2018_2021\\\\13\\\\13019\\\\13019_visitor_daytime_cbgs_2018-01-01_To_2018-01-08.csv',\n",
       " 'J:\\\\Safegraph\\\\weekly_county_files\\\\weekly_patterns_2018_2021\\\\13\\\\13021\\\\13021_visitor_daytime_cbgs_2018-01-01_To_2018-01-08.csv',\n",
       " 'J:\\\\Safegraph\\\\weekly_county_files\\\\weekly_patterns_2018_2021\\\\13\\\\13023\\\\13023_visitor_daytime_cbgs_2018-01-01_To_2018-01-08.csv',\n",
       " 'J:\\\\Safegraph\\\\weekly_county_files\\\\weekly_patterns_2018_2021\\\\13\\\\13025\\\\13025_visitor_daytime_cbgs_2018-01-01_To_2018-01-08.csv',\n",
       " 'J:\\\\Safegraph\\\\weekly_county_files\\\\weekly_patterns_2018_2021\\\\13\\\\13027\\\\13027_visitor_daytime_cbgs_2018-01-01_To_2018-01-08.csv',\n",
       " 'J:\\\\Safegraph\\\\weekly_county_files\\\\weekly_patterns_2018_2021\\\\13\\\\13029\\\\13029_visitor_daytime_cbgs_2018-01-01_To_2018-01-08.csv',\n",
       " 'J:\\\\Safegraph\\\\weekly_county_files\\\\weekly_patterns_2018_2021\\\\13\\\\13031\\\\13031_visitor_daytime_cbgs_2018-01-01_To_2018-01-08.csv',\n",
       " 'J:\\\\Safegraph\\\\weekly_county_files\\\\weekly_patterns_2018_2021\\\\13\\\\13033\\\\13033_visitor_daytime_cbgs_2018-01-01_To_2018-01-08.csv',\n",
       " 'J:\\\\Safegraph\\\\weekly_county_files\\\\weekly_patterns_2018_2021\\\\13\\\\13035\\\\13035_visitor_daytime_cbgs_2018-01-01_To_2018-01-08.csv',\n",
       " 'J:\\\\Safegraph\\\\weekly_county_files\\\\weekly_patterns_2018_2021\\\\13\\\\13037\\\\13037_visitor_daytime_cbgs_2018-01-01_To_2018-01-08.csv',\n",
       " 'J:\\\\Safegraph\\\\weekly_county_files\\\\weekly_patterns_2018_2021\\\\13\\\\13039\\\\13039_visitor_daytime_cbgs_2018-01-01_To_2018-01-08.csv',\n",
       " 'J:\\\\Safegraph\\\\weekly_county_files\\\\weekly_patterns_2018_2021\\\\13\\\\13043\\\\13043_visitor_daytime_cbgs_2018-01-01_To_2018-01-08.csv',\n",
       " 'J:\\\\Safegraph\\\\weekly_county_files\\\\weekly_patterns_2018_2021\\\\13\\\\13045\\\\13045_visitor_daytime_cbgs_2018-01-01_To_2018-01-08.csv',\n",
       " 'J:\\\\Safegraph\\\\weekly_county_files\\\\weekly_patterns_2018_2021\\\\13\\\\13047\\\\13047_visitor_daytime_cbgs_2018-01-01_To_2018-01-08.csv',\n",
       " 'J:\\\\Safegraph\\\\weekly_county_files\\\\weekly_patterns_2018_2021\\\\13\\\\13049\\\\13049_visitor_daytime_cbgs_2018-01-01_To_2018-01-08.csv',\n",
       " 'J:\\\\Safegraph\\\\weekly_county_files\\\\weekly_patterns_2018_2021\\\\13\\\\13051\\\\13051_visitor_daytime_cbgs_2018-01-01_To_2018-01-08.csv',\n",
       " 'J:\\\\Safegraph\\\\weekly_county_files\\\\weekly_patterns_2018_2021\\\\13\\\\13053\\\\13053_visitor_daytime_cbgs_2018-01-01_To_2018-01-08.csv',\n",
       " 'J:\\\\Safegraph\\\\weekly_county_files\\\\weekly_patterns_2018_2021\\\\13\\\\13055\\\\13055_visitor_daytime_cbgs_2018-01-01_To_2018-01-08.csv',\n",
       " 'J:\\\\Safegraph\\\\weekly_county_files\\\\weekly_patterns_2018_2021\\\\13\\\\13057\\\\13057_visitor_daytime_cbgs_2018-01-01_To_2018-01-08.csv',\n",
       " 'J:\\\\Safegraph\\\\weekly_county_files\\\\weekly_patterns_2018_2021\\\\13\\\\13059\\\\13059_visitor_daytime_cbgs_2018-01-01_To_2018-01-08.csv',\n",
       " 'J:\\\\Safegraph\\\\weekly_county_files\\\\weekly_patterns_2018_2021\\\\13\\\\13061\\\\13061_visitor_daytime_cbgs_2018-01-01_To_2018-01-08.csv',\n",
       " 'J:\\\\Safegraph\\\\weekly_county_files\\\\weekly_patterns_2018_2021\\\\13\\\\13063\\\\13063_visitor_daytime_cbgs_2018-01-01_To_2018-01-08.csv',\n",
       " 'J:\\\\Safegraph\\\\weekly_county_files\\\\weekly_patterns_2018_2021\\\\13\\\\13065\\\\13065_visitor_daytime_cbgs_2018-01-01_To_2018-01-08.csv',\n",
       " 'J:\\\\Safegraph\\\\weekly_county_files\\\\weekly_patterns_2018_2021\\\\13\\\\13067\\\\13067_visitor_daytime_cbgs_2018-01-01_To_2018-01-08.csv',\n",
       " 'J:\\\\Safegraph\\\\weekly_county_files\\\\weekly_patterns_2018_2021\\\\13\\\\13069\\\\13069_visitor_daytime_cbgs_2018-01-01_To_2018-01-08.csv',\n",
       " 'J:\\\\Safegraph\\\\weekly_county_files\\\\weekly_patterns_2018_2021\\\\13\\\\13071\\\\13071_visitor_daytime_cbgs_2018-01-01_To_2018-01-08.csv',\n",
       " 'J:\\\\Safegraph\\\\weekly_county_files\\\\weekly_patterns_2018_2021\\\\13\\\\13073\\\\13073_visitor_daytime_cbgs_2018-01-01_To_2018-01-08.csv',\n",
       " 'J:\\\\Safegraph\\\\weekly_county_files\\\\weekly_patterns_2018_2021\\\\13\\\\13075\\\\13075_visitor_daytime_cbgs_2018-01-01_To_2018-01-08.csv',\n",
       " 'J:\\\\Safegraph\\\\weekly_county_files\\\\weekly_patterns_2018_2021\\\\13\\\\13077\\\\13077_visitor_daytime_cbgs_2018-01-01_To_2018-01-08.csv',\n",
       " 'J:\\\\Safegraph\\\\weekly_county_files\\\\weekly_patterns_2018_2021\\\\13\\\\13079\\\\13079_visitor_daytime_cbgs_2018-01-01_To_2018-01-08.csv',\n",
       " 'J:\\\\Safegraph\\\\weekly_county_files\\\\weekly_patterns_2018_2021\\\\13\\\\13081\\\\13081_visitor_daytime_cbgs_2018-01-01_To_2018-01-08.csv',\n",
       " 'J:\\\\Safegraph\\\\weekly_county_files\\\\weekly_patterns_2018_2021\\\\13\\\\13083\\\\13083_visitor_daytime_cbgs_2018-01-01_To_2018-01-08.csv',\n",
       " 'J:\\\\Safegraph\\\\weekly_county_files\\\\weekly_patterns_2018_2021\\\\13\\\\13085\\\\13085_visitor_daytime_cbgs_2018-01-01_To_2018-01-08.csv',\n",
       " 'J:\\\\Safegraph\\\\weekly_county_files\\\\weekly_patterns_2018_2021\\\\13\\\\13087\\\\13087_visitor_daytime_cbgs_2018-01-01_To_2018-01-08.csv',\n",
       " 'J:\\\\Safegraph\\\\weekly_county_files\\\\weekly_patterns_2018_2021\\\\13\\\\13089\\\\13089_visitor_daytime_cbgs_2018-01-01_To_2018-01-08.csv',\n",
       " 'J:\\\\Safegraph\\\\weekly_county_files\\\\weekly_patterns_2018_2021\\\\13\\\\13091\\\\13091_visitor_daytime_cbgs_2018-01-01_To_2018-01-08.csv',\n",
       " 'J:\\\\Safegraph\\\\weekly_county_files\\\\weekly_patterns_2018_2021\\\\13\\\\13093\\\\13093_visitor_daytime_cbgs_2018-01-01_To_2018-01-08.csv',\n",
       " 'J:\\\\Safegraph\\\\weekly_county_files\\\\weekly_patterns_2018_2021\\\\13\\\\13095\\\\13095_visitor_daytime_cbgs_2018-01-01_To_2018-01-08.csv',\n",
       " 'J:\\\\Safegraph\\\\weekly_county_files\\\\weekly_patterns_2018_2021\\\\13\\\\13097\\\\13097_visitor_daytime_cbgs_2018-01-01_To_2018-01-08.csv',\n",
       " 'J:\\\\Safegraph\\\\weekly_county_files\\\\weekly_patterns_2018_2021\\\\13\\\\13099\\\\13099_visitor_daytime_cbgs_2018-01-01_To_2018-01-08.csv',\n",
       " 'J:\\\\Safegraph\\\\weekly_county_files\\\\weekly_patterns_2018_2021\\\\13\\\\13101\\\\13101_visitor_daytime_cbgs_2018-01-01_To_2018-01-08.csv',\n",
       " 'J:\\\\Safegraph\\\\weekly_county_files\\\\weekly_patterns_2018_2021\\\\13\\\\13103\\\\13103_visitor_daytime_cbgs_2018-01-01_To_2018-01-08.csv',\n",
       " 'J:\\\\Safegraph\\\\weekly_county_files\\\\weekly_patterns_2018_2021\\\\13\\\\13105\\\\13105_visitor_daytime_cbgs_2018-01-01_To_2018-01-08.csv',\n",
       " 'J:\\\\Safegraph\\\\weekly_county_files\\\\weekly_patterns_2018_2021\\\\13\\\\13107\\\\13107_visitor_daytime_cbgs_2018-01-01_To_2018-01-08.csv',\n",
       " 'J:\\\\Safegraph\\\\weekly_county_files\\\\weekly_patterns_2018_2021\\\\13\\\\13109\\\\13109_visitor_daytime_cbgs_2018-01-01_To_2018-01-08.csv',\n",
       " 'J:\\\\Safegraph\\\\weekly_county_files\\\\weekly_patterns_2018_2021\\\\13\\\\13111\\\\13111_visitor_daytime_cbgs_2018-01-01_To_2018-01-08.csv',\n",
       " 'J:\\\\Safegraph\\\\weekly_county_files\\\\weekly_patterns_2018_2021\\\\13\\\\13113\\\\13113_visitor_daytime_cbgs_2018-01-01_To_2018-01-08.csv',\n",
       " 'J:\\\\Safegraph\\\\weekly_county_files\\\\weekly_patterns_2018_2021\\\\13\\\\13115\\\\13115_visitor_daytime_cbgs_2018-01-01_To_2018-01-08.csv',\n",
       " 'J:\\\\Safegraph\\\\weekly_county_files\\\\weekly_patterns_2018_2021\\\\13\\\\13117\\\\13117_visitor_daytime_cbgs_2018-01-01_To_2018-01-08.csv',\n",
       " 'J:\\\\Safegraph\\\\weekly_county_files\\\\weekly_patterns_2018_2021\\\\13\\\\13119\\\\13119_visitor_daytime_cbgs_2018-01-01_To_2018-01-08.csv',\n",
       " 'J:\\\\Safegraph\\\\weekly_county_files\\\\weekly_patterns_2018_2021\\\\13\\\\13121\\\\13121_visitor_daytime_cbgs_2018-01-01_To_2018-01-08.csv',\n",
       " 'J:\\\\Safegraph\\\\weekly_county_files\\\\weekly_patterns_2018_2021\\\\13\\\\13123\\\\13123_visitor_daytime_cbgs_2018-01-01_To_2018-01-08.csv',\n",
       " 'J:\\\\Safegraph\\\\weekly_county_files\\\\weekly_patterns_2018_2021\\\\13\\\\13125\\\\13125_visitor_daytime_cbgs_2018-01-01_To_2018-01-08.csv',\n",
       " 'J:\\\\Safegraph\\\\weekly_county_files\\\\weekly_patterns_2018_2021\\\\13\\\\13127\\\\13127_visitor_daytime_cbgs_2018-01-01_To_2018-01-08.csv',\n",
       " 'J:\\\\Safegraph\\\\weekly_county_files\\\\weekly_patterns_2018_2021\\\\13\\\\13129\\\\13129_visitor_daytime_cbgs_2018-01-01_To_2018-01-08.csv',\n",
       " 'J:\\\\Safegraph\\\\weekly_county_files\\\\weekly_patterns_2018_2021\\\\13\\\\13131\\\\13131_visitor_daytime_cbgs_2018-01-01_To_2018-01-08.csv',\n",
       " 'J:\\\\Safegraph\\\\weekly_county_files\\\\weekly_patterns_2018_2021\\\\13\\\\13133\\\\13133_visitor_daytime_cbgs_2018-01-01_To_2018-01-08.csv',\n",
       " 'J:\\\\Safegraph\\\\weekly_county_files\\\\weekly_patterns_2018_2021\\\\13\\\\13135\\\\13135_visitor_daytime_cbgs_2018-01-01_To_2018-01-08.csv',\n",
       " 'J:\\\\Safegraph\\\\weekly_county_files\\\\weekly_patterns_2018_2021\\\\13\\\\13137\\\\13137_visitor_daytime_cbgs_2018-01-01_To_2018-01-08.csv',\n",
       " 'J:\\\\Safegraph\\\\weekly_county_files\\\\weekly_patterns_2018_2021\\\\13\\\\13139\\\\13139_visitor_daytime_cbgs_2018-01-01_To_2018-01-08.csv',\n",
       " 'J:\\\\Safegraph\\\\weekly_county_files\\\\weekly_patterns_2018_2021\\\\13\\\\13141\\\\13141_visitor_daytime_cbgs_2018-01-01_To_2018-01-08.csv',\n",
       " 'J:\\\\Safegraph\\\\weekly_county_files\\\\weekly_patterns_2018_2021\\\\13\\\\13143\\\\13143_visitor_daytime_cbgs_2018-01-01_To_2018-01-08.csv',\n",
       " 'J:\\\\Safegraph\\\\weekly_county_files\\\\weekly_patterns_2018_2021\\\\13\\\\13145\\\\13145_visitor_daytime_cbgs_2018-01-01_To_2018-01-08.csv',\n",
       " 'J:\\\\Safegraph\\\\weekly_county_files\\\\weekly_patterns_2018_2021\\\\13\\\\13147\\\\13147_visitor_daytime_cbgs_2018-01-01_To_2018-01-08.csv',\n",
       " 'J:\\\\Safegraph\\\\weekly_county_files\\\\weekly_patterns_2018_2021\\\\13\\\\13149\\\\13149_visitor_daytime_cbgs_2018-01-01_To_2018-01-08.csv',\n",
       " 'J:\\\\Safegraph\\\\weekly_county_files\\\\weekly_patterns_2018_2021\\\\13\\\\13151\\\\13151_visitor_daytime_cbgs_2018-01-01_To_2018-01-08.csv',\n",
       " 'J:\\\\Safegraph\\\\weekly_county_files\\\\weekly_patterns_2018_2021\\\\13\\\\13153\\\\13153_visitor_daytime_cbgs_2018-01-01_To_2018-01-08.csv',\n",
       " 'J:\\\\Safegraph\\\\weekly_county_files\\\\weekly_patterns_2018_2021\\\\13\\\\13155\\\\13155_visitor_daytime_cbgs_2018-01-01_To_2018-01-08.csv',\n",
       " 'J:\\\\Safegraph\\\\weekly_county_files\\\\weekly_patterns_2018_2021\\\\13\\\\13157\\\\13157_visitor_daytime_cbgs_2018-01-01_To_2018-01-08.csv',\n",
       " 'J:\\\\Safegraph\\\\weekly_county_files\\\\weekly_patterns_2018_2021\\\\13\\\\13159\\\\13159_visitor_daytime_cbgs_2018-01-01_To_2018-01-08.csv',\n",
       " 'J:\\\\Safegraph\\\\weekly_county_files\\\\weekly_patterns_2018_2021\\\\13\\\\13161\\\\13161_visitor_daytime_cbgs_2018-01-01_To_2018-01-08.csv',\n",
       " 'J:\\\\Safegraph\\\\weekly_county_files\\\\weekly_patterns_2018_2021\\\\13\\\\13163\\\\13163_visitor_daytime_cbgs_2018-01-01_To_2018-01-08.csv',\n",
       " 'J:\\\\Safegraph\\\\weekly_county_files\\\\weekly_patterns_2018_2021\\\\13\\\\13165\\\\13165_visitor_daytime_cbgs_2018-01-01_To_2018-01-08.csv',\n",
       " 'J:\\\\Safegraph\\\\weekly_county_files\\\\weekly_patterns_2018_2021\\\\13\\\\13167\\\\13167_visitor_daytime_cbgs_2018-01-01_To_2018-01-08.csv',\n",
       " 'J:\\\\Safegraph\\\\weekly_county_files\\\\weekly_patterns_2018_2021\\\\13\\\\13169\\\\13169_visitor_daytime_cbgs_2018-01-01_To_2018-01-08.csv',\n",
       " 'J:\\\\Safegraph\\\\weekly_county_files\\\\weekly_patterns_2018_2021\\\\13\\\\13171\\\\13171_visitor_daytime_cbgs_2018-01-01_To_2018-01-08.csv',\n",
       " 'J:\\\\Safegraph\\\\weekly_county_files\\\\weekly_patterns_2018_2021\\\\13\\\\13173\\\\13173_visitor_daytime_cbgs_2018-01-01_To_2018-01-08.csv',\n",
       " 'J:\\\\Safegraph\\\\weekly_county_files\\\\weekly_patterns_2018_2021\\\\13\\\\13175\\\\13175_visitor_daytime_cbgs_2018-01-01_To_2018-01-08.csv',\n",
       " 'J:\\\\Safegraph\\\\weekly_county_files\\\\weekly_patterns_2018_2021\\\\13\\\\13177\\\\13177_visitor_daytime_cbgs_2018-01-01_To_2018-01-08.csv',\n",
       " 'J:\\\\Safegraph\\\\weekly_county_files\\\\weekly_patterns_2018_2021\\\\13\\\\13179\\\\13179_visitor_daytime_cbgs_2018-01-01_To_2018-01-08.csv',\n",
       " 'J:\\\\Safegraph\\\\weekly_county_files\\\\weekly_patterns_2018_2021\\\\13\\\\13181\\\\13181_visitor_daytime_cbgs_2018-01-01_To_2018-01-08.csv',\n",
       " 'J:\\\\Safegraph\\\\weekly_county_files\\\\weekly_patterns_2018_2021\\\\13\\\\13183\\\\13183_visitor_daytime_cbgs_2018-01-01_To_2018-01-08.csv',\n",
       " 'J:\\\\Safegraph\\\\weekly_county_files\\\\weekly_patterns_2018_2021\\\\13\\\\13185\\\\13185_visitor_daytime_cbgs_2018-01-01_To_2018-01-08.csv',\n",
       " 'J:\\\\Safegraph\\\\weekly_county_files\\\\weekly_patterns_2018_2021\\\\13\\\\13187\\\\13187_visitor_daytime_cbgs_2018-01-01_To_2018-01-08.csv',\n",
       " 'J:\\\\Safegraph\\\\weekly_county_files\\\\weekly_patterns_2018_2021\\\\13\\\\13189\\\\13189_visitor_daytime_cbgs_2018-01-01_To_2018-01-08.csv',\n",
       " 'J:\\\\Safegraph\\\\weekly_county_files\\\\weekly_patterns_2018_2021\\\\13\\\\13191\\\\13191_visitor_daytime_cbgs_2018-01-01_To_2018-01-08.csv',\n",
       " 'J:\\\\Safegraph\\\\weekly_county_files\\\\weekly_patterns_2018_2021\\\\13\\\\13193\\\\13193_visitor_daytime_cbgs_2018-01-01_To_2018-01-08.csv',\n",
       " 'J:\\\\Safegraph\\\\weekly_county_files\\\\weekly_patterns_2018_2021\\\\13\\\\13195\\\\13195_visitor_daytime_cbgs_2018-01-01_To_2018-01-08.csv',\n",
       " 'J:\\\\Safegraph\\\\weekly_county_files\\\\weekly_patterns_2018_2021\\\\13\\\\13197\\\\13197_visitor_daytime_cbgs_2018-01-01_To_2018-01-08.csv',\n",
       " 'J:\\\\Safegraph\\\\weekly_county_files\\\\weekly_patterns_2018_2021\\\\13\\\\13199\\\\13199_visitor_daytime_cbgs_2018-01-01_To_2018-01-08.csv',\n",
       " 'J:\\\\Safegraph\\\\weekly_county_files\\\\weekly_patterns_2018_2021\\\\13\\\\13201\\\\13201_visitor_daytime_cbgs_2018-01-01_To_2018-01-08.csv',\n",
       " 'J:\\\\Safegraph\\\\weekly_county_files\\\\weekly_patterns_2018_2021\\\\13\\\\13205\\\\13205_visitor_daytime_cbgs_2018-01-01_To_2018-01-08.csv',\n",
       " 'J:\\\\Safegraph\\\\weekly_county_files\\\\weekly_patterns_2018_2021\\\\13\\\\13207\\\\13207_visitor_daytime_cbgs_2018-01-01_To_2018-01-08.csv',\n",
       " 'J:\\\\Safegraph\\\\weekly_county_files\\\\weekly_patterns_2018_2021\\\\13\\\\13209\\\\13209_visitor_daytime_cbgs_2018-01-01_To_2018-01-08.csv',\n",
       " 'J:\\\\Safegraph\\\\weekly_county_files\\\\weekly_patterns_2018_2021\\\\13\\\\13211\\\\13211_visitor_daytime_cbgs_2018-01-01_To_2018-01-08.csv',\n",
       " 'J:\\\\Safegraph\\\\weekly_county_files\\\\weekly_patterns_2018_2021\\\\13\\\\13213\\\\13213_visitor_daytime_cbgs_2018-01-01_To_2018-01-08.csv',\n",
       " 'J:\\\\Safegraph\\\\weekly_county_files\\\\weekly_patterns_2018_2021\\\\13\\\\13215\\\\13215_visitor_daytime_cbgs_2018-01-01_To_2018-01-08.csv',\n",
       " 'J:\\\\Safegraph\\\\weekly_county_files\\\\weekly_patterns_2018_2021\\\\13\\\\13217\\\\13217_visitor_daytime_cbgs_2018-01-01_To_2018-01-08.csv',\n",
       " 'J:\\\\Safegraph\\\\weekly_county_files\\\\weekly_patterns_2018_2021\\\\13\\\\13219\\\\13219_visitor_daytime_cbgs_2018-01-01_To_2018-01-08.csv',\n",
       " 'J:\\\\Safegraph\\\\weekly_county_files\\\\weekly_patterns_2018_2021\\\\13\\\\13221\\\\13221_visitor_daytime_cbgs_2018-01-01_To_2018-01-08.csv',\n",
       " 'J:\\\\Safegraph\\\\weekly_county_files\\\\weekly_patterns_2018_2021\\\\13\\\\13223\\\\13223_visitor_daytime_cbgs_2018-01-01_To_2018-01-08.csv',\n",
       " 'J:\\\\Safegraph\\\\weekly_county_files\\\\weekly_patterns_2018_2021\\\\13\\\\13225\\\\13225_visitor_daytime_cbgs_2018-01-01_To_2018-01-08.csv',\n",
       " 'J:\\\\Safegraph\\\\weekly_county_files\\\\weekly_patterns_2018_2021\\\\13\\\\13227\\\\13227_visitor_daytime_cbgs_2018-01-01_To_2018-01-08.csv',\n",
       " 'J:\\\\Safegraph\\\\weekly_county_files\\\\weekly_patterns_2018_2021\\\\13\\\\13229\\\\13229_visitor_daytime_cbgs_2018-01-01_To_2018-01-08.csv',\n",
       " 'J:\\\\Safegraph\\\\weekly_county_files\\\\weekly_patterns_2018_2021\\\\13\\\\13231\\\\13231_visitor_daytime_cbgs_2018-01-01_To_2018-01-08.csv',\n",
       " 'J:\\\\Safegraph\\\\weekly_county_files\\\\weekly_patterns_2018_2021\\\\13\\\\13233\\\\13233_visitor_daytime_cbgs_2018-01-01_To_2018-01-08.csv',\n",
       " 'J:\\\\Safegraph\\\\weekly_county_files\\\\weekly_patterns_2018_2021\\\\13\\\\13235\\\\13235_visitor_daytime_cbgs_2018-01-01_To_2018-01-08.csv',\n",
       " 'J:\\\\Safegraph\\\\weekly_county_files\\\\weekly_patterns_2018_2021\\\\13\\\\13237\\\\13237_visitor_daytime_cbgs_2018-01-01_To_2018-01-08.csv',\n",
       " 'J:\\\\Safegraph\\\\weekly_county_files\\\\weekly_patterns_2018_2021\\\\13\\\\13239\\\\13239_visitor_daytime_cbgs_2018-01-01_To_2018-01-08.csv',\n",
       " 'J:\\\\Safegraph\\\\weekly_county_files\\\\weekly_patterns_2018_2021\\\\13\\\\13241\\\\13241_visitor_daytime_cbgs_2018-01-01_To_2018-01-08.csv',\n",
       " 'J:\\\\Safegraph\\\\weekly_county_files\\\\weekly_patterns_2018_2021\\\\13\\\\13243\\\\13243_visitor_daytime_cbgs_2018-01-01_To_2018-01-08.csv',\n",
       " 'J:\\\\Safegraph\\\\weekly_county_files\\\\weekly_patterns_2018_2021\\\\13\\\\13245\\\\13245_visitor_daytime_cbgs_2018-01-01_To_2018-01-08.csv',\n",
       " 'J:\\\\Safegraph\\\\weekly_county_files\\\\weekly_patterns_2018_2021\\\\13\\\\13247\\\\13247_visitor_daytime_cbgs_2018-01-01_To_2018-01-08.csv',\n",
       " 'J:\\\\Safegraph\\\\weekly_county_files\\\\weekly_patterns_2018_2021\\\\13\\\\13249\\\\13249_visitor_daytime_cbgs_2018-01-01_To_2018-01-08.csv',\n",
       " 'J:\\\\Safegraph\\\\weekly_county_files\\\\weekly_patterns_2018_2021\\\\13\\\\13251\\\\13251_visitor_daytime_cbgs_2018-01-01_To_2018-01-08.csv',\n",
       " 'J:\\\\Safegraph\\\\weekly_county_files\\\\weekly_patterns_2018_2021\\\\13\\\\13253\\\\13253_visitor_daytime_cbgs_2018-01-01_To_2018-01-08.csv',\n",
       " 'J:\\\\Safegraph\\\\weekly_county_files\\\\weekly_patterns_2018_2021\\\\13\\\\13255\\\\13255_visitor_daytime_cbgs_2018-01-01_To_2018-01-08.csv',\n",
       " 'J:\\\\Safegraph\\\\weekly_county_files\\\\weekly_patterns_2018_2021\\\\13\\\\13257\\\\13257_visitor_daytime_cbgs_2018-01-01_To_2018-01-08.csv',\n",
       " 'J:\\\\Safegraph\\\\weekly_county_files\\\\weekly_patterns_2018_2021\\\\13\\\\13259\\\\13259_visitor_daytime_cbgs_2018-01-01_To_2018-01-08.csv',\n",
       " 'J:\\\\Safegraph\\\\weekly_county_files\\\\weekly_patterns_2018_2021\\\\13\\\\13261\\\\13261_visitor_daytime_cbgs_2018-01-01_To_2018-01-08.csv',\n",
       " 'J:\\\\Safegraph\\\\weekly_county_files\\\\weekly_patterns_2018_2021\\\\13\\\\13263\\\\13263_visitor_daytime_cbgs_2018-01-01_To_2018-01-08.csv',\n",
       " 'J:\\\\Safegraph\\\\weekly_county_files\\\\weekly_patterns_2018_2021\\\\13\\\\13265\\\\13265_visitor_daytime_cbgs_2018-01-01_To_2018-01-08.csv',\n",
       " 'J:\\\\Safegraph\\\\weekly_county_files\\\\weekly_patterns_2018_2021\\\\13\\\\13267\\\\13267_visitor_daytime_cbgs_2018-01-01_To_2018-01-08.csv',\n",
       " 'J:\\\\Safegraph\\\\weekly_county_files\\\\weekly_patterns_2018_2021\\\\13\\\\13269\\\\13269_visitor_daytime_cbgs_2018-01-01_To_2018-01-08.csv',\n",
       " 'J:\\\\Safegraph\\\\weekly_county_files\\\\weekly_patterns_2018_2021\\\\13\\\\13271\\\\13271_visitor_daytime_cbgs_2018-01-01_To_2018-01-08.csv',\n",
       " 'J:\\\\Safegraph\\\\weekly_county_files\\\\weekly_patterns_2018_2021\\\\13\\\\13273\\\\13273_visitor_daytime_cbgs_2018-01-01_To_2018-01-08.csv',\n",
       " 'J:\\\\Safegraph\\\\weekly_county_files\\\\weekly_patterns_2018_2021\\\\13\\\\13275\\\\13275_visitor_daytime_cbgs_2018-01-01_To_2018-01-08.csv',\n",
       " 'J:\\\\Safegraph\\\\weekly_county_files\\\\weekly_patterns_2018_2021\\\\13\\\\13277\\\\13277_visitor_daytime_cbgs_2018-01-01_To_2018-01-08.csv',\n",
       " 'J:\\\\Safegraph\\\\weekly_county_files\\\\weekly_patterns_2018_2021\\\\13\\\\13279\\\\13279_visitor_daytime_cbgs_2018-01-01_To_2018-01-08.csv',\n",
       " 'J:\\\\Safegraph\\\\weekly_county_files\\\\weekly_patterns_2018_2021\\\\13\\\\13281\\\\13281_visitor_daytime_cbgs_2018-01-01_To_2018-01-08.csv',\n",
       " 'J:\\\\Safegraph\\\\weekly_county_files\\\\weekly_patterns_2018_2021\\\\13\\\\13283\\\\13283_visitor_daytime_cbgs_2018-01-01_To_2018-01-08.csv',\n",
       " 'J:\\\\Safegraph\\\\weekly_county_files\\\\weekly_patterns_2018_2021\\\\13\\\\13285\\\\13285_visitor_daytime_cbgs_2018-01-01_To_2018-01-08.csv',\n",
       " 'J:\\\\Safegraph\\\\weekly_county_files\\\\weekly_patterns_2018_2021\\\\13\\\\13287\\\\13287_visitor_daytime_cbgs_2018-01-01_To_2018-01-08.csv',\n",
       " 'J:\\\\Safegraph\\\\weekly_county_files\\\\weekly_patterns_2018_2021\\\\13\\\\13289\\\\13289_visitor_daytime_cbgs_2018-01-01_To_2018-01-08.csv',\n",
       " 'J:\\\\Safegraph\\\\weekly_county_files\\\\weekly_patterns_2018_2021\\\\13\\\\13291\\\\13291_visitor_daytime_cbgs_2018-01-01_To_2018-01-08.csv',\n",
       " 'J:\\\\Safegraph\\\\weekly_county_files\\\\weekly_patterns_2018_2021\\\\13\\\\13293\\\\13293_visitor_daytime_cbgs_2018-01-01_To_2018-01-08.csv',\n",
       " 'J:\\\\Safegraph\\\\weekly_county_files\\\\weekly_patterns_2018_2021\\\\13\\\\13295\\\\13295_visitor_daytime_cbgs_2018-01-01_To_2018-01-08.csv',\n",
       " 'J:\\\\Safegraph\\\\weekly_county_files\\\\weekly_patterns_2018_2021\\\\13\\\\13297\\\\13297_visitor_daytime_cbgs_2018-01-01_To_2018-01-08.csv',\n",
       " 'J:\\\\Safegraph\\\\weekly_county_files\\\\weekly_patterns_2018_2021\\\\13\\\\13299\\\\13299_visitor_daytime_cbgs_2018-01-01_To_2018-01-08.csv',\n",
       " 'J:\\\\Safegraph\\\\weekly_county_files\\\\weekly_patterns_2018_2021\\\\13\\\\13301\\\\13301_visitor_daytime_cbgs_2018-01-01_To_2018-01-08.csv',\n",
       " 'J:\\\\Safegraph\\\\weekly_county_files\\\\weekly_patterns_2018_2021\\\\13\\\\13303\\\\13303_visitor_daytime_cbgs_2018-01-01_To_2018-01-08.csv',\n",
       " 'J:\\\\Safegraph\\\\weekly_county_files\\\\weekly_patterns_2018_2021\\\\13\\\\13305\\\\13305_visitor_daytime_cbgs_2018-01-01_To_2018-01-08.csv',\n",
       " 'J:\\\\Safegraph\\\\weekly_county_files\\\\weekly_patterns_2018_2021\\\\13\\\\13307\\\\13307_visitor_daytime_cbgs_2018-01-01_To_2018-01-08.csv',\n",
       " 'J:\\\\Safegraph\\\\weekly_county_files\\\\weekly_patterns_2018_2021\\\\13\\\\13309\\\\13309_visitor_daytime_cbgs_2018-01-01_To_2018-01-08.csv',\n",
       " 'J:\\\\Safegraph\\\\weekly_county_files\\\\weekly_patterns_2018_2021\\\\13\\\\13311\\\\13311_visitor_daytime_cbgs_2018-01-01_To_2018-01-08.csv',\n",
       " 'J:\\\\Safegraph\\\\weekly_county_files\\\\weekly_patterns_2018_2021\\\\13\\\\13313\\\\13313_visitor_daytime_cbgs_2018-01-01_To_2018-01-08.csv',\n",
       " 'J:\\\\Safegraph\\\\weekly_county_files\\\\weekly_patterns_2018_2021\\\\13\\\\13315\\\\13315_visitor_daytime_cbgs_2018-01-01_To_2018-01-08.csv',\n",
       " 'J:\\\\Safegraph\\\\weekly_county_files\\\\weekly_patterns_2018_2021\\\\13\\\\13317\\\\13317_visitor_daytime_cbgs_2018-01-01_To_2018-01-08.csv',\n",
       " 'J:\\\\Safegraph\\\\weekly_county_files\\\\weekly_patterns_2018_2021\\\\13\\\\13319\\\\13319_visitor_daytime_cbgs_2018-01-01_To_2018-01-08.csv',\n",
       " 'J:\\\\Safegraph\\\\weekly_county_files\\\\weekly_patterns_2018_2021\\\\13\\\\13321\\\\13321_visitor_daytime_cbgs_2018-01-01_To_2018-01-08.csv',\n",
       " 'J:\\\\Safegraph\\\\weekly_county_files\\\\weekly_patterns_2018_2021\\\\15\\\\15001\\\\15001_visitor_daytime_cbgs_2018-01-01_To_2018-01-08.csv',\n",
       " 'J:\\\\Safegraph\\\\weekly_county_files\\\\weekly_patterns_2018_2021\\\\15\\\\15003\\\\15003_visitor_daytime_cbgs_2018-01-01_To_2018-01-08.csv',\n",
       " 'J:\\\\Safegraph\\\\weekly_county_files\\\\weekly_patterns_2018_2021\\\\15\\\\15005\\\\15005_visitor_daytime_cbgs_2018-01-01_To_2018-01-08.csv',\n",
       " 'J:\\\\Safegraph\\\\weekly_county_files\\\\weekly_patterns_2018_2021\\\\15\\\\15007\\\\15007_visitor_daytime_cbgs_2018-01-01_To_2018-01-08.csv',\n",
       " 'J:\\\\Safegraph\\\\weekly_county_files\\\\weekly_patterns_2018_2021\\\\15\\\\15009\\\\15009_visitor_daytime_cbgs_2018-01-01_To_2018-01-08.csv',\n",
       " 'J:\\\\Safegraph\\\\weekly_county_files\\\\weekly_patterns_2018_2021\\\\16\\\\16001\\\\16001_visitor_daytime_cbgs_2018-01-01_To_2018-01-08.csv',\n",
       " 'J:\\\\Safegraph\\\\weekly_county_files\\\\weekly_patterns_2018_2021\\\\16\\\\16003\\\\16003_visitor_daytime_cbgs_2018-01-01_To_2018-01-08.csv',\n",
       " 'J:\\\\Safegraph\\\\weekly_county_files\\\\weekly_patterns_2018_2021\\\\16\\\\16005\\\\16005_visitor_daytime_cbgs_2018-01-01_To_2018-01-08.csv',\n",
       " 'J:\\\\Safegraph\\\\weekly_county_files\\\\weekly_patterns_2018_2021\\\\16\\\\16007\\\\16007_visitor_daytime_cbgs_2018-01-01_To_2018-01-08.csv',\n",
       " 'J:\\\\Safegraph\\\\weekly_county_files\\\\weekly_patterns_2018_2021\\\\16\\\\16009\\\\16009_visitor_daytime_cbgs_2018-01-01_To_2018-01-08.csv',\n",
       " 'J:\\\\Safegraph\\\\weekly_county_files\\\\weekly_patterns_2018_2021\\\\16\\\\16011\\\\16011_visitor_daytime_cbgs_2018-01-01_To_2018-01-08.csv',\n",
       " 'J:\\\\Safegraph\\\\weekly_county_files\\\\weekly_patterns_2018_2021\\\\16\\\\16013\\\\16013_visitor_daytime_cbgs_2018-01-01_To_2018-01-08.csv',\n",
       " 'J:\\\\Safegraph\\\\weekly_county_files\\\\weekly_patterns_2018_2021\\\\16\\\\16015\\\\16015_visitor_daytime_cbgs_2018-01-01_To_2018-01-08.csv',\n",
       " 'J:\\\\Safegraph\\\\weekly_county_files\\\\weekly_patterns_2018_2021\\\\16\\\\16017\\\\16017_visitor_daytime_cbgs_2018-01-01_To_2018-01-08.csv',\n",
       " 'J:\\\\Safegraph\\\\weekly_county_files\\\\weekly_patterns_2018_2021\\\\16\\\\16019\\\\16019_visitor_daytime_cbgs_2018-01-01_To_2018-01-08.csv',\n",
       " 'J:\\\\Safegraph\\\\weekly_county_files\\\\weekly_patterns_2018_2021\\\\16\\\\16021\\\\16021_visitor_daytime_cbgs_2018-01-01_To_2018-01-08.csv',\n",
       " 'J:\\\\Safegraph\\\\weekly_county_files\\\\weekly_patterns_2018_2021\\\\16\\\\16023\\\\16023_visitor_daytime_cbgs_2018-01-01_To_2018-01-08.csv',\n",
       " 'J:\\\\Safegraph\\\\weekly_county_files\\\\weekly_patterns_2018_2021\\\\16\\\\16025\\\\16025_visitor_daytime_cbgs_2018-01-01_To_2018-01-08.csv',\n",
       " 'J:\\\\Safegraph\\\\weekly_county_files\\\\weekly_patterns_2018_2021\\\\16\\\\16027\\\\16027_visitor_daytime_cbgs_2018-01-01_To_2018-01-08.csv',\n",
       " 'J:\\\\Safegraph\\\\weekly_county_files\\\\weekly_patterns_2018_2021\\\\16\\\\16029\\\\16029_visitor_daytime_cbgs_2018-01-01_To_2018-01-08.csv',\n",
       " 'J:\\\\Safegraph\\\\weekly_county_files\\\\weekly_patterns_2018_2021\\\\16\\\\16031\\\\16031_visitor_daytime_cbgs_2018-01-01_To_2018-01-08.csv',\n",
       " 'J:\\\\Safegraph\\\\weekly_county_files\\\\weekly_patterns_2018_2021\\\\16\\\\16033\\\\16033_visitor_daytime_cbgs_2018-01-01_To_2018-01-08.csv',\n",
       " 'J:\\\\Safegraph\\\\weekly_county_files\\\\weekly_patterns_2018_2021\\\\16\\\\16035\\\\16035_visitor_daytime_cbgs_2018-01-01_To_2018-01-08.csv',\n",
       " 'J:\\\\Safegraph\\\\weekly_county_files\\\\weekly_patterns_2018_2021\\\\16\\\\16037\\\\16037_visitor_daytime_cbgs_2018-01-01_To_2018-01-08.csv',\n",
       " 'J:\\\\Safegraph\\\\weekly_county_files\\\\weekly_patterns_2018_2021\\\\16\\\\16039\\\\16039_visitor_daytime_cbgs_2018-01-01_To_2018-01-08.csv',\n",
       " 'J:\\\\Safegraph\\\\weekly_county_files\\\\weekly_patterns_2018_2021\\\\16\\\\16041\\\\16041_visitor_daytime_cbgs_2018-01-01_To_2018-01-08.csv',\n",
       " 'J:\\\\Safegraph\\\\weekly_county_files\\\\weekly_patterns_2018_2021\\\\16\\\\16043\\\\16043_visitor_daytime_cbgs_2018-01-01_To_2018-01-08.csv',\n",
       " 'J:\\\\Safegraph\\\\weekly_county_files\\\\weekly_patterns_2018_2021\\\\16\\\\16045\\\\16045_visitor_daytime_cbgs_2018-01-01_To_2018-01-08.csv',\n",
       " 'J:\\\\Safegraph\\\\weekly_county_files\\\\weekly_patterns_2018_2021\\\\16\\\\16047\\\\16047_visitor_daytime_cbgs_2018-01-01_To_2018-01-08.csv',\n",
       " 'J:\\\\Safegraph\\\\weekly_county_files\\\\weekly_patterns_2018_2021\\\\16\\\\16049\\\\16049_visitor_daytime_cbgs_2018-01-01_To_2018-01-08.csv',\n",
       " 'J:\\\\Safegraph\\\\weekly_county_files\\\\weekly_patterns_2018_2021\\\\16\\\\16051\\\\16051_visitor_daytime_cbgs_2018-01-01_To_2018-01-08.csv',\n",
       " 'J:\\\\Safegraph\\\\weekly_county_files\\\\weekly_patterns_2018_2021\\\\16\\\\16053\\\\16053_visitor_daytime_cbgs_2018-01-01_To_2018-01-08.csv',\n",
       " 'J:\\\\Safegraph\\\\weekly_county_files\\\\weekly_patterns_2018_2021\\\\16\\\\16055\\\\16055_visitor_daytime_cbgs_2018-01-01_To_2018-01-08.csv',\n",
       " 'J:\\\\Safegraph\\\\weekly_county_files\\\\weekly_patterns_2018_2021\\\\16\\\\16057\\\\16057_visitor_daytime_cbgs_2018-01-01_To_2018-01-08.csv',\n",
       " 'J:\\\\Safegraph\\\\weekly_county_files\\\\weekly_patterns_2018_2021\\\\16\\\\16059\\\\16059_visitor_daytime_cbgs_2018-01-01_To_2018-01-08.csv',\n",
       " 'J:\\\\Safegraph\\\\weekly_county_files\\\\weekly_patterns_2018_2021\\\\16\\\\16061\\\\16061_visitor_daytime_cbgs_2018-01-01_To_2018-01-08.csv',\n",
       " 'J:\\\\Safegraph\\\\weekly_county_files\\\\weekly_patterns_2018_2021\\\\16\\\\16063\\\\16063_visitor_daytime_cbgs_2018-01-01_To_2018-01-08.csv',\n",
       " 'J:\\\\Safegraph\\\\weekly_county_files\\\\weekly_patterns_2018_2021\\\\16\\\\16065\\\\16065_visitor_daytime_cbgs_2018-01-01_To_2018-01-08.csv',\n",
       " 'J:\\\\Safegraph\\\\weekly_county_files\\\\weekly_patterns_2018_2021\\\\16\\\\16067\\\\16067_visitor_daytime_cbgs_2018-01-01_To_2018-01-08.csv',\n",
       " 'J:\\\\Safegraph\\\\weekly_county_files\\\\weekly_patterns_2018_2021\\\\16\\\\16069\\\\16069_visitor_daytime_cbgs_2018-01-01_To_2018-01-08.csv',\n",
       " 'J:\\\\Safegraph\\\\weekly_county_files\\\\weekly_patterns_2018_2021\\\\16\\\\16071\\\\16071_visitor_daytime_cbgs_2018-01-01_To_2018-01-08.csv',\n",
       " 'J:\\\\Safegraph\\\\weekly_county_files\\\\weekly_patterns_2018_2021\\\\16\\\\16073\\\\16073_visitor_daytime_cbgs_2018-01-01_To_2018-01-08.csv',\n",
       " 'J:\\\\Safegraph\\\\weekly_county_files\\\\weekly_patterns_2018_2021\\\\16\\\\16075\\\\16075_visitor_daytime_cbgs_2018-01-01_To_2018-01-08.csv',\n",
       " 'J:\\\\Safegraph\\\\weekly_county_files\\\\weekly_patterns_2018_2021\\\\16\\\\16077\\\\16077_visitor_daytime_cbgs_2018-01-01_To_2018-01-08.csv',\n",
       " 'J:\\\\Safegraph\\\\weekly_county_files\\\\weekly_patterns_2018_2021\\\\16\\\\16079\\\\16079_visitor_daytime_cbgs_2018-01-01_To_2018-01-08.csv',\n",
       " 'J:\\\\Safegraph\\\\weekly_county_files\\\\weekly_patterns_2018_2021\\\\16\\\\16081\\\\16081_visitor_daytime_cbgs_2018-01-01_To_2018-01-08.csv',\n",
       " 'J:\\\\Safegraph\\\\weekly_county_files\\\\weekly_patterns_2018_2021\\\\16\\\\16083\\\\16083_visitor_daytime_cbgs_2018-01-01_To_2018-01-08.csv',\n",
       " 'J:\\\\Safegraph\\\\weekly_county_files\\\\weekly_patterns_2018_2021\\\\16\\\\16085\\\\16085_visitor_daytime_cbgs_2018-01-01_To_2018-01-08.csv',\n",
       " 'J:\\\\Safegraph\\\\weekly_county_files\\\\weekly_patterns_2018_2021\\\\16\\\\16087\\\\16087_visitor_daytime_cbgs_2018-01-01_To_2018-01-08.csv',\n",
       " 'J:\\\\Safegraph\\\\weekly_county_files\\\\weekly_patterns_2018_2021\\\\17\\\\17001\\\\17001_visitor_daytime_cbgs_2018-01-01_To_2018-01-08.csv',\n",
       " 'J:\\\\Safegraph\\\\weekly_county_files\\\\weekly_patterns_2018_2021\\\\17\\\\17003\\\\17003_visitor_daytime_cbgs_2018-01-01_To_2018-01-08.csv',\n",
       " 'J:\\\\Safegraph\\\\weekly_county_files\\\\weekly_patterns_2018_2021\\\\17\\\\17005\\\\17005_visitor_daytime_cbgs_2018-01-01_To_2018-01-08.csv',\n",
       " 'J:\\\\Safegraph\\\\weekly_county_files\\\\weekly_patterns_2018_2021\\\\17\\\\17007\\\\17007_visitor_daytime_cbgs_2018-01-01_To_2018-01-08.csv',\n",
       " 'J:\\\\Safegraph\\\\weekly_county_files\\\\weekly_patterns_2018_2021\\\\17\\\\17009\\\\17009_visitor_daytime_cbgs_2018-01-01_To_2018-01-08.csv',\n",
       " 'J:\\\\Safegraph\\\\weekly_county_files\\\\weekly_patterns_2018_2021\\\\17\\\\17011\\\\17011_visitor_daytime_cbgs_2018-01-01_To_2018-01-08.csv',\n",
       " 'J:\\\\Safegraph\\\\weekly_county_files\\\\weekly_patterns_2018_2021\\\\17\\\\17013\\\\17013_visitor_daytime_cbgs_2018-01-01_To_2018-01-08.csv',\n",
       " 'J:\\\\Safegraph\\\\weekly_county_files\\\\weekly_patterns_2018_2021\\\\17\\\\17015\\\\17015_visitor_daytime_cbgs_2018-01-01_To_2018-01-08.csv',\n",
       " 'J:\\\\Safegraph\\\\weekly_county_files\\\\weekly_patterns_2018_2021\\\\17\\\\17017\\\\17017_visitor_daytime_cbgs_2018-01-01_To_2018-01-08.csv',\n",
       " 'J:\\\\Safegraph\\\\weekly_county_files\\\\weekly_patterns_2018_2021\\\\17\\\\17019\\\\17019_visitor_daytime_cbgs_2018-01-01_To_2018-01-08.csv',\n",
       " 'J:\\\\Safegraph\\\\weekly_county_files\\\\weekly_patterns_2018_2021\\\\17\\\\17021\\\\17021_visitor_daytime_cbgs_2018-01-01_To_2018-01-08.csv',\n",
       " 'J:\\\\Safegraph\\\\weekly_county_files\\\\weekly_patterns_2018_2021\\\\17\\\\17023\\\\17023_visitor_daytime_cbgs_2018-01-01_To_2018-01-08.csv',\n",
       " 'J:\\\\Safegraph\\\\weekly_county_files\\\\weekly_patterns_2018_2021\\\\17\\\\17025\\\\17025_visitor_daytime_cbgs_2018-01-01_To_2018-01-08.csv',\n",
       " 'J:\\\\Safegraph\\\\weekly_county_files\\\\weekly_patterns_2018_2021\\\\17\\\\17027\\\\17027_visitor_daytime_cbgs_2018-01-01_To_2018-01-08.csv',\n",
       " 'J:\\\\Safegraph\\\\weekly_county_files\\\\weekly_patterns_2018_2021\\\\17\\\\17029\\\\17029_visitor_daytime_cbgs_2018-01-01_To_2018-01-08.csv',\n",
       " 'J:\\\\Safegraph\\\\weekly_county_files\\\\weekly_patterns_2018_2021\\\\17\\\\17031\\\\17031_visitor_daytime_cbgs_2018-01-01_To_2018-01-08.csv',\n",
       " 'J:\\\\Safegraph\\\\weekly_county_files\\\\weekly_patterns_2018_2021\\\\17\\\\17033\\\\17033_visitor_daytime_cbgs_2018-01-01_To_2018-01-08.csv',\n",
       " 'J:\\\\Safegraph\\\\weekly_county_files\\\\weekly_patterns_2018_2021\\\\17\\\\17035\\\\17035_visitor_daytime_cbgs_2018-01-01_To_2018-01-08.csv',\n",
       " 'J:\\\\Safegraph\\\\weekly_county_files\\\\weekly_patterns_2018_2021\\\\17\\\\17037\\\\17037_visitor_daytime_cbgs_2018-01-01_To_2018-01-08.csv',\n",
       " 'J:\\\\Safegraph\\\\weekly_county_files\\\\weekly_patterns_2018_2021\\\\17\\\\17039\\\\17039_visitor_daytime_cbgs_2018-01-01_To_2018-01-08.csv',\n",
       " 'J:\\\\Safegraph\\\\weekly_county_files\\\\weekly_patterns_2018_2021\\\\17\\\\17041\\\\17041_visitor_daytime_cbgs_2018-01-01_To_2018-01-08.csv',\n",
       " 'J:\\\\Safegraph\\\\weekly_county_files\\\\weekly_patterns_2018_2021\\\\17\\\\17043\\\\17043_visitor_daytime_cbgs_2018-01-01_To_2018-01-08.csv',\n",
       " 'J:\\\\Safegraph\\\\weekly_county_files\\\\weekly_patterns_2018_2021\\\\17\\\\17045\\\\17045_visitor_daytime_cbgs_2018-01-01_To_2018-01-08.csv',\n",
       " 'J:\\\\Safegraph\\\\weekly_county_files\\\\weekly_patterns_2018_2021\\\\17\\\\17047\\\\17047_visitor_daytime_cbgs_2018-01-01_To_2018-01-08.csv',\n",
       " 'J:\\\\Safegraph\\\\weekly_county_files\\\\weekly_patterns_2018_2021\\\\17\\\\17049\\\\17049_visitor_daytime_cbgs_2018-01-01_To_2018-01-08.csv',\n",
       " 'J:\\\\Safegraph\\\\weekly_county_files\\\\weekly_patterns_2018_2021\\\\17\\\\17051\\\\17051_visitor_daytime_cbgs_2018-01-01_To_2018-01-08.csv',\n",
       " 'J:\\\\Safegraph\\\\weekly_county_files\\\\weekly_patterns_2018_2021\\\\17\\\\17053\\\\17053_visitor_daytime_cbgs_2018-01-01_To_2018-01-08.csv',\n",
       " 'J:\\\\Safegraph\\\\weekly_county_files\\\\weekly_patterns_2018_2021\\\\17\\\\17055\\\\17055_visitor_daytime_cbgs_2018-01-01_To_2018-01-08.csv',\n",
       " 'J:\\\\Safegraph\\\\weekly_county_files\\\\weekly_patterns_2018_2021\\\\17\\\\17057\\\\17057_visitor_daytime_cbgs_2018-01-01_To_2018-01-08.csv',\n",
       " 'J:\\\\Safegraph\\\\weekly_county_files\\\\weekly_patterns_2018_2021\\\\17\\\\17059\\\\17059_visitor_daytime_cbgs_2018-01-01_To_2018-01-08.csv',\n",
       " 'J:\\\\Safegraph\\\\weekly_county_files\\\\weekly_patterns_2018_2021\\\\17\\\\17061\\\\17061_visitor_daytime_cbgs_2018-01-01_To_2018-01-08.csv',\n",
       " 'J:\\\\Safegraph\\\\weekly_county_files\\\\weekly_patterns_2018_2021\\\\17\\\\17063\\\\17063_visitor_daytime_cbgs_2018-01-01_To_2018-01-08.csv',\n",
       " 'J:\\\\Safegraph\\\\weekly_county_files\\\\weekly_patterns_2018_2021\\\\17\\\\17065\\\\17065_visitor_daytime_cbgs_2018-01-01_To_2018-01-08.csv',\n",
       " 'J:\\\\Safegraph\\\\weekly_county_files\\\\weekly_patterns_2018_2021\\\\17\\\\17067\\\\17067_visitor_daytime_cbgs_2018-01-01_To_2018-01-08.csv',\n",
       " 'J:\\\\Safegraph\\\\weekly_county_files\\\\weekly_patterns_2018_2021\\\\17\\\\17069\\\\17069_visitor_daytime_cbgs_2018-01-01_To_2018-01-08.csv',\n",
       " 'J:\\\\Safegraph\\\\weekly_county_files\\\\weekly_patterns_2018_2021\\\\17\\\\17071\\\\17071_visitor_daytime_cbgs_2018-01-01_To_2018-01-08.csv',\n",
       " 'J:\\\\Safegraph\\\\weekly_county_files\\\\weekly_patterns_2018_2021\\\\17\\\\17073\\\\17073_visitor_daytime_cbgs_2018-01-01_To_2018-01-08.csv',\n",
       " 'J:\\\\Safegraph\\\\weekly_county_files\\\\weekly_patterns_2018_2021\\\\17\\\\17075\\\\17075_visitor_daytime_cbgs_2018-01-01_To_2018-01-08.csv',\n",
       " 'J:\\\\Safegraph\\\\weekly_county_files\\\\weekly_patterns_2018_2021\\\\17\\\\17077\\\\17077_visitor_daytime_cbgs_2018-01-01_To_2018-01-08.csv',\n",
       " 'J:\\\\Safegraph\\\\weekly_county_files\\\\weekly_patterns_2018_2021\\\\17\\\\17079\\\\17079_visitor_daytime_cbgs_2018-01-01_To_2018-01-08.csv',\n",
       " 'J:\\\\Safegraph\\\\weekly_county_files\\\\weekly_patterns_2018_2021\\\\17\\\\17081\\\\17081_visitor_daytime_cbgs_2018-01-01_To_2018-01-08.csv',\n",
       " 'J:\\\\Safegraph\\\\weekly_county_files\\\\weekly_patterns_2018_2021\\\\17\\\\17083\\\\17083_visitor_daytime_cbgs_2018-01-01_To_2018-01-08.csv',\n",
       " 'J:\\\\Safegraph\\\\weekly_county_files\\\\weekly_patterns_2018_2021\\\\17\\\\17085\\\\17085_visitor_daytime_cbgs_2018-01-01_To_2018-01-08.csv',\n",
       " 'J:\\\\Safegraph\\\\weekly_county_files\\\\weekly_patterns_2018_2021\\\\17\\\\17087\\\\17087_visitor_daytime_cbgs_2018-01-01_To_2018-01-08.csv',\n",
       " 'J:\\\\Safegraph\\\\weekly_county_files\\\\weekly_patterns_2018_2021\\\\17\\\\17089\\\\17089_visitor_daytime_cbgs_2018-01-01_To_2018-01-08.csv',\n",
       " 'J:\\\\Safegraph\\\\weekly_county_files\\\\weekly_patterns_2018_2021\\\\17\\\\17091\\\\17091_visitor_daytime_cbgs_2018-01-01_To_2018-01-08.csv',\n",
       " 'J:\\\\Safegraph\\\\weekly_county_files\\\\weekly_patterns_2018_2021\\\\17\\\\17093\\\\17093_visitor_daytime_cbgs_2018-01-01_To_2018-01-08.csv',\n",
       " 'J:\\\\Safegraph\\\\weekly_county_files\\\\weekly_patterns_2018_2021\\\\17\\\\17095\\\\17095_visitor_daytime_cbgs_2018-01-01_To_2018-01-08.csv',\n",
       " 'J:\\\\Safegraph\\\\weekly_county_files\\\\weekly_patterns_2018_2021\\\\17\\\\17097\\\\17097_visitor_daytime_cbgs_2018-01-01_To_2018-01-08.csv',\n",
       " 'J:\\\\Safegraph\\\\weekly_county_files\\\\weekly_patterns_2018_2021\\\\17\\\\17099\\\\17099_visitor_daytime_cbgs_2018-01-01_To_2018-01-08.csv',\n",
       " 'J:\\\\Safegraph\\\\weekly_county_files\\\\weekly_patterns_2018_2021\\\\17\\\\17101\\\\17101_visitor_daytime_cbgs_2018-01-01_To_2018-01-08.csv',\n",
       " 'J:\\\\Safegraph\\\\weekly_county_files\\\\weekly_patterns_2018_2021\\\\17\\\\17103\\\\17103_visitor_daytime_cbgs_2018-01-01_To_2018-01-08.csv',\n",
       " 'J:\\\\Safegraph\\\\weekly_county_files\\\\weekly_patterns_2018_2021\\\\17\\\\17105\\\\17105_visitor_daytime_cbgs_2018-01-01_To_2018-01-08.csv',\n",
       " 'J:\\\\Safegraph\\\\weekly_county_files\\\\weekly_patterns_2018_2021\\\\17\\\\17107\\\\17107_visitor_daytime_cbgs_2018-01-01_To_2018-01-08.csv',\n",
       " 'J:\\\\Safegraph\\\\weekly_county_files\\\\weekly_patterns_2018_2021\\\\17\\\\17109\\\\17109_visitor_daytime_cbgs_2018-01-01_To_2018-01-08.csv',\n",
       " 'J:\\\\Safegraph\\\\weekly_county_files\\\\weekly_patterns_2018_2021\\\\17\\\\17111\\\\17111_visitor_daytime_cbgs_2018-01-01_To_2018-01-08.csv',\n",
       " 'J:\\\\Safegraph\\\\weekly_county_files\\\\weekly_patterns_2018_2021\\\\17\\\\17113\\\\17113_visitor_daytime_cbgs_2018-01-01_To_2018-01-08.csv',\n",
       " 'J:\\\\Safegraph\\\\weekly_county_files\\\\weekly_patterns_2018_2021\\\\17\\\\17115\\\\17115_visitor_daytime_cbgs_2018-01-01_To_2018-01-08.csv',\n",
       " 'J:\\\\Safegraph\\\\weekly_county_files\\\\weekly_patterns_2018_2021\\\\17\\\\17117\\\\17117_visitor_daytime_cbgs_2018-01-01_To_2018-01-08.csv',\n",
       " 'J:\\\\Safegraph\\\\weekly_county_files\\\\weekly_patterns_2018_2021\\\\17\\\\17119\\\\17119_visitor_daytime_cbgs_2018-01-01_To_2018-01-08.csv',\n",
       " 'J:\\\\Safegraph\\\\weekly_county_files\\\\weekly_patterns_2018_2021\\\\17\\\\17121\\\\17121_visitor_daytime_cbgs_2018-01-01_To_2018-01-08.csv',\n",
       " 'J:\\\\Safegraph\\\\weekly_county_files\\\\weekly_patterns_2018_2021\\\\17\\\\17123\\\\17123_visitor_daytime_cbgs_2018-01-01_To_2018-01-08.csv',\n",
       " 'J:\\\\Safegraph\\\\weekly_county_files\\\\weekly_patterns_2018_2021\\\\17\\\\17125\\\\17125_visitor_daytime_cbgs_2018-01-01_To_2018-01-08.csv',\n",
       " 'J:\\\\Safegraph\\\\weekly_county_files\\\\weekly_patterns_2018_2021\\\\17\\\\17127\\\\17127_visitor_daytime_cbgs_2018-01-01_To_2018-01-08.csv',\n",
       " 'J:\\\\Safegraph\\\\weekly_county_files\\\\weekly_patterns_2018_2021\\\\17\\\\17129\\\\17129_visitor_daytime_cbgs_2018-01-01_To_2018-01-08.csv',\n",
       " 'J:\\\\Safegraph\\\\weekly_county_files\\\\weekly_patterns_2018_2021\\\\17\\\\17131\\\\17131_visitor_daytime_cbgs_2018-01-01_To_2018-01-08.csv',\n",
       " 'J:\\\\Safegraph\\\\weekly_county_files\\\\weekly_patterns_2018_2021\\\\17\\\\17133\\\\17133_visitor_daytime_cbgs_2018-01-01_To_2018-01-08.csv',\n",
       " 'J:\\\\Safegraph\\\\weekly_county_files\\\\weekly_patterns_2018_2021\\\\17\\\\17135\\\\17135_visitor_daytime_cbgs_2018-01-01_To_2018-01-08.csv',\n",
       " 'J:\\\\Safegraph\\\\weekly_county_files\\\\weekly_patterns_2018_2021\\\\17\\\\17137\\\\17137_visitor_daytime_cbgs_2018-01-01_To_2018-01-08.csv',\n",
       " 'J:\\\\Safegraph\\\\weekly_county_files\\\\weekly_patterns_2018_2021\\\\17\\\\17139\\\\17139_visitor_daytime_cbgs_2018-01-01_To_2018-01-08.csv',\n",
       " 'J:\\\\Safegraph\\\\weekly_county_files\\\\weekly_patterns_2018_2021\\\\17\\\\17141\\\\17141_visitor_daytime_cbgs_2018-01-01_To_2018-01-08.csv',\n",
       " 'J:\\\\Safegraph\\\\weekly_county_files\\\\weekly_patterns_2018_2021\\\\17\\\\17143\\\\17143_visitor_daytime_cbgs_2018-01-01_To_2018-01-08.csv',\n",
       " 'J:\\\\Safegraph\\\\weekly_county_files\\\\weekly_patterns_2018_2021\\\\17\\\\17145\\\\17145_visitor_daytime_cbgs_2018-01-01_To_2018-01-08.csv',\n",
       " 'J:\\\\Safegraph\\\\weekly_county_files\\\\weekly_patterns_2018_2021\\\\17\\\\17147\\\\17147_visitor_daytime_cbgs_2018-01-01_To_2018-01-08.csv',\n",
       " 'J:\\\\Safegraph\\\\weekly_county_files\\\\weekly_patterns_2018_2021\\\\17\\\\17149\\\\17149_visitor_daytime_cbgs_2018-01-01_To_2018-01-08.csv',\n",
       " 'J:\\\\Safegraph\\\\weekly_county_files\\\\weekly_patterns_2018_2021\\\\17\\\\17151\\\\17151_visitor_daytime_cbgs_2018-01-01_To_2018-01-08.csv',\n",
       " 'J:\\\\Safegraph\\\\weekly_county_files\\\\weekly_patterns_2018_2021\\\\17\\\\17153\\\\17153_visitor_daytime_cbgs_2018-01-01_To_2018-01-08.csv',\n",
       " 'J:\\\\Safegraph\\\\weekly_county_files\\\\weekly_patterns_2018_2021\\\\17\\\\17155\\\\17155_visitor_daytime_cbgs_2018-01-01_To_2018-01-08.csv',\n",
       " 'J:\\\\Safegraph\\\\weekly_county_files\\\\weekly_patterns_2018_2021\\\\17\\\\17157\\\\17157_visitor_daytime_cbgs_2018-01-01_To_2018-01-08.csv',\n",
       " 'J:\\\\Safegraph\\\\weekly_county_files\\\\weekly_patterns_2018_2021\\\\17\\\\17159\\\\17159_visitor_daytime_cbgs_2018-01-01_To_2018-01-08.csv',\n",
       " 'J:\\\\Safegraph\\\\weekly_county_files\\\\weekly_patterns_2018_2021\\\\17\\\\17161\\\\17161_visitor_daytime_cbgs_2018-01-01_To_2018-01-08.csv',\n",
       " 'J:\\\\Safegraph\\\\weekly_county_files\\\\weekly_patterns_2018_2021\\\\17\\\\17163\\\\17163_visitor_daytime_cbgs_2018-01-01_To_2018-01-08.csv',\n",
       " 'J:\\\\Safegraph\\\\weekly_county_files\\\\weekly_patterns_2018_2021\\\\17\\\\17165\\\\17165_visitor_daytime_cbgs_2018-01-01_To_2018-01-08.csv',\n",
       " 'J:\\\\Safegraph\\\\weekly_county_files\\\\weekly_patterns_2018_2021\\\\17\\\\17167\\\\17167_visitor_daytime_cbgs_2018-01-01_To_2018-01-08.csv',\n",
       " 'J:\\\\Safegraph\\\\weekly_county_files\\\\weekly_patterns_2018_2021\\\\17\\\\17169\\\\17169_visitor_daytime_cbgs_2018-01-01_To_2018-01-08.csv',\n",
       " 'J:\\\\Safegraph\\\\weekly_county_files\\\\weekly_patterns_2018_2021\\\\17\\\\17171\\\\17171_visitor_daytime_cbgs_2018-01-01_To_2018-01-08.csv',\n",
       " 'J:\\\\Safegraph\\\\weekly_county_files\\\\weekly_patterns_2018_2021\\\\17\\\\17173\\\\17173_visitor_daytime_cbgs_2018-01-01_To_2018-01-08.csv',\n",
       " 'J:\\\\Safegraph\\\\weekly_county_files\\\\weekly_patterns_2018_2021\\\\17\\\\17175\\\\17175_visitor_daytime_cbgs_2018-01-01_To_2018-01-08.csv',\n",
       " 'J:\\\\Safegraph\\\\weekly_county_files\\\\weekly_patterns_2018_2021\\\\17\\\\17177\\\\17177_visitor_daytime_cbgs_2018-01-01_To_2018-01-08.csv',\n",
       " 'J:\\\\Safegraph\\\\weekly_county_files\\\\weekly_patterns_2018_2021\\\\17\\\\17179\\\\17179_visitor_daytime_cbgs_2018-01-01_To_2018-01-08.csv',\n",
       " 'J:\\\\Safegraph\\\\weekly_county_files\\\\weekly_patterns_2018_2021\\\\17\\\\17181\\\\17181_visitor_daytime_cbgs_2018-01-01_To_2018-01-08.csv',\n",
       " 'J:\\\\Safegraph\\\\weekly_county_files\\\\weekly_patterns_2018_2021\\\\17\\\\17183\\\\17183_visitor_daytime_cbgs_2018-01-01_To_2018-01-08.csv',\n",
       " 'J:\\\\Safegraph\\\\weekly_county_files\\\\weekly_patterns_2018_2021\\\\17\\\\17185\\\\17185_visitor_daytime_cbgs_2018-01-01_To_2018-01-08.csv',\n",
       " 'J:\\\\Safegraph\\\\weekly_county_files\\\\weekly_patterns_2018_2021\\\\17\\\\17187\\\\17187_visitor_daytime_cbgs_2018-01-01_To_2018-01-08.csv',\n",
       " 'J:\\\\Safegraph\\\\weekly_county_files\\\\weekly_patterns_2018_2021\\\\17\\\\17189\\\\17189_visitor_daytime_cbgs_2018-01-01_To_2018-01-08.csv',\n",
       " 'J:\\\\Safegraph\\\\weekly_county_files\\\\weekly_patterns_2018_2021\\\\17\\\\17191\\\\17191_visitor_daytime_cbgs_2018-01-01_To_2018-01-08.csv',\n",
       " 'J:\\\\Safegraph\\\\weekly_county_files\\\\weekly_patterns_2018_2021\\\\17\\\\17193\\\\17193_visitor_daytime_cbgs_2018-01-01_To_2018-01-08.csv',\n",
       " 'J:\\\\Safegraph\\\\weekly_county_files\\\\weekly_patterns_2018_2021\\\\17\\\\17195\\\\17195_visitor_daytime_cbgs_2018-01-01_To_2018-01-08.csv',\n",
       " 'J:\\\\Safegraph\\\\weekly_county_files\\\\weekly_patterns_2018_2021\\\\17\\\\17197\\\\17197_visitor_daytime_cbgs_2018-01-01_To_2018-01-08.csv',\n",
       " 'J:\\\\Safegraph\\\\weekly_county_files\\\\weekly_patterns_2018_2021\\\\17\\\\17199\\\\17199_visitor_daytime_cbgs_2018-01-01_To_2018-01-08.csv',\n",
       " 'J:\\\\Safegraph\\\\weekly_county_files\\\\weekly_patterns_2018_2021\\\\17\\\\17201\\\\17201_visitor_daytime_cbgs_2018-01-01_To_2018-01-08.csv',\n",
       " 'J:\\\\Safegraph\\\\weekly_county_files\\\\weekly_patterns_2018_2021\\\\17\\\\17203\\\\17203_visitor_daytime_cbgs_2018-01-01_To_2018-01-08.csv',\n",
       " 'J:\\\\Safegraph\\\\weekly_county_files\\\\weekly_patterns_2018_2021\\\\18\\\\18001\\\\18001_visitor_daytime_cbgs_2018-01-01_To_2018-01-08.csv',\n",
       " 'J:\\\\Safegraph\\\\weekly_county_files\\\\weekly_patterns_2018_2021\\\\18\\\\18003\\\\18003_visitor_daytime_cbgs_2018-01-01_To_2018-01-08.csv',\n",
       " 'J:\\\\Safegraph\\\\weekly_county_files\\\\weekly_patterns_2018_2021\\\\18\\\\18005\\\\18005_visitor_daytime_cbgs_2018-01-01_To_2018-01-08.csv',\n",
       " 'J:\\\\Safegraph\\\\weekly_county_files\\\\weekly_patterns_2018_2021\\\\18\\\\18007\\\\18007_visitor_daytime_cbgs_2018-01-01_To_2018-01-08.csv',\n",
       " 'J:\\\\Safegraph\\\\weekly_county_files\\\\weekly_patterns_2018_2021\\\\18\\\\18009\\\\18009_visitor_daytime_cbgs_2018-01-01_To_2018-01-08.csv',\n",
       " 'J:\\\\Safegraph\\\\weekly_county_files\\\\weekly_patterns_2018_2021\\\\18\\\\18011\\\\18011_visitor_daytime_cbgs_2018-01-01_To_2018-01-08.csv',\n",
       " 'J:\\\\Safegraph\\\\weekly_county_files\\\\weekly_patterns_2018_2021\\\\18\\\\18013\\\\18013_visitor_daytime_cbgs_2018-01-01_To_2018-01-08.csv',\n",
       " 'J:\\\\Safegraph\\\\weekly_county_files\\\\weekly_patterns_2018_2021\\\\18\\\\18015\\\\18015_visitor_daytime_cbgs_2018-01-01_To_2018-01-08.csv',\n",
       " 'J:\\\\Safegraph\\\\weekly_county_files\\\\weekly_patterns_2018_2021\\\\18\\\\18017\\\\18017_visitor_daytime_cbgs_2018-01-01_To_2018-01-08.csv',\n",
       " 'J:\\\\Safegraph\\\\weekly_county_files\\\\weekly_patterns_2018_2021\\\\18\\\\18019\\\\18019_visitor_daytime_cbgs_2018-01-01_To_2018-01-08.csv',\n",
       " 'J:\\\\Safegraph\\\\weekly_county_files\\\\weekly_patterns_2018_2021\\\\18\\\\18021\\\\18021_visitor_daytime_cbgs_2018-01-01_To_2018-01-08.csv',\n",
       " 'J:\\\\Safegraph\\\\weekly_county_files\\\\weekly_patterns_2018_2021\\\\18\\\\18023\\\\18023_visitor_daytime_cbgs_2018-01-01_To_2018-01-08.csv',\n",
       " 'J:\\\\Safegraph\\\\weekly_county_files\\\\weekly_patterns_2018_2021\\\\18\\\\18025\\\\18025_visitor_daytime_cbgs_2018-01-01_To_2018-01-08.csv',\n",
       " 'J:\\\\Safegraph\\\\weekly_county_files\\\\weekly_patterns_2018_2021\\\\18\\\\18027\\\\18027_visitor_daytime_cbgs_2018-01-01_To_2018-01-08.csv',\n",
       " 'J:\\\\Safegraph\\\\weekly_county_files\\\\weekly_patterns_2018_2021\\\\18\\\\18029\\\\18029_visitor_daytime_cbgs_2018-01-01_To_2018-01-08.csv',\n",
       " 'J:\\\\Safegraph\\\\weekly_county_files\\\\weekly_patterns_2018_2021\\\\18\\\\18031\\\\18031_visitor_daytime_cbgs_2018-01-01_To_2018-01-08.csv',\n",
       " 'J:\\\\Safegraph\\\\weekly_county_files\\\\weekly_patterns_2018_2021\\\\18\\\\18033\\\\18033_visitor_daytime_cbgs_2018-01-01_To_2018-01-08.csv',\n",
       " 'J:\\\\Safegraph\\\\weekly_county_files\\\\weekly_patterns_2018_2021\\\\18\\\\18035\\\\18035_visitor_daytime_cbgs_2018-01-01_To_2018-01-08.csv',\n",
       " 'J:\\\\Safegraph\\\\weekly_county_files\\\\weekly_patterns_2018_2021\\\\18\\\\18037\\\\18037_visitor_daytime_cbgs_2018-01-01_To_2018-01-08.csv',\n",
       " 'J:\\\\Safegraph\\\\weekly_county_files\\\\weekly_patterns_2018_2021\\\\18\\\\18039\\\\18039_visitor_daytime_cbgs_2018-01-01_To_2018-01-08.csv',\n",
       " 'J:\\\\Safegraph\\\\weekly_county_files\\\\weekly_patterns_2018_2021\\\\18\\\\18041\\\\18041_visitor_daytime_cbgs_2018-01-01_To_2018-01-08.csv',\n",
       " 'J:\\\\Safegraph\\\\weekly_county_files\\\\weekly_patterns_2018_2021\\\\18\\\\18043\\\\18043_visitor_daytime_cbgs_2018-01-01_To_2018-01-08.csv',\n",
       " 'J:\\\\Safegraph\\\\weekly_county_files\\\\weekly_patterns_2018_2021\\\\18\\\\18045\\\\18045_visitor_daytime_cbgs_2018-01-01_To_2018-01-08.csv',\n",
       " 'J:\\\\Safegraph\\\\weekly_county_files\\\\weekly_patterns_2018_2021\\\\18\\\\18047\\\\18047_visitor_daytime_cbgs_2018-01-01_To_2018-01-08.csv',\n",
       " 'J:\\\\Safegraph\\\\weekly_county_files\\\\weekly_patterns_2018_2021\\\\18\\\\18049\\\\18049_visitor_daytime_cbgs_2018-01-01_To_2018-01-08.csv',\n",
       " 'J:\\\\Safegraph\\\\weekly_county_files\\\\weekly_patterns_2018_2021\\\\18\\\\18051\\\\18051_visitor_daytime_cbgs_2018-01-01_To_2018-01-08.csv',\n",
       " 'J:\\\\Safegraph\\\\weekly_county_files\\\\weekly_patterns_2018_2021\\\\18\\\\18053\\\\18053_visitor_daytime_cbgs_2018-01-01_To_2018-01-08.csv',\n",
       " 'J:\\\\Safegraph\\\\weekly_county_files\\\\weekly_patterns_2018_2021\\\\18\\\\18055\\\\18055_visitor_daytime_cbgs_2018-01-01_To_2018-01-08.csv',\n",
       " 'J:\\\\Safegraph\\\\weekly_county_files\\\\weekly_patterns_2018_2021\\\\18\\\\18057\\\\18057_visitor_daytime_cbgs_2018-01-01_To_2018-01-08.csv',\n",
       " 'J:\\\\Safegraph\\\\weekly_county_files\\\\weekly_patterns_2018_2021\\\\18\\\\18059\\\\18059_visitor_daytime_cbgs_2018-01-01_To_2018-01-08.csv',\n",
       " 'J:\\\\Safegraph\\\\weekly_county_files\\\\weekly_patterns_2018_2021\\\\18\\\\18061\\\\18061_visitor_daytime_cbgs_2018-01-01_To_2018-01-08.csv',\n",
       " 'J:\\\\Safegraph\\\\weekly_county_files\\\\weekly_patterns_2018_2021\\\\18\\\\18063\\\\18063_visitor_daytime_cbgs_2018-01-01_To_2018-01-08.csv',\n",
       " 'J:\\\\Safegraph\\\\weekly_county_files\\\\weekly_patterns_2018_2021\\\\18\\\\18065\\\\18065_visitor_daytime_cbgs_2018-01-01_To_2018-01-08.csv',\n",
       " 'J:\\\\Safegraph\\\\weekly_county_files\\\\weekly_patterns_2018_2021\\\\18\\\\18067\\\\18067_visitor_daytime_cbgs_2018-01-01_To_2018-01-08.csv',\n",
       " 'J:\\\\Safegraph\\\\weekly_county_files\\\\weekly_patterns_2018_2021\\\\18\\\\18069\\\\18069_visitor_daytime_cbgs_2018-01-01_To_2018-01-08.csv',\n",
       " 'J:\\\\Safegraph\\\\weekly_county_files\\\\weekly_patterns_2018_2021\\\\18\\\\18071\\\\18071_visitor_daytime_cbgs_2018-01-01_To_2018-01-08.csv',\n",
       " 'J:\\\\Safegraph\\\\weekly_county_files\\\\weekly_patterns_2018_2021\\\\18\\\\18073\\\\18073_visitor_daytime_cbgs_2018-01-01_To_2018-01-08.csv',\n",
       " 'J:\\\\Safegraph\\\\weekly_county_files\\\\weekly_patterns_2018_2021\\\\18\\\\18075\\\\18075_visitor_daytime_cbgs_2018-01-01_To_2018-01-08.csv',\n",
       " 'J:\\\\Safegraph\\\\weekly_county_files\\\\weekly_patterns_2018_2021\\\\18\\\\18077\\\\18077_visitor_daytime_cbgs_2018-01-01_To_2018-01-08.csv',\n",
       " 'J:\\\\Safegraph\\\\weekly_county_files\\\\weekly_patterns_2018_2021\\\\18\\\\18079\\\\18079_visitor_daytime_cbgs_2018-01-01_To_2018-01-08.csv',\n",
       " 'J:\\\\Safegraph\\\\weekly_county_files\\\\weekly_patterns_2018_2021\\\\18\\\\18081\\\\18081_visitor_daytime_cbgs_2018-01-01_To_2018-01-08.csv',\n",
       " 'J:\\\\Safegraph\\\\weekly_county_files\\\\weekly_patterns_2018_2021\\\\18\\\\18083\\\\18083_visitor_daytime_cbgs_2018-01-01_To_2018-01-08.csv',\n",
       " 'J:\\\\Safegraph\\\\weekly_county_files\\\\weekly_patterns_2018_2021\\\\18\\\\18085\\\\18085_visitor_daytime_cbgs_2018-01-01_To_2018-01-08.csv',\n",
       " 'J:\\\\Safegraph\\\\weekly_county_files\\\\weekly_patterns_2018_2021\\\\18\\\\18087\\\\18087_visitor_daytime_cbgs_2018-01-01_To_2018-01-08.csv',\n",
       " 'J:\\\\Safegraph\\\\weekly_county_files\\\\weekly_patterns_2018_2021\\\\18\\\\18089\\\\18089_visitor_daytime_cbgs_2018-01-01_To_2018-01-08.csv',\n",
       " 'J:\\\\Safegraph\\\\weekly_county_files\\\\weekly_patterns_2018_2021\\\\18\\\\18091\\\\18091_visitor_daytime_cbgs_2018-01-01_To_2018-01-08.csv',\n",
       " 'J:\\\\Safegraph\\\\weekly_county_files\\\\weekly_patterns_2018_2021\\\\18\\\\18093\\\\18093_visitor_daytime_cbgs_2018-01-01_To_2018-01-08.csv',\n",
       " 'J:\\\\Safegraph\\\\weekly_county_files\\\\weekly_patterns_2018_2021\\\\18\\\\18095\\\\18095_visitor_daytime_cbgs_2018-01-01_To_2018-01-08.csv',\n",
       " 'J:\\\\Safegraph\\\\weekly_county_files\\\\weekly_patterns_2018_2021\\\\18\\\\18097\\\\18097_visitor_daytime_cbgs_2018-01-01_To_2018-01-08.csv',\n",
       " 'J:\\\\Safegraph\\\\weekly_county_files\\\\weekly_patterns_2018_2021\\\\18\\\\18099\\\\18099_visitor_daytime_cbgs_2018-01-01_To_2018-01-08.csv',\n",
       " 'J:\\\\Safegraph\\\\weekly_county_files\\\\weekly_patterns_2018_2021\\\\18\\\\18101\\\\18101_visitor_daytime_cbgs_2018-01-01_To_2018-01-08.csv',\n",
       " 'J:\\\\Safegraph\\\\weekly_county_files\\\\weekly_patterns_2018_2021\\\\18\\\\18103\\\\18103_visitor_daytime_cbgs_2018-01-01_To_2018-01-08.csv',\n",
       " 'J:\\\\Safegraph\\\\weekly_county_files\\\\weekly_patterns_2018_2021\\\\18\\\\18105\\\\18105_visitor_daytime_cbgs_2018-01-01_To_2018-01-08.csv',\n",
       " 'J:\\\\Safegraph\\\\weekly_county_files\\\\weekly_patterns_2018_2021\\\\18\\\\18107\\\\18107_visitor_daytime_cbgs_2018-01-01_To_2018-01-08.csv',\n",
       " 'J:\\\\Safegraph\\\\weekly_county_files\\\\weekly_patterns_2018_2021\\\\18\\\\18109\\\\18109_visitor_daytime_cbgs_2018-01-01_To_2018-01-08.csv',\n",
       " 'J:\\\\Safegraph\\\\weekly_county_files\\\\weekly_patterns_2018_2021\\\\18\\\\18111\\\\18111_visitor_daytime_cbgs_2018-01-01_To_2018-01-08.csv',\n",
       " 'J:\\\\Safegraph\\\\weekly_county_files\\\\weekly_patterns_2018_2021\\\\18\\\\18113\\\\18113_visitor_daytime_cbgs_2018-01-01_To_2018-01-08.csv',\n",
       " 'J:\\\\Safegraph\\\\weekly_county_files\\\\weekly_patterns_2018_2021\\\\18\\\\18115\\\\18115_visitor_daytime_cbgs_2018-01-01_To_2018-01-08.csv',\n",
       " 'J:\\\\Safegraph\\\\weekly_county_files\\\\weekly_patterns_2018_2021\\\\18\\\\18117\\\\18117_visitor_daytime_cbgs_2018-01-01_To_2018-01-08.csv',\n",
       " 'J:\\\\Safegraph\\\\weekly_county_files\\\\weekly_patterns_2018_2021\\\\18\\\\18119\\\\18119_visitor_daytime_cbgs_2018-01-01_To_2018-01-08.csv',\n",
       " 'J:\\\\Safegraph\\\\weekly_county_files\\\\weekly_patterns_2018_2021\\\\18\\\\18121\\\\18121_visitor_daytime_cbgs_2018-01-01_To_2018-01-08.csv',\n",
       " 'J:\\\\Safegraph\\\\weekly_county_files\\\\weekly_patterns_2018_2021\\\\18\\\\18123\\\\18123_visitor_daytime_cbgs_2018-01-01_To_2018-01-08.csv',\n",
       " 'J:\\\\Safegraph\\\\weekly_county_files\\\\weekly_patterns_2018_2021\\\\18\\\\18125\\\\18125_visitor_daytime_cbgs_2018-01-01_To_2018-01-08.csv',\n",
       " 'J:\\\\Safegraph\\\\weekly_county_files\\\\weekly_patterns_2018_2021\\\\18\\\\18127\\\\18127_visitor_daytime_cbgs_2018-01-01_To_2018-01-08.csv',\n",
       " 'J:\\\\Safegraph\\\\weekly_county_files\\\\weekly_patterns_2018_2021\\\\18\\\\18129\\\\18129_visitor_daytime_cbgs_2018-01-01_To_2018-01-08.csv',\n",
       " 'J:\\\\Safegraph\\\\weekly_county_files\\\\weekly_patterns_2018_2021\\\\18\\\\18131\\\\18131_visitor_daytime_cbgs_2018-01-01_To_2018-01-08.csv',\n",
       " 'J:\\\\Safegraph\\\\weekly_county_files\\\\weekly_patterns_2018_2021\\\\18\\\\18133\\\\18133_visitor_daytime_cbgs_2018-01-01_To_2018-01-08.csv',\n",
       " 'J:\\\\Safegraph\\\\weekly_county_files\\\\weekly_patterns_2018_2021\\\\18\\\\18135\\\\18135_visitor_daytime_cbgs_2018-01-01_To_2018-01-08.csv',\n",
       " 'J:\\\\Safegraph\\\\weekly_county_files\\\\weekly_patterns_2018_2021\\\\18\\\\18137\\\\18137_visitor_daytime_cbgs_2018-01-01_To_2018-01-08.csv',\n",
       " 'J:\\\\Safegraph\\\\weekly_county_files\\\\weekly_patterns_2018_2021\\\\18\\\\18139\\\\18139_visitor_daytime_cbgs_2018-01-01_To_2018-01-08.csv',\n",
       " 'J:\\\\Safegraph\\\\weekly_county_files\\\\weekly_patterns_2018_2021\\\\18\\\\18141\\\\18141_visitor_daytime_cbgs_2018-01-01_To_2018-01-08.csv',\n",
       " 'J:\\\\Safegraph\\\\weekly_county_files\\\\weekly_patterns_2018_2021\\\\18\\\\18143\\\\18143_visitor_daytime_cbgs_2018-01-01_To_2018-01-08.csv',\n",
       " 'J:\\\\Safegraph\\\\weekly_county_files\\\\weekly_patterns_2018_2021\\\\18\\\\18145\\\\18145_visitor_daytime_cbgs_2018-01-01_To_2018-01-08.csv',\n",
       " 'J:\\\\Safegraph\\\\weekly_county_files\\\\weekly_patterns_2018_2021\\\\18\\\\18147\\\\18147_visitor_daytime_cbgs_2018-01-01_To_2018-01-08.csv',\n",
       " 'J:\\\\Safegraph\\\\weekly_county_files\\\\weekly_patterns_2018_2021\\\\18\\\\18149\\\\18149_visitor_daytime_cbgs_2018-01-01_To_2018-01-08.csv',\n",
       " 'J:\\\\Safegraph\\\\weekly_county_files\\\\weekly_patterns_2018_2021\\\\18\\\\18151\\\\18151_visitor_daytime_cbgs_2018-01-01_To_2018-01-08.csv',\n",
       " 'J:\\\\Safegraph\\\\weekly_county_files\\\\weekly_patterns_2018_2021\\\\18\\\\18153\\\\18153_visitor_daytime_cbgs_2018-01-01_To_2018-01-08.csv',\n",
       " 'J:\\\\Safegraph\\\\weekly_county_files\\\\weekly_patterns_2018_2021\\\\18\\\\18155\\\\18155_visitor_daytime_cbgs_2018-01-01_To_2018-01-08.csv',\n",
       " 'J:\\\\Safegraph\\\\weekly_county_files\\\\weekly_patterns_2018_2021\\\\18\\\\18157\\\\18157_visitor_daytime_cbgs_2018-01-01_To_2018-01-08.csv',\n",
       " 'J:\\\\Safegraph\\\\weekly_county_files\\\\weekly_patterns_2018_2021\\\\18\\\\18159\\\\18159_visitor_daytime_cbgs_2018-01-01_To_2018-01-08.csv',\n",
       " 'J:\\\\Safegraph\\\\weekly_county_files\\\\weekly_patterns_2018_2021\\\\18\\\\18161\\\\18161_visitor_daytime_cbgs_2018-01-01_To_2018-01-08.csv',\n",
       " 'J:\\\\Safegraph\\\\weekly_county_files\\\\weekly_patterns_2018_2021\\\\18\\\\18163\\\\18163_visitor_daytime_cbgs_2018-01-01_To_2018-01-08.csv',\n",
       " 'J:\\\\Safegraph\\\\weekly_county_files\\\\weekly_patterns_2018_2021\\\\18\\\\18165\\\\18165_visitor_daytime_cbgs_2018-01-01_To_2018-01-08.csv',\n",
       " 'J:\\\\Safegraph\\\\weekly_county_files\\\\weekly_patterns_2018_2021\\\\18\\\\18167\\\\18167_visitor_daytime_cbgs_2018-01-01_To_2018-01-08.csv',\n",
       " 'J:\\\\Safegraph\\\\weekly_county_files\\\\weekly_patterns_2018_2021\\\\18\\\\18169\\\\18169_visitor_daytime_cbgs_2018-01-01_To_2018-01-08.csv',\n",
       " 'J:\\\\Safegraph\\\\weekly_county_files\\\\weekly_patterns_2018_2021\\\\18\\\\18171\\\\18171_visitor_daytime_cbgs_2018-01-01_To_2018-01-08.csv',\n",
       " 'J:\\\\Safegraph\\\\weekly_county_files\\\\weekly_patterns_2018_2021\\\\18\\\\18173\\\\18173_visitor_daytime_cbgs_2018-01-01_To_2018-01-08.csv',\n",
       " 'J:\\\\Safegraph\\\\weekly_county_files\\\\weekly_patterns_2018_2021\\\\18\\\\18175\\\\18175_visitor_daytime_cbgs_2018-01-01_To_2018-01-08.csv',\n",
       " 'J:\\\\Safegraph\\\\weekly_county_files\\\\weekly_patterns_2018_2021\\\\18\\\\18177\\\\18177_visitor_daytime_cbgs_2018-01-01_To_2018-01-08.csv',\n",
       " 'J:\\\\Safegraph\\\\weekly_county_files\\\\weekly_patterns_2018_2021\\\\18\\\\18179\\\\18179_visitor_daytime_cbgs_2018-01-01_To_2018-01-08.csv',\n",
       " 'J:\\\\Safegraph\\\\weekly_county_files\\\\weekly_patterns_2018_2021\\\\18\\\\18181\\\\18181_visitor_daytime_cbgs_2018-01-01_To_2018-01-08.csv',\n",
       " 'J:\\\\Safegraph\\\\weekly_county_files\\\\weekly_patterns_2018_2021\\\\18\\\\18183\\\\18183_visitor_daytime_cbgs_2018-01-01_To_2018-01-08.csv',\n",
       " 'J:\\\\Safegraph\\\\weekly_county_files\\\\weekly_patterns_2018_2021\\\\19\\\\19001\\\\19001_visitor_daytime_cbgs_2018-01-01_To_2018-01-08.csv',\n",
       " 'J:\\\\Safegraph\\\\weekly_county_files\\\\weekly_patterns_2018_2021\\\\19\\\\19003\\\\19003_visitor_daytime_cbgs_2018-01-01_To_2018-01-08.csv',\n",
       " 'J:\\\\Safegraph\\\\weekly_county_files\\\\weekly_patterns_2018_2021\\\\19\\\\19005\\\\19005_visitor_daytime_cbgs_2018-01-01_To_2018-01-08.csv',\n",
       " 'J:\\\\Safegraph\\\\weekly_county_files\\\\weekly_patterns_2018_2021\\\\19\\\\19007\\\\19007_visitor_daytime_cbgs_2018-01-01_To_2018-01-08.csv',\n",
       " 'J:\\\\Safegraph\\\\weekly_county_files\\\\weekly_patterns_2018_2021\\\\19\\\\19009\\\\19009_visitor_daytime_cbgs_2018-01-01_To_2018-01-08.csv',\n",
       " 'J:\\\\Safegraph\\\\weekly_county_files\\\\weekly_patterns_2018_2021\\\\19\\\\19011\\\\19011_visitor_daytime_cbgs_2018-01-01_To_2018-01-08.csv',\n",
       " 'J:\\\\Safegraph\\\\weekly_county_files\\\\weekly_patterns_2018_2021\\\\19\\\\19013\\\\19013_visitor_daytime_cbgs_2018-01-01_To_2018-01-08.csv',\n",
       " 'J:\\\\Safegraph\\\\weekly_county_files\\\\weekly_patterns_2018_2021\\\\19\\\\19015\\\\19015_visitor_daytime_cbgs_2018-01-01_To_2018-01-08.csv',\n",
       " 'J:\\\\Safegraph\\\\weekly_county_files\\\\weekly_patterns_2018_2021\\\\19\\\\19017\\\\19017_visitor_daytime_cbgs_2018-01-01_To_2018-01-08.csv',\n",
       " 'J:\\\\Safegraph\\\\weekly_county_files\\\\weekly_patterns_2018_2021\\\\19\\\\19019\\\\19019_visitor_daytime_cbgs_2018-01-01_To_2018-01-08.csv',\n",
       " 'J:\\\\Safegraph\\\\weekly_county_files\\\\weekly_patterns_2018_2021\\\\19\\\\19021\\\\19021_visitor_daytime_cbgs_2018-01-01_To_2018-01-08.csv',\n",
       " 'J:\\\\Safegraph\\\\weekly_county_files\\\\weekly_patterns_2018_2021\\\\19\\\\19023\\\\19023_visitor_daytime_cbgs_2018-01-01_To_2018-01-08.csv',\n",
       " 'J:\\\\Safegraph\\\\weekly_county_files\\\\weekly_patterns_2018_2021\\\\19\\\\19025\\\\19025_visitor_daytime_cbgs_2018-01-01_To_2018-01-08.csv',\n",
       " 'J:\\\\Safegraph\\\\weekly_county_files\\\\weekly_patterns_2018_2021\\\\19\\\\19027\\\\19027_visitor_daytime_cbgs_2018-01-01_To_2018-01-08.csv',\n",
       " 'J:\\\\Safegraph\\\\weekly_county_files\\\\weekly_patterns_2018_2021\\\\19\\\\19029\\\\19029_visitor_daytime_cbgs_2018-01-01_To_2018-01-08.csv',\n",
       " 'J:\\\\Safegraph\\\\weekly_county_files\\\\weekly_patterns_2018_2021\\\\19\\\\19031\\\\19031_visitor_daytime_cbgs_2018-01-01_To_2018-01-08.csv',\n",
       " 'J:\\\\Safegraph\\\\weekly_county_files\\\\weekly_patterns_2018_2021\\\\19\\\\19033\\\\19033_visitor_daytime_cbgs_2018-01-01_To_2018-01-08.csv',\n",
       " 'J:\\\\Safegraph\\\\weekly_county_files\\\\weekly_patterns_2018_2021\\\\19\\\\19035\\\\19035_visitor_daytime_cbgs_2018-01-01_To_2018-01-08.csv',\n",
       " 'J:\\\\Safegraph\\\\weekly_county_files\\\\weekly_patterns_2018_2021\\\\19\\\\19037\\\\19037_visitor_daytime_cbgs_2018-01-01_To_2018-01-08.csv',\n",
       " 'J:\\\\Safegraph\\\\weekly_county_files\\\\weekly_patterns_2018_2021\\\\19\\\\19039\\\\19039_visitor_daytime_cbgs_2018-01-01_To_2018-01-08.csv',\n",
       " 'J:\\\\Safegraph\\\\weekly_county_files\\\\weekly_patterns_2018_2021\\\\19\\\\19041\\\\19041_visitor_daytime_cbgs_2018-01-01_To_2018-01-08.csv',\n",
       " 'J:\\\\Safegraph\\\\weekly_county_files\\\\weekly_patterns_2018_2021\\\\19\\\\19043\\\\19043_visitor_daytime_cbgs_2018-01-01_To_2018-01-08.csv',\n",
       " 'J:\\\\Safegraph\\\\weekly_county_files\\\\weekly_patterns_2018_2021\\\\19\\\\19045\\\\19045_visitor_daytime_cbgs_2018-01-01_To_2018-01-08.csv',\n",
       " 'J:\\\\Safegraph\\\\weekly_county_files\\\\weekly_patterns_2018_2021\\\\19\\\\19047\\\\19047_visitor_daytime_cbgs_2018-01-01_To_2018-01-08.csv',\n",
       " 'J:\\\\Safegraph\\\\weekly_county_files\\\\weekly_patterns_2018_2021\\\\19\\\\19049\\\\19049_visitor_daytime_cbgs_2018-01-01_To_2018-01-08.csv',\n",
       " 'J:\\\\Safegraph\\\\weekly_county_files\\\\weekly_patterns_2018_2021\\\\19\\\\19051\\\\19051_visitor_daytime_cbgs_2018-01-01_To_2018-01-08.csv',\n",
       " 'J:\\\\Safegraph\\\\weekly_county_files\\\\weekly_patterns_2018_2021\\\\19\\\\19053\\\\19053_visitor_daytime_cbgs_2018-01-01_To_2018-01-08.csv',\n",
       " 'J:\\\\Safegraph\\\\weekly_county_files\\\\weekly_patterns_2018_2021\\\\19\\\\19055\\\\19055_visitor_daytime_cbgs_2018-01-01_To_2018-01-08.csv',\n",
       " 'J:\\\\Safegraph\\\\weekly_county_files\\\\weekly_patterns_2018_2021\\\\19\\\\19057\\\\19057_visitor_daytime_cbgs_2018-01-01_To_2018-01-08.csv',\n",
       " 'J:\\\\Safegraph\\\\weekly_county_files\\\\weekly_patterns_2018_2021\\\\19\\\\19059\\\\19059_visitor_daytime_cbgs_2018-01-01_To_2018-01-08.csv',\n",
       " 'J:\\\\Safegraph\\\\weekly_county_files\\\\weekly_patterns_2018_2021\\\\19\\\\19061\\\\19061_visitor_daytime_cbgs_2018-01-01_To_2018-01-08.csv',\n",
       " 'J:\\\\Safegraph\\\\weekly_county_files\\\\weekly_patterns_2018_2021\\\\19\\\\19063\\\\19063_visitor_daytime_cbgs_2018-01-01_To_2018-01-08.csv',\n",
       " 'J:\\\\Safegraph\\\\weekly_county_files\\\\weekly_patterns_2018_2021\\\\19\\\\19065\\\\19065_visitor_daytime_cbgs_2018-01-01_To_2018-01-08.csv',\n",
       " 'J:\\\\Safegraph\\\\weekly_county_files\\\\weekly_patterns_2018_2021\\\\19\\\\19067\\\\19067_visitor_daytime_cbgs_2018-01-01_To_2018-01-08.csv',\n",
       " 'J:\\\\Safegraph\\\\weekly_county_files\\\\weekly_patterns_2018_2021\\\\19\\\\19069\\\\19069_visitor_daytime_cbgs_2018-01-01_To_2018-01-08.csv',\n",
       " 'J:\\\\Safegraph\\\\weekly_county_files\\\\weekly_patterns_2018_2021\\\\19\\\\19071\\\\19071_visitor_daytime_cbgs_2018-01-01_To_2018-01-08.csv',\n",
       " 'J:\\\\Safegraph\\\\weekly_county_files\\\\weekly_patterns_2018_2021\\\\19\\\\19073\\\\19073_visitor_daytime_cbgs_2018-01-01_To_2018-01-08.csv',\n",
       " 'J:\\\\Safegraph\\\\weekly_county_files\\\\weekly_patterns_2018_2021\\\\19\\\\19075\\\\19075_visitor_daytime_cbgs_2018-01-01_To_2018-01-08.csv',\n",
       " 'J:\\\\Safegraph\\\\weekly_county_files\\\\weekly_patterns_2018_2021\\\\19\\\\19077\\\\19077_visitor_daytime_cbgs_2018-01-01_To_2018-01-08.csv',\n",
       " 'J:\\\\Safegraph\\\\weekly_county_files\\\\weekly_patterns_2018_2021\\\\19\\\\19079\\\\19079_visitor_daytime_cbgs_2018-01-01_To_2018-01-08.csv',\n",
       " 'J:\\\\Safegraph\\\\weekly_county_files\\\\weekly_patterns_2018_2021\\\\19\\\\19081\\\\19081_visitor_daytime_cbgs_2018-01-01_To_2018-01-08.csv',\n",
       " 'J:\\\\Safegraph\\\\weekly_county_files\\\\weekly_patterns_2018_2021\\\\19\\\\19083\\\\19083_visitor_daytime_cbgs_2018-01-01_To_2018-01-08.csv',\n",
       " 'J:\\\\Safegraph\\\\weekly_county_files\\\\weekly_patterns_2018_2021\\\\19\\\\19085\\\\19085_visitor_daytime_cbgs_2018-01-01_To_2018-01-08.csv',\n",
       " 'J:\\\\Safegraph\\\\weekly_county_files\\\\weekly_patterns_2018_2021\\\\19\\\\19087\\\\19087_visitor_daytime_cbgs_2018-01-01_To_2018-01-08.csv',\n",
       " 'J:\\\\Safegraph\\\\weekly_county_files\\\\weekly_patterns_2018_2021\\\\19\\\\19089\\\\19089_visitor_daytime_cbgs_2018-01-01_To_2018-01-08.csv',\n",
       " 'J:\\\\Safegraph\\\\weekly_county_files\\\\weekly_patterns_2018_2021\\\\19\\\\19091\\\\19091_visitor_daytime_cbgs_2018-01-01_To_2018-01-08.csv',\n",
       " 'J:\\\\Safegraph\\\\weekly_county_files\\\\weekly_patterns_2018_2021\\\\19\\\\19093\\\\19093_visitor_daytime_cbgs_2018-01-01_To_2018-01-08.csv',\n",
       " 'J:\\\\Safegraph\\\\weekly_county_files\\\\weekly_patterns_2018_2021\\\\19\\\\19095\\\\19095_visitor_daytime_cbgs_2018-01-01_To_2018-01-08.csv',\n",
       " 'J:\\\\Safegraph\\\\weekly_county_files\\\\weekly_patterns_2018_2021\\\\19\\\\19097\\\\19097_visitor_daytime_cbgs_2018-01-01_To_2018-01-08.csv',\n",
       " 'J:\\\\Safegraph\\\\weekly_county_files\\\\weekly_patterns_2018_2021\\\\19\\\\19099\\\\19099_visitor_daytime_cbgs_2018-01-01_To_2018-01-08.csv',\n",
       " 'J:\\\\Safegraph\\\\weekly_county_files\\\\weekly_patterns_2018_2021\\\\19\\\\19101\\\\19101_visitor_daytime_cbgs_2018-01-01_To_2018-01-08.csv',\n",
       " 'J:\\\\Safegraph\\\\weekly_county_files\\\\weekly_patterns_2018_2021\\\\19\\\\19103\\\\19103_visitor_daytime_cbgs_2018-01-01_To_2018-01-08.csv',\n",
       " 'J:\\\\Safegraph\\\\weekly_county_files\\\\weekly_patterns_2018_2021\\\\19\\\\19105\\\\19105_visitor_daytime_cbgs_2018-01-01_To_2018-01-08.csv',\n",
       " 'J:\\\\Safegraph\\\\weekly_county_files\\\\weekly_patterns_2018_2021\\\\19\\\\19107\\\\19107_visitor_daytime_cbgs_2018-01-01_To_2018-01-08.csv',\n",
       " 'J:\\\\Safegraph\\\\weekly_county_files\\\\weekly_patterns_2018_2021\\\\19\\\\19109\\\\19109_visitor_daytime_cbgs_2018-01-01_To_2018-01-08.csv',\n",
       " 'J:\\\\Safegraph\\\\weekly_county_files\\\\weekly_patterns_2018_2021\\\\19\\\\19111\\\\19111_visitor_daytime_cbgs_2018-01-01_To_2018-01-08.csv',\n",
       " 'J:\\\\Safegraph\\\\weekly_county_files\\\\weekly_patterns_2018_2021\\\\19\\\\19113\\\\19113_visitor_daytime_cbgs_2018-01-01_To_2018-01-08.csv',\n",
       " 'J:\\\\Safegraph\\\\weekly_county_files\\\\weekly_patterns_2018_2021\\\\19\\\\19115\\\\19115_visitor_daytime_cbgs_2018-01-01_To_2018-01-08.csv',\n",
       " 'J:\\\\Safegraph\\\\weekly_county_files\\\\weekly_patterns_2018_2021\\\\19\\\\19117\\\\19117_visitor_daytime_cbgs_2018-01-01_To_2018-01-08.csv',\n",
       " 'J:\\\\Safegraph\\\\weekly_county_files\\\\weekly_patterns_2018_2021\\\\19\\\\19119\\\\19119_visitor_daytime_cbgs_2018-01-01_To_2018-01-08.csv',\n",
       " 'J:\\\\Safegraph\\\\weekly_county_files\\\\weekly_patterns_2018_2021\\\\19\\\\19121\\\\19121_visitor_daytime_cbgs_2018-01-01_To_2018-01-08.csv',\n",
       " 'J:\\\\Safegraph\\\\weekly_county_files\\\\weekly_patterns_2018_2021\\\\19\\\\19123\\\\19123_visitor_daytime_cbgs_2018-01-01_To_2018-01-08.csv',\n",
       " 'J:\\\\Safegraph\\\\weekly_county_files\\\\weekly_patterns_2018_2021\\\\19\\\\19125\\\\19125_visitor_daytime_cbgs_2018-01-01_To_2018-01-08.csv',\n",
       " 'J:\\\\Safegraph\\\\weekly_county_files\\\\weekly_patterns_2018_2021\\\\19\\\\19127\\\\19127_visitor_daytime_cbgs_2018-01-01_To_2018-01-08.csv',\n",
       " 'J:\\\\Safegraph\\\\weekly_county_files\\\\weekly_patterns_2018_2021\\\\19\\\\19129\\\\19129_visitor_daytime_cbgs_2018-01-01_To_2018-01-08.csv',\n",
       " 'J:\\\\Safegraph\\\\weekly_county_files\\\\weekly_patterns_2018_2021\\\\19\\\\19131\\\\19131_visitor_daytime_cbgs_2018-01-01_To_2018-01-08.csv',\n",
       " 'J:\\\\Safegraph\\\\weekly_county_files\\\\weekly_patterns_2018_2021\\\\19\\\\19133\\\\19133_visitor_daytime_cbgs_2018-01-01_To_2018-01-08.csv',\n",
       " 'J:\\\\Safegraph\\\\weekly_county_files\\\\weekly_patterns_2018_2021\\\\19\\\\19135\\\\19135_visitor_daytime_cbgs_2018-01-01_To_2018-01-08.csv',\n",
       " 'J:\\\\Safegraph\\\\weekly_county_files\\\\weekly_patterns_2018_2021\\\\19\\\\19137\\\\19137_visitor_daytime_cbgs_2018-01-01_To_2018-01-08.csv',\n",
       " 'J:\\\\Safegraph\\\\weekly_county_files\\\\weekly_patterns_2018_2021\\\\19\\\\19139\\\\19139_visitor_daytime_cbgs_2018-01-01_To_2018-01-08.csv',\n",
       " 'J:\\\\Safegraph\\\\weekly_county_files\\\\weekly_patterns_2018_2021\\\\19\\\\19141\\\\19141_visitor_daytime_cbgs_2018-01-01_To_2018-01-08.csv',\n",
       " 'J:\\\\Safegraph\\\\weekly_county_files\\\\weekly_patterns_2018_2021\\\\19\\\\19143\\\\19143_visitor_daytime_cbgs_2018-01-01_To_2018-01-08.csv',\n",
       " 'J:\\\\Safegraph\\\\weekly_county_files\\\\weekly_patterns_2018_2021\\\\19\\\\19145\\\\19145_visitor_daytime_cbgs_2018-01-01_To_2018-01-08.csv',\n",
       " 'J:\\\\Safegraph\\\\weekly_county_files\\\\weekly_patterns_2018_2021\\\\19\\\\19147\\\\19147_visitor_daytime_cbgs_2018-01-01_To_2018-01-08.csv',\n",
       " 'J:\\\\Safegraph\\\\weekly_county_files\\\\weekly_patterns_2018_2021\\\\19\\\\19149\\\\19149_visitor_daytime_cbgs_2018-01-01_To_2018-01-08.csv',\n",
       " 'J:\\\\Safegraph\\\\weekly_county_files\\\\weekly_patterns_2018_2021\\\\19\\\\19151\\\\19151_visitor_daytime_cbgs_2018-01-01_To_2018-01-08.csv',\n",
       " 'J:\\\\Safegraph\\\\weekly_county_files\\\\weekly_patterns_2018_2021\\\\19\\\\19153\\\\19153_visitor_daytime_cbgs_2018-01-01_To_2018-01-08.csv',\n",
       " 'J:\\\\Safegraph\\\\weekly_county_files\\\\weekly_patterns_2018_2021\\\\19\\\\19155\\\\19155_visitor_daytime_cbgs_2018-01-01_To_2018-01-08.csv',\n",
       " 'J:\\\\Safegraph\\\\weekly_county_files\\\\weekly_patterns_2018_2021\\\\19\\\\19157\\\\19157_visitor_daytime_cbgs_2018-01-01_To_2018-01-08.csv',\n",
       " 'J:\\\\Safegraph\\\\weekly_county_files\\\\weekly_patterns_2018_2021\\\\19\\\\19159\\\\19159_visitor_daytime_cbgs_2018-01-01_To_2018-01-08.csv',\n",
       " 'J:\\\\Safegraph\\\\weekly_county_files\\\\weekly_patterns_2018_2021\\\\19\\\\19161\\\\19161_visitor_daytime_cbgs_2018-01-01_To_2018-01-08.csv',\n",
       " 'J:\\\\Safegraph\\\\weekly_county_files\\\\weekly_patterns_2018_2021\\\\19\\\\19163\\\\19163_visitor_daytime_cbgs_2018-01-01_To_2018-01-08.csv',\n",
       " 'J:\\\\Safegraph\\\\weekly_county_files\\\\weekly_patterns_2018_2021\\\\19\\\\19165\\\\19165_visitor_daytime_cbgs_2018-01-01_To_2018-01-08.csv',\n",
       " 'J:\\\\Safegraph\\\\weekly_county_files\\\\weekly_patterns_2018_2021\\\\19\\\\19167\\\\19167_visitor_daytime_cbgs_2018-01-01_To_2018-01-08.csv',\n",
       " 'J:\\\\Safegraph\\\\weekly_county_files\\\\weekly_patterns_2018_2021\\\\19\\\\19169\\\\19169_visitor_daytime_cbgs_2018-01-01_To_2018-01-08.csv',\n",
       " 'J:\\\\Safegraph\\\\weekly_county_files\\\\weekly_patterns_2018_2021\\\\19\\\\19171\\\\19171_visitor_daytime_cbgs_2018-01-01_To_2018-01-08.csv',\n",
       " 'J:\\\\Safegraph\\\\weekly_county_files\\\\weekly_patterns_2018_2021\\\\19\\\\19173\\\\19173_visitor_daytime_cbgs_2018-01-01_To_2018-01-08.csv',\n",
       " 'J:\\\\Safegraph\\\\weekly_county_files\\\\weekly_patterns_2018_2021\\\\19\\\\19175\\\\19175_visitor_daytime_cbgs_2018-01-01_To_2018-01-08.csv',\n",
       " 'J:\\\\Safegraph\\\\weekly_county_files\\\\weekly_patterns_2018_2021\\\\19\\\\19177\\\\19177_visitor_daytime_cbgs_2018-01-01_To_2018-01-08.csv',\n",
       " 'J:\\\\Safegraph\\\\weekly_county_files\\\\weekly_patterns_2018_2021\\\\19\\\\19179\\\\19179_visitor_daytime_cbgs_2018-01-01_To_2018-01-08.csv',\n",
       " 'J:\\\\Safegraph\\\\weekly_county_files\\\\weekly_patterns_2018_2021\\\\19\\\\19181\\\\19181_visitor_daytime_cbgs_2018-01-01_To_2018-01-08.csv',\n",
       " 'J:\\\\Safegraph\\\\weekly_county_files\\\\weekly_patterns_2018_2021\\\\19\\\\19183\\\\19183_visitor_daytime_cbgs_2018-01-01_To_2018-01-08.csv',\n",
       " 'J:\\\\Safegraph\\\\weekly_county_files\\\\weekly_patterns_2018_2021\\\\19\\\\19185\\\\19185_visitor_daytime_cbgs_2018-01-01_To_2018-01-08.csv',\n",
       " 'J:\\\\Safegraph\\\\weekly_county_files\\\\weekly_patterns_2018_2021\\\\19\\\\19187\\\\19187_visitor_daytime_cbgs_2018-01-01_To_2018-01-08.csv',\n",
       " 'J:\\\\Safegraph\\\\weekly_county_files\\\\weekly_patterns_2018_2021\\\\19\\\\19189\\\\19189_visitor_daytime_cbgs_2018-01-01_To_2018-01-08.csv',\n",
       " 'J:\\\\Safegraph\\\\weekly_county_files\\\\weekly_patterns_2018_2021\\\\19\\\\19191\\\\19191_visitor_daytime_cbgs_2018-01-01_To_2018-01-08.csv',\n",
       " 'J:\\\\Safegraph\\\\weekly_county_files\\\\weekly_patterns_2018_2021\\\\19\\\\19193\\\\19193_visitor_daytime_cbgs_2018-01-01_To_2018-01-08.csv',\n",
       " 'J:\\\\Safegraph\\\\weekly_county_files\\\\weekly_patterns_2018_2021\\\\19\\\\19195\\\\19195_visitor_daytime_cbgs_2018-01-01_To_2018-01-08.csv',\n",
       " 'J:\\\\Safegraph\\\\weekly_county_files\\\\weekly_patterns_2018_2021\\\\19\\\\19197\\\\19197_visitor_daytime_cbgs_2018-01-01_To_2018-01-08.csv',\n",
       " 'J:\\\\Safegraph\\\\weekly_county_files\\\\weekly_patterns_2018_2021\\\\20\\\\20001\\\\20001_visitor_daytime_cbgs_2018-01-01_To_2018-01-08.csv',\n",
       " 'J:\\\\Safegraph\\\\weekly_county_files\\\\weekly_patterns_2018_2021\\\\20\\\\20003\\\\20003_visitor_daytime_cbgs_2018-01-01_To_2018-01-08.csv',\n",
       " 'J:\\\\Safegraph\\\\weekly_county_files\\\\weekly_patterns_2018_2021\\\\20\\\\20005\\\\20005_visitor_daytime_cbgs_2018-01-01_To_2018-01-08.csv',\n",
       " 'J:\\\\Safegraph\\\\weekly_county_files\\\\weekly_patterns_2018_2021\\\\20\\\\20007\\\\20007_visitor_daytime_cbgs_2018-01-01_To_2018-01-08.csv',\n",
       " 'J:\\\\Safegraph\\\\weekly_county_files\\\\weekly_patterns_2018_2021\\\\20\\\\20009\\\\20009_visitor_daytime_cbgs_2018-01-01_To_2018-01-08.csv',\n",
       " 'J:\\\\Safegraph\\\\weekly_county_files\\\\weekly_patterns_2018_2021\\\\20\\\\20011\\\\20011_visitor_daytime_cbgs_2018-01-01_To_2018-01-08.csv',\n",
       " 'J:\\\\Safegraph\\\\weekly_county_files\\\\weekly_patterns_2018_2021\\\\20\\\\20013\\\\20013_visitor_daytime_cbgs_2018-01-01_To_2018-01-08.csv',\n",
       " 'J:\\\\Safegraph\\\\weekly_county_files\\\\weekly_patterns_2018_2021\\\\20\\\\20015\\\\20015_visitor_daytime_cbgs_2018-01-01_To_2018-01-08.csv',\n",
       " 'J:\\\\Safegraph\\\\weekly_county_files\\\\weekly_patterns_2018_2021\\\\20\\\\20017\\\\20017_visitor_daytime_cbgs_2018-01-01_To_2018-01-08.csv',\n",
       " 'J:\\\\Safegraph\\\\weekly_county_files\\\\weekly_patterns_2018_2021\\\\20\\\\20019\\\\20019_visitor_daytime_cbgs_2018-01-01_To_2018-01-08.csv',\n",
       " 'J:\\\\Safegraph\\\\weekly_county_files\\\\weekly_patterns_2018_2021\\\\20\\\\20021\\\\20021_visitor_daytime_cbgs_2018-01-01_To_2018-01-08.csv',\n",
       " 'J:\\\\Safegraph\\\\weekly_county_files\\\\weekly_patterns_2018_2021\\\\20\\\\20023\\\\20023_visitor_daytime_cbgs_2018-01-01_To_2018-01-08.csv',\n",
       " 'J:\\\\Safegraph\\\\weekly_county_files\\\\weekly_patterns_2018_2021\\\\20\\\\20025\\\\20025_visitor_daytime_cbgs_2018-01-01_To_2018-01-08.csv',\n",
       " 'J:\\\\Safegraph\\\\weekly_county_files\\\\weekly_patterns_2018_2021\\\\20\\\\20027\\\\20027_visitor_daytime_cbgs_2018-01-01_To_2018-01-08.csv',\n",
       " 'J:\\\\Safegraph\\\\weekly_county_files\\\\weekly_patterns_2018_2021\\\\20\\\\20029\\\\20029_visitor_daytime_cbgs_2018-01-01_To_2018-01-08.csv',\n",
       " 'J:\\\\Safegraph\\\\weekly_county_files\\\\weekly_patterns_2018_2021\\\\20\\\\20031\\\\20031_visitor_daytime_cbgs_2018-01-01_To_2018-01-08.csv',\n",
       " 'J:\\\\Safegraph\\\\weekly_county_files\\\\weekly_patterns_2018_2021\\\\20\\\\20033\\\\20033_visitor_daytime_cbgs_2018-01-01_To_2018-01-08.csv',\n",
       " 'J:\\\\Safegraph\\\\weekly_county_files\\\\weekly_patterns_2018_2021\\\\20\\\\20035\\\\20035_visitor_daytime_cbgs_2018-01-01_To_2018-01-08.csv',\n",
       " 'J:\\\\Safegraph\\\\weekly_county_files\\\\weekly_patterns_2018_2021\\\\20\\\\20037\\\\20037_visitor_daytime_cbgs_2018-01-01_To_2018-01-08.csv',\n",
       " 'J:\\\\Safegraph\\\\weekly_county_files\\\\weekly_patterns_2018_2021\\\\20\\\\20039\\\\20039_visitor_daytime_cbgs_2018-01-01_To_2018-01-08.csv',\n",
       " 'J:\\\\Safegraph\\\\weekly_county_files\\\\weekly_patterns_2018_2021\\\\20\\\\20041\\\\20041_visitor_daytime_cbgs_2018-01-01_To_2018-01-08.csv',\n",
       " 'J:\\\\Safegraph\\\\weekly_county_files\\\\weekly_patterns_2018_2021\\\\20\\\\20043\\\\20043_visitor_daytime_cbgs_2018-01-01_To_2018-01-08.csv',\n",
       " 'J:\\\\Safegraph\\\\weekly_county_files\\\\weekly_patterns_2018_2021\\\\20\\\\20045\\\\20045_visitor_daytime_cbgs_2018-01-01_To_2018-01-08.csv',\n",
       " 'J:\\\\Safegraph\\\\weekly_county_files\\\\weekly_patterns_2018_2021\\\\20\\\\20047\\\\20047_visitor_daytime_cbgs_2018-01-01_To_2018-01-08.csv',\n",
       " 'J:\\\\Safegraph\\\\weekly_county_files\\\\weekly_patterns_2018_2021\\\\20\\\\20049\\\\20049_visitor_daytime_cbgs_2018-01-01_To_2018-01-08.csv',\n",
       " 'J:\\\\Safegraph\\\\weekly_county_files\\\\weekly_patterns_2018_2021\\\\20\\\\20051\\\\20051_visitor_daytime_cbgs_2018-01-01_To_2018-01-08.csv',\n",
       " 'J:\\\\Safegraph\\\\weekly_county_files\\\\weekly_patterns_2018_2021\\\\20\\\\20053\\\\20053_visitor_daytime_cbgs_2018-01-01_To_2018-01-08.csv',\n",
       " 'J:\\\\Safegraph\\\\weekly_county_files\\\\weekly_patterns_2018_2021\\\\20\\\\20055\\\\20055_visitor_daytime_cbgs_2018-01-01_To_2018-01-08.csv',\n",
       " 'J:\\\\Safegraph\\\\weekly_county_files\\\\weekly_patterns_2018_2021\\\\20\\\\20057\\\\20057_visitor_daytime_cbgs_2018-01-01_To_2018-01-08.csv',\n",
       " 'J:\\\\Safegraph\\\\weekly_county_files\\\\weekly_patterns_2018_2021\\\\20\\\\20059\\\\20059_visitor_daytime_cbgs_2018-01-01_To_2018-01-08.csv',\n",
       " 'J:\\\\Safegraph\\\\weekly_county_files\\\\weekly_patterns_2018_2021\\\\20\\\\20061\\\\20061_visitor_daytime_cbgs_2018-01-01_To_2018-01-08.csv',\n",
       " 'J:\\\\Safegraph\\\\weekly_county_files\\\\weekly_patterns_2018_2021\\\\20\\\\20063\\\\20063_visitor_daytime_cbgs_2018-01-01_To_2018-01-08.csv',\n",
       " 'J:\\\\Safegraph\\\\weekly_county_files\\\\weekly_patterns_2018_2021\\\\20\\\\20065\\\\20065_visitor_daytime_cbgs_2018-01-01_To_2018-01-08.csv',\n",
       " 'J:\\\\Safegraph\\\\weekly_county_files\\\\weekly_patterns_2018_2021\\\\20\\\\20067\\\\20067_visitor_daytime_cbgs_2018-01-01_To_2018-01-08.csv',\n",
       " 'J:\\\\Safegraph\\\\weekly_county_files\\\\weekly_patterns_2018_2021\\\\20\\\\20069\\\\20069_visitor_daytime_cbgs_2018-01-01_To_2018-01-08.csv',\n",
       " 'J:\\\\Safegraph\\\\weekly_county_files\\\\weekly_patterns_2018_2021\\\\20\\\\20071\\\\20071_visitor_daytime_cbgs_2018-01-01_To_2018-01-08.csv',\n",
       " 'J:\\\\Safegraph\\\\weekly_county_files\\\\weekly_patterns_2018_2021\\\\20\\\\20073\\\\20073_visitor_daytime_cbgs_2018-01-01_To_2018-01-08.csv',\n",
       " 'J:\\\\Safegraph\\\\weekly_county_files\\\\weekly_patterns_2018_2021\\\\20\\\\20075\\\\20075_visitor_daytime_cbgs_2018-01-01_To_2018-01-08.csv',\n",
       " 'J:\\\\Safegraph\\\\weekly_county_files\\\\weekly_patterns_2018_2021\\\\20\\\\20077\\\\20077_visitor_daytime_cbgs_2018-01-01_To_2018-01-08.csv',\n",
       " 'J:\\\\Safegraph\\\\weekly_county_files\\\\weekly_patterns_2018_2021\\\\20\\\\20079\\\\20079_visitor_daytime_cbgs_2018-01-01_To_2018-01-08.csv',\n",
       " 'J:\\\\Safegraph\\\\weekly_county_files\\\\weekly_patterns_2018_2021\\\\20\\\\20081\\\\20081_visitor_daytime_cbgs_2018-01-01_To_2018-01-08.csv',\n",
       " 'J:\\\\Safegraph\\\\weekly_county_files\\\\weekly_patterns_2018_2021\\\\20\\\\20083\\\\20083_visitor_daytime_cbgs_2018-01-01_To_2018-01-08.csv',\n",
       " 'J:\\\\Safegraph\\\\weekly_county_files\\\\weekly_patterns_2018_2021\\\\20\\\\20085\\\\20085_visitor_daytime_cbgs_2018-01-01_To_2018-01-08.csv',\n",
       " 'J:\\\\Safegraph\\\\weekly_county_files\\\\weekly_patterns_2018_2021\\\\20\\\\20087\\\\20087_visitor_daytime_cbgs_2018-01-01_To_2018-01-08.csv',\n",
       " 'J:\\\\Safegraph\\\\weekly_county_files\\\\weekly_patterns_2018_2021\\\\20\\\\20089\\\\20089_visitor_daytime_cbgs_2018-01-01_To_2018-01-08.csv',\n",
       " 'J:\\\\Safegraph\\\\weekly_county_files\\\\weekly_patterns_2018_2021\\\\20\\\\20091\\\\20091_visitor_daytime_cbgs_2018-01-01_To_2018-01-08.csv',\n",
       " 'J:\\\\Safegraph\\\\weekly_county_files\\\\weekly_patterns_2018_2021\\\\20\\\\20093\\\\20093_visitor_daytime_cbgs_2018-01-01_To_2018-01-08.csv',\n",
       " 'J:\\\\Safegraph\\\\weekly_county_files\\\\weekly_patterns_2018_2021\\\\20\\\\20095\\\\20095_visitor_daytime_cbgs_2018-01-01_To_2018-01-08.csv',\n",
       " 'J:\\\\Safegraph\\\\weekly_county_files\\\\weekly_patterns_2018_2021\\\\20\\\\20097\\\\20097_visitor_daytime_cbgs_2018-01-01_To_2018-01-08.csv',\n",
       " 'J:\\\\Safegraph\\\\weekly_county_files\\\\weekly_patterns_2018_2021\\\\20\\\\20099\\\\20099_visitor_daytime_cbgs_2018-01-01_To_2018-01-08.csv',\n",
       " 'J:\\\\Safegraph\\\\weekly_county_files\\\\weekly_patterns_2018_2021\\\\20\\\\20101\\\\20101_visitor_daytime_cbgs_2018-01-01_To_2018-01-08.csv',\n",
       " 'J:\\\\Safegraph\\\\weekly_county_files\\\\weekly_patterns_2018_2021\\\\20\\\\20103\\\\20103_visitor_daytime_cbgs_2018-01-01_To_2018-01-08.csv',\n",
       " 'J:\\\\Safegraph\\\\weekly_county_files\\\\weekly_patterns_2018_2021\\\\20\\\\20105\\\\20105_visitor_daytime_cbgs_2018-01-01_To_2018-01-08.csv',\n",
       " 'J:\\\\Safegraph\\\\weekly_county_files\\\\weekly_patterns_2018_2021\\\\20\\\\20107\\\\20107_visitor_daytime_cbgs_2018-01-01_To_2018-01-08.csv',\n",
       " 'J:\\\\Safegraph\\\\weekly_county_files\\\\weekly_patterns_2018_2021\\\\20\\\\20109\\\\20109_visitor_daytime_cbgs_2018-01-01_To_2018-01-08.csv',\n",
       " 'J:\\\\Safegraph\\\\weekly_county_files\\\\weekly_patterns_2018_2021\\\\20\\\\20111\\\\20111_visitor_daytime_cbgs_2018-01-01_To_2018-01-08.csv',\n",
       " 'J:\\\\Safegraph\\\\weekly_county_files\\\\weekly_patterns_2018_2021\\\\20\\\\20113\\\\20113_visitor_daytime_cbgs_2018-01-01_To_2018-01-08.csv',\n",
       " 'J:\\\\Safegraph\\\\weekly_county_files\\\\weekly_patterns_2018_2021\\\\20\\\\20115\\\\20115_visitor_daytime_cbgs_2018-01-01_To_2018-01-08.csv',\n",
       " 'J:\\\\Safegraph\\\\weekly_county_files\\\\weekly_patterns_2018_2021\\\\20\\\\20117\\\\20117_visitor_daytime_cbgs_2018-01-01_To_2018-01-08.csv',\n",
       " 'J:\\\\Safegraph\\\\weekly_county_files\\\\weekly_patterns_2018_2021\\\\20\\\\20119\\\\20119_visitor_daytime_cbgs_2018-01-01_To_2018-01-08.csv',\n",
       " 'J:\\\\Safegraph\\\\weekly_county_files\\\\weekly_patterns_2018_2021\\\\20\\\\20121\\\\20121_visitor_daytime_cbgs_2018-01-01_To_2018-01-08.csv',\n",
       " 'J:\\\\Safegraph\\\\weekly_county_files\\\\weekly_patterns_2018_2021\\\\20\\\\20123\\\\20123_visitor_daytime_cbgs_2018-01-01_To_2018-01-08.csv',\n",
       " 'J:\\\\Safegraph\\\\weekly_county_files\\\\weekly_patterns_2018_2021\\\\20\\\\20125\\\\20125_visitor_daytime_cbgs_2018-01-01_To_2018-01-08.csv',\n",
       " 'J:\\\\Safegraph\\\\weekly_county_files\\\\weekly_patterns_2018_2021\\\\20\\\\20127\\\\20127_visitor_daytime_cbgs_2018-01-01_To_2018-01-08.csv',\n",
       " 'J:\\\\Safegraph\\\\weekly_county_files\\\\weekly_patterns_2018_2021\\\\20\\\\20129\\\\20129_visitor_daytime_cbgs_2018-01-01_To_2018-01-08.csv',\n",
       " 'J:\\\\Safegraph\\\\weekly_county_files\\\\weekly_patterns_2018_2021\\\\20\\\\20131\\\\20131_visitor_daytime_cbgs_2018-01-01_To_2018-01-08.csv',\n",
       " 'J:\\\\Safegraph\\\\weekly_county_files\\\\weekly_patterns_2018_2021\\\\20\\\\20133\\\\20133_visitor_daytime_cbgs_2018-01-01_To_2018-01-08.csv',\n",
       " 'J:\\\\Safegraph\\\\weekly_county_files\\\\weekly_patterns_2018_2021\\\\20\\\\20135\\\\20135_visitor_daytime_cbgs_2018-01-01_To_2018-01-08.csv',\n",
       " 'J:\\\\Safegraph\\\\weekly_county_files\\\\weekly_patterns_2018_2021\\\\20\\\\20137\\\\20137_visitor_daytime_cbgs_2018-01-01_To_2018-01-08.csv',\n",
       " 'J:\\\\Safegraph\\\\weekly_county_files\\\\weekly_patterns_2018_2021\\\\20\\\\20139\\\\20139_visitor_daytime_cbgs_2018-01-01_To_2018-01-08.csv',\n",
       " 'J:\\\\Safegraph\\\\weekly_county_files\\\\weekly_patterns_2018_2021\\\\20\\\\20141\\\\20141_visitor_daytime_cbgs_2018-01-01_To_2018-01-08.csv',\n",
       " 'J:\\\\Safegraph\\\\weekly_county_files\\\\weekly_patterns_2018_2021\\\\20\\\\20143\\\\20143_visitor_daytime_cbgs_2018-01-01_To_2018-01-08.csv',\n",
       " 'J:\\\\Safegraph\\\\weekly_county_files\\\\weekly_patterns_2018_2021\\\\20\\\\20145\\\\20145_visitor_daytime_cbgs_2018-01-01_To_2018-01-08.csv',\n",
       " 'J:\\\\Safegraph\\\\weekly_county_files\\\\weekly_patterns_2018_2021\\\\20\\\\20147\\\\20147_visitor_daytime_cbgs_2018-01-01_To_2018-01-08.csv',\n",
       " 'J:\\\\Safegraph\\\\weekly_county_files\\\\weekly_patterns_2018_2021\\\\20\\\\20149\\\\20149_visitor_daytime_cbgs_2018-01-01_To_2018-01-08.csv',\n",
       " 'J:\\\\Safegraph\\\\weekly_county_files\\\\weekly_patterns_2018_2021\\\\20\\\\20151\\\\20151_visitor_daytime_cbgs_2018-01-01_To_2018-01-08.csv',\n",
       " 'J:\\\\Safegraph\\\\weekly_county_files\\\\weekly_patterns_2018_2021\\\\20\\\\20153\\\\20153_visitor_daytime_cbgs_2018-01-01_To_2018-01-08.csv',\n",
       " 'J:\\\\Safegraph\\\\weekly_county_files\\\\weekly_patterns_2018_2021\\\\20\\\\20155\\\\20155_visitor_daytime_cbgs_2018-01-01_To_2018-01-08.csv',\n",
       " 'J:\\\\Safegraph\\\\weekly_county_files\\\\weekly_patterns_2018_2021\\\\20\\\\20157\\\\20157_visitor_daytime_cbgs_2018-01-01_To_2018-01-08.csv',\n",
       " 'J:\\\\Safegraph\\\\weekly_county_files\\\\weekly_patterns_2018_2021\\\\20\\\\20159\\\\20159_visitor_daytime_cbgs_2018-01-01_To_2018-01-08.csv',\n",
       " 'J:\\\\Safegraph\\\\weekly_county_files\\\\weekly_patterns_2018_2021\\\\20\\\\20161\\\\20161_visitor_daytime_cbgs_2018-01-01_To_2018-01-08.csv',\n",
       " 'J:\\\\Safegraph\\\\weekly_county_files\\\\weekly_patterns_2018_2021\\\\20\\\\20163\\\\20163_visitor_daytime_cbgs_2018-01-01_To_2018-01-08.csv',\n",
       " 'J:\\\\Safegraph\\\\weekly_county_files\\\\weekly_patterns_2018_2021\\\\20\\\\20165\\\\20165_visitor_daytime_cbgs_2018-01-01_To_2018-01-08.csv',\n",
       " 'J:\\\\Safegraph\\\\weekly_county_files\\\\weekly_patterns_2018_2021\\\\20\\\\20167\\\\20167_visitor_daytime_cbgs_2018-01-01_To_2018-01-08.csv',\n",
       " 'J:\\\\Safegraph\\\\weekly_county_files\\\\weekly_patterns_2018_2021\\\\20\\\\20169\\\\20169_visitor_daytime_cbgs_2018-01-01_To_2018-01-08.csv',\n",
       " 'J:\\\\Safegraph\\\\weekly_county_files\\\\weekly_patterns_2018_2021\\\\20\\\\20171\\\\20171_visitor_daytime_cbgs_2018-01-01_To_2018-01-08.csv',\n",
       " 'J:\\\\Safegraph\\\\weekly_county_files\\\\weekly_patterns_2018_2021\\\\20\\\\20173\\\\20173_visitor_daytime_cbgs_2018-01-01_To_2018-01-08.csv',\n",
       " 'J:\\\\Safegraph\\\\weekly_county_files\\\\weekly_patterns_2018_2021\\\\20\\\\20175\\\\20175_visitor_daytime_cbgs_2018-01-01_To_2018-01-08.csv',\n",
       " 'J:\\\\Safegraph\\\\weekly_county_files\\\\weekly_patterns_2018_2021\\\\20\\\\20177\\\\20177_visitor_daytime_cbgs_2018-01-01_To_2018-01-08.csv',\n",
       " 'J:\\\\Safegraph\\\\weekly_county_files\\\\weekly_patterns_2018_2021\\\\20\\\\20179\\\\20179_visitor_daytime_cbgs_2018-01-01_To_2018-01-08.csv',\n",
       " 'J:\\\\Safegraph\\\\weekly_county_files\\\\weekly_patterns_2018_2021\\\\20\\\\20181\\\\20181_visitor_daytime_cbgs_2018-01-01_To_2018-01-08.csv',\n",
       " 'J:\\\\Safegraph\\\\weekly_county_files\\\\weekly_patterns_2018_2021\\\\20\\\\20183\\\\20183_visitor_daytime_cbgs_2018-01-01_To_2018-01-08.csv',\n",
       " 'J:\\\\Safegraph\\\\weekly_county_files\\\\weekly_patterns_2018_2021\\\\20\\\\20185\\\\20185_visitor_daytime_cbgs_2018-01-01_To_2018-01-08.csv',\n",
       " 'J:\\\\Safegraph\\\\weekly_county_files\\\\weekly_patterns_2018_2021\\\\20\\\\20187\\\\20187_visitor_daytime_cbgs_2018-01-01_To_2018-01-08.csv',\n",
       " 'J:\\\\Safegraph\\\\weekly_county_files\\\\weekly_patterns_2018_2021\\\\20\\\\20189\\\\20189_visitor_daytime_cbgs_2018-01-01_To_2018-01-08.csv',\n",
       " 'J:\\\\Safegraph\\\\weekly_county_files\\\\weekly_patterns_2018_2021\\\\20\\\\20191\\\\20191_visitor_daytime_cbgs_2018-01-01_To_2018-01-08.csv',\n",
       " 'J:\\\\Safegraph\\\\weekly_county_files\\\\weekly_patterns_2018_2021\\\\20\\\\20193\\\\20193_visitor_daytime_cbgs_2018-01-01_To_2018-01-08.csv',\n",
       " 'J:\\\\Safegraph\\\\weekly_county_files\\\\weekly_patterns_2018_2021\\\\20\\\\20195\\\\20195_visitor_daytime_cbgs_2018-01-01_To_2018-01-08.csv',\n",
       " 'J:\\\\Safegraph\\\\weekly_county_files\\\\weekly_patterns_2018_2021\\\\20\\\\20197\\\\20197_visitor_daytime_cbgs_2018-01-01_To_2018-01-08.csv',\n",
       " 'J:\\\\Safegraph\\\\weekly_county_files\\\\weekly_patterns_2018_2021\\\\20\\\\20199\\\\20199_visitor_daytime_cbgs_2018-01-01_To_2018-01-08.csv',\n",
       " 'J:\\\\Safegraph\\\\weekly_county_files\\\\weekly_patterns_2018_2021\\\\20\\\\20201\\\\20201_visitor_daytime_cbgs_2018-01-01_To_2018-01-08.csv',\n",
       " 'J:\\\\Safegraph\\\\weekly_county_files\\\\weekly_patterns_2018_2021\\\\20\\\\20203\\\\20203_visitor_daytime_cbgs_2018-01-01_To_2018-01-08.csv',\n",
       " 'J:\\\\Safegraph\\\\weekly_county_files\\\\weekly_patterns_2018_2021\\\\20\\\\20205\\\\20205_visitor_daytime_cbgs_2018-01-01_To_2018-01-08.csv',\n",
       " 'J:\\\\Safegraph\\\\weekly_county_files\\\\weekly_patterns_2018_2021\\\\20\\\\20207\\\\20207_visitor_daytime_cbgs_2018-01-01_To_2018-01-08.csv',\n",
       " 'J:\\\\Safegraph\\\\weekly_county_files\\\\weekly_patterns_2018_2021\\\\20\\\\20209\\\\20209_visitor_daytime_cbgs_2018-01-01_To_2018-01-08.csv',\n",
       " 'J:\\\\Safegraph\\\\weekly_county_files\\\\weekly_patterns_2018_2021\\\\21\\\\21001\\\\21001_visitor_daytime_cbgs_2018-01-01_To_2018-01-08.csv',\n",
       " 'J:\\\\Safegraph\\\\weekly_county_files\\\\weekly_patterns_2018_2021\\\\21\\\\21003\\\\21003_visitor_daytime_cbgs_2018-01-01_To_2018-01-08.csv',\n",
       " 'J:\\\\Safegraph\\\\weekly_county_files\\\\weekly_patterns_2018_2021\\\\21\\\\21005\\\\21005_visitor_daytime_cbgs_2018-01-01_To_2018-01-08.csv',\n",
       " 'J:\\\\Safegraph\\\\weekly_county_files\\\\weekly_patterns_2018_2021\\\\21\\\\21007\\\\21007_visitor_daytime_cbgs_2018-01-01_To_2018-01-08.csv',\n",
       " 'J:\\\\Safegraph\\\\weekly_county_files\\\\weekly_patterns_2018_2021\\\\21\\\\21009\\\\21009_visitor_daytime_cbgs_2018-01-01_To_2018-01-08.csv',\n",
       " 'J:\\\\Safegraph\\\\weekly_county_files\\\\weekly_patterns_2018_2021\\\\21\\\\21011\\\\21011_visitor_daytime_cbgs_2018-01-01_To_2018-01-08.csv',\n",
       " 'J:\\\\Safegraph\\\\weekly_county_files\\\\weekly_patterns_2018_2021\\\\21\\\\21013\\\\21013_visitor_daytime_cbgs_2018-01-01_To_2018-01-08.csv',\n",
       " ...]"
      ]
     },
     "execution_count": 91,
     "metadata": {},
     "output_type": "execute_result"
    }
   ],
   "source": [
    "visitor_daytime_csv_list"
   ]
  },
  {
   "cell_type": "markdown",
   "id": "c686710b-fb04-4365-bc8d-fea170676768",
   "metadata": {},
   "source": [
    "# Get weekly strings"
   ]
  },
  {
   "cell_type": "code",
   "execution_count": 45,
   "id": "6f3c551e-3440-40da-bc6d-c705bb401796",
   "metadata": {},
   "outputs": [
    {
     "name": "stdout",
     "output_type": "stream",
     "text": [
      "Found 209 weekly POI file.\n"
     ]
    }
   ],
   "source": [
    "weekly_POI_dir = r'J:\\Safegraph\\weekly_county_files\\weekly_patterns_2018_2021\\POI'\n",
    "weekly_csvs = glob.glob(os.path.join(weekly_POI_dir, f'POI_*.csv'))#[0]\n",
    "weekly_csvs = sorted(weekly_csvs, reverse=True)\n",
    "\n",
    "weekly_strings = [os.path.basename(c)[4:14] for c in weekly_csvs]\n",
    "\n",
    "print(f\"Found {len(weekly_strings)} weekly POI file.\")\n"
   ]
  },
  {
   "cell_type": "markdown",
   "id": "01e73da9-9e27-49e9-b85d-b2e9050baf10",
   "metadata": {},
   "source": [
    "# Aggregate time usage for each county, blockgroup"
   ]
  },
  {
   "cell_type": "code",
   "execution_count": 47,
   "id": "10932a23-8864-439f-a3f8-9c497540b0f3",
   "metadata": {},
   "outputs": [
    {
     "ename": "SyntaxError",
     "evalue": "invalid syntax (<ipython-input-47-70b71a8e544a>, line 1)",
     "output_type": "error",
     "traceback": [
      "\u001b[1;36m  File \u001b[1;32m\"<ipython-input-47-70b71a8e544a>\"\u001b[1;36m, line \u001b[1;32m1\u001b[0m\n\u001b[1;33m    for root, dirs, files in os.walk(r'J:\\Safegraph\\weekly_county_files\\weekly_patterns_2018_2021')\u001b[0m\n\u001b[1;37m                                                                                                   ^\u001b[0m\n\u001b[1;31mSyntaxError\u001b[0m\u001b[1;31m:\u001b[0m invalid syntax\n"
     ]
    }
   ],
   "source": []
  },
  {
   "cell_type": "code",
   "execution_count": 46,
   "id": "3d7cbf37-4a2f-498f-be35-a0b68fb7353b",
   "metadata": {
    "scrolled": true,
    "tags": []
   },
   "outputs": [
    {
     "name": "stdout",
     "output_type": "stream",
     "text": [
      "Processing: 2019-07-01, 1 / 209\n",
      "Reading weekly POI CSV file: J:\\Safegraph\\weekly_county_files\\weekly_patterns_2018_2021\\POI\\POI_2019-07-01_To_2019-07-08.csv\n",
      "Processing mobility matrix for the week, please wait several minutes: 2019-07-01... \n"
     ]
    },
    {
     "name": "stderr",
     "output_type": "stream",
     "text": [
      "0it [00:00, ?it/s]"
     ]
    },
    {
     "name": "stdout",
     "output_type": "stream",
     "text": [
      "Processing: 0, J:\\Safegraph\\weekly_county_files\\weekly_patterns_2018_2021\\45\\45001\\45001_visitor_home_cbgs_2019-07-01_To_2019-07-08.csv\n"
     ]
    },
    {
     "name": "stderr",
     "output_type": "stream",
     "text": [
      "10it [02:02, 12.23s/it]"
     ]
    },
    {
     "name": "stdout",
     "output_type": "stream",
     "text": [
      "Processing: 10, J:\\Safegraph\\weekly_county_files\\weekly_patterns_2018_2021\\45\\45021\\45021_visitor_home_cbgs_2019-07-01_To_2019-07-08.csv\n"
     ]
    },
    {
     "name": "stderr",
     "output_type": "stream",
     "text": [
      "20it [04:03, 12.04s/it]"
     ]
    },
    {
     "name": "stdout",
     "output_type": "stream",
     "text": [
      "Processing: 20, J:\\Safegraph\\weekly_county_files\\weekly_patterns_2018_2021\\45\\45041\\45041_visitor_home_cbgs_2019-07-01_To_2019-07-08.csv\n"
     ]
    },
    {
     "name": "stderr",
     "output_type": "stream",
     "text": [
      "30it [06:06, 12.10s/it]"
     ]
    },
    {
     "name": "stdout",
     "output_type": "stream",
     "text": [
      "Processing: 30, J:\\Safegraph\\weekly_county_files\\weekly_patterns_2018_2021\\45\\45061\\45061_visitor_home_cbgs_2019-07-01_To_2019-07-08.csv\n"
     ]
    },
    {
     "name": "stderr",
     "output_type": "stream",
     "text": [
      "40it [08:07, 12.29s/it]"
     ]
    },
    {
     "name": "stdout",
     "output_type": "stream",
     "text": [
      "Processing: 40, J:\\Safegraph\\weekly_county_files\\weekly_patterns_2018_2021\\45\\45081\\45081_visitor_home_cbgs_2019-07-01_To_2019-07-08.csv\n"
     ]
    },
    {
     "name": "stderr",
     "output_type": "stream",
     "text": [
      "46it [09:20, 12.19s/it]\n"
     ]
    },
    {
     "name": "stdout",
     "output_type": "stream",
     "text": [
      "Processing: 2019-06-24, 2 / 209\n",
      "Reading weekly POI CSV file: J:\\Safegraph\\weekly_county_files\\weekly_patterns_2018_2021\\POI\\POI_2019-06-24_To_2019-07-01.csv\n",
      "Processing mobility matrix for the week, please wait several minutes: 2019-06-24... \n"
     ]
    },
    {
     "name": "stderr",
     "output_type": "stream",
     "text": [
      "0it [00:00, ?it/s]"
     ]
    },
    {
     "name": "stdout",
     "output_type": "stream",
     "text": [
      "Processing: 0, J:\\Safegraph\\weekly_county_files\\weekly_patterns_2018_2021\\45\\45001\\45001_visitor_home_cbgs_2019-06-24_To_2019-07-01.csv\n"
     ]
    },
    {
     "name": "stderr",
     "output_type": "stream",
     "text": [
      "10it [02:00, 12.01s/it]"
     ]
    },
    {
     "name": "stdout",
     "output_type": "stream",
     "text": [
      "Processing: 10, J:\\Safegraph\\weekly_county_files\\weekly_patterns_2018_2021\\45\\45021\\45021_visitor_home_cbgs_2019-06-24_To_2019-07-01.csv\n"
     ]
    },
    {
     "name": "stderr",
     "output_type": "stream",
     "text": [
      "20it [03:59, 11.83s/it]"
     ]
    },
    {
     "name": "stdout",
     "output_type": "stream",
     "text": [
      "Processing: 20, J:\\Safegraph\\weekly_county_files\\weekly_patterns_2018_2021\\45\\45041\\45041_visitor_home_cbgs_2019-06-24_To_2019-07-01.csv\n"
     ]
    },
    {
     "name": "stderr",
     "output_type": "stream",
     "text": [
      "30it [05:57, 11.84s/it]"
     ]
    },
    {
     "name": "stdout",
     "output_type": "stream",
     "text": [
      "Processing: 30, J:\\Safegraph\\weekly_county_files\\weekly_patterns_2018_2021\\45\\45061\\45061_visitor_home_cbgs_2019-06-24_To_2019-07-01.csv\n"
     ]
    },
    {
     "name": "stderr",
     "output_type": "stream",
     "text": [
      "40it [07:57, 12.05s/it]"
     ]
    },
    {
     "name": "stdout",
     "output_type": "stream",
     "text": [
      "Processing: 40, J:\\Safegraph\\weekly_county_files\\weekly_patterns_2018_2021\\45\\45081\\45081_visitor_home_cbgs_2019-06-24_To_2019-07-01.csv\n"
     ]
    },
    {
     "name": "stderr",
     "output_type": "stream",
     "text": [
      "46it [09:09, 11.95s/it]\n"
     ]
    },
    {
     "name": "stdout",
     "output_type": "stream",
     "text": [
      "Processing: 2019-06-17, 3 / 209\n",
      "Reading weekly POI CSV file: J:\\Safegraph\\weekly_county_files\\weekly_patterns_2018_2021\\POI\\POI_2019-06-17_To_2019-06-24.csv\n",
      "Processing mobility matrix for the week, please wait several minutes: 2019-06-17... \n"
     ]
    },
    {
     "name": "stderr",
     "output_type": "stream",
     "text": [
      "0it [00:00, ?it/s]"
     ]
    },
    {
     "name": "stdout",
     "output_type": "stream",
     "text": [
      "Processing: 0, J:\\Safegraph\\weekly_county_files\\weekly_patterns_2018_2021\\45\\45001\\45001_visitor_home_cbgs_2019-06-17_To_2019-06-24.csv\n"
     ]
    },
    {
     "name": "stderr",
     "output_type": "stream",
     "text": [
      "10it [02:00, 11.97s/it]"
     ]
    },
    {
     "name": "stdout",
     "output_type": "stream",
     "text": [
      "Processing: 10, J:\\Safegraph\\weekly_county_files\\weekly_patterns_2018_2021\\45\\45021\\45021_visitor_home_cbgs_2019-06-17_To_2019-06-24.csv\n"
     ]
    },
    {
     "name": "stderr",
     "output_type": "stream",
     "text": [
      "20it [03:59, 11.87s/it]"
     ]
    },
    {
     "name": "stdout",
     "output_type": "stream",
     "text": [
      "Processing: 20, J:\\Safegraph\\weekly_county_files\\weekly_patterns_2018_2021\\45\\45041\\45041_visitor_home_cbgs_2019-06-17_To_2019-06-24.csv\n"
     ]
    },
    {
     "name": "stderr",
     "output_type": "stream",
     "text": [
      "30it [06:02, 12.13s/it]"
     ]
    },
    {
     "name": "stdout",
     "output_type": "stream",
     "text": [
      "Processing: 30, J:\\Safegraph\\weekly_county_files\\weekly_patterns_2018_2021\\45\\45061\\45061_visitor_home_cbgs_2019-06-17_To_2019-06-24.csv\n"
     ]
    },
    {
     "name": "stderr",
     "output_type": "stream",
     "text": [
      "40it [08:02, 12.04s/it]"
     ]
    },
    {
     "name": "stdout",
     "output_type": "stream",
     "text": [
      "Processing: 40, J:\\Safegraph\\weekly_county_files\\weekly_patterns_2018_2021\\45\\45081\\45081_visitor_home_cbgs_2019-06-17_To_2019-06-24.csv\n"
     ]
    },
    {
     "name": "stderr",
     "output_type": "stream",
     "text": [
      "46it [09:14, 12.06s/it]\n"
     ]
    },
    {
     "name": "stdout",
     "output_type": "stream",
     "text": [
      "Processing: 2019-06-10, 4 / 209\n",
      "Reading weekly POI CSV file: J:\\Safegraph\\weekly_county_files\\weekly_patterns_2018_2021\\POI\\POI_2019-06-10_To_2019-06-17.csv\n",
      "Processing mobility matrix for the week, please wait several minutes: 2019-06-10... \n"
     ]
    },
    {
     "name": "stderr",
     "output_type": "stream",
     "text": [
      "0it [00:00, ?it/s]"
     ]
    },
    {
     "name": "stdout",
     "output_type": "stream",
     "text": [
      "Processing: 0, J:\\Safegraph\\weekly_county_files\\weekly_patterns_2018_2021\\45\\45001\\45001_visitor_home_cbgs_2019-06-10_To_2019-06-17.csv\n"
     ]
    },
    {
     "name": "stderr",
     "output_type": "stream",
     "text": [
      "10it [02:01, 12.04s/it]"
     ]
    },
    {
     "name": "stdout",
     "output_type": "stream",
     "text": [
      "Processing: 10, J:\\Safegraph\\weekly_county_files\\weekly_patterns_2018_2021\\45\\45021\\45021_visitor_home_cbgs_2019-06-10_To_2019-06-17.csv\n"
     ]
    },
    {
     "name": "stderr",
     "output_type": "stream",
     "text": [
      "20it [04:01, 11.94s/it]"
     ]
    },
    {
     "name": "stdout",
     "output_type": "stream",
     "text": [
      "Processing: 20, J:\\Safegraph\\weekly_county_files\\weekly_patterns_2018_2021\\45\\45041\\45041_visitor_home_cbgs_2019-06-10_To_2019-06-17.csv\n"
     ]
    },
    {
     "name": "stderr",
     "output_type": "stream",
     "text": [
      "30it [06:00, 11.84s/it]"
     ]
    },
    {
     "name": "stdout",
     "output_type": "stream",
     "text": [
      "Processing: 30, J:\\Safegraph\\weekly_county_files\\weekly_patterns_2018_2021\\45\\45061\\45061_visitor_home_cbgs_2019-06-10_To_2019-06-17.csv\n"
     ]
    },
    {
     "name": "stderr",
     "output_type": "stream",
     "text": [
      "40it [07:59, 11.92s/it]"
     ]
    },
    {
     "name": "stdout",
     "output_type": "stream",
     "text": [
      "Processing: 40, J:\\Safegraph\\weekly_county_files\\weekly_patterns_2018_2021\\45\\45081\\45081_visitor_home_cbgs_2019-06-10_To_2019-06-17.csv\n"
     ]
    },
    {
     "name": "stderr",
     "output_type": "stream",
     "text": [
      "46it [09:11, 11.98s/it]\n"
     ]
    },
    {
     "name": "stdout",
     "output_type": "stream",
     "text": [
      "Processing: 2019-06-03, 5 / 209\n",
      "Reading weekly POI CSV file: J:\\Safegraph\\weekly_county_files\\weekly_patterns_2018_2021\\POI\\POI_2019-06-03_To_2019-06-10.csv\n",
      "Processing mobility matrix for the week, please wait several minutes: 2019-06-03... \n"
     ]
    },
    {
     "name": "stderr",
     "output_type": "stream",
     "text": [
      "0it [00:00, ?it/s]"
     ]
    },
    {
     "name": "stdout",
     "output_type": "stream",
     "text": [
      "Processing: 0, J:\\Safegraph\\weekly_county_files\\weekly_patterns_2018_2021\\45\\45001\\45001_visitor_home_cbgs_2019-06-03_To_2019-06-10.csv\n"
     ]
    },
    {
     "name": "stderr",
     "output_type": "stream",
     "text": [
      "10it [02:00, 11.93s/it]"
     ]
    },
    {
     "name": "stdout",
     "output_type": "stream",
     "text": [
      "Processing: 10, J:\\Safegraph\\weekly_county_files\\weekly_patterns_2018_2021\\45\\45021\\45021_visitor_home_cbgs_2019-06-03_To_2019-06-10.csv\n"
     ]
    },
    {
     "name": "stderr",
     "output_type": "stream",
     "text": [
      "20it [03:58, 11.80s/it]"
     ]
    },
    {
     "name": "stdout",
     "output_type": "stream",
     "text": [
      "Processing: 20, J:\\Safegraph\\weekly_county_files\\weekly_patterns_2018_2021\\45\\45041\\45041_visitor_home_cbgs_2019-06-03_To_2019-06-10.csv\n"
     ]
    },
    {
     "name": "stderr",
     "output_type": "stream",
     "text": [
      "30it [05:57, 11.88s/it]"
     ]
    },
    {
     "name": "stdout",
     "output_type": "stream",
     "text": [
      "Processing: 30, J:\\Safegraph\\weekly_county_files\\weekly_patterns_2018_2021\\45\\45061\\45061_visitor_home_cbgs_2019-06-03_To_2019-06-10.csv\n"
     ]
    },
    {
     "name": "stderr",
     "output_type": "stream",
     "text": [
      "40it [07:48, 11.02s/it]"
     ]
    },
    {
     "name": "stdout",
     "output_type": "stream",
     "text": [
      "Processing: 40, J:\\Safegraph\\weekly_county_files\\weekly_patterns_2018_2021\\45\\45081\\45081_visitor_home_cbgs_2019-06-03_To_2019-06-10.csv\n"
     ]
    },
    {
     "name": "stderr",
     "output_type": "stream",
     "text": [
      "46it [08:54, 11.61s/it]\n"
     ]
    },
    {
     "name": "stdout",
     "output_type": "stream",
     "text": [
      "Processing: 2019-05-27, 6 / 209\n",
      "Reading weekly POI CSV file: J:\\Safegraph\\weekly_county_files\\weekly_patterns_2018_2021\\POI\\POI_2019-05-27_To_2019-06-03.csv\n",
      "Processing mobility matrix for the week, please wait several minutes: 2019-05-27... \n"
     ]
    },
    {
     "name": "stderr",
     "output_type": "stream",
     "text": [
      "0it [00:00, ?it/s]"
     ]
    },
    {
     "name": "stdout",
     "output_type": "stream",
     "text": [
      "Processing: 0, J:\\Safegraph\\weekly_county_files\\weekly_patterns_2018_2021\\45\\45001\\45001_visitor_home_cbgs_2019-05-27_To_2019-06-03.csv\n"
     ]
    },
    {
     "name": "stderr",
     "output_type": "stream",
     "text": [
      "10it [01:55, 11.45s/it]"
     ]
    },
    {
     "name": "stdout",
     "output_type": "stream",
     "text": [
      "Processing: 10, J:\\Safegraph\\weekly_county_files\\weekly_patterns_2018_2021\\45\\45021\\45021_visitor_home_cbgs_2019-05-27_To_2019-06-03.csv\n"
     ]
    },
    {
     "name": "stderr",
     "output_type": "stream",
     "text": [
      "20it [03:50, 11.47s/it]"
     ]
    },
    {
     "name": "stdout",
     "output_type": "stream",
     "text": [
      "Processing: 20, J:\\Safegraph\\weekly_county_files\\weekly_patterns_2018_2021\\45\\45041\\45041_visitor_home_cbgs_2019-05-27_To_2019-06-03.csv\n"
     ]
    },
    {
     "name": "stderr",
     "output_type": "stream",
     "text": [
      "30it [05:46, 11.53s/it]"
     ]
    },
    {
     "name": "stdout",
     "output_type": "stream",
     "text": [
      "Processing: 30, J:\\Safegraph\\weekly_county_files\\weekly_patterns_2018_2021\\45\\45061\\45061_visitor_home_cbgs_2019-05-27_To_2019-06-03.csv\n"
     ]
    },
    {
     "name": "stderr",
     "output_type": "stream",
     "text": [
      "40it [07:41, 11.49s/it]"
     ]
    },
    {
     "name": "stdout",
     "output_type": "stream",
     "text": [
      "Processing: 40, J:\\Safegraph\\weekly_county_files\\weekly_patterns_2018_2021\\45\\45081\\45081_visitor_home_cbgs_2019-05-27_To_2019-06-03.csv\n"
     ]
    },
    {
     "name": "stderr",
     "output_type": "stream",
     "text": [
      "46it [08:49, 11.52s/it]\n"
     ]
    },
    {
     "name": "stdout",
     "output_type": "stream",
     "text": [
      "Processing: 2019-05-20, 7 / 209\n",
      "Reading weekly POI CSV file: J:\\Safegraph\\weekly_county_files\\weekly_patterns_2018_2021\\POI\\POI_2019-05-20_To_2019-05-27.csv\n",
      "Processing mobility matrix for the week, please wait several minutes: 2019-05-20... \n"
     ]
    },
    {
     "name": "stderr",
     "output_type": "stream",
     "text": [
      "0it [00:00, ?it/s]"
     ]
    },
    {
     "name": "stdout",
     "output_type": "stream",
     "text": [
      "Processing: 0, J:\\Safegraph\\weekly_county_files\\weekly_patterns_2018_2021\\45\\45001\\45001_visitor_home_cbgs_2019-05-20_To_2019-05-27.csv\n"
     ]
    },
    {
     "name": "stderr",
     "output_type": "stream",
     "text": [
      "10it [01:55, 11.61s/it]"
     ]
    },
    {
     "name": "stdout",
     "output_type": "stream",
     "text": [
      "Processing: 10, J:\\Safegraph\\weekly_county_files\\weekly_patterns_2018_2021\\45\\45021\\45021_visitor_home_cbgs_2019-05-20_To_2019-05-27.csv\n"
     ]
    },
    {
     "name": "stderr",
     "output_type": "stream",
     "text": [
      "20it [03:50, 11.51s/it]"
     ]
    },
    {
     "name": "stdout",
     "output_type": "stream",
     "text": [
      "Processing: 20, J:\\Safegraph\\weekly_county_files\\weekly_patterns_2018_2021\\45\\45041\\45041_visitor_home_cbgs_2019-05-20_To_2019-05-27.csv\n"
     ]
    },
    {
     "name": "stderr",
     "output_type": "stream",
     "text": [
      "30it [05:46, 11.48s/it]"
     ]
    },
    {
     "name": "stdout",
     "output_type": "stream",
     "text": [
      "Processing: 30, J:\\Safegraph\\weekly_county_files\\weekly_patterns_2018_2021\\45\\45061\\45061_visitor_home_cbgs_2019-05-20_To_2019-05-27.csv\n"
     ]
    },
    {
     "name": "stderr",
     "output_type": "stream",
     "text": [
      "40it [07:39, 11.25s/it]"
     ]
    },
    {
     "name": "stdout",
     "output_type": "stream",
     "text": [
      "Processing: 40, J:\\Safegraph\\weekly_county_files\\weekly_patterns_2018_2021\\45\\45081\\45081_visitor_home_cbgs_2019-05-20_To_2019-05-27.csv\n"
     ]
    },
    {
     "name": "stderr",
     "output_type": "stream",
     "text": [
      "46it [08:46, 11.44s/it]\n"
     ]
    },
    {
     "name": "stdout",
     "output_type": "stream",
     "text": [
      "Processing: 2019-05-13, 8 / 209\n",
      "Reading weekly POI CSV file: J:\\Safegraph\\weekly_county_files\\weekly_patterns_2018_2021\\POI\\POI_2019-05-13_To_2019-05-20.csv\n",
      "Processing mobility matrix for the week, please wait several minutes: 2019-05-13... \n"
     ]
    },
    {
     "name": "stderr",
     "output_type": "stream",
     "text": [
      "0it [00:00, ?it/s]"
     ]
    },
    {
     "name": "stdout",
     "output_type": "stream",
     "text": [
      "Processing: 0, J:\\Safegraph\\weekly_county_files\\weekly_patterns_2018_2021\\45\\45001\\45001_visitor_home_cbgs_2019-05-13_To_2019-05-20.csv\n"
     ]
    },
    {
     "name": "stderr",
     "output_type": "stream",
     "text": [
      "10it [01:53, 11.24s/it]"
     ]
    },
    {
     "name": "stdout",
     "output_type": "stream",
     "text": [
      "Processing: 10, J:\\Safegraph\\weekly_county_files\\weekly_patterns_2018_2021\\45\\45021\\45021_visitor_home_cbgs_2019-05-13_To_2019-05-20.csv\n"
     ]
    },
    {
     "name": "stderr",
     "output_type": "stream",
     "text": [
      "20it [03:44, 11.10s/it]"
     ]
    },
    {
     "name": "stdout",
     "output_type": "stream",
     "text": [
      "Processing: 20, J:\\Safegraph\\weekly_county_files\\weekly_patterns_2018_2021\\45\\45041\\45041_visitor_home_cbgs_2019-05-13_To_2019-05-20.csv\n"
     ]
    },
    {
     "name": "stderr",
     "output_type": "stream",
     "text": [
      "30it [05:36, 11.19s/it]"
     ]
    },
    {
     "name": "stdout",
     "output_type": "stream",
     "text": [
      "Processing: 30, J:\\Safegraph\\weekly_county_files\\weekly_patterns_2018_2021\\45\\45061\\45061_visitor_home_cbgs_2019-05-13_To_2019-05-20.csv\n"
     ]
    },
    {
     "name": "stderr",
     "output_type": "stream",
     "text": [
      "40it [07:28, 11.26s/it]"
     ]
    },
    {
     "name": "stdout",
     "output_type": "stream",
     "text": [
      "Processing: 40, J:\\Safegraph\\weekly_county_files\\weekly_patterns_2018_2021\\45\\45081\\45081_visitor_home_cbgs_2019-05-13_To_2019-05-20.csv\n"
     ]
    },
    {
     "name": "stderr",
     "output_type": "stream",
     "text": [
      "46it [08:35, 11.21s/it]\n"
     ]
    },
    {
     "name": "stdout",
     "output_type": "stream",
     "text": [
      "Processing: 2019-05-06, 9 / 209\n",
      "Reading weekly POI CSV file: J:\\Safegraph\\weekly_county_files\\weekly_patterns_2018_2021\\POI\\POI_2019-05-06_To_2019-05-13.csv\n",
      "Processing mobility matrix for the week, please wait several minutes: 2019-05-06... \n"
     ]
    },
    {
     "name": "stderr",
     "output_type": "stream",
     "text": [
      "0it [00:00, ?it/s]"
     ]
    },
    {
     "name": "stdout",
     "output_type": "stream",
     "text": [
      "Processing: 0, J:\\Safegraph\\weekly_county_files\\weekly_patterns_2018_2021\\45\\45001\\45001_visitor_home_cbgs_2019-05-06_To_2019-05-13.csv\n"
     ]
    },
    {
     "name": "stderr",
     "output_type": "stream",
     "text": [
      "10it [01:53, 11.28s/it]"
     ]
    },
    {
     "name": "stdout",
     "output_type": "stream",
     "text": [
      "Processing: 10, J:\\Safegraph\\weekly_county_files\\weekly_patterns_2018_2021\\45\\45021\\45021_visitor_home_cbgs_2019-05-06_To_2019-05-13.csv\n"
     ]
    },
    {
     "name": "stderr",
     "output_type": "stream",
     "text": [
      "20it [03:44, 11.09s/it]"
     ]
    },
    {
     "name": "stdout",
     "output_type": "stream",
     "text": [
      "Processing: 20, J:\\Safegraph\\weekly_county_files\\weekly_patterns_2018_2021\\45\\45041\\45041_visitor_home_cbgs_2019-05-06_To_2019-05-13.csv\n"
     ]
    },
    {
     "name": "stderr",
     "output_type": "stream",
     "text": [
      "30it [05:35, 11.06s/it]"
     ]
    },
    {
     "name": "stdout",
     "output_type": "stream",
     "text": [
      "Processing: 30, J:\\Safegraph\\weekly_county_files\\weekly_patterns_2018_2021\\45\\45061\\45061_visitor_home_cbgs_2019-05-06_To_2019-05-13.csv\n"
     ]
    },
    {
     "name": "stderr",
     "output_type": "stream",
     "text": [
      "40it [07:26, 11.21s/it]"
     ]
    },
    {
     "name": "stdout",
     "output_type": "stream",
     "text": [
      "Processing: 40, J:\\Safegraph\\weekly_county_files\\weekly_patterns_2018_2021\\45\\45081\\45081_visitor_home_cbgs_2019-05-06_To_2019-05-13.csv\n"
     ]
    },
    {
     "name": "stderr",
     "output_type": "stream",
     "text": [
      "46it [08:32, 11.14s/it]\n"
     ]
    },
    {
     "name": "stdout",
     "output_type": "stream",
     "text": [
      "Processing: 2019-04-29, 10 / 209\n",
      "Reading weekly POI CSV file: J:\\Safegraph\\weekly_county_files\\weekly_patterns_2018_2021\\POI\\POI_2019-04-29_To_2019-05-06.csv\n",
      "Processing mobility matrix for the week, please wait several minutes: 2019-04-29... \n"
     ]
    },
    {
     "name": "stderr",
     "output_type": "stream",
     "text": [
      "0it [00:00, ?it/s]"
     ]
    },
    {
     "name": "stdout",
     "output_type": "stream",
     "text": [
      "Processing: 0, J:\\Safegraph\\weekly_county_files\\weekly_patterns_2018_2021\\45\\45001\\45001_visitor_home_cbgs_2019-04-29_To_2019-05-06.csv\n"
     ]
    },
    {
     "name": "stderr",
     "output_type": "stream",
     "text": [
      "10it [01:52, 11.20s/it]"
     ]
    },
    {
     "name": "stdout",
     "output_type": "stream",
     "text": [
      "Processing: 10, J:\\Safegraph\\weekly_county_files\\weekly_patterns_2018_2021\\45\\45021\\45021_visitor_home_cbgs_2019-04-29_To_2019-05-06.csv\n"
     ]
    },
    {
     "name": "stderr",
     "output_type": "stream",
     "text": [
      "20it [03:44, 11.06s/it]"
     ]
    },
    {
     "name": "stdout",
     "output_type": "stream",
     "text": [
      "Processing: 20, J:\\Safegraph\\weekly_county_files\\weekly_patterns_2018_2021\\45\\45041\\45041_visitor_home_cbgs_2019-04-29_To_2019-05-06.csv\n"
     ]
    },
    {
     "name": "stderr",
     "output_type": "stream",
     "text": [
      "30it [05:34, 11.00s/it]"
     ]
    },
    {
     "name": "stdout",
     "output_type": "stream",
     "text": [
      "Processing: 30, J:\\Safegraph\\weekly_county_files\\weekly_patterns_2018_2021\\45\\45061\\45061_visitor_home_cbgs_2019-04-29_To_2019-05-06.csv\n"
     ]
    },
    {
     "name": "stderr",
     "output_type": "stream",
     "text": [
      "40it [07:24, 10.99s/it]"
     ]
    },
    {
     "name": "stdout",
     "output_type": "stream",
     "text": [
      "Processing: 40, J:\\Safegraph\\weekly_county_files\\weekly_patterns_2018_2021\\45\\45081\\45081_visitor_home_cbgs_2019-04-29_To_2019-05-06.csv\n"
     ]
    },
    {
     "name": "stderr",
     "output_type": "stream",
     "text": [
      "46it [08:29, 11.08s/it]\n"
     ]
    },
    {
     "name": "stdout",
     "output_type": "stream",
     "text": [
      "Processing: 2019-04-22, 11 / 209\n",
      "Reading weekly POI CSV file: J:\\Safegraph\\weekly_county_files\\weekly_patterns_2018_2021\\POI\\POI_2019-04-22_To_2019-04-29.csv\n",
      "Processing mobility matrix for the week, please wait several minutes: 2019-04-22... \n"
     ]
    },
    {
     "name": "stderr",
     "output_type": "stream",
     "text": [
      "0it [00:00, ?it/s]"
     ]
    },
    {
     "name": "stdout",
     "output_type": "stream",
     "text": [
      "Processing: 0, J:\\Safegraph\\weekly_county_files\\weekly_patterns_2018_2021\\45\\45001\\45001_visitor_home_cbgs_2019-04-22_To_2019-04-29.csv\n"
     ]
    },
    {
     "name": "stderr",
     "output_type": "stream",
     "text": [
      "10it [01:50, 11.05s/it]"
     ]
    },
    {
     "name": "stdout",
     "output_type": "stream",
     "text": [
      "Processing: 10, J:\\Safegraph\\weekly_county_files\\weekly_patterns_2018_2021\\45\\45021\\45021_visitor_home_cbgs_2019-04-22_To_2019-04-29.csv\n"
     ]
    },
    {
     "name": "stderr",
     "output_type": "stream",
     "text": [
      "20it [03:38, 10.88s/it]"
     ]
    },
    {
     "name": "stdout",
     "output_type": "stream",
     "text": [
      "Processing: 20, J:\\Safegraph\\weekly_county_files\\weekly_patterns_2018_2021\\45\\45041\\45041_visitor_home_cbgs_2019-04-22_To_2019-04-29.csv\n"
     ]
    },
    {
     "name": "stderr",
     "output_type": "stream",
     "text": [
      "30it [05:30, 11.13s/it]"
     ]
    },
    {
     "name": "stdout",
     "output_type": "stream",
     "text": [
      "Processing: 30, J:\\Safegraph\\weekly_county_files\\weekly_patterns_2018_2021\\45\\45061\\45061_visitor_home_cbgs_2019-04-22_To_2019-04-29.csv\n"
     ]
    },
    {
     "name": "stderr",
     "output_type": "stream",
     "text": [
      "40it [07:21, 11.16s/it]"
     ]
    },
    {
     "name": "stdout",
     "output_type": "stream",
     "text": [
      "Processing: 40, J:\\Safegraph\\weekly_county_files\\weekly_patterns_2018_2021\\45\\45081\\45081_visitor_home_cbgs_2019-04-22_To_2019-04-29.csv\n"
     ]
    },
    {
     "name": "stderr",
     "output_type": "stream",
     "text": [
      "46it [08:28, 11.05s/it]\n"
     ]
    },
    {
     "name": "stdout",
     "output_type": "stream",
     "text": [
      "Processing: 2019-04-15, 12 / 209\n",
      "Reading weekly POI CSV file: J:\\Safegraph\\weekly_county_files\\weekly_patterns_2018_2021\\POI\\POI_2019-04-15_To_2019-04-22.csv\n",
      "Processing mobility matrix for the week, please wait several minutes: 2019-04-15... \n"
     ]
    },
    {
     "name": "stderr",
     "output_type": "stream",
     "text": [
      "0it [00:00, ?it/s]"
     ]
    },
    {
     "name": "stdout",
     "output_type": "stream",
     "text": [
      "Processing: 0, J:\\Safegraph\\weekly_county_files\\weekly_patterns_2018_2021\\45\\45001\\45001_visitor_home_cbgs_2019-04-15_To_2019-04-22.csv\n"
     ]
    },
    {
     "name": "stderr",
     "output_type": "stream",
     "text": [
      "10it [01:51, 10.94s/it]"
     ]
    },
    {
     "name": "stdout",
     "output_type": "stream",
     "text": [
      "Processing: 10, J:\\Safegraph\\weekly_county_files\\weekly_patterns_2018_2021\\45\\45021\\45021_visitor_home_cbgs_2019-04-15_To_2019-04-22.csv\n"
     ]
    },
    {
     "name": "stderr",
     "output_type": "stream",
     "text": [
      "20it [03:38, 10.78s/it]"
     ]
    },
    {
     "name": "stdout",
     "output_type": "stream",
     "text": [
      "Processing: 20, J:\\Safegraph\\weekly_county_files\\weekly_patterns_2018_2021\\45\\45041\\45041_visitor_home_cbgs_2019-04-15_To_2019-04-22.csv\n"
     ]
    },
    {
     "name": "stderr",
     "output_type": "stream",
     "text": [
      "30it [05:26, 10.69s/it]"
     ]
    },
    {
     "name": "stdout",
     "output_type": "stream",
     "text": [
      "Processing: 30, J:\\Safegraph\\weekly_county_files\\weekly_patterns_2018_2021\\45\\45061\\45061_visitor_home_cbgs_2019-04-15_To_2019-04-22.csv\n"
     ]
    },
    {
     "name": "stderr",
     "output_type": "stream",
     "text": [
      "40it [07:13, 10.82s/it]"
     ]
    },
    {
     "name": "stdout",
     "output_type": "stream",
     "text": [
      "Processing: 40, J:\\Safegraph\\weekly_county_files\\weekly_patterns_2018_2021\\45\\45081\\45081_visitor_home_cbgs_2019-04-15_To_2019-04-22.csv\n"
     ]
    },
    {
     "name": "stderr",
     "output_type": "stream",
     "text": [
      "46it [08:19, 10.86s/it]\n"
     ]
    },
    {
     "name": "stdout",
     "output_type": "stream",
     "text": [
      "Processing: 2019-04-08, 13 / 209\n",
      "Reading weekly POI CSV file: J:\\Safegraph\\weekly_county_files\\weekly_patterns_2018_2021\\POI\\POI_2019-04-08_To_2019-04-15.csv\n",
      "Processing mobility matrix for the week, please wait several minutes: 2019-04-08... \n"
     ]
    },
    {
     "name": "stderr",
     "output_type": "stream",
     "text": [
      "0it [00:00, ?it/s]"
     ]
    },
    {
     "name": "stdout",
     "output_type": "stream",
     "text": [
      "Processing: 0, J:\\Safegraph\\weekly_county_files\\weekly_patterns_2018_2021\\45\\45001\\45001_visitor_home_cbgs_2019-04-08_To_2019-04-15.csv\n"
     ]
    },
    {
     "name": "stderr",
     "output_type": "stream",
     "text": [
      "10it [01:48, 10.82s/it]"
     ]
    },
    {
     "name": "stdout",
     "output_type": "stream",
     "text": [
      "Processing: 10, J:\\Safegraph\\weekly_county_files\\weekly_patterns_2018_2021\\45\\45021\\45021_visitor_home_cbgs_2019-04-08_To_2019-04-15.csv\n"
     ]
    },
    {
     "name": "stderr",
     "output_type": "stream",
     "text": [
      "20it [03:34, 10.56s/it]"
     ]
    },
    {
     "name": "stdout",
     "output_type": "stream",
     "text": [
      "Processing: 20, J:\\Safegraph\\weekly_county_files\\weekly_patterns_2018_2021\\45\\45041\\45041_visitor_home_cbgs_2019-04-08_To_2019-04-15.csv\n"
     ]
    },
    {
     "name": "stderr",
     "output_type": "stream",
     "text": [
      "30it [05:22, 10.66s/it]"
     ]
    },
    {
     "name": "stdout",
     "output_type": "stream",
     "text": [
      "Processing: 30, J:\\Safegraph\\weekly_county_files\\weekly_patterns_2018_2021\\45\\45061\\45061_visitor_home_cbgs_2019-04-08_To_2019-04-15.csv\n"
     ]
    },
    {
     "name": "stderr",
     "output_type": "stream",
     "text": [
      "40it [07:08, 10.65s/it]"
     ]
    },
    {
     "name": "stdout",
     "output_type": "stream",
     "text": [
      "Processing: 40, J:\\Safegraph\\weekly_county_files\\weekly_patterns_2018_2021\\45\\45081\\45081_visitor_home_cbgs_2019-04-08_To_2019-04-15.csv\n"
     ]
    },
    {
     "name": "stderr",
     "output_type": "stream",
     "text": [
      "46it [08:12, 10.70s/it]\n"
     ]
    },
    {
     "name": "stdout",
     "output_type": "stream",
     "text": [
      "Processing: 2019-04-01, 14 / 209\n",
      "Reading weekly POI CSV file: J:\\Safegraph\\weekly_county_files\\weekly_patterns_2018_2021\\POI\\POI_2019-04-01_To_2019-04-08.csv\n",
      "Processing mobility matrix for the week, please wait several minutes: 2019-04-01... \n"
     ]
    },
    {
     "name": "stderr",
     "output_type": "stream",
     "text": [
      "0it [00:00, ?it/s]"
     ]
    },
    {
     "name": "stdout",
     "output_type": "stream",
     "text": [
      "Processing: 0, J:\\Safegraph\\weekly_county_files\\weekly_patterns_2018_2021\\45\\45001\\45001_visitor_home_cbgs_2019-04-01_To_2019-04-08.csv\n"
     ]
    },
    {
     "name": "stderr",
     "output_type": "stream",
     "text": [
      "10it [01:48, 10.83s/it]"
     ]
    },
    {
     "name": "stdout",
     "output_type": "stream",
     "text": [
      "Processing: 10, J:\\Safegraph\\weekly_county_files\\weekly_patterns_2018_2021\\45\\45021\\45021_visitor_home_cbgs_2019-04-01_To_2019-04-08.csv\n"
     ]
    },
    {
     "name": "stderr",
     "output_type": "stream",
     "text": [
      "20it [03:34, 10.58s/it]"
     ]
    },
    {
     "name": "stdout",
     "output_type": "stream",
     "text": [
      "Processing: 20, J:\\Safegraph\\weekly_county_files\\weekly_patterns_2018_2021\\45\\45041\\45041_visitor_home_cbgs_2019-04-01_To_2019-04-08.csv\n"
     ]
    },
    {
     "name": "stderr",
     "output_type": "stream",
     "text": [
      "30it [05:20, 10.62s/it]"
     ]
    },
    {
     "name": "stdout",
     "output_type": "stream",
     "text": [
      "Processing: 30, J:\\Safegraph\\weekly_county_files\\weekly_patterns_2018_2021\\45\\45061\\45061_visitor_home_cbgs_2019-04-01_To_2019-04-08.csv\n"
     ]
    },
    {
     "name": "stderr",
     "output_type": "stream",
     "text": [
      "40it [07:07, 10.70s/it]"
     ]
    },
    {
     "name": "stdout",
     "output_type": "stream",
     "text": [
      "Processing: 40, J:\\Safegraph\\weekly_county_files\\weekly_patterns_2018_2021\\45\\45081\\45081_visitor_home_cbgs_2019-04-01_To_2019-04-08.csv\n"
     ]
    },
    {
     "name": "stderr",
     "output_type": "stream",
     "text": [
      "46it [08:11, 10.68s/it]\n"
     ]
    },
    {
     "name": "stdout",
     "output_type": "stream",
     "text": [
      "Processing: 2019-03-25, 15 / 209\n",
      "Reading weekly POI CSV file: J:\\Safegraph\\weekly_county_files\\weekly_patterns_2018_2021\\POI\\POI_2019-03-25_To_2019-04-01.csv\n",
      "Processing mobility matrix for the week, please wait several minutes: 2019-03-25... \n"
     ]
    },
    {
     "name": "stderr",
     "output_type": "stream",
     "text": [
      "0it [00:00, ?it/s]"
     ]
    },
    {
     "name": "stdout",
     "output_type": "stream",
     "text": [
      "Processing: 0, J:\\Safegraph\\weekly_county_files\\weekly_patterns_2018_2021\\45\\45001\\45001_visitor_home_cbgs_2019-03-25_To_2019-04-01.csv\n"
     ]
    },
    {
     "name": "stderr",
     "output_type": "stream",
     "text": [
      "10it [01:46, 10.63s/it]"
     ]
    },
    {
     "name": "stdout",
     "output_type": "stream",
     "text": [
      "Processing: 10, J:\\Safegraph\\weekly_county_files\\weekly_patterns_2018_2021\\45\\45021\\45021_visitor_home_cbgs_2019-03-25_To_2019-04-01.csv\n"
     ]
    },
    {
     "name": "stderr",
     "output_type": "stream",
     "text": [
      "20it [03:32, 10.57s/it]"
     ]
    },
    {
     "name": "stdout",
     "output_type": "stream",
     "text": [
      "Processing: 20, J:\\Safegraph\\weekly_county_files\\weekly_patterns_2018_2021\\45\\45041\\45041_visitor_home_cbgs_2019-03-25_To_2019-04-01.csv\n"
     ]
    },
    {
     "name": "stderr",
     "output_type": "stream",
     "text": [
      "30it [05:19, 10.62s/it]"
     ]
    },
    {
     "name": "stdout",
     "output_type": "stream",
     "text": [
      "Processing: 30, J:\\Safegraph\\weekly_county_files\\weekly_patterns_2018_2021\\45\\45061\\45061_visitor_home_cbgs_2019-03-25_To_2019-04-01.csv\n"
     ]
    },
    {
     "name": "stderr",
     "output_type": "stream",
     "text": [
      "40it [07:06, 10.73s/it]"
     ]
    },
    {
     "name": "stdout",
     "output_type": "stream",
     "text": [
      "Processing: 40, J:\\Safegraph\\weekly_county_files\\weekly_patterns_2018_2021\\45\\45081\\45081_visitor_home_cbgs_2019-03-25_To_2019-04-01.csv\n"
     ]
    },
    {
     "name": "stderr",
     "output_type": "stream",
     "text": [
      "46it [08:10, 10.67s/it]\n"
     ]
    },
    {
     "name": "stdout",
     "output_type": "stream",
     "text": [
      "Processing: 2019-03-18, 16 / 209\n",
      "Reading weekly POI CSV file: J:\\Safegraph\\weekly_county_files\\weekly_patterns_2018_2021\\POI\\POI_2019-03-18_To_2019-03-25.csv\n",
      "Processing mobility matrix for the week, please wait several minutes: 2019-03-18... \n"
     ]
    },
    {
     "name": "stderr",
     "output_type": "stream",
     "text": [
      "0it [00:00, ?it/s]"
     ]
    },
    {
     "name": "stdout",
     "output_type": "stream",
     "text": [
      "Processing: 0, J:\\Safegraph\\weekly_county_files\\weekly_patterns_2018_2021\\45\\45001\\45001_visitor_home_cbgs_2019-03-18_To_2019-03-25.csv\n"
     ]
    },
    {
     "name": "stderr",
     "output_type": "stream",
     "text": [
      "10it [01:47, 10.65s/it]"
     ]
    },
    {
     "name": "stdout",
     "output_type": "stream",
     "text": [
      "Processing: 10, J:\\Safegraph\\weekly_county_files\\weekly_patterns_2018_2021\\45\\45021\\45021_visitor_home_cbgs_2019-03-18_To_2019-03-25.csv\n"
     ]
    },
    {
     "name": "stderr",
     "output_type": "stream",
     "text": [
      "20it [03:33, 10.53s/it]"
     ]
    },
    {
     "name": "stdout",
     "output_type": "stream",
     "text": [
      "Processing: 20, J:\\Safegraph\\weekly_county_files\\weekly_patterns_2018_2021\\45\\45041\\45041_visitor_home_cbgs_2019-03-18_To_2019-03-25.csv\n"
     ]
    },
    {
     "name": "stderr",
     "output_type": "stream",
     "text": [
      "30it [05:20, 10.62s/it]"
     ]
    },
    {
     "name": "stdout",
     "output_type": "stream",
     "text": [
      "Processing: 30, J:\\Safegraph\\weekly_county_files\\weekly_patterns_2018_2021\\45\\45061\\45061_visitor_home_cbgs_2019-03-18_To_2019-03-25.csv\n"
     ]
    },
    {
     "name": "stderr",
     "output_type": "stream",
     "text": [
      "40it [07:06, 10.62s/it]"
     ]
    },
    {
     "name": "stdout",
     "output_type": "stream",
     "text": [
      "Processing: 40, J:\\Safegraph\\weekly_county_files\\weekly_patterns_2018_2021\\45\\45081\\45081_visitor_home_cbgs_2019-03-18_To_2019-03-25.csv\n"
     ]
    },
    {
     "name": "stderr",
     "output_type": "stream",
     "text": [
      "46it [08:09, 10.64s/it]\n"
     ]
    },
    {
     "name": "stdout",
     "output_type": "stream",
     "text": [
      "Processing: 2019-03-11, 17 / 209\n",
      "Reading weekly POI CSV file: J:\\Safegraph\\weekly_county_files\\weekly_patterns_2018_2021\\POI\\POI_2019-03-11_To_2019-03-18.csv\n",
      "Processing mobility matrix for the week, please wait several minutes: 2019-03-11... \n"
     ]
    },
    {
     "name": "stderr",
     "output_type": "stream",
     "text": [
      "0it [00:00, ?it/s]"
     ]
    },
    {
     "name": "stdout",
     "output_type": "stream",
     "text": [
      "Processing: 0, J:\\Safegraph\\weekly_county_files\\weekly_patterns_2018_2021\\45\\45001\\45001_visitor_home_cbgs_2019-03-11_To_2019-03-18.csv\n"
     ]
    },
    {
     "name": "stderr",
     "output_type": "stream",
     "text": [
      "10it [01:47, 10.71s/it]"
     ]
    },
    {
     "name": "stdout",
     "output_type": "stream",
     "text": [
      "Processing: 10, J:\\Safegraph\\weekly_county_files\\weekly_patterns_2018_2021\\45\\45021\\45021_visitor_home_cbgs_2019-03-11_To_2019-03-18.csv\n"
     ]
    },
    {
     "name": "stderr",
     "output_type": "stream",
     "text": [
      "20it [03:33, 10.52s/it]"
     ]
    },
    {
     "name": "stdout",
     "output_type": "stream",
     "text": [
      "Processing: 20, J:\\Safegraph\\weekly_county_files\\weekly_patterns_2018_2021\\45\\45041\\45041_visitor_home_cbgs_2019-03-11_To_2019-03-18.csv\n"
     ]
    },
    {
     "name": "stderr",
     "output_type": "stream",
     "text": [
      "30it [05:19, 10.63s/it]"
     ]
    },
    {
     "name": "stdout",
     "output_type": "stream",
     "text": [
      "Processing: 30, J:\\Safegraph\\weekly_county_files\\weekly_patterns_2018_2021\\45\\45061\\45061_visitor_home_cbgs_2019-03-11_To_2019-03-18.csv\n"
     ]
    },
    {
     "name": "stderr",
     "output_type": "stream",
     "text": [
      "40it [07:05, 10.72s/it]"
     ]
    },
    {
     "name": "stdout",
     "output_type": "stream",
     "text": [
      "Processing: 40, J:\\Safegraph\\weekly_county_files\\weekly_patterns_2018_2021\\45\\45081\\45081_visitor_home_cbgs_2019-03-11_To_2019-03-18.csv\n"
     ]
    },
    {
     "name": "stderr",
     "output_type": "stream",
     "text": [
      "46it [08:09, 10.64s/it]\n"
     ]
    },
    {
     "name": "stdout",
     "output_type": "stream",
     "text": [
      "Processing: 2019-03-04, 18 / 209\n",
      "Reading weekly POI CSV file: J:\\Safegraph\\weekly_county_files\\weekly_patterns_2018_2021\\POI\\POI_2019-03-04_To_2019-03-11.csv\n",
      "Processing mobility matrix for the week, please wait several minutes: 2019-03-04... \n"
     ]
    },
    {
     "name": "stderr",
     "output_type": "stream",
     "text": [
      "0it [00:00, ?it/s]"
     ]
    },
    {
     "name": "stdout",
     "output_type": "stream",
     "text": [
      "Processing: 0, J:\\Safegraph\\weekly_county_files\\weekly_patterns_2018_2021\\45\\45001\\45001_visitor_home_cbgs_2019-03-04_To_2019-03-11.csv\n"
     ]
    },
    {
     "name": "stderr",
     "output_type": "stream",
     "text": [
      "10it [01:48, 11.04s/it]"
     ]
    },
    {
     "name": "stdout",
     "output_type": "stream",
     "text": [
      "Processing: 10, J:\\Safegraph\\weekly_county_files\\weekly_patterns_2018_2021\\45\\45021\\45021_visitor_home_cbgs_2019-03-04_To_2019-03-11.csv\n"
     ]
    },
    {
     "name": "stderr",
     "output_type": "stream",
     "text": [
      "20it [03:33, 10.58s/it]"
     ]
    },
    {
     "name": "stdout",
     "output_type": "stream",
     "text": [
      "Processing: 20, J:\\Safegraph\\weekly_county_files\\weekly_patterns_2018_2021\\45\\45041\\45041_visitor_home_cbgs_2019-03-04_To_2019-03-11.csv\n"
     ]
    },
    {
     "name": "stderr",
     "output_type": "stream",
     "text": [
      "30it [05:25, 11.27s/it]"
     ]
    },
    {
     "name": "stdout",
     "output_type": "stream",
     "text": [
      "Processing: 30, J:\\Safegraph\\weekly_county_files\\weekly_patterns_2018_2021\\45\\45061\\45061_visitor_home_cbgs_2019-03-04_To_2019-03-11.csv\n"
     ]
    },
    {
     "name": "stderr",
     "output_type": "stream",
     "text": [
      "40it [07:17, 11.41s/it]"
     ]
    },
    {
     "name": "stdout",
     "output_type": "stream",
     "text": [
      "Processing: 40, J:\\Safegraph\\weekly_county_files\\weekly_patterns_2018_2021\\45\\45081\\45081_visitor_home_cbgs_2019-03-04_To_2019-03-11.csv\n"
     ]
    },
    {
     "name": "stderr",
     "output_type": "stream",
     "text": [
      "46it [08:24, 10.97s/it]\n"
     ]
    },
    {
     "name": "stdout",
     "output_type": "stream",
     "text": [
      "Processing: 2019-02-25, 19 / 209\n",
      "Reading weekly POI CSV file: J:\\Safegraph\\weekly_county_files\\weekly_patterns_2018_2021\\POI\\POI_2019-02-25_To_2019-03-04.csv\n",
      "Processing mobility matrix for the week, please wait several minutes: 2019-02-25... \n"
     ]
    },
    {
     "name": "stderr",
     "output_type": "stream",
     "text": [
      "0it [00:00, ?it/s]"
     ]
    },
    {
     "name": "stdout",
     "output_type": "stream",
     "text": [
      "Processing: 0, J:\\Safegraph\\weekly_county_files\\weekly_patterns_2018_2021\\45\\45001\\45001_visitor_home_cbgs_2019-02-25_To_2019-03-04.csv\n"
     ]
    },
    {
     "name": "stderr",
     "output_type": "stream",
     "text": [
      "10it [01:51, 11.20s/it]"
     ]
    },
    {
     "name": "stdout",
     "output_type": "stream",
     "text": [
      "Processing: 10, J:\\Safegraph\\weekly_county_files\\weekly_patterns_2018_2021\\45\\45021\\45021_visitor_home_cbgs_2019-02-25_To_2019-03-04.csv\n"
     ]
    },
    {
     "name": "stderr",
     "output_type": "stream",
     "text": [
      "20it [03:41, 10.99s/it]"
     ]
    },
    {
     "name": "stdout",
     "output_type": "stream",
     "text": [
      "Processing: 20, J:\\Safegraph\\weekly_county_files\\weekly_patterns_2018_2021\\45\\45041\\45041_visitor_home_cbgs_2019-02-25_To_2019-03-04.csv\n"
     ]
    },
    {
     "name": "stderr",
     "output_type": "stream",
     "text": [
      "30it [05:33, 11.14s/it]"
     ]
    },
    {
     "name": "stdout",
     "output_type": "stream",
     "text": [
      "Processing: 30, J:\\Safegraph\\weekly_county_files\\weekly_patterns_2018_2021\\45\\45061\\45061_visitor_home_cbgs_2019-02-25_To_2019-03-04.csv\n"
     ]
    },
    {
     "name": "stderr",
     "output_type": "stream",
     "text": [
      "40it [07:24, 11.27s/it]"
     ]
    },
    {
     "name": "stdout",
     "output_type": "stream",
     "text": [
      "Processing: 40, J:\\Safegraph\\weekly_county_files\\weekly_patterns_2018_2021\\45\\45081\\45081_visitor_home_cbgs_2019-02-25_To_2019-03-04.csv\n"
     ]
    },
    {
     "name": "stderr",
     "output_type": "stream",
     "text": [
      "46it [08:30, 11.10s/it]\n"
     ]
    },
    {
     "name": "stdout",
     "output_type": "stream",
     "text": [
      "Processing: 2019-02-18, 20 / 209\n",
      "Reading weekly POI CSV file: J:\\Safegraph\\weekly_county_files\\weekly_patterns_2018_2021\\POI\\POI_2019-02-18_To_2019-02-25.csv\n",
      "Processing mobility matrix for the week, please wait several minutes: 2019-02-18... \n"
     ]
    },
    {
     "name": "stderr",
     "output_type": "stream",
     "text": [
      "0it [00:00, ?it/s]"
     ]
    },
    {
     "name": "stdout",
     "output_type": "stream",
     "text": [
      "Processing: 0, J:\\Safegraph\\weekly_county_files\\weekly_patterns_2018_2021\\45\\45001\\45001_visitor_home_cbgs_2019-02-18_To_2019-02-25.csv\n"
     ]
    },
    {
     "name": "stderr",
     "output_type": "stream",
     "text": [
      "10it [01:53, 11.23s/it]"
     ]
    },
    {
     "name": "stdout",
     "output_type": "stream",
     "text": [
      "Processing: 10, J:\\Safegraph\\weekly_county_files\\weekly_patterns_2018_2021\\45\\45021\\45021_visitor_home_cbgs_2019-02-18_To_2019-02-25.csv\n"
     ]
    },
    {
     "name": "stderr",
     "output_type": "stream",
     "text": [
      "20it [03:43, 11.03s/it]"
     ]
    },
    {
     "name": "stdout",
     "output_type": "stream",
     "text": [
      "Processing: 20, J:\\Safegraph\\weekly_county_files\\weekly_patterns_2018_2021\\45\\45041\\45041_visitor_home_cbgs_2019-02-18_To_2019-02-25.csv\n"
     ]
    },
    {
     "name": "stderr",
     "output_type": "stream",
     "text": [
      "30it [05:35, 11.10s/it]"
     ]
    },
    {
     "name": "stdout",
     "output_type": "stream",
     "text": [
      "Processing: 30, J:\\Safegraph\\weekly_county_files\\weekly_patterns_2018_2021\\45\\45061\\45061_visitor_home_cbgs_2019-02-18_To_2019-02-25.csv\n"
     ]
    },
    {
     "name": "stderr",
     "output_type": "stream",
     "text": [
      "40it [07:25, 11.10s/it]"
     ]
    },
    {
     "name": "stdout",
     "output_type": "stream",
     "text": [
      "Processing: 40, J:\\Safegraph\\weekly_county_files\\weekly_patterns_2018_2021\\45\\45081\\45081_visitor_home_cbgs_2019-02-18_To_2019-02-25.csv\n"
     ]
    },
    {
     "name": "stderr",
     "output_type": "stream",
     "text": [
      "46it [08:32, 11.14s/it]\n"
     ]
    },
    {
     "name": "stdout",
     "output_type": "stream",
     "text": [
      "Processing: 2019-02-11, 21 / 209\n",
      "Reading weekly POI CSV file: J:\\Safegraph\\weekly_county_files\\weekly_patterns_2018_2021\\POI\\POI_2019-02-11_To_2019-02-18.csv\n",
      "Processing mobility matrix for the week, please wait several minutes: 2019-02-11... \n"
     ]
    },
    {
     "name": "stderr",
     "output_type": "stream",
     "text": [
      "0it [00:00, ?it/s]"
     ]
    },
    {
     "name": "stdout",
     "output_type": "stream",
     "text": [
      "Processing: 0, J:\\Safegraph\\weekly_county_files\\weekly_patterns_2018_2021\\45\\45001\\45001_visitor_home_cbgs_2019-02-11_To_2019-02-18.csv\n"
     ]
    },
    {
     "name": "stderr",
     "output_type": "stream",
     "text": [
      "10it [01:55, 11.42s/it]"
     ]
    },
    {
     "name": "stdout",
     "output_type": "stream",
     "text": [
      "Processing: 10, J:\\Safegraph\\weekly_county_files\\weekly_patterns_2018_2021\\45\\45021\\45021_visitor_home_cbgs_2019-02-11_To_2019-02-18.csv\n"
     ]
    },
    {
     "name": "stderr",
     "output_type": "stream",
     "text": [
      "20it [03:46, 11.08s/it]"
     ]
    },
    {
     "name": "stdout",
     "output_type": "stream",
     "text": [
      "Processing: 20, J:\\Safegraph\\weekly_county_files\\weekly_patterns_2018_2021\\45\\45041\\45041_visitor_home_cbgs_2019-02-11_To_2019-02-18.csv\n"
     ]
    },
    {
     "name": "stderr",
     "output_type": "stream",
     "text": [
      "30it [05:38, 11.14s/it]"
     ]
    },
    {
     "name": "stdout",
     "output_type": "stream",
     "text": [
      "Processing: 30, J:\\Safegraph\\weekly_county_files\\weekly_patterns_2018_2021\\45\\45061\\45061_visitor_home_cbgs_2019-02-11_To_2019-02-18.csv\n"
     ]
    },
    {
     "name": "stderr",
     "output_type": "stream",
     "text": [
      "40it [07:31, 11.33s/it]"
     ]
    },
    {
     "name": "stdout",
     "output_type": "stream",
     "text": [
      "Processing: 40, J:\\Safegraph\\weekly_county_files\\weekly_patterns_2018_2021\\45\\45081\\45081_visitor_home_cbgs_2019-02-11_To_2019-02-18.csv\n"
     ]
    },
    {
     "name": "stderr",
     "output_type": "stream",
     "text": [
      "46it [08:38, 11.27s/it]\n"
     ]
    },
    {
     "name": "stdout",
     "output_type": "stream",
     "text": [
      "Processing: 2019-02-04, 22 / 209\n",
      "Reading weekly POI CSV file: J:\\Safegraph\\weekly_county_files\\weekly_patterns_2018_2021\\POI\\POI_2019-02-04_To_2019-02-11.csv\n",
      "Processing mobility matrix for the week, please wait several minutes: 2019-02-04... \n"
     ]
    },
    {
     "name": "stderr",
     "output_type": "stream",
     "text": [
      "0it [00:00, ?it/s]"
     ]
    },
    {
     "name": "stdout",
     "output_type": "stream",
     "text": [
      "Processing: 0, J:\\Safegraph\\weekly_county_files\\weekly_patterns_2018_2021\\45\\45001\\45001_visitor_home_cbgs_2019-02-04_To_2019-02-11.csv\n"
     ]
    },
    {
     "name": "stderr",
     "output_type": "stream",
     "text": [
      "10it [01:52, 11.19s/it]"
     ]
    },
    {
     "name": "stdout",
     "output_type": "stream",
     "text": [
      "Processing: 10, J:\\Safegraph\\weekly_county_files\\weekly_patterns_2018_2021\\45\\45021\\45021_visitor_home_cbgs_2019-02-04_To_2019-02-11.csv\n"
     ]
    },
    {
     "name": "stderr",
     "output_type": "stream",
     "text": [
      "20it [03:48, 11.73s/it]"
     ]
    },
    {
     "name": "stdout",
     "output_type": "stream",
     "text": [
      "Processing: 20, J:\\Safegraph\\weekly_county_files\\weekly_patterns_2018_2021\\45\\45041\\45041_visitor_home_cbgs_2019-02-04_To_2019-02-11.csv\n"
     ]
    },
    {
     "name": "stderr",
     "output_type": "stream",
     "text": [
      "30it [05:39, 11.04s/it]"
     ]
    },
    {
     "name": "stdout",
     "output_type": "stream",
     "text": [
      "Processing: 30, J:\\Safegraph\\weekly_county_files\\weekly_patterns_2018_2021\\45\\45061\\45061_visitor_home_cbgs_2019-02-04_To_2019-02-11.csv\n"
     ]
    },
    {
     "name": "stderr",
     "output_type": "stream",
     "text": [
      "40it [07:29, 11.08s/it]"
     ]
    },
    {
     "name": "stdout",
     "output_type": "stream",
     "text": [
      "Processing: 40, J:\\Safegraph\\weekly_county_files\\weekly_patterns_2018_2021\\45\\45081\\45081_visitor_home_cbgs_2019-02-04_To_2019-02-11.csv\n"
     ]
    },
    {
     "name": "stderr",
     "output_type": "stream",
     "text": [
      "46it [08:37, 11.26s/it]\n"
     ]
    },
    {
     "name": "stdout",
     "output_type": "stream",
     "text": [
      "Processing: 2019-01-28, 23 / 209\n",
      "Reading weekly POI CSV file: J:\\Safegraph\\weekly_county_files\\weekly_patterns_2018_2021\\POI\\POI_2019-01-28_To_2019-02-04.csv\n",
      "Processing mobility matrix for the week, please wait several minutes: 2019-01-28... \n"
     ]
    },
    {
     "name": "stderr",
     "output_type": "stream",
     "text": [
      "0it [00:00, ?it/s]"
     ]
    },
    {
     "name": "stdout",
     "output_type": "stream",
     "text": [
      "Processing: 0, J:\\Safegraph\\weekly_county_files\\weekly_patterns_2018_2021\\45\\45001\\45001_visitor_home_cbgs_2019-01-28_To_2019-02-04.csv\n"
     ]
    },
    {
     "name": "stderr",
     "output_type": "stream",
     "text": [
      "10it [01:54, 11.50s/it]"
     ]
    },
    {
     "name": "stdout",
     "output_type": "stream",
     "text": [
      "Processing: 10, J:\\Safegraph\\weekly_county_files\\weekly_patterns_2018_2021\\45\\45021\\45021_visitor_home_cbgs_2019-01-28_To_2019-02-04.csv\n"
     ]
    },
    {
     "name": "stderr",
     "output_type": "stream",
     "text": [
      "20it [03:46, 11.23s/it]"
     ]
    },
    {
     "name": "stdout",
     "output_type": "stream",
     "text": [
      "Processing: 20, J:\\Safegraph\\weekly_county_files\\weekly_patterns_2018_2021\\45\\45041\\45041_visitor_home_cbgs_2019-01-28_To_2019-02-04.csv\n"
     ]
    },
    {
     "name": "stderr",
     "output_type": "stream",
     "text": [
      "30it [05:38, 11.35s/it]"
     ]
    },
    {
     "name": "stdout",
     "output_type": "stream",
     "text": [
      "Processing: 30, J:\\Safegraph\\weekly_county_files\\weekly_patterns_2018_2021\\45\\45061\\45061_visitor_home_cbgs_2019-01-28_To_2019-02-04.csv\n"
     ]
    },
    {
     "name": "stderr",
     "output_type": "stream",
     "text": [
      "40it [07:29, 11.16s/it]"
     ]
    },
    {
     "name": "stdout",
     "output_type": "stream",
     "text": [
      "Processing: 40, J:\\Safegraph\\weekly_county_files\\weekly_patterns_2018_2021\\45\\45081\\45081_visitor_home_cbgs_2019-01-28_To_2019-02-04.csv\n"
     ]
    },
    {
     "name": "stderr",
     "output_type": "stream",
     "text": [
      "46it [08:36, 11.23s/it]\n"
     ]
    },
    {
     "name": "stdout",
     "output_type": "stream",
     "text": [
      "Processing: 2019-01-21, 24 / 209\n",
      "Reading weekly POI CSV file: J:\\Safegraph\\weekly_county_files\\weekly_patterns_2018_2021\\POI\\POI_2019-01-21_To_2019-01-28.csv\n",
      "Processing mobility matrix for the week, please wait several minutes: 2019-01-21... \n"
     ]
    },
    {
     "name": "stderr",
     "output_type": "stream",
     "text": [
      "0it [00:00, ?it/s]"
     ]
    },
    {
     "name": "stdout",
     "output_type": "stream",
     "text": [
      "Processing: 0, J:\\Safegraph\\weekly_county_files\\weekly_patterns_2018_2021\\45\\45001\\45001_visitor_home_cbgs_2019-01-21_To_2019-01-28.csv\n"
     ]
    },
    {
     "name": "stderr",
     "output_type": "stream",
     "text": [
      "10it [01:52, 11.15s/it]"
     ]
    },
    {
     "name": "stdout",
     "output_type": "stream",
     "text": [
      "Processing: 10, J:\\Safegraph\\weekly_county_files\\weekly_patterns_2018_2021\\45\\45021\\45021_visitor_home_cbgs_2019-01-21_To_2019-01-28.csv\n"
     ]
    },
    {
     "name": "stderr",
     "output_type": "stream",
     "text": [
      "20it [03:42, 11.00s/it]"
     ]
    },
    {
     "name": "stdout",
     "output_type": "stream",
     "text": [
      "Processing: 20, J:\\Safegraph\\weekly_county_files\\weekly_patterns_2018_2021\\45\\45041\\45041_visitor_home_cbgs_2019-01-21_To_2019-01-28.csv\n"
     ]
    },
    {
     "name": "stderr",
     "output_type": "stream",
     "text": [
      "30it [05:32, 10.87s/it]"
     ]
    },
    {
     "name": "stdout",
     "output_type": "stream",
     "text": [
      "Processing: 30, J:\\Safegraph\\weekly_county_files\\weekly_patterns_2018_2021\\45\\45061\\45061_visitor_home_cbgs_2019-01-21_To_2019-01-28.csv\n"
     ]
    },
    {
     "name": "stderr",
     "output_type": "stream",
     "text": [
      "40it [07:18, 10.67s/it]"
     ]
    },
    {
     "name": "stdout",
     "output_type": "stream",
     "text": [
      "Processing: 40, J:\\Safegraph\\weekly_county_files\\weekly_patterns_2018_2021\\45\\45081\\45081_visitor_home_cbgs_2019-01-21_To_2019-01-28.csv\n"
     ]
    },
    {
     "name": "stderr",
     "output_type": "stream",
     "text": [
      "46it [08:22, 10.92s/it]\n"
     ]
    },
    {
     "name": "stdout",
     "output_type": "stream",
     "text": [
      "Processing: 2019-01-14, 25 / 209\n",
      "Reading weekly POI CSV file: J:\\Safegraph\\weekly_county_files\\weekly_patterns_2018_2021\\POI\\POI_2019-01-14_To_2019-01-21.csv\n",
      "Processing mobility matrix for the week, please wait several minutes: 2019-01-14... \n"
     ]
    },
    {
     "name": "stderr",
     "output_type": "stream",
     "text": [
      "0it [00:00, ?it/s]"
     ]
    },
    {
     "name": "stdout",
     "output_type": "stream",
     "text": [
      "Processing: 0, J:\\Safegraph\\weekly_county_files\\weekly_patterns_2018_2021\\45\\45001\\45001_visitor_home_cbgs_2019-01-14_To_2019-01-21.csv\n"
     ]
    },
    {
     "name": "stderr",
     "output_type": "stream",
     "text": [
      "10it [01:46, 10.65s/it]"
     ]
    },
    {
     "name": "stdout",
     "output_type": "stream",
     "text": [
      "Processing: 10, J:\\Safegraph\\weekly_county_files\\weekly_patterns_2018_2021\\45\\45021\\45021_visitor_home_cbgs_2019-01-14_To_2019-01-21.csv\n"
     ]
    },
    {
     "name": "stderr",
     "output_type": "stream",
     "text": [
      "20it [03:32, 10.58s/it]"
     ]
    },
    {
     "name": "stdout",
     "output_type": "stream",
     "text": [
      "Processing: 20, J:\\Safegraph\\weekly_county_files\\weekly_patterns_2018_2021\\45\\45041\\45041_visitor_home_cbgs_2019-01-14_To_2019-01-21.csv\n"
     ]
    },
    {
     "name": "stderr",
     "output_type": "stream",
     "text": [
      "30it [05:18, 10.54s/it]"
     ]
    },
    {
     "name": "stdout",
     "output_type": "stream",
     "text": [
      "Processing: 30, J:\\Safegraph\\weekly_county_files\\weekly_patterns_2018_2021\\45\\45061\\45061_visitor_home_cbgs_2019-01-14_To_2019-01-21.csv\n"
     ]
    },
    {
     "name": "stderr",
     "output_type": "stream",
     "text": [
      "40it [07:04, 10.55s/it]"
     ]
    },
    {
     "name": "stdout",
     "output_type": "stream",
     "text": [
      "Processing: 40, J:\\Safegraph\\weekly_county_files\\weekly_patterns_2018_2021\\45\\45081\\45081_visitor_home_cbgs_2019-01-14_To_2019-01-21.csv\n"
     ]
    },
    {
     "name": "stderr",
     "output_type": "stream",
     "text": [
      "46it [08:07, 10.60s/it]\n"
     ]
    },
    {
     "name": "stdout",
     "output_type": "stream",
     "text": [
      "Processing: 2019-01-07, 26 / 209\n",
      "Reading weekly POI CSV file: J:\\Safegraph\\weekly_county_files\\weekly_patterns_2018_2021\\POI\\POI_2019-01-07_To_2019-01-14.csv\n",
      "Processing mobility matrix for the week, please wait several minutes: 2019-01-07... \n"
     ]
    },
    {
     "name": "stderr",
     "output_type": "stream",
     "text": [
      "0it [00:00, ?it/s]"
     ]
    },
    {
     "name": "stdout",
     "output_type": "stream",
     "text": [
      "Processing: 0, J:\\Safegraph\\weekly_county_files\\weekly_patterns_2018_2021\\45\\45001\\45001_visitor_home_cbgs_2019-01-07_To_2019-01-14.csv\n"
     ]
    },
    {
     "name": "stderr",
     "output_type": "stream",
     "text": [
      "10it [01:47, 10.76s/it]"
     ]
    },
    {
     "name": "stdout",
     "output_type": "stream",
     "text": [
      "Processing: 10, J:\\Safegraph\\weekly_county_files\\weekly_patterns_2018_2021\\45\\45021\\45021_visitor_home_cbgs_2019-01-07_To_2019-01-14.csv\n"
     ]
    },
    {
     "name": "stderr",
     "output_type": "stream",
     "text": [
      "20it [03:33, 10.56s/it]"
     ]
    },
    {
     "name": "stdout",
     "output_type": "stream",
     "text": [
      "Processing: 20, J:\\Safegraph\\weekly_county_files\\weekly_patterns_2018_2021\\45\\45041\\45041_visitor_home_cbgs_2019-01-07_To_2019-01-14.csv\n"
     ]
    },
    {
     "name": "stderr",
     "output_type": "stream",
     "text": [
      "30it [05:20, 10.69s/it]"
     ]
    },
    {
     "name": "stdout",
     "output_type": "stream",
     "text": [
      "Processing: 30, J:\\Safegraph\\weekly_county_files\\weekly_patterns_2018_2021\\45\\45061\\45061_visitor_home_cbgs_2019-01-07_To_2019-01-14.csv\n"
     ]
    },
    {
     "name": "stderr",
     "output_type": "stream",
     "text": [
      "40it [07:08, 10.80s/it]"
     ]
    },
    {
     "name": "stdout",
     "output_type": "stream",
     "text": [
      "Processing: 40, J:\\Safegraph\\weekly_county_files\\weekly_patterns_2018_2021\\45\\45081\\45081_visitor_home_cbgs_2019-01-07_To_2019-01-14.csv\n"
     ]
    },
    {
     "name": "stderr",
     "output_type": "stream",
     "text": [
      "46it [08:11, 10.69s/it]\n"
     ]
    },
    {
     "name": "stdout",
     "output_type": "stream",
     "text": [
      "Processing: 2018-12-31, 27 / 209\n",
      "Reading weekly POI CSV file: J:\\Safegraph\\weekly_county_files\\weekly_patterns_2018_2021\\POI\\POI_2018-12-31_To_2019-01-07.csv\n",
      "Processing mobility matrix for the week, please wait several minutes: 2018-12-31... \n"
     ]
    },
    {
     "name": "stderr",
     "output_type": "stream",
     "text": [
      "0it [00:00, ?it/s]"
     ]
    },
    {
     "name": "stdout",
     "output_type": "stream",
     "text": [
      "Processing: 0, J:\\Safegraph\\weekly_county_files\\weekly_patterns_2018_2021\\45\\45001\\45001_visitor_home_cbgs_2018-12-31_To_2019-01-07.csv\n"
     ]
    },
    {
     "name": "stderr",
     "output_type": "stream",
     "text": [
      "10it [01:46, 10.57s/it]"
     ]
    },
    {
     "name": "stdout",
     "output_type": "stream",
     "text": [
      "Processing: 10, J:\\Safegraph\\weekly_county_files\\weekly_patterns_2018_2021\\45\\45021\\45021_visitor_home_cbgs_2018-12-31_To_2019-01-07.csv\n"
     ]
    },
    {
     "name": "stderr",
     "output_type": "stream",
     "text": [
      "20it [03:31, 10.45s/it]"
     ]
    },
    {
     "name": "stdout",
     "output_type": "stream",
     "text": [
      "Processing: 20, J:\\Safegraph\\weekly_county_files\\weekly_patterns_2018_2021\\45\\45041\\45041_visitor_home_cbgs_2018-12-31_To_2019-01-07.csv\n"
     ]
    },
    {
     "name": "stderr",
     "output_type": "stream",
     "text": [
      "30it [05:17, 10.52s/it]"
     ]
    },
    {
     "name": "stdout",
     "output_type": "stream",
     "text": [
      "Processing: 30, J:\\Safegraph\\weekly_county_files\\weekly_patterns_2018_2021\\45\\45061\\45061_visitor_home_cbgs_2018-12-31_To_2019-01-07.csv\n"
     ]
    },
    {
     "name": "stderr",
     "output_type": "stream",
     "text": [
      "40it [07:02, 10.52s/it]"
     ]
    },
    {
     "name": "stdout",
     "output_type": "stream",
     "text": [
      "Processing: 40, J:\\Safegraph\\weekly_county_files\\weekly_patterns_2018_2021\\45\\45081\\45081_visitor_home_cbgs_2018-12-31_To_2019-01-07.csv\n"
     ]
    },
    {
     "name": "stderr",
     "output_type": "stream",
     "text": [
      "46it [08:07, 10.59s/it]\n"
     ]
    },
    {
     "name": "stdout",
     "output_type": "stream",
     "text": [
      "Processing: 2018-12-24, 28 / 209\n",
      "Reading weekly POI CSV file: J:\\Safegraph\\weekly_county_files\\weekly_patterns_2018_2021\\POI\\POI_2018-12-24_To_2018-12-31.csv\n",
      "Processing mobility matrix for the week, please wait several minutes: 2018-12-24... \n"
     ]
    },
    {
     "name": "stderr",
     "output_type": "stream",
     "text": [
      "0it [00:00, ?it/s]"
     ]
    },
    {
     "name": "stdout",
     "output_type": "stream",
     "text": [
      "Processing: 0, J:\\Safegraph\\weekly_county_files\\weekly_patterns_2018_2021\\45\\45001\\45001_visitor_home_cbgs_2018-12-24_To_2018-12-31.csv\n"
     ]
    },
    {
     "name": "stderr",
     "output_type": "stream",
     "text": [
      "10it [01:45, 10.50s/it]"
     ]
    },
    {
     "name": "stdout",
     "output_type": "stream",
     "text": [
      "Processing: 10, J:\\Safegraph\\weekly_county_files\\weekly_patterns_2018_2021\\45\\45021\\45021_visitor_home_cbgs_2018-12-24_To_2018-12-31.csv\n"
     ]
    },
    {
     "name": "stderr",
     "output_type": "stream",
     "text": [
      "20it [03:29, 10.42s/it]"
     ]
    },
    {
     "name": "stdout",
     "output_type": "stream",
     "text": [
      "Processing: 20, J:\\Safegraph\\weekly_county_files\\weekly_patterns_2018_2021\\45\\45041\\45041_visitor_home_cbgs_2018-12-24_To_2018-12-31.csv\n"
     ]
    },
    {
     "name": "stderr",
     "output_type": "stream",
     "text": [
      "30it [05:15, 10.50s/it]"
     ]
    },
    {
     "name": "stdout",
     "output_type": "stream",
     "text": [
      "Processing: 30, J:\\Safegraph\\weekly_county_files\\weekly_patterns_2018_2021\\45\\45061\\45061_visitor_home_cbgs_2018-12-24_To_2018-12-31.csv\n"
     ]
    },
    {
     "name": "stderr",
     "output_type": "stream",
     "text": [
      "40it [06:59, 10.47s/it]"
     ]
    },
    {
     "name": "stdout",
     "output_type": "stream",
     "text": [
      "Processing: 40, J:\\Safegraph\\weekly_county_files\\weekly_patterns_2018_2021\\45\\45081\\45081_visitor_home_cbgs_2018-12-24_To_2018-12-31.csv\n"
     ]
    },
    {
     "name": "stderr",
     "output_type": "stream",
     "text": [
      "46it [08:02, 10.49s/it]\n"
     ]
    },
    {
     "name": "stdout",
     "output_type": "stream",
     "text": [
      "Processing: 2018-12-17, 29 / 209\n",
      "Reading weekly POI CSV file: J:\\Safegraph\\weekly_county_files\\weekly_patterns_2018_2021\\POI\\POI_2018-12-17_To_2018-12-24.csv\n",
      "Processing mobility matrix for the week, please wait several minutes: 2018-12-17... \n"
     ]
    },
    {
     "name": "stderr",
     "output_type": "stream",
     "text": [
      "0it [00:00, ?it/s]"
     ]
    },
    {
     "name": "stdout",
     "output_type": "stream",
     "text": [
      "Processing: 0, J:\\Safegraph\\weekly_county_files\\weekly_patterns_2018_2021\\45\\45001\\45001_visitor_home_cbgs_2018-12-17_To_2018-12-24.csv\n"
     ]
    },
    {
     "name": "stderr",
     "output_type": "stream",
     "text": [
      "10it [01:47, 10.69s/it]"
     ]
    },
    {
     "name": "stdout",
     "output_type": "stream",
     "text": [
      "Processing: 10, J:\\Safegraph\\weekly_county_files\\weekly_patterns_2018_2021\\45\\45021\\45021_visitor_home_cbgs_2018-12-17_To_2018-12-24.csv\n"
     ]
    },
    {
     "name": "stderr",
     "output_type": "stream",
     "text": [
      "20it [03:32, 10.49s/it]"
     ]
    },
    {
     "name": "stdout",
     "output_type": "stream",
     "text": [
      "Processing: 20, J:\\Safegraph\\weekly_county_files\\weekly_patterns_2018_2021\\45\\45041\\45041_visitor_home_cbgs_2018-12-17_To_2018-12-24.csv\n"
     ]
    },
    {
     "name": "stderr",
     "output_type": "stream",
     "text": [
      "30it [05:19, 10.52s/it]"
     ]
    },
    {
     "name": "stdout",
     "output_type": "stream",
     "text": [
      "Processing: 30, J:\\Safegraph\\weekly_county_files\\weekly_patterns_2018_2021\\45\\45061\\45061_visitor_home_cbgs_2018-12-17_To_2018-12-24.csv\n"
     ]
    },
    {
     "name": "stderr",
     "output_type": "stream",
     "text": [
      "40it [07:05, 10.65s/it]"
     ]
    },
    {
     "name": "stdout",
     "output_type": "stream",
     "text": [
      "Processing: 40, J:\\Safegraph\\weekly_county_files\\weekly_patterns_2018_2021\\45\\45081\\45081_visitor_home_cbgs_2018-12-17_To_2018-12-24.csv\n"
     ]
    },
    {
     "name": "stderr",
     "output_type": "stream",
     "text": [
      "46it [08:09, 10.64s/it]\n"
     ]
    },
    {
     "name": "stdout",
     "output_type": "stream",
     "text": [
      "Processing: 2018-12-10, 30 / 209\n",
      "Reading weekly POI CSV file: J:\\Safegraph\\weekly_county_files\\weekly_patterns_2018_2021\\POI\\POI_2018-12-10_To_2018-12-17.csv\n",
      "Processing mobility matrix for the week, please wait several minutes: 2018-12-10... \n"
     ]
    },
    {
     "name": "stderr",
     "output_type": "stream",
     "text": [
      "0it [00:00, ?it/s]"
     ]
    },
    {
     "name": "stdout",
     "output_type": "stream",
     "text": [
      "Processing: 0, J:\\Safegraph\\weekly_county_files\\weekly_patterns_2018_2021\\45\\45001\\45001_visitor_home_cbgs_2018-12-10_To_2018-12-17.csv\n"
     ]
    },
    {
     "name": "stderr",
     "output_type": "stream",
     "text": [
      "10it [01:47, 10.74s/it]"
     ]
    },
    {
     "name": "stdout",
     "output_type": "stream",
     "text": [
      "Processing: 10, J:\\Safegraph\\weekly_county_files\\weekly_patterns_2018_2021\\45\\45021\\45021_visitor_home_cbgs_2018-12-10_To_2018-12-17.csv\n"
     ]
    },
    {
     "name": "stderr",
     "output_type": "stream",
     "text": [
      "20it [03:33, 10.55s/it]"
     ]
    },
    {
     "name": "stdout",
     "output_type": "stream",
     "text": [
      "Processing: 20, J:\\Safegraph\\weekly_county_files\\weekly_patterns_2018_2021\\45\\45041\\45041_visitor_home_cbgs_2018-12-10_To_2018-12-17.csv\n"
     ]
    },
    {
     "name": "stderr",
     "output_type": "stream",
     "text": [
      "30it [05:19, 10.61s/it]"
     ]
    },
    {
     "name": "stdout",
     "output_type": "stream",
     "text": [
      "Processing: 30, J:\\Safegraph\\weekly_county_files\\weekly_patterns_2018_2021\\45\\45061\\45061_visitor_home_cbgs_2018-12-10_To_2018-12-17.csv\n"
     ]
    },
    {
     "name": "stderr",
     "output_type": "stream",
     "text": [
      "40it [07:05, 10.65s/it]"
     ]
    },
    {
     "name": "stdout",
     "output_type": "stream",
     "text": [
      "Processing: 40, J:\\Safegraph\\weekly_county_files\\weekly_patterns_2018_2021\\45\\45081\\45081_visitor_home_cbgs_2018-12-10_To_2018-12-17.csv\n"
     ]
    },
    {
     "name": "stderr",
     "output_type": "stream",
     "text": [
      "46it [08:09, 10.63s/it]\n"
     ]
    },
    {
     "name": "stdout",
     "output_type": "stream",
     "text": [
      "Processing: 2018-12-03, 31 / 209\n",
      "Reading weekly POI CSV file: J:\\Safegraph\\weekly_county_files\\weekly_patterns_2018_2021\\POI\\POI_2018-12-03_To_2018-12-10.csv\n",
      "Processing mobility matrix for the week, please wait several minutes: 2018-12-03... \n"
     ]
    },
    {
     "name": "stderr",
     "output_type": "stream",
     "text": [
      "0it [00:00, ?it/s]"
     ]
    },
    {
     "name": "stdout",
     "output_type": "stream",
     "text": [
      "Processing: 0, J:\\Safegraph\\weekly_county_files\\weekly_patterns_2018_2021\\45\\45001\\45001_visitor_home_cbgs_2018-12-03_To_2018-12-10.csv\n"
     ]
    },
    {
     "name": "stderr",
     "output_type": "stream",
     "text": [
      "10it [01:51, 11.33s/it]"
     ]
    },
    {
     "name": "stdout",
     "output_type": "stream",
     "text": [
      "Processing: 10, J:\\Safegraph\\weekly_county_files\\weekly_patterns_2018_2021\\45\\45021\\45021_visitor_home_cbgs_2018-12-03_To_2018-12-10.csv\n"
     ]
    },
    {
     "name": "stderr",
     "output_type": "stream",
     "text": [
      "20it [03:43, 11.08s/it]"
     ]
    },
    {
     "name": "stdout",
     "output_type": "stream",
     "text": [
      "Processing: 20, J:\\Safegraph\\weekly_county_files\\weekly_patterns_2018_2021\\45\\45041\\45041_visitor_home_cbgs_2018-12-03_To_2018-12-10.csv\n"
     ]
    },
    {
     "name": "stderr",
     "output_type": "stream",
     "text": [
      "30it [05:36, 11.27s/it]"
     ]
    },
    {
     "name": "stdout",
     "output_type": "stream",
     "text": [
      "Processing: 30, J:\\Safegraph\\weekly_county_files\\weekly_patterns_2018_2021\\45\\45061\\45061_visitor_home_cbgs_2018-12-03_To_2018-12-10.csv\n"
     ]
    },
    {
     "name": "stderr",
     "output_type": "stream",
     "text": [
      "40it [07:28, 11.14s/it]"
     ]
    },
    {
     "name": "stdout",
     "output_type": "stream",
     "text": [
      "Processing: 40, J:\\Safegraph\\weekly_county_files\\weekly_patterns_2018_2021\\45\\45081\\45081_visitor_home_cbgs_2018-12-03_To_2018-12-10.csv\n"
     ]
    },
    {
     "name": "stderr",
     "output_type": "stream",
     "text": [
      "46it [08:34, 11.18s/it]\n"
     ]
    },
    {
     "name": "stdout",
     "output_type": "stream",
     "text": [
      "Processing: 2018-11-26, 32 / 209\n",
      "Reading weekly POI CSV file: J:\\Safegraph\\weekly_county_files\\weekly_patterns_2018_2021\\POI\\POI_2018-11-26_To_2018-12-03.csv\n",
      "Processing mobility matrix for the week, please wait several minutes: 2018-11-26... \n"
     ]
    },
    {
     "name": "stderr",
     "output_type": "stream",
     "text": [
      "0it [00:00, ?it/s]"
     ]
    },
    {
     "name": "stdout",
     "output_type": "stream",
     "text": [
      "Processing: 0, J:\\Safegraph\\weekly_county_files\\weekly_patterns_2018_2021\\45\\45001\\45001_visitor_home_cbgs_2018-11-26_To_2018-12-03.csv\n"
     ]
    },
    {
     "name": "stderr",
     "output_type": "stream",
     "text": [
      "10it [01:51, 11.12s/it]"
     ]
    },
    {
     "name": "stdout",
     "output_type": "stream",
     "text": [
      "Processing: 10, J:\\Safegraph\\weekly_county_files\\weekly_patterns_2018_2021\\45\\45021\\45021_visitor_home_cbgs_2018-11-26_To_2018-12-03.csv\n"
     ]
    },
    {
     "name": "stderr",
     "output_type": "stream",
     "text": [
      "20it [03:41, 11.01s/it]"
     ]
    },
    {
     "name": "stdout",
     "output_type": "stream",
     "text": [
      "Processing: 20, J:\\Safegraph\\weekly_county_files\\weekly_patterns_2018_2021\\45\\45041\\45041_visitor_home_cbgs_2018-11-26_To_2018-12-03.csv\n"
     ]
    },
    {
     "name": "stderr",
     "output_type": "stream",
     "text": [
      "30it [05:32, 10.98s/it]"
     ]
    },
    {
     "name": "stdout",
     "output_type": "stream",
     "text": [
      "Processing: 30, J:\\Safegraph\\weekly_county_files\\weekly_patterns_2018_2021\\45\\45061\\45061_visitor_home_cbgs_2018-11-26_To_2018-12-03.csv\n"
     ]
    },
    {
     "name": "stderr",
     "output_type": "stream",
     "text": [
      "40it [07:23, 11.29s/it]"
     ]
    },
    {
     "name": "stdout",
     "output_type": "stream",
     "text": [
      "Processing: 40, J:\\Safegraph\\weekly_county_files\\weekly_patterns_2018_2021\\45\\45081\\45081_visitor_home_cbgs_2018-11-26_To_2018-12-03.csv\n"
     ]
    },
    {
     "name": "stderr",
     "output_type": "stream",
     "text": [
      "46it [08:31, 11.13s/it]\n"
     ]
    },
    {
     "name": "stdout",
     "output_type": "stream",
     "text": [
      "Processing: 2018-11-19, 33 / 209\n",
      "Reading weekly POI CSV file: J:\\Safegraph\\weekly_county_files\\weekly_patterns_2018_2021\\POI\\POI_2018-11-19_To_2018-11-26.csv\n",
      "Processing mobility matrix for the week, please wait several minutes: 2018-11-19... \n"
     ]
    },
    {
     "name": "stderr",
     "output_type": "stream",
     "text": [
      "0it [00:00, ?it/s]"
     ]
    },
    {
     "name": "stdout",
     "output_type": "stream",
     "text": [
      "Processing: 0, J:\\Safegraph\\weekly_county_files\\weekly_patterns_2018_2021\\45\\45001\\45001_visitor_home_cbgs_2018-11-19_To_2018-11-26.csv\n"
     ]
    },
    {
     "name": "stderr",
     "output_type": "stream",
     "text": [
      "10it [01:51, 11.30s/it]"
     ]
    },
    {
     "name": "stdout",
     "output_type": "stream",
     "text": [
      "Processing: 10, J:\\Safegraph\\weekly_county_files\\weekly_patterns_2018_2021\\45\\45021\\45021_visitor_home_cbgs_2018-11-19_To_2018-11-26.csv\n"
     ]
    },
    {
     "name": "stderr",
     "output_type": "stream",
     "text": [
      "20it [03:41, 10.91s/it]"
     ]
    },
    {
     "name": "stdout",
     "output_type": "stream",
     "text": [
      "Processing: 20, J:\\Safegraph\\weekly_county_files\\weekly_patterns_2018_2021\\45\\45041\\45041_visitor_home_cbgs_2018-11-19_To_2018-11-26.csv\n"
     ]
    },
    {
     "name": "stderr",
     "output_type": "stream",
     "text": [
      "30it [05:31, 10.95s/it]"
     ]
    },
    {
     "name": "stdout",
     "output_type": "stream",
     "text": [
      "Processing: 30, J:\\Safegraph\\weekly_county_files\\weekly_patterns_2018_2021\\45\\45061\\45061_visitor_home_cbgs_2018-11-19_To_2018-11-26.csv\n"
     ]
    },
    {
     "name": "stderr",
     "output_type": "stream",
     "text": [
      "40it [07:21, 11.11s/it]"
     ]
    },
    {
     "name": "stdout",
     "output_type": "stream",
     "text": [
      "Processing: 40, J:\\Safegraph\\weekly_county_files\\weekly_patterns_2018_2021\\45\\45081\\45081_visitor_home_cbgs_2018-11-19_To_2018-11-26.csv\n"
     ]
    },
    {
     "name": "stderr",
     "output_type": "stream",
     "text": [
      "46it [08:28, 11.04s/it]\n"
     ]
    },
    {
     "name": "stdout",
     "output_type": "stream",
     "text": [
      "Processing: 2018-11-12, 34 / 209\n",
      "Reading weekly POI CSV file: J:\\Safegraph\\weekly_county_files\\weekly_patterns_2018_2021\\POI\\POI_2018-11-12_To_2018-11-19.csv\n",
      "Processing mobility matrix for the week, please wait several minutes: 2018-11-12... \n"
     ]
    },
    {
     "name": "stderr",
     "output_type": "stream",
     "text": [
      "0it [00:00, ?it/s]"
     ]
    },
    {
     "name": "stdout",
     "output_type": "stream",
     "text": [
      "Processing: 0, J:\\Safegraph\\weekly_county_files\\weekly_patterns_2018_2021\\45\\45001\\45001_visitor_home_cbgs_2018-11-12_To_2018-11-19.csv\n"
     ]
    },
    {
     "name": "stderr",
     "output_type": "stream",
     "text": [
      "10it [01:52, 11.28s/it]"
     ]
    },
    {
     "name": "stdout",
     "output_type": "stream",
     "text": [
      "Processing: 10, J:\\Safegraph\\weekly_county_files\\weekly_patterns_2018_2021\\45\\45021\\45021_visitor_home_cbgs_2018-11-12_To_2018-11-19.csv\n"
     ]
    },
    {
     "name": "stderr",
     "output_type": "stream",
     "text": [
      "20it [03:43, 11.07s/it]"
     ]
    },
    {
     "name": "stdout",
     "output_type": "stream",
     "text": [
      "Processing: 20, J:\\Safegraph\\weekly_county_files\\weekly_patterns_2018_2021\\45\\45041\\45041_visitor_home_cbgs_2018-11-12_To_2018-11-19.csv\n"
     ]
    },
    {
     "name": "stderr",
     "output_type": "stream",
     "text": [
      "30it [05:34, 11.09s/it]"
     ]
    },
    {
     "name": "stdout",
     "output_type": "stream",
     "text": [
      "Processing: 30, J:\\Safegraph\\weekly_county_files\\weekly_patterns_2018_2021\\45\\45061\\45061_visitor_home_cbgs_2018-11-12_To_2018-11-19.csv\n"
     ]
    },
    {
     "name": "stderr",
     "output_type": "stream",
     "text": [
      "40it [07:25, 11.16s/it]"
     ]
    },
    {
     "name": "stdout",
     "output_type": "stream",
     "text": [
      "Processing: 40, J:\\Safegraph\\weekly_county_files\\weekly_patterns_2018_2021\\45\\45081\\45081_visitor_home_cbgs_2018-11-12_To_2018-11-19.csv\n"
     ]
    },
    {
     "name": "stderr",
     "output_type": "stream",
     "text": [
      "46it [08:32, 11.14s/it]\n"
     ]
    },
    {
     "name": "stdout",
     "output_type": "stream",
     "text": [
      "Processing: 2018-11-05, 35 / 209\n",
      "Reading weekly POI CSV file: J:\\Safegraph\\weekly_county_files\\weekly_patterns_2018_2021\\POI\\POI_2018-11-05_To_2018-11-12.csv\n",
      "Processing mobility matrix for the week, please wait several minutes: 2018-11-05... \n"
     ]
    },
    {
     "name": "stderr",
     "output_type": "stream",
     "text": [
      "0it [00:00, ?it/s]"
     ]
    },
    {
     "name": "stdout",
     "output_type": "stream",
     "text": [
      "Processing: 0, J:\\Safegraph\\weekly_county_files\\weekly_patterns_2018_2021\\45\\45001\\45001_visitor_home_cbgs_2018-11-05_To_2018-11-12.csv\n"
     ]
    },
    {
     "name": "stderr",
     "output_type": "stream",
     "text": [
      "10it [01:52, 11.24s/it]"
     ]
    },
    {
     "name": "stdout",
     "output_type": "stream",
     "text": [
      "Processing: 10, J:\\Safegraph\\weekly_county_files\\weekly_patterns_2018_2021\\45\\45021\\45021_visitor_home_cbgs_2018-11-05_To_2018-11-12.csv\n"
     ]
    },
    {
     "name": "stderr",
     "output_type": "stream",
     "text": [
      "20it [03:44, 11.19s/it]"
     ]
    },
    {
     "name": "stdout",
     "output_type": "stream",
     "text": [
      "Processing: 20, J:\\Safegraph\\weekly_county_files\\weekly_patterns_2018_2021\\45\\45041\\45041_visitor_home_cbgs_2018-11-05_To_2018-11-12.csv\n"
     ]
    },
    {
     "name": "stderr",
     "output_type": "stream",
     "text": [
      "30it [05:36, 11.15s/it]"
     ]
    },
    {
     "name": "stdout",
     "output_type": "stream",
     "text": [
      "Processing: 30, J:\\Safegraph\\weekly_county_files\\weekly_patterns_2018_2021\\45\\45061\\45061_visitor_home_cbgs_2018-11-05_To_2018-11-12.csv\n"
     ]
    },
    {
     "name": "stderr",
     "output_type": "stream",
     "text": [
      "40it [07:27, 11.24s/it]"
     ]
    },
    {
     "name": "stdout",
     "output_type": "stream",
     "text": [
      "Processing: 40, J:\\Safegraph\\weekly_county_files\\weekly_patterns_2018_2021\\45\\45081\\45081_visitor_home_cbgs_2018-11-05_To_2018-11-12.csv\n"
     ]
    },
    {
     "name": "stderr",
     "output_type": "stream",
     "text": [
      "46it [08:35, 11.20s/it]\n"
     ]
    },
    {
     "name": "stdout",
     "output_type": "stream",
     "text": [
      "Processing: 2018-10-29, 36 / 209\n",
      "Reading weekly POI CSV file: J:\\Safegraph\\weekly_county_files\\weekly_patterns_2018_2021\\POI\\POI_2018-10-29_To_2018-11-05.csv\n",
      "Processing mobility matrix for the week, please wait several minutes: 2018-10-29... \n"
     ]
    },
    {
     "name": "stderr",
     "output_type": "stream",
     "text": [
      "0it [00:00, ?it/s]"
     ]
    },
    {
     "name": "stdout",
     "output_type": "stream",
     "text": [
      "Processing: 0, J:\\Safegraph\\weekly_county_files\\weekly_patterns_2018_2021\\45\\45001\\45001_visitor_home_cbgs_2018-10-29_To_2018-11-05.csv\n"
     ]
    },
    {
     "name": "stderr",
     "output_type": "stream",
     "text": [
      "10it [01:52, 11.14s/it]"
     ]
    },
    {
     "name": "stdout",
     "output_type": "stream",
     "text": [
      "Processing: 10, J:\\Safegraph\\weekly_county_files\\weekly_patterns_2018_2021\\45\\45021\\45021_visitor_home_cbgs_2018-10-29_To_2018-11-05.csv\n"
     ]
    },
    {
     "name": "stderr",
     "output_type": "stream",
     "text": [
      "20it [03:43, 11.10s/it]"
     ]
    },
    {
     "name": "stdout",
     "output_type": "stream",
     "text": [
      "Processing: 20, J:\\Safegraph\\weekly_county_files\\weekly_patterns_2018_2021\\45\\45041\\45041_visitor_home_cbgs_2018-10-29_To_2018-11-05.csv\n"
     ]
    },
    {
     "name": "stderr",
     "output_type": "stream",
     "text": [
      "30it [05:35, 11.13s/it]"
     ]
    },
    {
     "name": "stdout",
     "output_type": "stream",
     "text": [
      "Processing: 30, J:\\Safegraph\\weekly_county_files\\weekly_patterns_2018_2021\\45\\45061\\45061_visitor_home_cbgs_2018-10-29_To_2018-11-05.csv\n"
     ]
    },
    {
     "name": "stderr",
     "output_type": "stream",
     "text": [
      "40it [07:26, 11.20s/it]"
     ]
    },
    {
     "name": "stdout",
     "output_type": "stream",
     "text": [
      "Processing: 40, J:\\Safegraph\\weekly_county_files\\weekly_patterns_2018_2021\\45\\45081\\45081_visitor_home_cbgs_2018-10-29_To_2018-11-05.csv\n"
     ]
    },
    {
     "name": "stderr",
     "output_type": "stream",
     "text": [
      "46it [08:33, 11.16s/it]\n"
     ]
    },
    {
     "name": "stdout",
     "output_type": "stream",
     "text": [
      "Processing: 2018-10-22, 37 / 209\n",
      "Reading weekly POI CSV file: J:\\Safegraph\\weekly_county_files\\weekly_patterns_2018_2021\\POI\\POI_2018-10-22_To_2018-10-29.csv\n",
      "Processing mobility matrix for the week, please wait several minutes: 2018-10-22... \n"
     ]
    },
    {
     "name": "stderr",
     "output_type": "stream",
     "text": [
      "0it [00:00, ?it/s]"
     ]
    },
    {
     "name": "stdout",
     "output_type": "stream",
     "text": [
      "Processing: 0, J:\\Safegraph\\weekly_county_files\\weekly_patterns_2018_2021\\45\\45001\\45001_visitor_home_cbgs_2018-10-22_To_2018-10-29.csv\n"
     ]
    },
    {
     "name": "stderr",
     "output_type": "stream",
     "text": [
      "10it [01:54, 11.25s/it]"
     ]
    },
    {
     "name": "stdout",
     "output_type": "stream",
     "text": [
      "Processing: 10, J:\\Safegraph\\weekly_county_files\\weekly_patterns_2018_2021\\45\\45021\\45021_visitor_home_cbgs_2018-10-22_To_2018-10-29.csv\n"
     ]
    },
    {
     "name": "stderr",
     "output_type": "stream",
     "text": [
      "20it [03:42, 10.64s/it]"
     ]
    },
    {
     "name": "stdout",
     "output_type": "stream",
     "text": [
      "Processing: 20, J:\\Safegraph\\weekly_county_files\\weekly_patterns_2018_2021\\45\\45041\\45041_visitor_home_cbgs_2018-10-22_To_2018-10-29.csv\n"
     ]
    },
    {
     "name": "stderr",
     "output_type": "stream",
     "text": [
      "30it [05:29, 10.68s/it]"
     ]
    },
    {
     "name": "stdout",
     "output_type": "stream",
     "text": [
      "Processing: 30, J:\\Safegraph\\weekly_county_files\\weekly_patterns_2018_2021\\45\\45061\\45061_visitor_home_cbgs_2018-10-22_To_2018-10-29.csv\n"
     ]
    },
    {
     "name": "stderr",
     "output_type": "stream",
     "text": [
      "40it [07:17, 10.84s/it]"
     ]
    },
    {
     "name": "stdout",
     "output_type": "stream",
     "text": [
      "Processing: 40, J:\\Safegraph\\weekly_county_files\\weekly_patterns_2018_2021\\45\\45081\\45081_visitor_home_cbgs_2018-10-22_To_2018-10-29.csv\n"
     ]
    },
    {
     "name": "stderr",
     "output_type": "stream",
     "text": [
      "46it [08:23, 10.94s/it]\n"
     ]
    },
    {
     "name": "stdout",
     "output_type": "stream",
     "text": [
      "Processing: 2018-10-15, 38 / 209\n",
      "Reading weekly POI CSV file: J:\\Safegraph\\weekly_county_files\\weekly_patterns_2018_2021\\POI\\POI_2018-10-15_To_2018-10-22.csv\n",
      "Processing mobility matrix for the week, please wait several minutes: 2018-10-15... \n"
     ]
    },
    {
     "name": "stderr",
     "output_type": "stream",
     "text": [
      "0it [00:00, ?it/s]"
     ]
    },
    {
     "name": "stdout",
     "output_type": "stream",
     "text": [
      "Processing: 0, J:\\Safegraph\\weekly_county_files\\weekly_patterns_2018_2021\\45\\45001\\45001_visitor_home_cbgs_2018-10-15_To_2018-10-22.csv\n"
     ]
    },
    {
     "name": "stderr",
     "output_type": "stream",
     "text": [
      "10it [01:48, 10.86s/it]"
     ]
    },
    {
     "name": "stdout",
     "output_type": "stream",
     "text": [
      "Processing: 10, J:\\Safegraph\\weekly_county_files\\weekly_patterns_2018_2021\\45\\45021\\45021_visitor_home_cbgs_2018-10-15_To_2018-10-22.csv\n"
     ]
    },
    {
     "name": "stderr",
     "output_type": "stream",
     "text": [
      "20it [03:36, 10.84s/it]"
     ]
    },
    {
     "name": "stdout",
     "output_type": "stream",
     "text": [
      "Processing: 20, J:\\Safegraph\\weekly_county_files\\weekly_patterns_2018_2021\\45\\45041\\45041_visitor_home_cbgs_2018-10-15_To_2018-10-22.csv\n"
     ]
    },
    {
     "name": "stderr",
     "output_type": "stream",
     "text": [
      "30it [05:24, 10.79s/it]"
     ]
    },
    {
     "name": "stdout",
     "output_type": "stream",
     "text": [
      "Processing: 30, J:\\Safegraph\\weekly_county_files\\weekly_patterns_2018_2021\\45\\45061\\45061_visitor_home_cbgs_2018-10-15_To_2018-10-22.csv\n"
     ]
    },
    {
     "name": "stderr",
     "output_type": "stream",
     "text": [
      "40it [07:12, 10.84s/it]"
     ]
    },
    {
     "name": "stdout",
     "output_type": "stream",
     "text": [
      "Processing: 40, J:\\Safegraph\\weekly_county_files\\weekly_patterns_2018_2021\\45\\45081\\45081_visitor_home_cbgs_2018-10-15_To_2018-10-22.csv\n"
     ]
    },
    {
     "name": "stderr",
     "output_type": "stream",
     "text": [
      "46it [08:16, 10.79s/it]\n"
     ]
    },
    {
     "name": "stdout",
     "output_type": "stream",
     "text": [
      "Processing: 2018-10-08, 39 / 209\n",
      "Reading weekly POI CSV file: J:\\Safegraph\\weekly_county_files\\weekly_patterns_2018_2021\\POI\\POI_2018-10-08_To_2018-10-15.csv\n",
      "Processing mobility matrix for the week, please wait several minutes: 2018-10-08... \n"
     ]
    },
    {
     "name": "stderr",
     "output_type": "stream",
     "text": [
      "0it [00:00, ?it/s]"
     ]
    },
    {
     "name": "stdout",
     "output_type": "stream",
     "text": [
      "Processing: 0, J:\\Safegraph\\weekly_county_files\\weekly_patterns_2018_2021\\45\\45001\\45001_visitor_home_cbgs_2018-10-08_To_2018-10-15.csv\n"
     ]
    },
    {
     "name": "stderr",
     "output_type": "stream",
     "text": [
      "10it [01:48, 10.74s/it]"
     ]
    },
    {
     "name": "stdout",
     "output_type": "stream",
     "text": [
      "Processing: 10, J:\\Safegraph\\weekly_county_files\\weekly_patterns_2018_2021\\45\\45021\\45021_visitor_home_cbgs_2018-10-08_To_2018-10-15.csv\n"
     ]
    },
    {
     "name": "stderr",
     "output_type": "stream",
     "text": [
      "20it [03:33, 10.53s/it]"
     ]
    },
    {
     "name": "stdout",
     "output_type": "stream",
     "text": [
      "Processing: 20, J:\\Safegraph\\weekly_county_files\\weekly_patterns_2018_2021\\45\\45041\\45041_visitor_home_cbgs_2018-10-08_To_2018-10-15.csv\n"
     ]
    },
    {
     "name": "stderr",
     "output_type": "stream",
     "text": [
      "30it [05:20, 10.67s/it]"
     ]
    },
    {
     "name": "stdout",
     "output_type": "stream",
     "text": [
      "Processing: 30, J:\\Safegraph\\weekly_county_files\\weekly_patterns_2018_2021\\45\\45061\\45061_visitor_home_cbgs_2018-10-08_To_2018-10-15.csv\n"
     ]
    },
    {
     "name": "stderr",
     "output_type": "stream",
     "text": [
      "40it [07:06, 10.66s/it]"
     ]
    },
    {
     "name": "stdout",
     "output_type": "stream",
     "text": [
      "Processing: 40, J:\\Safegraph\\weekly_county_files\\weekly_patterns_2018_2021\\45\\45081\\45081_visitor_home_cbgs_2018-10-08_To_2018-10-15.csv\n"
     ]
    },
    {
     "name": "stderr",
     "output_type": "stream",
     "text": [
      "46it [08:11, 10.68s/it]\n"
     ]
    },
    {
     "name": "stdout",
     "output_type": "stream",
     "text": [
      "Processing: 2018-10-01, 40 / 209\n",
      "Reading weekly POI CSV file: J:\\Safegraph\\weekly_county_files\\weekly_patterns_2018_2021\\POI\\POI_2018-10-01_To_2018-10-08.csv\n",
      "Processing mobility matrix for the week, please wait several minutes: 2018-10-01... \n"
     ]
    },
    {
     "name": "stderr",
     "output_type": "stream",
     "text": [
      "0it [00:00, ?it/s]"
     ]
    },
    {
     "name": "stdout",
     "output_type": "stream",
     "text": [
      "Processing: 0, J:\\Safegraph\\weekly_county_files\\weekly_patterns_2018_2021\\45\\45001\\45001_visitor_home_cbgs_2018-10-01_To_2018-10-08.csv\n"
     ]
    },
    {
     "name": "stderr",
     "output_type": "stream",
     "text": [
      "10it [01:49, 11.10s/it]"
     ]
    },
    {
     "name": "stdout",
     "output_type": "stream",
     "text": [
      "Processing: 10, J:\\Safegraph\\weekly_county_files\\weekly_patterns_2018_2021\\45\\45021\\45021_visitor_home_cbgs_2018-10-01_To_2018-10-08.csv\n"
     ]
    },
    {
     "name": "stderr",
     "output_type": "stream",
     "text": [
      "20it [03:35, 10.65s/it]"
     ]
    },
    {
     "name": "stdout",
     "output_type": "stream",
     "text": [
      "Processing: 20, J:\\Safegraph\\weekly_county_files\\weekly_patterns_2018_2021\\45\\45041\\45041_visitor_home_cbgs_2018-10-01_To_2018-10-08.csv\n"
     ]
    },
    {
     "name": "stderr",
     "output_type": "stream",
     "text": [
      "30it [05:24, 11.09s/it]"
     ]
    },
    {
     "name": "stdout",
     "output_type": "stream",
     "text": [
      "Processing: 30, J:\\Safegraph\\weekly_county_files\\weekly_patterns_2018_2021\\45\\45061\\45061_visitor_home_cbgs_2018-10-01_To_2018-10-08.csv\n"
     ]
    },
    {
     "name": "stderr",
     "output_type": "stream",
     "text": [
      "40it [07:12, 10.79s/it]"
     ]
    },
    {
     "name": "stdout",
     "output_type": "stream",
     "text": [
      "Processing: 40, J:\\Safegraph\\weekly_county_files\\weekly_patterns_2018_2021\\45\\45081\\45081_visitor_home_cbgs_2018-10-01_To_2018-10-08.csv\n"
     ]
    },
    {
     "name": "stderr",
     "output_type": "stream",
     "text": [
      "46it [08:16, 10.80s/it]\n"
     ]
    },
    {
     "name": "stdout",
     "output_type": "stream",
     "text": [
      "Processing: 2018-09-24, 41 / 209\n",
      "Reading weekly POI CSV file: J:\\Safegraph\\weekly_county_files\\weekly_patterns_2018_2021\\POI\\POI_2018-09-24_To_2018-10-01.csv\n",
      "Processing mobility matrix for the week, please wait several minutes: 2018-09-24... \n"
     ]
    },
    {
     "name": "stderr",
     "output_type": "stream",
     "text": [
      "0it [00:00, ?it/s]"
     ]
    },
    {
     "name": "stdout",
     "output_type": "stream",
     "text": [
      "Processing: 0, J:\\Safegraph\\weekly_county_files\\weekly_patterns_2018_2021\\45\\45001\\45001_visitor_home_cbgs_2018-09-24_To_2018-10-01.csv\n"
     ]
    },
    {
     "name": "stderr",
     "output_type": "stream",
     "text": [
      "10it [01:47, 10.88s/it]"
     ]
    },
    {
     "name": "stdout",
     "output_type": "stream",
     "text": [
      "Processing: 10, J:\\Safegraph\\weekly_county_files\\weekly_patterns_2018_2021\\45\\45021\\45021_visitor_home_cbgs_2018-09-24_To_2018-10-01.csv\n"
     ]
    },
    {
     "name": "stderr",
     "output_type": "stream",
     "text": [
      "20it [03:40, 10.72s/it]"
     ]
    },
    {
     "name": "stdout",
     "output_type": "stream",
     "text": [
      "Processing: 20, J:\\Safegraph\\weekly_county_files\\weekly_patterns_2018_2021\\45\\45041\\45041_visitor_home_cbgs_2018-09-24_To_2018-10-01.csv\n"
     ]
    },
    {
     "name": "stderr",
     "output_type": "stream",
     "text": [
      "30it [05:26, 10.62s/it]"
     ]
    },
    {
     "name": "stdout",
     "output_type": "stream",
     "text": [
      "Processing: 30, J:\\Safegraph\\weekly_county_files\\weekly_patterns_2018_2021\\45\\45061\\45061_visitor_home_cbgs_2018-09-24_To_2018-10-01.csv\n"
     ]
    },
    {
     "name": "stderr",
     "output_type": "stream",
     "text": [
      "40it [07:11, 10.57s/it]"
     ]
    },
    {
     "name": "stdout",
     "output_type": "stream",
     "text": [
      "Processing: 40, J:\\Safegraph\\weekly_county_files\\weekly_patterns_2018_2021\\45\\45081\\45081_visitor_home_cbgs_2018-09-24_To_2018-10-01.csv\n"
     ]
    },
    {
     "name": "stderr",
     "output_type": "stream",
     "text": [
      "46it [08:15, 10.76s/it]\n"
     ]
    },
    {
     "name": "stdout",
     "output_type": "stream",
     "text": [
      "Processing: 2018-09-17, 42 / 209\n",
      "Reading weekly POI CSV file: J:\\Safegraph\\weekly_county_files\\weekly_patterns_2018_2021\\POI\\POI_2018-09-17_To_2018-09-24.csv\n",
      "Processing mobility matrix for the week, please wait several minutes: 2018-09-17... \n"
     ]
    },
    {
     "name": "stderr",
     "output_type": "stream",
     "text": [
      "0it [00:00, ?it/s]"
     ]
    },
    {
     "name": "stdout",
     "output_type": "stream",
     "text": [
      "Processing: 0, J:\\Safegraph\\weekly_county_files\\weekly_patterns_2018_2021\\45\\45001\\45001_visitor_home_cbgs_2018-09-17_To_2018-09-24.csv\n"
     ]
    },
    {
     "name": "stderr",
     "output_type": "stream",
     "text": [
      "10it [01:48, 10.87s/it]"
     ]
    },
    {
     "name": "stdout",
     "output_type": "stream",
     "text": [
      "Processing: 10, J:\\Safegraph\\weekly_county_files\\weekly_patterns_2018_2021\\45\\45021\\45021_visitor_home_cbgs_2018-09-17_To_2018-09-24.csv\n"
     ]
    },
    {
     "name": "stderr",
     "output_type": "stream",
     "text": [
      "20it [03:36, 10.85s/it]"
     ]
    },
    {
     "name": "stdout",
     "output_type": "stream",
     "text": [
      "Processing: 20, J:\\Safegraph\\weekly_county_files\\weekly_patterns_2018_2021\\45\\45041\\45041_visitor_home_cbgs_2018-09-17_To_2018-09-24.csv\n"
     ]
    },
    {
     "name": "stderr",
     "output_type": "stream",
     "text": [
      "30it [05:23, 10.63s/it]"
     ]
    },
    {
     "name": "stdout",
     "output_type": "stream",
     "text": [
      "Processing: 30, J:\\Safegraph\\weekly_county_files\\weekly_patterns_2018_2021\\45\\45061\\45061_visitor_home_cbgs_2018-09-17_To_2018-09-24.csv\n"
     ]
    },
    {
     "name": "stderr",
     "output_type": "stream",
     "text": [
      "40it [07:10, 10.71s/it]"
     ]
    },
    {
     "name": "stdout",
     "output_type": "stream",
     "text": [
      "Processing: 40, J:\\Safegraph\\weekly_county_files\\weekly_patterns_2018_2021\\45\\45081\\45081_visitor_home_cbgs_2018-09-17_To_2018-09-24.csv\n"
     ]
    },
    {
     "name": "stderr",
     "output_type": "stream",
     "text": [
      "46it [08:14, 10.75s/it]\n"
     ]
    },
    {
     "name": "stdout",
     "output_type": "stream",
     "text": [
      "Processing: 2018-09-10, 43 / 209\n",
      "Reading weekly POI CSV file: J:\\Safegraph\\weekly_county_files\\weekly_patterns_2018_2021\\POI\\POI_2018-09-10_To_2018-09-17.csv\n",
      "Processing mobility matrix for the week, please wait several minutes: 2018-09-10... \n"
     ]
    },
    {
     "name": "stderr",
     "output_type": "stream",
     "text": [
      "0it [00:00, ?it/s]"
     ]
    },
    {
     "name": "stdout",
     "output_type": "stream",
     "text": [
      "Processing: 0, J:\\Safegraph\\weekly_county_files\\weekly_patterns_2018_2021\\45\\45001\\45001_visitor_home_cbgs_2018-09-10_To_2018-09-17.csv\n"
     ]
    },
    {
     "name": "stderr",
     "output_type": "stream",
     "text": [
      "10it [01:47, 10.63s/it]"
     ]
    },
    {
     "name": "stdout",
     "output_type": "stream",
     "text": [
      "Processing: 10, J:\\Safegraph\\weekly_county_files\\weekly_patterns_2018_2021\\45\\45021\\45021_visitor_home_cbgs_2018-09-10_To_2018-09-17.csv\n"
     ]
    },
    {
     "name": "stderr",
     "output_type": "stream",
     "text": [
      "20it [03:32, 10.45s/it]"
     ]
    },
    {
     "name": "stdout",
     "output_type": "stream",
     "text": [
      "Processing: 20, J:\\Safegraph\\weekly_county_files\\weekly_patterns_2018_2021\\45\\45041\\45041_visitor_home_cbgs_2018-09-10_To_2018-09-17.csv\n"
     ]
    },
    {
     "name": "stderr",
     "output_type": "stream",
     "text": [
      "30it [05:18, 10.70s/it]"
     ]
    },
    {
     "name": "stdout",
     "output_type": "stream",
     "text": [
      "Processing: 30, J:\\Safegraph\\weekly_county_files\\weekly_patterns_2018_2021\\45\\45061\\45061_visitor_home_cbgs_2018-09-10_To_2018-09-17.csv\n"
     ]
    },
    {
     "name": "stderr",
     "output_type": "stream",
     "text": [
      "40it [07:14, 11.81s/it]"
     ]
    },
    {
     "name": "stdout",
     "output_type": "stream",
     "text": [
      "Processing: 40, J:\\Safegraph\\weekly_county_files\\weekly_patterns_2018_2021\\45\\45081\\45081_visitor_home_cbgs_2018-09-10_To_2018-09-17.csv\n"
     ]
    },
    {
     "name": "stderr",
     "output_type": "stream",
     "text": [
      "46it [08:21, 10.91s/it]\n"
     ]
    },
    {
     "name": "stdout",
     "output_type": "stream",
     "text": [
      "Processing: 2018-09-03, 44 / 209\n",
      "Reading weekly POI CSV file: J:\\Safegraph\\weekly_county_files\\weekly_patterns_2018_2021\\POI\\POI_2018-09-03_To_2018-09-10.csv\n",
      "Processing mobility matrix for the week, please wait several minutes: 2018-09-03... \n"
     ]
    },
    {
     "name": "stderr",
     "output_type": "stream",
     "text": [
      "0it [00:00, ?it/s]"
     ]
    },
    {
     "name": "stdout",
     "output_type": "stream",
     "text": [
      "Processing: 0, J:\\Safegraph\\weekly_county_files\\weekly_patterns_2018_2021\\45\\45001\\45001_visitor_home_cbgs_2018-09-03_To_2018-09-10.csv\n"
     ]
    },
    {
     "name": "stderr",
     "output_type": "stream",
     "text": [
      "10it [01:54, 11.41s/it]"
     ]
    },
    {
     "name": "stdout",
     "output_type": "stream",
     "text": [
      "Processing: 10, J:\\Safegraph\\weekly_county_files\\weekly_patterns_2018_2021\\45\\45021\\45021_visitor_home_cbgs_2018-09-03_To_2018-09-10.csv\n"
     ]
    },
    {
     "name": "stderr",
     "output_type": "stream",
     "text": [
      "20it [03:45, 11.28s/it]"
     ]
    },
    {
     "name": "stdout",
     "output_type": "stream",
     "text": [
      "Processing: 20, J:\\Safegraph\\weekly_county_files\\weekly_patterns_2018_2021\\45\\45041\\45041_visitor_home_cbgs_2018-09-03_To_2018-09-10.csv\n"
     ]
    },
    {
     "name": "stderr",
     "output_type": "stream",
     "text": [
      "30it [05:38, 11.12s/it]"
     ]
    },
    {
     "name": "stdout",
     "output_type": "stream",
     "text": [
      "Processing: 30, J:\\Safegraph\\weekly_county_files\\weekly_patterns_2018_2021\\45\\45061\\45061_visitor_home_cbgs_2018-09-03_To_2018-09-10.csv\n"
     ]
    },
    {
     "name": "stderr",
     "output_type": "stream",
     "text": [
      "40it [07:30, 11.20s/it]"
     ]
    },
    {
     "name": "stdout",
     "output_type": "stream",
     "text": [
      "Processing: 40, J:\\Safegraph\\weekly_county_files\\weekly_patterns_2018_2021\\45\\45081\\45081_visitor_home_cbgs_2018-09-03_To_2018-09-10.csv\n"
     ]
    },
    {
     "name": "stderr",
     "output_type": "stream",
     "text": [
      "46it [08:37, 11.25s/it]\n"
     ]
    },
    {
     "name": "stdout",
     "output_type": "stream",
     "text": [
      "Processing: 2018-08-27, 45 / 209\n",
      "Reading weekly POI CSV file: J:\\Safegraph\\weekly_county_files\\weekly_patterns_2018_2021\\POI\\POI_2018-08-27_To_2018-09-03.csv\n",
      "Processing mobility matrix for the week, please wait several minutes: 2018-08-27... \n"
     ]
    },
    {
     "name": "stderr",
     "output_type": "stream",
     "text": [
      "0it [00:00, ?it/s]"
     ]
    },
    {
     "name": "stdout",
     "output_type": "stream",
     "text": [
      "Processing: 0, J:\\Safegraph\\weekly_county_files\\weekly_patterns_2018_2021\\45\\45001\\45001_visitor_home_cbgs_2018-08-27_To_2018-09-03.csv\n"
     ]
    },
    {
     "name": "stderr",
     "output_type": "stream",
     "text": [
      "10it [01:52, 11.26s/it]"
     ]
    },
    {
     "name": "stdout",
     "output_type": "stream",
     "text": [
      "Processing: 10, J:\\Safegraph\\weekly_county_files\\weekly_patterns_2018_2021\\45\\45021\\45021_visitor_home_cbgs_2018-08-27_To_2018-09-03.csv\n"
     ]
    },
    {
     "name": "stderr",
     "output_type": "stream",
     "text": [
      "20it [03:44, 11.10s/it]"
     ]
    },
    {
     "name": "stdout",
     "output_type": "stream",
     "text": [
      "Processing: 20, J:\\Safegraph\\weekly_county_files\\weekly_patterns_2018_2021\\45\\45041\\45041_visitor_home_cbgs_2018-08-27_To_2018-09-03.csv\n"
     ]
    },
    {
     "name": "stderr",
     "output_type": "stream",
     "text": [
      "30it [05:35, 11.11s/it]"
     ]
    },
    {
     "name": "stdout",
     "output_type": "stream",
     "text": [
      "Processing: 30, J:\\Safegraph\\weekly_county_files\\weekly_patterns_2018_2021\\45\\45061\\45061_visitor_home_cbgs_2018-08-27_To_2018-09-03.csv\n"
     ]
    },
    {
     "name": "stderr",
     "output_type": "stream",
     "text": [
      "40it [07:26, 11.20s/it]"
     ]
    },
    {
     "name": "stdout",
     "output_type": "stream",
     "text": [
      "Processing: 40, J:\\Safegraph\\weekly_county_files\\weekly_patterns_2018_2021\\45\\45081\\45081_visitor_home_cbgs_2018-08-27_To_2018-09-03.csv\n"
     ]
    },
    {
     "name": "stderr",
     "output_type": "stream",
     "text": [
      "46it [08:34, 11.18s/it]\n"
     ]
    },
    {
     "name": "stdout",
     "output_type": "stream",
     "text": [
      "Processing: 2018-08-20, 46 / 209\n",
      "Reading weekly POI CSV file: J:\\Safegraph\\weekly_county_files\\weekly_patterns_2018_2021\\POI\\POI_2018-08-20_To_2018-08-27.csv\n",
      "Processing mobility matrix for the week, please wait several minutes: 2018-08-20... \n"
     ]
    },
    {
     "name": "stderr",
     "output_type": "stream",
     "text": [
      "0it [00:00, ?it/s]"
     ]
    },
    {
     "name": "stdout",
     "output_type": "stream",
     "text": [
      "Processing: 0, J:\\Safegraph\\weekly_county_files\\weekly_patterns_2018_2021\\45\\45001\\45001_visitor_home_cbgs_2018-08-20_To_2018-08-27.csv\n"
     ]
    },
    {
     "name": "stderr",
     "output_type": "stream",
     "text": [
      "10it [01:52, 11.20s/it]"
     ]
    },
    {
     "name": "stdout",
     "output_type": "stream",
     "text": [
      "Processing: 10, J:\\Safegraph\\weekly_county_files\\weekly_patterns_2018_2021\\45\\45021\\45021_visitor_home_cbgs_2018-08-20_To_2018-08-27.csv\n"
     ]
    },
    {
     "name": "stderr",
     "output_type": "stream",
     "text": [
      "20it [03:43, 11.04s/it]"
     ]
    },
    {
     "name": "stdout",
     "output_type": "stream",
     "text": [
      "Processing: 20, J:\\Safegraph\\weekly_county_files\\weekly_patterns_2018_2021\\45\\45041\\45041_visitor_home_cbgs_2018-08-20_To_2018-08-27.csv\n"
     ]
    },
    {
     "name": "stderr",
     "output_type": "stream",
     "text": [
      "30it [05:34, 11.16s/it]"
     ]
    },
    {
     "name": "stdout",
     "output_type": "stream",
     "text": [
      "Processing: 30, J:\\Safegraph\\weekly_county_files\\weekly_patterns_2018_2021\\45\\45061\\45061_visitor_home_cbgs_2018-08-20_To_2018-08-27.csv\n"
     ]
    },
    {
     "name": "stderr",
     "output_type": "stream",
     "text": [
      "40it [07:26, 11.25s/it]"
     ]
    },
    {
     "name": "stdout",
     "output_type": "stream",
     "text": [
      "Processing: 40, J:\\Safegraph\\weekly_county_files\\weekly_patterns_2018_2021\\45\\45081\\45081_visitor_home_cbgs_2018-08-20_To_2018-08-27.csv\n"
     ]
    },
    {
     "name": "stderr",
     "output_type": "stream",
     "text": [
      "46it [08:33, 11.17s/it]\n"
     ]
    },
    {
     "name": "stdout",
     "output_type": "stream",
     "text": [
      "Processing: 2018-08-13, 47 / 209\n",
      "Reading weekly POI CSV file: J:\\Safegraph\\weekly_county_files\\weekly_patterns_2018_2021\\POI\\POI_2018-08-13_To_2018-08-20.csv\n",
      "Processing mobility matrix for the week, please wait several minutes: 2018-08-13... \n"
     ]
    },
    {
     "name": "stderr",
     "output_type": "stream",
     "text": [
      "0it [00:00, ?it/s]"
     ]
    },
    {
     "name": "stdout",
     "output_type": "stream",
     "text": [
      "Processing: 0, J:\\Safegraph\\weekly_county_files\\weekly_patterns_2018_2021\\45\\45001\\45001_visitor_home_cbgs_2018-08-13_To_2018-08-20.csv\n"
     ]
    },
    {
     "name": "stderr",
     "output_type": "stream",
     "text": [
      "10it [01:53, 11.27s/it]"
     ]
    },
    {
     "name": "stdout",
     "output_type": "stream",
     "text": [
      "Processing: 10, J:\\Safegraph\\weekly_county_files\\weekly_patterns_2018_2021\\45\\45021\\45021_visitor_home_cbgs_2018-08-13_To_2018-08-20.csv\n"
     ]
    },
    {
     "name": "stderr",
     "output_type": "stream",
     "text": [
      "20it [03:45, 11.24s/it]"
     ]
    },
    {
     "name": "stdout",
     "output_type": "stream",
     "text": [
      "Processing: 20, J:\\Safegraph\\weekly_county_files\\weekly_patterns_2018_2021\\45\\45041\\45041_visitor_home_cbgs_2018-08-13_To_2018-08-20.csv\n"
     ]
    },
    {
     "name": "stderr",
     "output_type": "stream",
     "text": [
      "30it [05:36, 11.11s/it]"
     ]
    },
    {
     "name": "stdout",
     "output_type": "stream",
     "text": [
      "Processing: 30, J:\\Safegraph\\weekly_county_files\\weekly_patterns_2018_2021\\45\\45061\\45061_visitor_home_cbgs_2018-08-13_To_2018-08-20.csv\n"
     ]
    },
    {
     "name": "stderr",
     "output_type": "stream",
     "text": [
      "40it [07:27, 11.13s/it]"
     ]
    },
    {
     "name": "stdout",
     "output_type": "stream",
     "text": [
      "Processing: 40, J:\\Safegraph\\weekly_county_files\\weekly_patterns_2018_2021\\45\\45081\\45081_visitor_home_cbgs_2018-08-13_To_2018-08-20.csv\n"
     ]
    },
    {
     "name": "stderr",
     "output_type": "stream",
     "text": [
      "46it [08:34, 11.19s/it]\n"
     ]
    },
    {
     "name": "stdout",
     "output_type": "stream",
     "text": [
      "Processing: 2018-08-06, 48 / 209\n",
      "Reading weekly POI CSV file: J:\\Safegraph\\weekly_county_files\\weekly_patterns_2018_2021\\POI\\POI_2018-08-06_To_2018-08-13.csv\n",
      "Processing mobility matrix for the week, please wait several minutes: 2018-08-06... \n"
     ]
    },
    {
     "name": "stderr",
     "output_type": "stream",
     "text": [
      "0it [00:00, ?it/s]"
     ]
    },
    {
     "name": "stdout",
     "output_type": "stream",
     "text": [
      "Processing: 0, J:\\Safegraph\\weekly_county_files\\weekly_patterns_2018_2021\\45\\45001\\45001_visitor_home_cbgs_2018-08-06_To_2018-08-13.csv\n"
     ]
    },
    {
     "name": "stderr",
     "output_type": "stream",
     "text": [
      "10it [01:52, 11.23s/it]"
     ]
    },
    {
     "name": "stdout",
     "output_type": "stream",
     "text": [
      "Processing: 10, J:\\Safegraph\\weekly_county_files\\weekly_patterns_2018_2021\\45\\45021\\45021_visitor_home_cbgs_2018-08-06_To_2018-08-13.csv\n"
     ]
    },
    {
     "name": "stderr",
     "output_type": "stream",
     "text": [
      "20it [03:43, 11.02s/it]"
     ]
    },
    {
     "name": "stdout",
     "output_type": "stream",
     "text": [
      "Processing: 20, J:\\Safegraph\\weekly_county_files\\weekly_patterns_2018_2021\\45\\45041\\45041_visitor_home_cbgs_2018-08-06_To_2018-08-13.csv\n"
     ]
    },
    {
     "name": "stderr",
     "output_type": "stream",
     "text": [
      "30it [05:34, 11.09s/it]"
     ]
    },
    {
     "name": "stdout",
     "output_type": "stream",
     "text": [
      "Processing: 30, J:\\Safegraph\\weekly_county_files\\weekly_patterns_2018_2021\\45\\45061\\45061_visitor_home_cbgs_2018-08-06_To_2018-08-13.csv\n"
     ]
    },
    {
     "name": "stderr",
     "output_type": "stream",
     "text": [
      "40it [07:26, 11.20s/it]"
     ]
    },
    {
     "name": "stdout",
     "output_type": "stream",
     "text": [
      "Processing: 40, J:\\Safegraph\\weekly_county_files\\weekly_patterns_2018_2021\\45\\45081\\45081_visitor_home_cbgs_2018-08-06_To_2018-08-13.csv\n"
     ]
    },
    {
     "name": "stderr",
     "output_type": "stream",
     "text": [
      "46it [08:33, 11.17s/it]\n"
     ]
    },
    {
     "name": "stdout",
     "output_type": "stream",
     "text": [
      "Processing: 2018-07-30, 49 / 209\n",
      "Reading weekly POI CSV file: J:\\Safegraph\\weekly_county_files\\weekly_patterns_2018_2021\\POI\\POI_2018-07-30_To_2018-08-06.csv\n",
      "Processing mobility matrix for the week, please wait several minutes: 2018-07-30... \n"
     ]
    },
    {
     "name": "stderr",
     "output_type": "stream",
     "text": [
      "0it [00:00, ?it/s]"
     ]
    },
    {
     "name": "stdout",
     "output_type": "stream",
     "text": [
      "Processing: 0, J:\\Safegraph\\weekly_county_files\\weekly_patterns_2018_2021\\45\\45001\\45001_visitor_home_cbgs_2018-07-30_To_2018-08-06.csv\n"
     ]
    },
    {
     "name": "stderr",
     "output_type": "stream",
     "text": [
      "10it [01:53, 11.35s/it]"
     ]
    },
    {
     "name": "stdout",
     "output_type": "stream",
     "text": [
      "Processing: 10, J:\\Safegraph\\weekly_county_files\\weekly_patterns_2018_2021\\45\\45021\\45021_visitor_home_cbgs_2018-07-30_To_2018-08-06.csv\n"
     ]
    },
    {
     "name": "stderr",
     "output_type": "stream",
     "text": [
      "20it [03:44, 11.11s/it]"
     ]
    },
    {
     "name": "stdout",
     "output_type": "stream",
     "text": [
      "Processing: 20, J:\\Safegraph\\weekly_county_files\\weekly_patterns_2018_2021\\45\\45041\\45041_visitor_home_cbgs_2018-07-30_To_2018-08-06.csv\n"
     ]
    },
    {
     "name": "stderr",
     "output_type": "stream",
     "text": [
      "30it [05:36, 11.13s/it]"
     ]
    },
    {
     "name": "stdout",
     "output_type": "stream",
     "text": [
      "Processing: 30, J:\\Safegraph\\weekly_county_files\\weekly_patterns_2018_2021\\45\\45061\\45061_visitor_home_cbgs_2018-07-30_To_2018-08-06.csv\n"
     ]
    },
    {
     "name": "stderr",
     "output_type": "stream",
     "text": [
      "40it [07:27, 11.19s/it]"
     ]
    },
    {
     "name": "stdout",
     "output_type": "stream",
     "text": [
      "Processing: 40, J:\\Safegraph\\weekly_county_files\\weekly_patterns_2018_2021\\45\\45081\\45081_visitor_home_cbgs_2018-07-30_To_2018-08-06.csv\n"
     ]
    },
    {
     "name": "stderr",
     "output_type": "stream",
     "text": [
      "46it [08:33, 11.17s/it]\n"
     ]
    },
    {
     "name": "stdout",
     "output_type": "stream",
     "text": [
      "Processing: 2018-07-23, 50 / 209\n",
      "Reading weekly POI CSV file: J:\\Safegraph\\weekly_county_files\\weekly_patterns_2018_2021\\POI\\POI_2018-07-23_To_2018-07-30.csv\n",
      "Processing mobility matrix for the week, please wait several minutes: 2018-07-23... \n"
     ]
    },
    {
     "name": "stderr",
     "output_type": "stream",
     "text": [
      "0it [00:00, ?it/s]"
     ]
    },
    {
     "name": "stdout",
     "output_type": "stream",
     "text": [
      "Processing: 0, J:\\Safegraph\\weekly_county_files\\weekly_patterns_2018_2021\\45\\45001\\45001_visitor_home_cbgs_2018-07-23_To_2018-07-30.csv\n"
     ]
    },
    {
     "name": "stderr",
     "output_type": "stream",
     "text": [
      "10it [01:48, 10.73s/it]"
     ]
    },
    {
     "name": "stdout",
     "output_type": "stream",
     "text": [
      "Processing: 10, J:\\Safegraph\\weekly_county_files\\weekly_patterns_2018_2021\\45\\45021\\45021_visitor_home_cbgs_2018-07-23_To_2018-07-30.csv\n"
     ]
    },
    {
     "name": "stderr",
     "output_type": "stream",
     "text": [
      "20it [03:35, 10.70s/it]"
     ]
    },
    {
     "name": "stdout",
     "output_type": "stream",
     "text": [
      "Processing: 20, J:\\Safegraph\\weekly_county_files\\weekly_patterns_2018_2021\\45\\45041\\45041_visitor_home_cbgs_2018-07-23_To_2018-07-30.csv\n"
     ]
    },
    {
     "name": "stderr",
     "output_type": "stream",
     "text": [
      "30it [05:22, 10.62s/it]"
     ]
    },
    {
     "name": "stdout",
     "output_type": "stream",
     "text": [
      "Processing: 30, J:\\Safegraph\\weekly_county_files\\weekly_patterns_2018_2021\\45\\45061\\45061_visitor_home_cbgs_2018-07-23_To_2018-07-30.csv\n"
     ]
    },
    {
     "name": "stderr",
     "output_type": "stream",
     "text": [
      "40it [07:09, 10.69s/it]"
     ]
    },
    {
     "name": "stdout",
     "output_type": "stream",
     "text": [
      "Processing: 40, J:\\Safegraph\\weekly_county_files\\weekly_patterns_2018_2021\\45\\45081\\45081_visitor_home_cbgs_2018-07-23_To_2018-07-30.csv\n"
     ]
    },
    {
     "name": "stderr",
     "output_type": "stream",
     "text": [
      "46it [08:13, 10.72s/it]\n"
     ]
    },
    {
     "name": "stdout",
     "output_type": "stream",
     "text": [
      "Processing: 2018-07-16, 51 / 209\n",
      "Reading weekly POI CSV file: J:\\Safegraph\\weekly_county_files\\weekly_patterns_2018_2021\\POI\\POI_2018-07-16_To_2018-07-23.csv\n",
      "Processing mobility matrix for the week, please wait several minutes: 2018-07-16... \n"
     ]
    },
    {
     "name": "stderr",
     "output_type": "stream",
     "text": [
      "0it [00:00, ?it/s]"
     ]
    },
    {
     "name": "stdout",
     "output_type": "stream",
     "text": [
      "Processing: 0, J:\\Safegraph\\weekly_county_files\\weekly_patterns_2018_2021\\45\\45001\\45001_visitor_home_cbgs_2018-07-16_To_2018-07-23.csv\n"
     ]
    },
    {
     "name": "stderr",
     "output_type": "stream",
     "text": [
      "10it [01:48, 10.87s/it]"
     ]
    },
    {
     "name": "stdout",
     "output_type": "stream",
     "text": [
      "Processing: 10, J:\\Safegraph\\weekly_county_files\\weekly_patterns_2018_2021\\45\\45021\\45021_visitor_home_cbgs_2018-07-16_To_2018-07-23.csv\n"
     ]
    },
    {
     "name": "stderr",
     "output_type": "stream",
     "text": [
      "20it [03:34, 10.63s/it]"
     ]
    },
    {
     "name": "stdout",
     "output_type": "stream",
     "text": [
      "Processing: 20, J:\\Safegraph\\weekly_county_files\\weekly_patterns_2018_2021\\45\\45041\\45041_visitor_home_cbgs_2018-07-16_To_2018-07-23.csv\n"
     ]
    },
    {
     "name": "stderr",
     "output_type": "stream",
     "text": [
      "30it [05:21, 10.67s/it]"
     ]
    },
    {
     "name": "stdout",
     "output_type": "stream",
     "text": [
      "Processing: 30, J:\\Safegraph\\weekly_county_files\\weekly_patterns_2018_2021\\45\\45061\\45061_visitor_home_cbgs_2018-07-16_To_2018-07-23.csv\n"
     ]
    },
    {
     "name": "stderr",
     "output_type": "stream",
     "text": [
      "40it [07:07, 10.69s/it]"
     ]
    },
    {
     "name": "stdout",
     "output_type": "stream",
     "text": [
      "Processing: 40, J:\\Safegraph\\weekly_county_files\\weekly_patterns_2018_2021\\45\\45081\\45081_visitor_home_cbgs_2018-07-16_To_2018-07-23.csv\n"
     ]
    },
    {
     "name": "stderr",
     "output_type": "stream",
     "text": [
      "46it [08:11, 10.69s/it]\n"
     ]
    },
    {
     "name": "stdout",
     "output_type": "stream",
     "text": [
      "Processing: 2018-07-09, 52 / 209\n",
      "Reading weekly POI CSV file: J:\\Safegraph\\weekly_county_files\\weekly_patterns_2018_2021\\POI\\POI_2018-07-09_To_2018-07-16.csv\n",
      "Processing mobility matrix for the week, please wait several minutes: 2018-07-09... \n"
     ]
    },
    {
     "name": "stderr",
     "output_type": "stream",
     "text": [
      "0it [00:00, ?it/s]"
     ]
    },
    {
     "name": "stdout",
     "output_type": "stream",
     "text": [
      "Processing: 0, J:\\Safegraph\\weekly_county_files\\weekly_patterns_2018_2021\\45\\45001\\45001_visitor_home_cbgs_2018-07-09_To_2018-07-16.csv\n"
     ]
    },
    {
     "name": "stderr",
     "output_type": "stream",
     "text": [
      "10it [01:49, 11.09s/it]"
     ]
    },
    {
     "name": "stdout",
     "output_type": "stream",
     "text": [
      "Processing: 10, J:\\Safegraph\\weekly_county_files\\weekly_patterns_2018_2021\\45\\45021\\45021_visitor_home_cbgs_2018-07-09_To_2018-07-16.csv\n"
     ]
    },
    {
     "name": "stderr",
     "output_type": "stream",
     "text": [
      "20it [03:47, 11.78s/it]"
     ]
    },
    {
     "name": "stdout",
     "output_type": "stream",
     "text": [
      "Processing: 20, J:\\Safegraph\\weekly_county_files\\weekly_patterns_2018_2021\\45\\45041\\45041_visitor_home_cbgs_2018-07-09_To_2018-07-16.csv\n"
     ]
    },
    {
     "name": "stderr",
     "output_type": "stream",
     "text": [
      "30it [05:45, 11.81s/it]"
     ]
    },
    {
     "name": "stdout",
     "output_type": "stream",
     "text": [
      "Processing: 30, J:\\Safegraph\\weekly_county_files\\weekly_patterns_2018_2021\\45\\45061\\45061_visitor_home_cbgs_2018-07-09_To_2018-07-16.csv\n"
     ]
    },
    {
     "name": "stderr",
     "output_type": "stream",
     "text": [
      "40it [07:45, 11.92s/it]"
     ]
    },
    {
     "name": "stdout",
     "output_type": "stream",
     "text": [
      "Processing: 40, J:\\Safegraph\\weekly_county_files\\weekly_patterns_2018_2021\\45\\45081\\45081_visitor_home_cbgs_2018-07-09_To_2018-07-16.csv\n"
     ]
    },
    {
     "name": "stderr",
     "output_type": "stream",
     "text": [
      "46it [08:57, 11.67s/it]\n"
     ]
    },
    {
     "name": "stdout",
     "output_type": "stream",
     "text": [
      "Processing: 2018-07-02, 53 / 209\n",
      "Reading weekly POI CSV file: J:\\Safegraph\\weekly_county_files\\weekly_patterns_2018_2021\\POI\\POI_2018-07-02_To_2018-07-09.csv\n"
     ]
    },
    {
     "name": "stderr",
     "output_type": "stream",
     "text": [
      "C:\\Users\\GPU\\.conda\\envs\\Google_street_view\\lib\\site-packages\\IPython\\core\\interactiveshell.py:3437: DtypeWarning: Columns (8,9,16) have mixed types.Specify dtype option on import or set low_memory=False.\n",
      "  exec(code_obj, self.user_global_ns, self.user_ns)\n"
     ]
    },
    {
     "name": "stdout",
     "output_type": "stream",
     "text": [
      "Processing mobility matrix for the week, please wait several minutes: 2018-07-02... \n"
     ]
    },
    {
     "name": "stderr",
     "output_type": "stream",
     "text": [
      "0it [00:00, ?it/s]"
     ]
    },
    {
     "name": "stdout",
     "output_type": "stream",
     "text": [
      "Processing: 0, J:\\Safegraph\\weekly_county_files\\weekly_patterns_2018_2021\\45\\45001\\45001_visitor_home_cbgs_2018-07-02_To_2018-07-09.csv\n"
     ]
    },
    {
     "name": "stderr",
     "output_type": "stream",
     "text": [
      "10it [01:59, 11.87s/it]"
     ]
    },
    {
     "name": "stdout",
     "output_type": "stream",
     "text": [
      "Processing: 10, J:\\Safegraph\\weekly_county_files\\weekly_patterns_2018_2021\\45\\45021\\45021_visitor_home_cbgs_2018-07-02_To_2018-07-09.csv\n"
     ]
    },
    {
     "name": "stderr",
     "output_type": "stream",
     "text": [
      "20it [03:58, 11.81s/it]"
     ]
    },
    {
     "name": "stdout",
     "output_type": "stream",
     "text": [
      "Processing: 20, J:\\Safegraph\\weekly_county_files\\weekly_patterns_2018_2021\\45\\45041\\45041_visitor_home_cbgs_2018-07-02_To_2018-07-09.csv\n"
     ]
    },
    {
     "name": "stderr",
     "output_type": "stream",
     "text": [
      "30it [05:56, 11.76s/it]"
     ]
    },
    {
     "name": "stdout",
     "output_type": "stream",
     "text": [
      "Processing: 30, J:\\Safegraph\\weekly_county_files\\weekly_patterns_2018_2021\\45\\45061\\45061_visitor_home_cbgs_2018-07-02_To_2018-07-09.csv\n"
     ]
    },
    {
     "name": "stderr",
     "output_type": "stream",
     "text": [
      "40it [07:53, 11.81s/it]"
     ]
    },
    {
     "name": "stdout",
     "output_type": "stream",
     "text": [
      "Processing: 40, J:\\Safegraph\\weekly_county_files\\weekly_patterns_2018_2021\\45\\45081\\45081_visitor_home_cbgs_2018-07-02_To_2018-07-09.csv\n"
     ]
    },
    {
     "name": "stderr",
     "output_type": "stream",
     "text": [
      "46it [09:04, 11.84s/it]\n"
     ]
    },
    {
     "name": "stdout",
     "output_type": "stream",
     "text": [
      "Processing: 2018-06-25, 54 / 209\n",
      "Reading weekly POI CSV file: J:\\Safegraph\\weekly_county_files\\weekly_patterns_2018_2021\\POI\\POI_2018-06-25_To_2018-07-02.csv\n",
      "Processing mobility matrix for the week, please wait several minutes: 2018-06-25... \n"
     ]
    },
    {
     "name": "stderr",
     "output_type": "stream",
     "text": [
      "0it [00:00, ?it/s]"
     ]
    },
    {
     "name": "stdout",
     "output_type": "stream",
     "text": [
      "Processing: 0, J:\\Safegraph\\weekly_county_files\\weekly_patterns_2018_2021\\45\\45001\\45001_visitor_home_cbgs_2018-06-25_To_2018-07-02.csv\n"
     ]
    },
    {
     "name": "stderr",
     "output_type": "stream",
     "text": [
      "10it [02:00, 12.00s/it]"
     ]
    },
    {
     "name": "stdout",
     "output_type": "stream",
     "text": [
      "Processing: 10, J:\\Safegraph\\weekly_county_files\\weekly_patterns_2018_2021\\45\\45021\\45021_visitor_home_cbgs_2018-06-25_To_2018-07-02.csv\n"
     ]
    },
    {
     "name": "stderr",
     "output_type": "stream",
     "text": [
      "20it [03:59, 11.87s/it]"
     ]
    },
    {
     "name": "stdout",
     "output_type": "stream",
     "text": [
      "Processing: 20, J:\\Safegraph\\weekly_county_files\\weekly_patterns_2018_2021\\45\\45041\\45041_visitor_home_cbgs_2018-06-25_To_2018-07-02.csv\n"
     ]
    },
    {
     "name": "stderr",
     "output_type": "stream",
     "text": [
      "30it [05:58, 11.89s/it]"
     ]
    },
    {
     "name": "stdout",
     "output_type": "stream",
     "text": [
      "Processing: 30, J:\\Safegraph\\weekly_county_files\\weekly_patterns_2018_2021\\45\\45061\\45061_visitor_home_cbgs_2018-06-25_To_2018-07-02.csv\n"
     ]
    },
    {
     "name": "stderr",
     "output_type": "stream",
     "text": [
      "40it [07:58, 12.06s/it]"
     ]
    },
    {
     "name": "stdout",
     "output_type": "stream",
     "text": [
      "Processing: 40, J:\\Safegraph\\weekly_county_files\\weekly_patterns_2018_2021\\45\\45081\\45081_visitor_home_cbgs_2018-06-25_To_2018-07-02.csv\n"
     ]
    },
    {
     "name": "stderr",
     "output_type": "stream",
     "text": [
      "46it [09:12, 12.00s/it]\n"
     ]
    },
    {
     "name": "stdout",
     "output_type": "stream",
     "text": [
      "Processing: 2018-06-18, 55 / 209\n",
      "Reading weekly POI CSV file: J:\\Safegraph\\weekly_county_files\\weekly_patterns_2018_2021\\POI\\POI_2018-06-18_To_2018-06-25.csv\n",
      "Processing mobility matrix for the week, please wait several minutes: 2018-06-18... \n"
     ]
    },
    {
     "name": "stderr",
     "output_type": "stream",
     "text": [
      "0it [00:00, ?it/s]"
     ]
    },
    {
     "name": "stdout",
     "output_type": "stream",
     "text": [
      "Processing: 0, J:\\Safegraph\\weekly_county_files\\weekly_patterns_2018_2021\\45\\45001\\45001_visitor_home_cbgs_2018-06-18_To_2018-06-25.csv\n"
     ]
    },
    {
     "name": "stderr",
     "output_type": "stream",
     "text": [
      "10it [01:59, 11.95s/it]"
     ]
    },
    {
     "name": "stdout",
     "output_type": "stream",
     "text": [
      "Processing: 10, J:\\Safegraph\\weekly_county_files\\weekly_patterns_2018_2021\\45\\45021\\45021_visitor_home_cbgs_2018-06-18_To_2018-06-25.csv\n"
     ]
    },
    {
     "name": "stderr",
     "output_type": "stream",
     "text": [
      "20it [03:58, 11.90s/it]"
     ]
    },
    {
     "name": "stdout",
     "output_type": "stream",
     "text": [
      "Processing: 20, J:\\Safegraph\\weekly_county_files\\weekly_patterns_2018_2021\\45\\45041\\45041_visitor_home_cbgs_2018-06-18_To_2018-06-25.csv\n"
     ]
    },
    {
     "name": "stderr",
     "output_type": "stream",
     "text": [
      "30it [05:57, 11.83s/it]"
     ]
    },
    {
     "name": "stdout",
     "output_type": "stream",
     "text": [
      "Processing: 30, J:\\Safegraph\\weekly_county_files\\weekly_patterns_2018_2021\\45\\45061\\45061_visitor_home_cbgs_2018-06-18_To_2018-06-25.csv\n"
     ]
    },
    {
     "name": "stderr",
     "output_type": "stream",
     "text": [
      "40it [07:56, 11.87s/it]"
     ]
    },
    {
     "name": "stdout",
     "output_type": "stream",
     "text": [
      "Processing: 40, J:\\Safegraph\\weekly_county_files\\weekly_patterns_2018_2021\\45\\45081\\45081_visitor_home_cbgs_2018-06-18_To_2018-06-25.csv\n"
     ]
    },
    {
     "name": "stderr",
     "output_type": "stream",
     "text": [
      "46it [09:08, 11.93s/it]\n"
     ]
    },
    {
     "name": "stdout",
     "output_type": "stream",
     "text": [
      "Processing: 2018-06-11, 56 / 209\n",
      "Reading weekly POI CSV file: J:\\Safegraph\\weekly_county_files\\weekly_patterns_2018_2021\\POI\\POI_2018-06-11_To_2018-06-18.csv\n",
      "Processing mobility matrix for the week, please wait several minutes: 2018-06-11... \n"
     ]
    },
    {
     "name": "stderr",
     "output_type": "stream",
     "text": [
      "0it [00:00, ?it/s]"
     ]
    },
    {
     "name": "stdout",
     "output_type": "stream",
     "text": [
      "Processing: 0, J:\\Safegraph\\weekly_county_files\\weekly_patterns_2018_2021\\45\\45001\\45001_visitor_home_cbgs_2018-06-11_To_2018-06-18.csv\n"
     ]
    },
    {
     "name": "stderr",
     "output_type": "stream",
     "text": [
      "10it [01:59, 11.91s/it]"
     ]
    },
    {
     "name": "stdout",
     "output_type": "stream",
     "text": [
      "Processing: 10, J:\\Safegraph\\weekly_county_files\\weekly_patterns_2018_2021\\45\\45021\\45021_visitor_home_cbgs_2018-06-11_To_2018-06-18.csv\n"
     ]
    },
    {
     "name": "stderr",
     "output_type": "stream",
     "text": [
      "20it [03:58, 11.84s/it]"
     ]
    },
    {
     "name": "stdout",
     "output_type": "stream",
     "text": [
      "Processing: 20, J:\\Safegraph\\weekly_county_files\\weekly_patterns_2018_2021\\45\\45041\\45041_visitor_home_cbgs_2018-06-11_To_2018-06-18.csv\n"
     ]
    },
    {
     "name": "stderr",
     "output_type": "stream",
     "text": [
      "30it [05:58, 11.85s/it]"
     ]
    },
    {
     "name": "stdout",
     "output_type": "stream",
     "text": [
      "Processing: 30, J:\\Safegraph\\weekly_county_files\\weekly_patterns_2018_2021\\45\\45061\\45061_visitor_home_cbgs_2018-06-11_To_2018-06-18.csv\n"
     ]
    },
    {
     "name": "stderr",
     "output_type": "stream",
     "text": [
      "40it [07:57, 12.05s/it]"
     ]
    },
    {
     "name": "stdout",
     "output_type": "stream",
     "text": [
      "Processing: 40, J:\\Safegraph\\weekly_county_files\\weekly_patterns_2018_2021\\45\\45081\\45081_visitor_home_cbgs_2018-06-11_To_2018-06-18.csv\n"
     ]
    },
    {
     "name": "stderr",
     "output_type": "stream",
     "text": [
      "46it [09:09, 11.95s/it]\n"
     ]
    },
    {
     "name": "stdout",
     "output_type": "stream",
     "text": [
      "Processing: 2018-06-04, 57 / 209\n",
      "Reading weekly POI CSV file: J:\\Safegraph\\weekly_county_files\\weekly_patterns_2018_2021\\POI\\POI_2018-06-04_To_2018-06-11.csv\n",
      "Processing mobility matrix for the week, please wait several minutes: 2018-06-04... \n"
     ]
    },
    {
     "name": "stderr",
     "output_type": "stream",
     "text": [
      "0it [00:00, ?it/s]"
     ]
    },
    {
     "name": "stdout",
     "output_type": "stream",
     "text": [
      "Processing: 0, J:\\Safegraph\\weekly_county_files\\weekly_patterns_2018_2021\\45\\45001\\45001_visitor_home_cbgs_2018-06-04_To_2018-06-11.csv\n"
     ]
    },
    {
     "name": "stderr",
     "output_type": "stream",
     "text": [
      "10it [02:00, 12.09s/it]"
     ]
    },
    {
     "name": "stdout",
     "output_type": "stream",
     "text": [
      "Processing: 10, J:\\Safegraph\\weekly_county_files\\weekly_patterns_2018_2021\\45\\45021\\45021_visitor_home_cbgs_2018-06-04_To_2018-06-11.csv\n"
     ]
    },
    {
     "name": "stderr",
     "output_type": "stream",
     "text": [
      "20it [04:02, 12.47s/it]"
     ]
    },
    {
     "name": "stdout",
     "output_type": "stream",
     "text": [
      "Processing: 20, J:\\Safegraph\\weekly_county_files\\weekly_patterns_2018_2021\\45\\45041\\45041_visitor_home_cbgs_2018-06-04_To_2018-06-11.csv\n"
     ]
    },
    {
     "name": "stderr",
     "output_type": "stream",
     "text": [
      "30it [06:01, 11.94s/it]"
     ]
    },
    {
     "name": "stdout",
     "output_type": "stream",
     "text": [
      "Processing: 30, J:\\Safegraph\\weekly_county_files\\weekly_patterns_2018_2021\\45\\45061\\45061_visitor_home_cbgs_2018-06-04_To_2018-06-11.csv\n"
     ]
    },
    {
     "name": "stderr",
     "output_type": "stream",
     "text": [
      "40it [08:01, 12.09s/it]"
     ]
    },
    {
     "name": "stdout",
     "output_type": "stream",
     "text": [
      "Processing: 40, J:\\Safegraph\\weekly_county_files\\weekly_patterns_2018_2021\\45\\45081\\45081_visitor_home_cbgs_2018-06-04_To_2018-06-11.csv\n"
     ]
    },
    {
     "name": "stderr",
     "output_type": "stream",
     "text": [
      "46it [09:13, 12.03s/it]\n"
     ]
    },
    {
     "name": "stdout",
     "output_type": "stream",
     "text": [
      "Processing: 2018-05-28, 58 / 209\n",
      "Reading weekly POI CSV file: J:\\Safegraph\\weekly_county_files\\weekly_patterns_2018_2021\\POI\\POI_2018-05-28_To_2018-06-04.csv\n",
      "Processing mobility matrix for the week, please wait several minutes: 2018-05-28... \n"
     ]
    },
    {
     "name": "stderr",
     "output_type": "stream",
     "text": [
      "0it [00:00, ?it/s]"
     ]
    },
    {
     "name": "stdout",
     "output_type": "stream",
     "text": [
      "Processing: 0, J:\\Safegraph\\weekly_county_files\\weekly_patterns_2018_2021\\45\\45001\\45001_visitor_home_cbgs_2018-05-28_To_2018-06-04.csv\n"
     ]
    },
    {
     "name": "stderr",
     "output_type": "stream",
     "text": [
      "10it [02:01, 12.18s/it]"
     ]
    },
    {
     "name": "stdout",
     "output_type": "stream",
     "text": [
      "Processing: 10, J:\\Safegraph\\weekly_county_files\\weekly_patterns_2018_2021\\45\\45021\\45021_visitor_home_cbgs_2018-05-28_To_2018-06-04.csv\n"
     ]
    },
    {
     "name": "stderr",
     "output_type": "stream",
     "text": [
      "20it [04:01, 11.94s/it]"
     ]
    },
    {
     "name": "stdout",
     "output_type": "stream",
     "text": [
      "Processing: 20, J:\\Safegraph\\weekly_county_files\\weekly_patterns_2018_2021\\45\\45041\\45041_visitor_home_cbgs_2018-05-28_To_2018-06-04.csv\n"
     ]
    },
    {
     "name": "stderr",
     "output_type": "stream",
     "text": [
      "30it [06:01, 12.11s/it]"
     ]
    },
    {
     "name": "stdout",
     "output_type": "stream",
     "text": [
      "Processing: 30, J:\\Safegraph\\weekly_county_files\\weekly_patterns_2018_2021\\45\\45061\\45061_visitor_home_cbgs_2018-05-28_To_2018-06-04.csv\n"
     ]
    },
    {
     "name": "stderr",
     "output_type": "stream",
     "text": [
      "40it [08:01, 12.00s/it]"
     ]
    },
    {
     "name": "stdout",
     "output_type": "stream",
     "text": [
      "Processing: 40, J:\\Safegraph\\weekly_county_files\\weekly_patterns_2018_2021\\45\\45081\\45081_visitor_home_cbgs_2018-05-28_To_2018-06-04.csv\n"
     ]
    },
    {
     "name": "stderr",
     "output_type": "stream",
     "text": [
      "46it [09:13, 12.03s/it]\n"
     ]
    },
    {
     "name": "stdout",
     "output_type": "stream",
     "text": [
      "Processing: 2018-05-21, 59 / 209\n",
      "Reading weekly POI CSV file: J:\\Safegraph\\weekly_county_files\\weekly_patterns_2018_2021\\POI\\POI_2018-05-21_To_2018-05-28.csv\n",
      "Processing mobility matrix for the week, please wait several minutes: 2018-05-21... \n"
     ]
    },
    {
     "name": "stderr",
     "output_type": "stream",
     "text": [
      "0it [00:00, ?it/s]"
     ]
    },
    {
     "name": "stdout",
     "output_type": "stream",
     "text": [
      "Processing: 0, J:\\Safegraph\\weekly_county_files\\weekly_patterns_2018_2021\\45\\45001\\45001_visitor_home_cbgs_2018-05-21_To_2018-05-28.csv\n"
     ]
    },
    {
     "name": "stderr",
     "output_type": "stream",
     "text": [
      "10it [02:00, 11.94s/it]"
     ]
    },
    {
     "name": "stdout",
     "output_type": "stream",
     "text": [
      "Processing: 10, J:\\Safegraph\\weekly_county_files\\weekly_patterns_2018_2021\\45\\45021\\45021_visitor_home_cbgs_2018-05-21_To_2018-05-28.csv\n"
     ]
    },
    {
     "name": "stderr",
     "output_type": "stream",
     "text": [
      "20it [03:58, 11.91s/it]"
     ]
    },
    {
     "name": "stdout",
     "output_type": "stream",
     "text": [
      "Processing: 20, J:\\Safegraph\\weekly_county_files\\weekly_patterns_2018_2021\\45\\45041\\45041_visitor_home_cbgs_2018-05-21_To_2018-05-28.csv\n"
     ]
    },
    {
     "name": "stderr",
     "output_type": "stream",
     "text": [
      "30it [05:58, 11.90s/it]"
     ]
    },
    {
     "name": "stdout",
     "output_type": "stream",
     "text": [
      "Processing: 30, J:\\Safegraph\\weekly_county_files\\weekly_patterns_2018_2021\\45\\45061\\45061_visitor_home_cbgs_2018-05-21_To_2018-05-28.csv\n"
     ]
    },
    {
     "name": "stderr",
     "output_type": "stream",
     "text": [
      "40it [07:57, 12.04s/it]"
     ]
    },
    {
     "name": "stdout",
     "output_type": "stream",
     "text": [
      "Processing: 40, J:\\Safegraph\\weekly_county_files\\weekly_patterns_2018_2021\\45\\45081\\45081_visitor_home_cbgs_2018-05-21_To_2018-05-28.csv\n"
     ]
    },
    {
     "name": "stderr",
     "output_type": "stream",
     "text": [
      "46it [09:08, 11.93s/it]\n"
     ]
    },
    {
     "name": "stdout",
     "output_type": "stream",
     "text": [
      "Processing: 2018-05-14, 60 / 209\n",
      "Reading weekly POI CSV file: J:\\Safegraph\\weekly_county_files\\weekly_patterns_2018_2021\\POI\\POI_2018-05-14_To_2018-05-21.csv\n",
      "Processing mobility matrix for the week, please wait several minutes: 2018-05-14... \n"
     ]
    },
    {
     "name": "stderr",
     "output_type": "stream",
     "text": [
      "0it [00:00, ?it/s]"
     ]
    },
    {
     "name": "stdout",
     "output_type": "stream",
     "text": [
      "Processing: 0, J:\\Safegraph\\weekly_county_files\\weekly_patterns_2018_2021\\45\\45001\\45001_visitor_home_cbgs_2018-05-14_To_2018-05-21.csv\n"
     ]
    },
    {
     "name": "stderr",
     "output_type": "stream",
     "text": [
      "10it [01:59, 11.94s/it]"
     ]
    },
    {
     "name": "stdout",
     "output_type": "stream",
     "text": [
      "Processing: 10, J:\\Safegraph\\weekly_county_files\\weekly_patterns_2018_2021\\45\\45021\\45021_visitor_home_cbgs_2018-05-14_To_2018-05-21.csv\n"
     ]
    },
    {
     "name": "stderr",
     "output_type": "stream",
     "text": [
      "20it [03:59, 11.97s/it]"
     ]
    },
    {
     "name": "stdout",
     "output_type": "stream",
     "text": [
      "Processing: 20, J:\\Safegraph\\weekly_county_files\\weekly_patterns_2018_2021\\45\\45041\\45041_visitor_home_cbgs_2018-05-14_To_2018-05-21.csv\n"
     ]
    },
    {
     "name": "stderr",
     "output_type": "stream",
     "text": [
      "30it [05:59, 11.99s/it]"
     ]
    },
    {
     "name": "stdout",
     "output_type": "stream",
     "text": [
      "Processing: 30, J:\\Safegraph\\weekly_county_files\\weekly_patterns_2018_2021\\45\\45061\\45061_visitor_home_cbgs_2018-05-14_To_2018-05-21.csv\n"
     ]
    },
    {
     "name": "stderr",
     "output_type": "stream",
     "text": [
      "40it [07:59, 12.03s/it]"
     ]
    },
    {
     "name": "stdout",
     "output_type": "stream",
     "text": [
      "Processing: 40, J:\\Safegraph\\weekly_county_files\\weekly_patterns_2018_2021\\45\\45081\\45081_visitor_home_cbgs_2018-05-14_To_2018-05-21.csv\n"
     ]
    },
    {
     "name": "stderr",
     "output_type": "stream",
     "text": [
      "46it [09:12, 12.01s/it]\n"
     ]
    },
    {
     "name": "stdout",
     "output_type": "stream",
     "text": [
      "Processing: 2018-05-07, 61 / 209\n",
      "Reading weekly POI CSV file: J:\\Safegraph\\weekly_county_files\\weekly_patterns_2018_2021\\POI\\POI_2018-05-07_To_2018-05-14.csv\n",
      "Processing mobility matrix for the week, please wait several minutes: 2018-05-07... \n"
     ]
    },
    {
     "name": "stderr",
     "output_type": "stream",
     "text": [
      "0it [00:00, ?it/s]"
     ]
    },
    {
     "name": "stdout",
     "output_type": "stream",
     "text": [
      "Processing: 0, J:\\Safegraph\\weekly_county_files\\weekly_patterns_2018_2021\\45\\45001\\45001_visitor_home_cbgs_2018-05-07_To_2018-05-14.csv\n"
     ]
    },
    {
     "name": "stderr",
     "output_type": "stream",
     "text": [
      "10it [02:00, 12.02s/it]"
     ]
    },
    {
     "name": "stdout",
     "output_type": "stream",
     "text": [
      "Processing: 10, J:\\Safegraph\\weekly_county_files\\weekly_patterns_2018_2021\\45\\45021\\45021_visitor_home_cbgs_2018-05-07_To_2018-05-14.csv\n"
     ]
    },
    {
     "name": "stderr",
     "output_type": "stream",
     "text": [
      "20it [03:58, 11.81s/it]"
     ]
    },
    {
     "name": "stdout",
     "output_type": "stream",
     "text": [
      "Processing: 20, J:\\Safegraph\\weekly_county_files\\weekly_patterns_2018_2021\\45\\45041\\45041_visitor_home_cbgs_2018-05-07_To_2018-05-14.csv\n"
     ]
    },
    {
     "name": "stderr",
     "output_type": "stream",
     "text": [
      "30it [05:57, 11.87s/it]"
     ]
    },
    {
     "name": "stdout",
     "output_type": "stream",
     "text": [
      "Processing: 30, J:\\Safegraph\\weekly_county_files\\weekly_patterns_2018_2021\\45\\45061\\45061_visitor_home_cbgs_2018-05-07_To_2018-05-14.csv\n"
     ]
    },
    {
     "name": "stderr",
     "output_type": "stream",
     "text": [
      "40it [07:57, 12.07s/it]"
     ]
    },
    {
     "name": "stdout",
     "output_type": "stream",
     "text": [
      "Processing: 40, J:\\Safegraph\\weekly_county_files\\weekly_patterns_2018_2021\\45\\45081\\45081_visitor_home_cbgs_2018-05-07_To_2018-05-14.csv\n"
     ]
    },
    {
     "name": "stderr",
     "output_type": "stream",
     "text": [
      "46it [09:08, 11.93s/it]\n"
     ]
    },
    {
     "name": "stdout",
     "output_type": "stream",
     "text": [
      "Processing: 2018-04-30, 62 / 209\n",
      "Reading weekly POI CSV file: J:\\Safegraph\\weekly_county_files\\weekly_patterns_2018_2021\\POI\\POI_2018-04-30_To_2018-05-07.csv\n",
      "Processing mobility matrix for the week, please wait several minutes: 2018-04-30... \n"
     ]
    },
    {
     "name": "stderr",
     "output_type": "stream",
     "text": [
      "0it [00:00, ?it/s]"
     ]
    },
    {
     "name": "stdout",
     "output_type": "stream",
     "text": [
      "Processing: 0, J:\\Safegraph\\weekly_county_files\\weekly_patterns_2018_2021\\45\\45001\\45001_visitor_home_cbgs_2018-04-30_To_2018-05-07.csv\n"
     ]
    },
    {
     "name": "stderr",
     "output_type": "stream",
     "text": [
      "10it [02:01, 12.12s/it]"
     ]
    },
    {
     "name": "stdout",
     "output_type": "stream",
     "text": [
      "Processing: 10, J:\\Safegraph\\weekly_county_files\\weekly_patterns_2018_2021\\45\\45021\\45021_visitor_home_cbgs_2018-04-30_To_2018-05-07.csv\n"
     ]
    },
    {
     "name": "stderr",
     "output_type": "stream",
     "text": [
      "20it [04:01, 11.89s/it]"
     ]
    },
    {
     "name": "stdout",
     "output_type": "stream",
     "text": [
      "Processing: 20, J:\\Safegraph\\weekly_county_files\\weekly_patterns_2018_2021\\45\\45041\\45041_visitor_home_cbgs_2018-04-30_To_2018-05-07.csv\n"
     ]
    },
    {
     "name": "stderr",
     "output_type": "stream",
     "text": [
      "30it [06:03, 12.40s/it]"
     ]
    },
    {
     "name": "stdout",
     "output_type": "stream",
     "text": [
      "Processing: 30, J:\\Safegraph\\weekly_county_files\\weekly_patterns_2018_2021\\45\\45061\\45061_visitor_home_cbgs_2018-04-30_To_2018-05-07.csv\n"
     ]
    },
    {
     "name": "stderr",
     "output_type": "stream",
     "text": [
      "40it [08:03, 12.07s/it]"
     ]
    },
    {
     "name": "stdout",
     "output_type": "stream",
     "text": [
      "Processing: 40, J:\\Safegraph\\weekly_county_files\\weekly_patterns_2018_2021\\45\\45081\\45081_visitor_home_cbgs_2018-04-30_To_2018-05-07.csv\n"
     ]
    },
    {
     "name": "stderr",
     "output_type": "stream",
     "text": [
      "46it [09:16, 12.09s/it]\n"
     ]
    },
    {
     "name": "stdout",
     "output_type": "stream",
     "text": [
      "Processing: 2018-04-23, 63 / 209\n",
      "Reading weekly POI CSV file: J:\\Safegraph\\weekly_county_files\\weekly_patterns_2018_2021\\POI\\POI_2018-04-23_To_2018-04-30.csv\n",
      "Processing mobility matrix for the week, please wait several minutes: 2018-04-23... \n"
     ]
    },
    {
     "name": "stderr",
     "output_type": "stream",
     "text": [
      "0it [00:00, ?it/s]"
     ]
    },
    {
     "name": "stdout",
     "output_type": "stream",
     "text": [
      "Processing: 0, J:\\Safegraph\\weekly_county_files\\weekly_patterns_2018_2021\\45\\45001\\45001_visitor_home_cbgs_2018-04-23_To_2018-04-30.csv\n"
     ]
    },
    {
     "name": "stderr",
     "output_type": "stream",
     "text": [
      "10it [02:01, 12.18s/it]"
     ]
    },
    {
     "name": "stdout",
     "output_type": "stream",
     "text": [
      "Processing: 10, J:\\Safegraph\\weekly_county_files\\weekly_patterns_2018_2021\\45\\45021\\45021_visitor_home_cbgs_2018-04-23_To_2018-04-30.csv\n"
     ]
    },
    {
     "name": "stderr",
     "output_type": "stream",
     "text": [
      "20it [04:00, 11.89s/it]"
     ]
    },
    {
     "name": "stdout",
     "output_type": "stream",
     "text": [
      "Processing: 20, J:\\Safegraph\\weekly_county_files\\weekly_patterns_2018_2021\\45\\45041\\45041_visitor_home_cbgs_2018-04-23_To_2018-04-30.csv\n"
     ]
    },
    {
     "name": "stderr",
     "output_type": "stream",
     "text": [
      "30it [06:01, 12.01s/it]"
     ]
    },
    {
     "name": "stdout",
     "output_type": "stream",
     "text": [
      "Processing: 30, J:\\Safegraph\\weekly_county_files\\weekly_patterns_2018_2021\\45\\45061\\45061_visitor_home_cbgs_2018-04-23_To_2018-04-30.csv\n"
     ]
    },
    {
     "name": "stderr",
     "output_type": "stream",
     "text": [
      "40it [08:00, 12.04s/it]"
     ]
    },
    {
     "name": "stdout",
     "output_type": "stream",
     "text": [
      "Processing: 40, J:\\Safegraph\\weekly_county_files\\weekly_patterns_2018_2021\\45\\45081\\45081_visitor_home_cbgs_2018-04-23_To_2018-04-30.csv\n"
     ]
    },
    {
     "name": "stderr",
     "output_type": "stream",
     "text": [
      "46it [09:13, 12.02s/it]\n"
     ]
    },
    {
     "name": "stdout",
     "output_type": "stream",
     "text": [
      "Processing: 2018-04-16, 64 / 209\n",
      "Reading weekly POI CSV file: J:\\Safegraph\\weekly_county_files\\weekly_patterns_2018_2021\\POI\\POI_2018-04-16_To_2018-04-23.csv\n",
      "Processing mobility matrix for the week, please wait several minutes: 2018-04-16... \n"
     ]
    },
    {
     "name": "stderr",
     "output_type": "stream",
     "text": [
      "0it [00:00, ?it/s]"
     ]
    },
    {
     "name": "stdout",
     "output_type": "stream",
     "text": [
      "Processing: 0, J:\\Safegraph\\weekly_county_files\\weekly_patterns_2018_2021\\45\\45001\\45001_visitor_home_cbgs_2018-04-16_To_2018-04-23.csv\n"
     ]
    },
    {
     "name": "stderr",
     "output_type": "stream",
     "text": [
      "10it [02:01, 12.18s/it]"
     ]
    },
    {
     "name": "stdout",
     "output_type": "stream",
     "text": [
      "Processing: 10, J:\\Safegraph\\weekly_county_files\\weekly_patterns_2018_2021\\45\\45021\\45021_visitor_home_cbgs_2018-04-16_To_2018-04-23.csv\n"
     ]
    },
    {
     "name": "stderr",
     "output_type": "stream",
     "text": [
      "20it [04:01, 11.97s/it]"
     ]
    },
    {
     "name": "stdout",
     "output_type": "stream",
     "text": [
      "Processing: 20, J:\\Safegraph\\weekly_county_files\\weekly_patterns_2018_2021\\45\\45041\\45041_visitor_home_cbgs_2018-04-16_To_2018-04-23.csv\n"
     ]
    },
    {
     "name": "stderr",
     "output_type": "stream",
     "text": [
      "30it [06:02, 12.16s/it]"
     ]
    },
    {
     "name": "stdout",
     "output_type": "stream",
     "text": [
      "Processing: 30, J:\\Safegraph\\weekly_county_files\\weekly_patterns_2018_2021\\45\\45061\\45061_visitor_home_cbgs_2018-04-16_To_2018-04-23.csv\n"
     ]
    },
    {
     "name": "stderr",
     "output_type": "stream",
     "text": [
      "40it [08:01, 12.03s/it]"
     ]
    },
    {
     "name": "stdout",
     "output_type": "stream",
     "text": [
      "Processing: 40, J:\\Safegraph\\weekly_county_files\\weekly_patterns_2018_2021\\45\\45081\\45081_visitor_home_cbgs_2018-04-16_To_2018-04-23.csv\n"
     ]
    },
    {
     "name": "stderr",
     "output_type": "stream",
     "text": [
      "46it [09:14, 12.05s/it]\n"
     ]
    },
    {
     "name": "stdout",
     "output_type": "stream",
     "text": [
      "Processing: 2018-04-09, 65 / 209\n",
      "Reading weekly POI CSV file: J:\\Safegraph\\weekly_county_files\\weekly_patterns_2018_2021\\POI\\POI_2018-04-09_To_2018-04-16.csv\n",
      "Processing mobility matrix for the week, please wait several minutes: 2018-04-09... \n"
     ]
    },
    {
     "name": "stderr",
     "output_type": "stream",
     "text": [
      "0it [00:00, ?it/s]"
     ]
    },
    {
     "name": "stdout",
     "output_type": "stream",
     "text": [
      "Processing: 0, J:\\Safegraph\\weekly_county_files\\weekly_patterns_2018_2021\\45\\45001\\45001_visitor_home_cbgs_2018-04-09_To_2018-04-16.csv\n"
     ]
    },
    {
     "name": "stderr",
     "output_type": "stream",
     "text": [
      "10it [02:02, 12.10s/it]"
     ]
    },
    {
     "name": "stdout",
     "output_type": "stream",
     "text": [
      "Processing: 10, J:\\Safegraph\\weekly_county_files\\weekly_patterns_2018_2021\\45\\45021\\45021_visitor_home_cbgs_2018-04-09_To_2018-04-16.csv\n"
     ]
    },
    {
     "name": "stderr",
     "output_type": "stream",
     "text": [
      "20it [04:00, 11.82s/it]"
     ]
    },
    {
     "name": "stdout",
     "output_type": "stream",
     "text": [
      "Processing: 20, J:\\Safegraph\\weekly_county_files\\weekly_patterns_2018_2021\\45\\45041\\45041_visitor_home_cbgs_2018-04-09_To_2018-04-16.csv\n"
     ]
    },
    {
     "name": "stderr",
     "output_type": "stream",
     "text": [
      "30it [05:59, 11.89s/it]"
     ]
    },
    {
     "name": "stdout",
     "output_type": "stream",
     "text": [
      "Processing: 30, J:\\Safegraph\\weekly_county_files\\weekly_patterns_2018_2021\\45\\45061\\45061_visitor_home_cbgs_2018-04-09_To_2018-04-16.csv\n"
     ]
    },
    {
     "name": "stderr",
     "output_type": "stream",
     "text": [
      "40it [07:58, 11.97s/it]"
     ]
    },
    {
     "name": "stdout",
     "output_type": "stream",
     "text": [
      "Processing: 40, J:\\Safegraph\\weekly_county_files\\weekly_patterns_2018_2021\\45\\45081\\45081_visitor_home_cbgs_2018-04-09_To_2018-04-16.csv\n"
     ]
    },
    {
     "name": "stderr",
     "output_type": "stream",
     "text": [
      "46it [09:10, 11.96s/it]\n"
     ]
    },
    {
     "name": "stdout",
     "output_type": "stream",
     "text": [
      "Processing: 2018-04-02, 66 / 209\n",
      "Reading weekly POI CSV file: J:\\Safegraph\\weekly_county_files\\weekly_patterns_2018_2021\\POI\\POI_2018-04-02_To_2018-04-09.csv\n",
      "Processing mobility matrix for the week, please wait several minutes: 2018-04-02... \n"
     ]
    },
    {
     "name": "stderr",
     "output_type": "stream",
     "text": [
      "0it [00:00, ?it/s]"
     ]
    },
    {
     "name": "stdout",
     "output_type": "stream",
     "text": [
      "Processing: 0, J:\\Safegraph\\weekly_county_files\\weekly_patterns_2018_2021\\45\\45001\\45001_visitor_home_cbgs_2018-04-02_To_2018-04-09.csv\n"
     ]
    },
    {
     "name": "stderr",
     "output_type": "stream",
     "text": [
      "10it [02:01, 12.08s/it]"
     ]
    },
    {
     "name": "stdout",
     "output_type": "stream",
     "text": [
      "Processing: 10, J:\\Safegraph\\weekly_county_files\\weekly_patterns_2018_2021\\45\\45021\\45021_visitor_home_cbgs_2018-04-02_To_2018-04-09.csv\n"
     ]
    },
    {
     "name": "stderr",
     "output_type": "stream",
     "text": [
      "20it [04:01, 12.00s/it]"
     ]
    },
    {
     "name": "stdout",
     "output_type": "stream",
     "text": [
      "Processing: 20, J:\\Safegraph\\weekly_county_files\\weekly_patterns_2018_2021\\45\\45041\\45041_visitor_home_cbgs_2018-04-02_To_2018-04-09.csv\n"
     ]
    },
    {
     "name": "stderr",
     "output_type": "stream",
     "text": [
      "30it [06:01, 11.99s/it]"
     ]
    },
    {
     "name": "stdout",
     "output_type": "stream",
     "text": [
      "Processing: 30, J:\\Safegraph\\weekly_county_files\\weekly_patterns_2018_2021\\45\\45061\\45061_visitor_home_cbgs_2018-04-02_To_2018-04-09.csv\n"
     ]
    },
    {
     "name": "stderr",
     "output_type": "stream",
     "text": [
      "40it [08:00, 11.98s/it]"
     ]
    },
    {
     "name": "stdout",
     "output_type": "stream",
     "text": [
      "Processing: 40, J:\\Safegraph\\weekly_county_files\\weekly_patterns_2018_2021\\45\\45081\\45081_visitor_home_cbgs_2018-04-02_To_2018-04-09.csv\n"
     ]
    },
    {
     "name": "stderr",
     "output_type": "stream",
     "text": [
      "46it [09:13, 12.03s/it]\n"
     ]
    },
    {
     "name": "stdout",
     "output_type": "stream",
     "text": [
      "Processing: 2018-03-26, 67 / 209\n",
      "Reading weekly POI CSV file: J:\\Safegraph\\weekly_county_files\\weekly_patterns_2018_2021\\POI\\POI_2018-03-26_To_2018-04-02.csv\n",
      "Processing mobility matrix for the week, please wait several minutes: 2018-03-26... \n"
     ]
    },
    {
     "name": "stderr",
     "output_type": "stream",
     "text": [
      "0it [00:00, ?it/s]"
     ]
    },
    {
     "name": "stdout",
     "output_type": "stream",
     "text": [
      "Processing: 0, J:\\Safegraph\\weekly_county_files\\weekly_patterns_2018_2021\\45\\45001\\45001_visitor_home_cbgs_2018-03-26_To_2018-04-02.csv\n"
     ]
    },
    {
     "name": "stderr",
     "output_type": "stream",
     "text": [
      "10it [02:00, 12.01s/it]"
     ]
    },
    {
     "name": "stdout",
     "output_type": "stream",
     "text": [
      "Processing: 10, J:\\Safegraph\\weekly_county_files\\weekly_patterns_2018_2021\\45\\45021\\45021_visitor_home_cbgs_2018-03-26_To_2018-04-02.csv\n"
     ]
    },
    {
     "name": "stderr",
     "output_type": "stream",
     "text": [
      "20it [03:59, 11.89s/it]"
     ]
    },
    {
     "name": "stdout",
     "output_type": "stream",
     "text": [
      "Processing: 20, J:\\Safegraph\\weekly_county_files\\weekly_patterns_2018_2021\\45\\45041\\45041_visitor_home_cbgs_2018-03-26_To_2018-04-02.csv\n"
     ]
    },
    {
     "name": "stderr",
     "output_type": "stream",
     "text": [
      "30it [05:58, 11.94s/it]"
     ]
    },
    {
     "name": "stdout",
     "output_type": "stream",
     "text": [
      "Processing: 30, J:\\Safegraph\\weekly_county_files\\weekly_patterns_2018_2021\\45\\45061\\45061_visitor_home_cbgs_2018-03-26_To_2018-04-02.csv\n"
     ]
    },
    {
     "name": "stderr",
     "output_type": "stream",
     "text": [
      "40it [07:58, 12.11s/it]"
     ]
    },
    {
     "name": "stdout",
     "output_type": "stream",
     "text": [
      "Processing: 40, J:\\Safegraph\\weekly_county_files\\weekly_patterns_2018_2021\\45\\45081\\45081_visitor_home_cbgs_2018-03-26_To_2018-04-02.csv\n"
     ]
    },
    {
     "name": "stderr",
     "output_type": "stream",
     "text": [
      "46it [09:14, 12.06s/it]\n"
     ]
    },
    {
     "name": "stdout",
     "output_type": "stream",
     "text": [
      "Processing: 2018-03-19, 68 / 209\n",
      "Reading weekly POI CSV file: J:\\Safegraph\\weekly_county_files\\weekly_patterns_2018_2021\\POI\\POI_2018-03-19_To_2018-03-26.csv\n",
      "Processing mobility matrix for the week, please wait several minutes: 2018-03-19... \n"
     ]
    },
    {
     "name": "stderr",
     "output_type": "stream",
     "text": [
      "0it [00:00, ?it/s]"
     ]
    },
    {
     "name": "stdout",
     "output_type": "stream",
     "text": [
      "Processing: 0, J:\\Safegraph\\weekly_county_files\\weekly_patterns_2018_2021\\45\\45001\\45001_visitor_home_cbgs_2018-03-19_To_2018-03-26.csv\n"
     ]
    },
    {
     "name": "stderr",
     "output_type": "stream",
     "text": [
      "10it [02:06, 12.50s/it]"
     ]
    },
    {
     "name": "stdout",
     "output_type": "stream",
     "text": [
      "Processing: 10, J:\\Safegraph\\weekly_county_files\\weekly_patterns_2018_2021\\45\\45021\\45021_visitor_home_cbgs_2018-03-19_To_2018-03-26.csv\n"
     ]
    },
    {
     "name": "stderr",
     "output_type": "stream",
     "text": [
      "20it [04:09, 12.34s/it]"
     ]
    },
    {
     "name": "stdout",
     "output_type": "stream",
     "text": [
      "Processing: 20, J:\\Safegraph\\weekly_county_files\\weekly_patterns_2018_2021\\45\\45041\\45041_visitor_home_cbgs_2018-03-19_To_2018-03-26.csv\n"
     ]
    },
    {
     "name": "stderr",
     "output_type": "stream",
     "text": [
      "30it [06:12, 12.33s/it]"
     ]
    },
    {
     "name": "stdout",
     "output_type": "stream",
     "text": [
      "Processing: 30, J:\\Safegraph\\weekly_county_files\\weekly_patterns_2018_2021\\45\\45061\\45061_visitor_home_cbgs_2018-03-19_To_2018-03-26.csv\n"
     ]
    },
    {
     "name": "stderr",
     "output_type": "stream",
     "text": [
      "40it [08:17, 12.54s/it]"
     ]
    },
    {
     "name": "stdout",
     "output_type": "stream",
     "text": [
      "Processing: 40, J:\\Safegraph\\weekly_county_files\\weekly_patterns_2018_2021\\45\\45081\\45081_visitor_home_cbgs_2018-03-19_To_2018-03-26.csv\n"
     ]
    },
    {
     "name": "stderr",
     "output_type": "stream",
     "text": [
      "46it [09:31, 12.43s/it]\n"
     ]
    },
    {
     "name": "stdout",
     "output_type": "stream",
     "text": [
      "Processing: 2018-03-12, 69 / 209\n",
      "Reading weekly POI CSV file: J:\\Safegraph\\weekly_county_files\\weekly_patterns_2018_2021\\POI\\POI_2018-03-12_To_2018-03-19.csv\n",
      "Processing mobility matrix for the week, please wait several minutes: 2018-03-12... \n"
     ]
    },
    {
     "name": "stderr",
     "output_type": "stream",
     "text": [
      "0it [00:00, ?it/s]"
     ]
    },
    {
     "name": "stdout",
     "output_type": "stream",
     "text": [
      "Processing: 0, J:\\Safegraph\\weekly_county_files\\weekly_patterns_2018_2021\\45\\45001\\45001_visitor_home_cbgs_2018-03-12_To_2018-03-19.csv\n"
     ]
    },
    {
     "name": "stderr",
     "output_type": "stream",
     "text": [
      "10it [02:03, 12.30s/it]"
     ]
    },
    {
     "name": "stdout",
     "output_type": "stream",
     "text": [
      "Processing: 10, J:\\Safegraph\\weekly_county_files\\weekly_patterns_2018_2021\\45\\45021\\45021_visitor_home_cbgs_2018-03-12_To_2018-03-19.csv\n"
     ]
    },
    {
     "name": "stderr",
     "output_type": "stream",
     "text": [
      "20it [04:06, 12.39s/it]"
     ]
    },
    {
     "name": "stdout",
     "output_type": "stream",
     "text": [
      "Processing: 20, J:\\Safegraph\\weekly_county_files\\weekly_patterns_2018_2021\\45\\45041\\45041_visitor_home_cbgs_2018-03-12_To_2018-03-19.csv\n"
     ]
    },
    {
     "name": "stderr",
     "output_type": "stream",
     "text": [
      "30it [06:11, 12.24s/it]"
     ]
    },
    {
     "name": "stdout",
     "output_type": "stream",
     "text": [
      "Processing: 30, J:\\Safegraph\\weekly_county_files\\weekly_patterns_2018_2021\\45\\45061\\45061_visitor_home_cbgs_2018-03-12_To_2018-03-19.csv\n"
     ]
    },
    {
     "name": "stderr",
     "output_type": "stream",
     "text": [
      "40it [08:16, 12.78s/it]"
     ]
    },
    {
     "name": "stdout",
     "output_type": "stream",
     "text": [
      "Processing: 40, J:\\Safegraph\\weekly_county_files\\weekly_patterns_2018_2021\\45\\45081\\45081_visitor_home_cbgs_2018-03-12_To_2018-03-19.csv\n"
     ]
    },
    {
     "name": "stderr",
     "output_type": "stream",
     "text": [
      "46it [09:40, 12.62s/it]\n"
     ]
    },
    {
     "name": "stdout",
     "output_type": "stream",
     "text": [
      "Processing: 2018-03-05, 70 / 209\n",
      "Reading weekly POI CSV file: J:\\Safegraph\\weekly_county_files\\weekly_patterns_2018_2021\\POI\\POI_2018-03-05_To_2018-03-12.csv\n",
      "Processing mobility matrix for the week, please wait several minutes: 2018-03-05... \n"
     ]
    },
    {
     "name": "stderr",
     "output_type": "stream",
     "text": [
      "0it [00:00, ?it/s]"
     ]
    },
    {
     "name": "stdout",
     "output_type": "stream",
     "text": [
      "Processing: 0, J:\\Safegraph\\weekly_county_files\\weekly_patterns_2018_2021\\45\\45001\\45001_visitor_home_cbgs_2018-03-05_To_2018-03-12.csv\n"
     ]
    },
    {
     "name": "stderr",
     "output_type": "stream",
     "text": [
      "10it [02:05, 12.47s/it]"
     ]
    },
    {
     "name": "stdout",
     "output_type": "stream",
     "text": [
      "Processing: 10, J:\\Safegraph\\weekly_county_files\\weekly_patterns_2018_2021\\45\\45021\\45021_visitor_home_cbgs_2018-03-05_To_2018-03-12.csv\n"
     ]
    },
    {
     "name": "stderr",
     "output_type": "stream",
     "text": [
      "20it [04:08, 12.45s/it]"
     ]
    },
    {
     "name": "stdout",
     "output_type": "stream",
     "text": [
      "Processing: 20, J:\\Safegraph\\weekly_county_files\\weekly_patterns_2018_2021\\45\\45041\\45041_visitor_home_cbgs_2018-03-05_To_2018-03-12.csv\n"
     ]
    },
    {
     "name": "stderr",
     "output_type": "stream",
     "text": [
      "30it [06:15, 12.59s/it]"
     ]
    },
    {
     "name": "stdout",
     "output_type": "stream",
     "text": [
      "Processing: 30, J:\\Safegraph\\weekly_county_files\\weekly_patterns_2018_2021\\45\\45061\\45061_visitor_home_cbgs_2018-03-05_To_2018-03-12.csv\n"
     ]
    },
    {
     "name": "stderr",
     "output_type": "stream",
     "text": [
      "40it [08:21, 13.22s/it]"
     ]
    },
    {
     "name": "stdout",
     "output_type": "stream",
     "text": [
      "Processing: 40, J:\\Safegraph\\weekly_county_files\\weekly_patterns_2018_2021\\45\\45081\\45081_visitor_home_cbgs_2018-03-05_To_2018-03-12.csv\n"
     ]
    },
    {
     "name": "stderr",
     "output_type": "stream",
     "text": [
      "46it [09:42, 12.67s/it]\n"
     ]
    },
    {
     "name": "stdout",
     "output_type": "stream",
     "text": [
      "Processing: 2018-02-26, 71 / 209\n",
      "Reading weekly POI CSV file: J:\\Safegraph\\weekly_county_files\\weekly_patterns_2018_2021\\POI\\POI_2018-02-26_To_2018-03-05.csv\n",
      "Processing mobility matrix for the week, please wait several minutes: 2018-02-26... \n"
     ]
    },
    {
     "name": "stderr",
     "output_type": "stream",
     "text": [
      "0it [00:00, ?it/s]"
     ]
    },
    {
     "name": "stdout",
     "output_type": "stream",
     "text": [
      "Processing: 0, J:\\Safegraph\\weekly_county_files\\weekly_patterns_2018_2021\\45\\45001\\45001_visitor_home_cbgs_2018-02-26_To_2018-03-05.csv\n"
     ]
    },
    {
     "name": "stderr",
     "output_type": "stream",
     "text": [
      "10it [02:17, 13.84s/it]"
     ]
    },
    {
     "name": "stdout",
     "output_type": "stream",
     "text": [
      "Processing: 10, J:\\Safegraph\\weekly_county_files\\weekly_patterns_2018_2021\\45\\45021\\45021_visitor_home_cbgs_2018-02-26_To_2018-03-05.csv\n"
     ]
    },
    {
     "name": "stderr",
     "output_type": "stream",
     "text": [
      "20it [04:32, 13.49s/it]"
     ]
    },
    {
     "name": "stdout",
     "output_type": "stream",
     "text": [
      "Processing: 20, J:\\Safegraph\\weekly_county_files\\weekly_patterns_2018_2021\\45\\45041\\45041_visitor_home_cbgs_2018-02-26_To_2018-03-05.csv\n"
     ]
    },
    {
     "name": "stderr",
     "output_type": "stream",
     "text": [
      "30it [06:45, 13.17s/it]"
     ]
    },
    {
     "name": "stdout",
     "output_type": "stream",
     "text": [
      "Processing: 30, J:\\Safegraph\\weekly_county_files\\weekly_patterns_2018_2021\\45\\45061\\45061_visitor_home_cbgs_2018-02-26_To_2018-03-05.csv\n"
     ]
    },
    {
     "name": "stderr",
     "output_type": "stream",
     "text": [
      "40it [09:01, 13.29s/it]"
     ]
    },
    {
     "name": "stdout",
     "output_type": "stream",
     "text": [
      "Processing: 40, J:\\Safegraph\\weekly_county_files\\weekly_patterns_2018_2021\\45\\45081\\45081_visitor_home_cbgs_2018-02-26_To_2018-03-05.csv\n"
     ]
    },
    {
     "name": "stderr",
     "output_type": "stream",
     "text": [
      "46it [10:17, 13.42s/it]\n"
     ]
    },
    {
     "name": "stdout",
     "output_type": "stream",
     "text": [
      "Processing: 2018-02-19, 72 / 209\n",
      "Reading weekly POI CSV file: J:\\Safegraph\\weekly_county_files\\weekly_patterns_2018_2021\\POI\\POI_2018-02-19_To_2018-02-26.csv\n",
      "Processing mobility matrix for the week, please wait several minutes: 2018-02-19... \n"
     ]
    },
    {
     "name": "stderr",
     "output_type": "stream",
     "text": [
      "0it [00:00, ?it/s]"
     ]
    },
    {
     "name": "stdout",
     "output_type": "stream",
     "text": [
      "Processing: 0, J:\\Safegraph\\weekly_county_files\\weekly_patterns_2018_2021\\45\\45001\\45001_visitor_home_cbgs_2018-02-19_To_2018-02-26.csv\n"
     ]
    },
    {
     "name": "stderr",
     "output_type": "stream",
     "text": [
      "10it [02:12, 13.29s/it]"
     ]
    },
    {
     "name": "stdout",
     "output_type": "stream",
     "text": [
      "Processing: 10, J:\\Safegraph\\weekly_county_files\\weekly_patterns_2018_2021\\45\\45021\\45021_visitor_home_cbgs_2018-02-19_To_2018-02-26.csv\n"
     ]
    },
    {
     "name": "stderr",
     "output_type": "stream",
     "text": [
      "20it [04:24, 13.55s/it]"
     ]
    },
    {
     "name": "stdout",
     "output_type": "stream",
     "text": [
      "Processing: 20, J:\\Safegraph\\weekly_county_files\\weekly_patterns_2018_2021\\45\\45041\\45041_visitor_home_cbgs_2018-02-19_To_2018-02-26.csv\n"
     ]
    },
    {
     "name": "stderr",
     "output_type": "stream",
     "text": [
      "30it [06:37, 13.13s/it]"
     ]
    },
    {
     "name": "stdout",
     "output_type": "stream",
     "text": [
      "Processing: 30, J:\\Safegraph\\weekly_county_files\\weekly_patterns_2018_2021\\45\\45061\\45061_visitor_home_cbgs_2018-02-19_To_2018-02-26.csv\n"
     ]
    },
    {
     "name": "stderr",
     "output_type": "stream",
     "text": [
      "40it [08:48, 12.87s/it]"
     ]
    },
    {
     "name": "stdout",
     "output_type": "stream",
     "text": [
      "Processing: 40, J:\\Safegraph\\weekly_county_files\\weekly_patterns_2018_2021\\45\\45081\\45081_visitor_home_cbgs_2018-02-19_To_2018-02-26.csv\n"
     ]
    },
    {
     "name": "stderr",
     "output_type": "stream",
     "text": [
      "46it [10:02, 13.10s/it]\n"
     ]
    },
    {
     "name": "stdout",
     "output_type": "stream",
     "text": [
      "Processing: 2018-02-12, 73 / 209\n",
      "Reading weekly POI CSV file: J:\\Safegraph\\weekly_county_files\\weekly_patterns_2018_2021\\POI\\POI_2018-02-12_To_2018-02-19.csv\n",
      "Processing mobility matrix for the week, please wait several minutes: 2018-02-12... \n"
     ]
    },
    {
     "name": "stderr",
     "output_type": "stream",
     "text": [
      "0it [00:00, ?it/s]"
     ]
    },
    {
     "name": "stdout",
     "output_type": "stream",
     "text": [
      "Processing: 0, J:\\Safegraph\\weekly_county_files\\weekly_patterns_2018_2021\\45\\45001\\45001_visitor_home_cbgs_2018-02-12_To_2018-02-19.csv\n"
     ]
    },
    {
     "name": "stderr",
     "output_type": "stream",
     "text": [
      "10it [02:01, 12.04s/it]"
     ]
    },
    {
     "name": "stdout",
     "output_type": "stream",
     "text": [
      "Processing: 10, J:\\Safegraph\\weekly_county_files\\weekly_patterns_2018_2021\\45\\45021\\45021_visitor_home_cbgs_2018-02-12_To_2018-02-19.csv\n"
     ]
    },
    {
     "name": "stderr",
     "output_type": "stream",
     "text": [
      "20it [03:58, 11.64s/it]"
     ]
    },
    {
     "name": "stdout",
     "output_type": "stream",
     "text": [
      "Processing: 20, J:\\Safegraph\\weekly_county_files\\weekly_patterns_2018_2021\\45\\45041\\45041_visitor_home_cbgs_2018-02-12_To_2018-02-19.csv\n"
     ]
    },
    {
     "name": "stderr",
     "output_type": "stream",
     "text": [
      "30it [06:00, 12.11s/it]"
     ]
    },
    {
     "name": "stdout",
     "output_type": "stream",
     "text": [
      "Processing: 30, J:\\Safegraph\\weekly_county_files\\weekly_patterns_2018_2021\\45\\45061\\45061_visitor_home_cbgs_2018-02-12_To_2018-02-19.csv\n"
     ]
    },
    {
     "name": "stderr",
     "output_type": "stream",
     "text": [
      "40it [08:00, 12.11s/it]"
     ]
    },
    {
     "name": "stdout",
     "output_type": "stream",
     "text": [
      "Processing: 40, J:\\Safegraph\\weekly_county_files\\weekly_patterns_2018_2021\\45\\45081\\45081_visitor_home_cbgs_2018-02-12_To_2018-02-19.csv\n"
     ]
    },
    {
     "name": "stderr",
     "output_type": "stream",
     "text": [
      "46it [09:14, 12.05s/it]\n"
     ]
    },
    {
     "name": "stdout",
     "output_type": "stream",
     "text": [
      "Processing: 2018-02-05, 74 / 209\n",
      "Reading weekly POI CSV file: J:\\Safegraph\\weekly_county_files\\weekly_patterns_2018_2021\\POI\\POI_2018-02-05_To_2018-02-12.csv\n",
      "Processing mobility matrix for the week, please wait several minutes: 2018-02-05... \n"
     ]
    },
    {
     "name": "stderr",
     "output_type": "stream",
     "text": [
      "0it [00:00, ?it/s]"
     ]
    },
    {
     "name": "stdout",
     "output_type": "stream",
     "text": [
      "Processing: 0, J:\\Safegraph\\weekly_county_files\\weekly_patterns_2018_2021\\45\\45001\\45001_visitor_home_cbgs_2018-02-05_To_2018-02-12.csv\n"
     ]
    },
    {
     "name": "stderr",
     "output_type": "stream",
     "text": [
      "10it [01:58, 11.84s/it]"
     ]
    },
    {
     "name": "stdout",
     "output_type": "stream",
     "text": [
      "Processing: 10, J:\\Safegraph\\weekly_county_files\\weekly_patterns_2018_2021\\45\\45021\\45021_visitor_home_cbgs_2018-02-05_To_2018-02-12.csv\n"
     ]
    },
    {
     "name": "stderr",
     "output_type": "stream",
     "text": [
      "20it [03:58, 12.09s/it]"
     ]
    },
    {
     "name": "stdout",
     "output_type": "stream",
     "text": [
      "Processing: 20, J:\\Safegraph\\weekly_county_files\\weekly_patterns_2018_2021\\45\\45041\\45041_visitor_home_cbgs_2018-02-05_To_2018-02-12.csv\n"
     ]
    },
    {
     "name": "stderr",
     "output_type": "stream",
     "text": [
      "30it [05:55, 11.64s/it]"
     ]
    },
    {
     "name": "stdout",
     "output_type": "stream",
     "text": [
      "Processing: 30, J:\\Safegraph\\weekly_county_files\\weekly_patterns_2018_2021\\45\\45061\\45061_visitor_home_cbgs_2018-02-05_To_2018-02-12.csv\n"
     ]
    },
    {
     "name": "stderr",
     "output_type": "stream",
     "text": [
      "40it [07:51, 11.68s/it]"
     ]
    },
    {
     "name": "stdout",
     "output_type": "stream",
     "text": [
      "Processing: 40, J:\\Safegraph\\weekly_county_files\\weekly_patterns_2018_2021\\45\\45081\\45081_visitor_home_cbgs_2018-02-05_To_2018-02-12.csv\n"
     ]
    },
    {
     "name": "stderr",
     "output_type": "stream",
     "text": [
      "46it [09:01, 11.78s/it]\n"
     ]
    },
    {
     "name": "stdout",
     "output_type": "stream",
     "text": [
      "Processing: 2018-01-29, 75 / 209\n",
      "Reading weekly POI CSV file: J:\\Safegraph\\weekly_county_files\\weekly_patterns_2018_2021\\POI\\POI_2018-01-29_To_2018-02-05.csv\n",
      "Processing mobility matrix for the week, please wait several minutes: 2018-01-29... \n"
     ]
    },
    {
     "name": "stderr",
     "output_type": "stream",
     "text": [
      "0it [00:00, ?it/s]"
     ]
    },
    {
     "name": "stdout",
     "output_type": "stream",
     "text": [
      "Processing: 0, J:\\Safegraph\\weekly_county_files\\weekly_patterns_2018_2021\\45\\45001\\45001_visitor_home_cbgs_2018-01-29_To_2018-02-05.csv\n"
     ]
    },
    {
     "name": "stderr",
     "output_type": "stream",
     "text": [
      "10it [02:03, 12.04s/it]"
     ]
    },
    {
     "name": "stdout",
     "output_type": "stream",
     "text": [
      "Processing: 10, J:\\Safegraph\\weekly_county_files\\weekly_patterns_2018_2021\\45\\45021\\45021_visitor_home_cbgs_2018-01-29_To_2018-02-05.csv\n"
     ]
    },
    {
     "name": "stderr",
     "output_type": "stream",
     "text": [
      "20it [04:08, 12.59s/it]"
     ]
    },
    {
     "name": "stdout",
     "output_type": "stream",
     "text": [
      "Processing: 20, J:\\Safegraph\\weekly_county_files\\weekly_patterns_2018_2021\\45\\45041\\45041_visitor_home_cbgs_2018-01-29_To_2018-02-05.csv\n"
     ]
    },
    {
     "name": "stderr",
     "output_type": "stream",
     "text": [
      "30it [06:11, 12.18s/it]"
     ]
    },
    {
     "name": "stdout",
     "output_type": "stream",
     "text": [
      "Processing: 30, J:\\Safegraph\\weekly_county_files\\weekly_patterns_2018_2021\\45\\45061\\45061_visitor_home_cbgs_2018-01-29_To_2018-02-05.csv\n"
     ]
    },
    {
     "name": "stderr",
     "output_type": "stream",
     "text": [
      "40it [08:13, 12.32s/it]"
     ]
    },
    {
     "name": "stdout",
     "output_type": "stream",
     "text": [
      "Processing: 40, J:\\Safegraph\\weekly_county_files\\weekly_patterns_2018_2021\\45\\45081\\45081_visitor_home_cbgs_2018-01-29_To_2018-02-05.csv\n"
     ]
    },
    {
     "name": "stderr",
     "output_type": "stream",
     "text": [
      "46it [09:25, 12.30s/it]\n"
     ]
    },
    {
     "name": "stdout",
     "output_type": "stream",
     "text": [
      "Processing: 2018-01-22, 76 / 209\n",
      "Reading weekly POI CSV file: J:\\Safegraph\\weekly_county_files\\weekly_patterns_2018_2021\\POI\\POI_2018-01-22_To_2018-01-29.csv\n",
      "Processing mobility matrix for the week, please wait several minutes: 2018-01-22... \n"
     ]
    },
    {
     "name": "stderr",
     "output_type": "stream",
     "text": [
      "0it [00:00, ?it/s]"
     ]
    },
    {
     "name": "stdout",
     "output_type": "stream",
     "text": [
      "Processing: 0, J:\\Safegraph\\weekly_county_files\\weekly_patterns_2018_2021\\45\\45001\\45001_visitor_home_cbgs_2018-01-22_To_2018-01-29.csv\n"
     ]
    },
    {
     "name": "stderr",
     "output_type": "stream",
     "text": [
      "10it [02:00, 12.19s/it]"
     ]
    },
    {
     "name": "stdout",
     "output_type": "stream",
     "text": [
      "Processing: 10, J:\\Safegraph\\weekly_county_files\\weekly_patterns_2018_2021\\45\\45021\\45021_visitor_home_cbgs_2018-01-22_To_2018-01-29.csv\n"
     ]
    },
    {
     "name": "stderr",
     "output_type": "stream",
     "text": [
      "20it [04:07, 13.38s/it]"
     ]
    },
    {
     "name": "stdout",
     "output_type": "stream",
     "text": [
      "Processing: 20, J:\\Safegraph\\weekly_county_files\\weekly_patterns_2018_2021\\45\\45041\\45041_visitor_home_cbgs_2018-01-22_To_2018-01-29.csv\n"
     ]
    },
    {
     "name": "stderr",
     "output_type": "stream",
     "text": [
      "30it [06:13, 12.44s/it]"
     ]
    },
    {
     "name": "stdout",
     "output_type": "stream",
     "text": [
      "Processing: 30, J:\\Safegraph\\weekly_county_files\\weekly_patterns_2018_2021\\45\\45061\\45061_visitor_home_cbgs_2018-01-22_To_2018-01-29.csv\n"
     ]
    },
    {
     "name": "stderr",
     "output_type": "stream",
     "text": [
      "40it [08:19, 13.00s/it]"
     ]
    },
    {
     "name": "stdout",
     "output_type": "stream",
     "text": [
      "Processing: 40, J:\\Safegraph\\weekly_county_files\\weekly_patterns_2018_2021\\45\\45081\\45081_visitor_home_cbgs_2018-01-22_To_2018-01-29.csv\n"
     ]
    },
    {
     "name": "stderr",
     "output_type": "stream",
     "text": [
      "46it [09:34, 12.50s/it]\n"
     ]
    },
    {
     "name": "stdout",
     "output_type": "stream",
     "text": [
      "Processing: 2018-01-15, 77 / 209\n",
      "Reading weekly POI CSV file: J:\\Safegraph\\weekly_county_files\\weekly_patterns_2018_2021\\POI\\POI_2018-01-15_To_2018-01-22.csv\n",
      "Processing mobility matrix for the week, please wait several minutes: 2018-01-15... \n"
     ]
    },
    {
     "name": "stderr",
     "output_type": "stream",
     "text": [
      "0it [00:00, ?it/s]"
     ]
    },
    {
     "name": "stdout",
     "output_type": "stream",
     "text": [
      "Processing: 0, J:\\Safegraph\\weekly_county_files\\weekly_patterns_2018_2021\\45\\45001\\45001_visitor_home_cbgs_2018-01-15_To_2018-01-22.csv\n"
     ]
    },
    {
     "name": "stderr",
     "output_type": "stream",
     "text": [
      "10it [02:06, 12.97s/it]"
     ]
    },
    {
     "name": "stdout",
     "output_type": "stream",
     "text": [
      "Processing: 10, J:\\Safegraph\\weekly_county_files\\weekly_patterns_2018_2021\\45\\45021\\45021_visitor_home_cbgs_2018-01-15_To_2018-01-22.csv\n"
     ]
    },
    {
     "name": "stderr",
     "output_type": "stream",
     "text": [
      "20it [04:14, 12.41s/it]"
     ]
    },
    {
     "name": "stdout",
     "output_type": "stream",
     "text": [
      "Processing: 20, J:\\Safegraph\\weekly_county_files\\weekly_patterns_2018_2021\\45\\45041\\45041_visitor_home_cbgs_2018-01-15_To_2018-01-22.csv\n"
     ]
    },
    {
     "name": "stderr",
     "output_type": "stream",
     "text": [
      "30it [06:16, 12.20s/it]"
     ]
    },
    {
     "name": "stdout",
     "output_type": "stream",
     "text": [
      "Processing: 30, J:\\Safegraph\\weekly_county_files\\weekly_patterns_2018_2021\\45\\45061\\45061_visitor_home_cbgs_2018-01-15_To_2018-01-22.csv\n"
     ]
    },
    {
     "name": "stderr",
     "output_type": "stream",
     "text": [
      "40it [08:16, 11.99s/it]"
     ]
    },
    {
     "name": "stdout",
     "output_type": "stream",
     "text": [
      "Processing: 40, J:\\Safegraph\\weekly_county_files\\weekly_patterns_2018_2021\\45\\45081\\45081_visitor_home_cbgs_2018-01-15_To_2018-01-22.csv\n"
     ]
    },
    {
     "name": "stderr",
     "output_type": "stream",
     "text": [
      "46it [09:28, 12.36s/it]\n"
     ]
    },
    {
     "name": "stdout",
     "output_type": "stream",
     "text": [
      "Processing: 2018-01-08, 78 / 209\n",
      "Reading weekly POI CSV file: J:\\Safegraph\\weekly_county_files\\weekly_patterns_2018_2021\\POI\\POI_2018-01-08_To_2018-01-15.csv\n",
      "Processing mobility matrix for the week, please wait several minutes: 2018-01-08... \n"
     ]
    },
    {
     "name": "stderr",
     "output_type": "stream",
     "text": [
      "0it [00:00, ?it/s]"
     ]
    },
    {
     "name": "stdout",
     "output_type": "stream",
     "text": [
      "Processing: 0, J:\\Safegraph\\weekly_county_files\\weekly_patterns_2018_2021\\45\\45001\\45001_visitor_home_cbgs_2018-01-08_To_2018-01-15.csv\n"
     ]
    },
    {
     "name": "stderr",
     "output_type": "stream",
     "text": [
      "10it [02:00, 12.15s/it]"
     ]
    },
    {
     "name": "stdout",
     "output_type": "stream",
     "text": [
      "Processing: 10, J:\\Safegraph\\weekly_county_files\\weekly_patterns_2018_2021\\45\\45021\\45021_visitor_home_cbgs_2018-01-08_To_2018-01-15.csv\n"
     ]
    },
    {
     "name": "stderr",
     "output_type": "stream",
     "text": [
      "20it [04:01, 12.09s/it]"
     ]
    },
    {
     "name": "stdout",
     "output_type": "stream",
     "text": [
      "Processing: 20, J:\\Safegraph\\weekly_county_files\\weekly_patterns_2018_2021\\45\\45041\\45041_visitor_home_cbgs_2018-01-08_To_2018-01-15.csv\n"
     ]
    },
    {
     "name": "stderr",
     "output_type": "stream",
     "text": [
      "30it [06:02, 12.03s/it]"
     ]
    },
    {
     "name": "stdout",
     "output_type": "stream",
     "text": [
      "Processing: 30, J:\\Safegraph\\weekly_county_files\\weekly_patterns_2018_2021\\45\\45061\\45061_visitor_home_cbgs_2018-01-08_To_2018-01-15.csv\n"
     ]
    },
    {
     "name": "stderr",
     "output_type": "stream",
     "text": [
      "40it [08:04, 12.26s/it]"
     ]
    },
    {
     "name": "stdout",
     "output_type": "stream",
     "text": [
      "Processing: 40, J:\\Safegraph\\weekly_county_files\\weekly_patterns_2018_2021\\45\\45081\\45081_visitor_home_cbgs_2018-01-08_To_2018-01-15.csv\n"
     ]
    },
    {
     "name": "stderr",
     "output_type": "stream",
     "text": [
      "46it [09:16, 12.11s/it]\n"
     ]
    },
    {
     "name": "stdout",
     "output_type": "stream",
     "text": [
      "Processing: 2018-01-01, 79 / 209\n",
      "Reading weekly POI CSV file: J:\\Safegraph\\weekly_county_files\\weekly_patterns_2018_2021\\POI\\POI_2018-01-01_To_2018-01-08.csv\n",
      "Processing mobility matrix for the week, please wait several minutes: 2018-01-01... \n"
     ]
    },
    {
     "name": "stderr",
     "output_type": "stream",
     "text": [
      "0it [00:00, ?it/s]"
     ]
    },
    {
     "name": "stdout",
     "output_type": "stream",
     "text": [
      "Processing: 0, J:\\Safegraph\\weekly_county_files\\weekly_patterns_2018_2021\\45\\45001\\45001_visitor_home_cbgs_2018-01-01_To_2018-01-08.csv\n"
     ]
    },
    {
     "name": "stderr",
     "output_type": "stream",
     "text": [
      "10it [02:01, 12.04s/it]"
     ]
    },
    {
     "name": "stdout",
     "output_type": "stream",
     "text": [
      "Processing: 10, J:\\Safegraph\\weekly_county_files\\weekly_patterns_2018_2021\\45\\45021\\45021_visitor_home_cbgs_2018-01-01_To_2018-01-08.csv\n"
     ]
    },
    {
     "name": "stderr",
     "output_type": "stream",
     "text": [
      "20it [03:59, 11.69s/it]"
     ]
    },
    {
     "name": "stdout",
     "output_type": "stream",
     "text": [
      "Processing: 20, J:\\Safegraph\\weekly_county_files\\weekly_patterns_2018_2021\\45\\45041\\45041_visitor_home_cbgs_2018-01-01_To_2018-01-08.csv\n"
     ]
    },
    {
     "name": "stderr",
     "output_type": "stream",
     "text": [
      "30it [05:56, 11.64s/it]"
     ]
    },
    {
     "name": "stdout",
     "output_type": "stream",
     "text": [
      "Processing: 30, J:\\Safegraph\\weekly_county_files\\weekly_patterns_2018_2021\\45\\45061\\45061_visitor_home_cbgs_2018-01-01_To_2018-01-08.csv\n"
     ]
    },
    {
     "name": "stderr",
     "output_type": "stream",
     "text": [
      "40it [07:53, 11.72s/it]"
     ]
    },
    {
     "name": "stdout",
     "output_type": "stream",
     "text": [
      "Processing: 40, J:\\Safegraph\\weekly_county_files\\weekly_patterns_2018_2021\\45\\45081\\45081_visitor_home_cbgs_2018-01-01_To_2018-01-08.csv\n"
     ]
    },
    {
     "name": "stderr",
     "output_type": "stream",
     "text": [
      "46it [09:03, 11.81s/it]\n"
     ]
    }
   ],
   "source": [
    "from tqdm import tqdm\n",
    "\n",
    "save_dir = r'J:\\Safegraph\\weekly_county_files\\weekly_patterns_time_aggre_2018_2021'\n",
    "visits_dir = r'J:\\Safegraph\\weekly_county_files\\weekly_patterns_2018_2021'\n",
    "# target_state_code_list = ['45']\n",
    "\n",
    "for root, dirs, files in os.walk(r'J:\\Safegraph\\weekly_county_files\\weekly_patterns_2018_2021'):\n",
    "    target_state_code_list = dirs\n",
    "    break\n",
    "target_state_code_list.remove('45')\n",
    "target_state_code_list.remove('POI')\n",
    "\n",
    "# skip_weeks = ['2021-08-23']\n",
    "for weekly_idx, weekly_str in enumerate(weekly_strings[:]):\n",
    "    \n",
    "    if weekly_str in skip_weeks:\n",
    "        print(f\"Date {weekly_str} have skipped.\")\n",
    "        continue\n",
    "        \n",
    "    print(f\"Processing: {weekly_str}, {weekly_idx + 1} / {len(weekly_strings)}\" )\n",
    "    \n",
    "    weekly_csv = glob.glob(os.path.join(weekly_POI_dir, f'POI_{weekly_str}_To_*.csv'))[0]\n",
    "    print(f\"Reading weekly POI CSV file: {weekly_csv}\")    \n",
    "    weekly_POI_df = pd.read_csv(weekly_csv)\n",
    "    weekly_POI_df['mean_vistor_visits'] = weekly_POI_df['raw_visit_counts'] / weekly_POI_df['raw_visitor_counts']\n",
    "    \n",
    "    \n",
    "\n",
    "    visitor_home_csv_list, visitor_daytime_csv_list = get_visits_csv_files(\n",
    "                                                    target_state_code_list=target_state_code_list, \n",
    "                                                                          visits_dir=visits_dir, \n",
    "                                                                          start_date=weekly_str)\n",
    "    \n",
    "    print(f\"Processing mobility matrix for the week, please wait several minutes: {weekly_str}... \") \n",
    "    for idx, home_csv in tqdm(enumerate(visitor_home_csv_list[:])):\n",
    "        if idx % 10 == 0:\n",
    "            print(f\"Processing: {idx}, {home_csv}\")\n",
    "            \n",
    "        county_fips = os.path.basename(home_csv)[:5]\n",
    "        \n",
    "        visits_df = pd.read_csv(home_csv)\n",
    "        visits_POI_df = visits_df.merge(weekly_POI_df, left_on='placekey', right_on='placekey')\n",
    "        visits_core_POI_df = visits_POI_df.merge(core_POI_df, left_on='placekey', right_on='placekey')\n",
    "        \n",
    "        visits_core_POI_df['mean_vistor_visits'] = visits_core_POI_df['raw_visit_counts'] / visits_core_POI_df['raw_visitor_counts']\n",
    "        visits_core_POI_df['home_cbg_visits'] = visits_core_POI_df['mean_vistor_visits'] * visits_core_POI_df['visits']\n",
    "        visits_core_POI_df['home_cbg_visits_time'] = visits_core_POI_df['home_cbg_visits'] * visits_core_POI_df['median_dwell']\n",
    "\n",
    "        time_period = home_csv[-28:-4]\n",
    "        new_name = os.path.join(save_dir, county_fips[:2], county_fips, f\"{county_fips}_top_category_dwell_time_{time_period}.csv\")\n",
    "        os.makedirs(os.path.dirname(new_name), exist_ok=True)\n",
    "\n",
    "        top_category_demian_dwell_df = visits_core_POI_df.groupby(['visitor_home_cbgs', 'top_category'], as_index=False).agg(top_catetory_time=('home_cbg_visits_time', 'sum'))\n",
    "        top_category_demian_dwell_df.to_csv(new_name, index=False)    \n",
    "\n",
    "        new_name = os.path.join(save_dir, county_fips[:2], county_fips, f\"{county_fips}_sub_category_dwell_time_{time_period}.csv\")\n",
    "        os.makedirs(os.path.dirname(new_name), exist_ok=True)\n",
    "        sub_category_demian_dwell_df = visits_core_POI_df.groupby(['visitor_home_cbgs', 'sub_category'], as_index=False).agg(top_catetory_time=('median_dwell', 'sum'))\n",
    "        sub_category_demian_dwell_df.to_csv(new_name, index=False)\n"
   ]
  },
  {
   "cell_type": "code",
   "execution_count": 66,
   "id": "7c4e6884-6ab6-419f-8fcf-547911e5c6d6",
   "metadata": {},
   "outputs": [],
   "source": []
  }
 ],
 "metadata": {
  "kernelspec": {
   "display_name": "Google_street_view",
   "language": "python",
   "name": "google_street_view"
  },
  "language_info": {
   "codemirror_mode": {
    "name": "ipython",
    "version": 3
   },
   "file_extension": ".py",
   "mimetype": "text/x-python",
   "name": "python",
   "nbconvert_exporter": "python",
   "pygments_lexer": "ipython3",
   "version": "3.7.9"
  }
 },
 "nbformat": 4,
 "nbformat_minor": 5
}
