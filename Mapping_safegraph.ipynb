{
 "cells": [
  {
   "cell_type": "code",
   "execution_count": 3,
   "metadata": {
    "ExecuteTime": {
     "end_time": "2021-06-06T01:03:47.138817Z",
     "start_time": "2021-06-06T01:03:41.090780Z"
    },
    "scrolled": true
   },
   "outputs": [
    {
     "name": "stdout",
     "output_type": "stream",
     "text": [
      "Collecting plotly\n",
      "  Downloading plotly-5.3.1-py2.py3-none-any.whl (23.9 MB)\n",
      "\u001b[K     |████████████████████████████████| 23.9 MB 2.7 MB/s eta 0:00:01\n",
      "\u001b[?25hCollecting tenacity>=6.2.0\n",
      "  Downloading tenacity-8.0.1-py3-none-any.whl (24 kB)\n",
      "Requirement already satisfied: six in /home/gpu/.local/lib/python3.7/site-packages (from plotly) (1.12.0)\n",
      "Installing collected packages: tenacity, plotly\n",
      "Successfully installed plotly-5.3.1 tenacity-8.0.1\n",
      "Collecting plotly-geo\n",
      "  Downloading plotly_geo-1.0.0-py3-none-any.whl (23.7 MB)\n",
      "\u001b[K     |████████████████████████████████| 23.7 MB 2.7 MB/s eta 0:00:01\n",
      "\u001b[?25hInstalling collected packages: plotly-geo\n",
      "Successfully installed plotly-geo-1.0.0\n",
      "Requirement already up-to-date: plotly in /home/gpu/anaconda3/lib/python3.7/site-packages (5.3.1)\n",
      "Requirement already satisfied, skipping upgrade: six in /home/gpu/.local/lib/python3.7/site-packages (from plotly) (1.12.0)\n",
      "Requirement already satisfied, skipping upgrade: tenacity>=6.2.0 in /home/gpu/anaconda3/lib/python3.7/site-packages (from plotly) (8.0.1)\n"
     ]
    }
   ],
   "source": [
    "! pip install plotly\n",
    "! pip install plotly-geo\n",
    "! pip install -U plotly "
   ]
  },
  {
   "cell_type": "markdown",
   "metadata": {
    "ExecuteTime": {
     "end_time": "2021-06-06T03:06:30.677797Z",
     "start_time": "2021-06-06T03:06:30.672694Z"
    }
   },
   "source": [
    "# Load libraries"
   ]
  },
  {
   "cell_type": "code",
   "execution_count": 11,
   "metadata": {
    "ExecuteTime": {
     "end_time": "2021-06-06T03:12:53.104194Z",
     "start_time": "2021-06-06T03:12:53.099204Z"
    }
   },
   "outputs": [],
   "source": [
    "import geopandas as gpd\n",
    "from matplotlib import pyplot as plt\n",
    "import plotly\n",
    "\n",
    "import plotly.graph_objects as go\n",
    "import plotly.express as px\n",
    "import pandas as pd\n",
    "\n",
    "import plotly.figure_factory as ff\n",
    "import numpy as np\n",
    "import shapely"
   ]
  },
  {
   "cell_type": "code",
   "execution_count": 5,
   "metadata": {
    "ExecuteTime": {
     "end_time": "2021-06-06T03:07:02.332739Z",
     "start_time": "2021-06-06T03:06:32.424198Z"
    }
   },
   "outputs": [
    {
     "ename": "DriverError",
     "evalue": "E:\\USC_OneDrive\\OneDrive - University of South Carolina\\Research\\Park_visits\\vectors\\USA_Block_Group_Boundaries.shp: No such file or directory",
     "output_type": "error",
     "traceback": [
      "\u001b[0;31m---------------------------------------------------------------------------\u001b[0m",
      "\u001b[0;31mCPLE_OpenFailedError\u001b[0m                      Traceback (most recent call last)",
      "\u001b[0;32mfiona/_shim.pyx\u001b[0m in \u001b[0;36mfiona._shim.gdal_open_vector\u001b[0;34m()\u001b[0m\n",
      "\u001b[0;32mfiona/_err.pyx\u001b[0m in \u001b[0;36mfiona._err.exc_wrap_pointer\u001b[0;34m()\u001b[0m\n",
      "\u001b[0;31mCPLE_OpenFailedError\u001b[0m: E:\\USC_OneDrive\\OneDrive - University of South Carolina\\Research\\Park_visits\\vectors\\USA_Block_Group_Boundaries.shp: No such file or directory",
      "\nDuring handling of the above exception, another exception occurred:\n",
      "\u001b[0;31mDriverError\u001b[0m                               Traceback (most recent call last)",
      "\u001b[0;32m<ipython-input-5-befd6dbae951>\u001b[0m in \u001b[0;36m<module>\u001b[0;34m\u001b[0m\n\u001b[1;32m      1\u001b[0m \u001b[0mcbg_file\u001b[0m \u001b[0;34m=\u001b[0m \u001b[0;34mr'E:\\USC_OneDrive\\OneDrive - University of South Carolina\\Research\\Park_visits\\vectors\\USA_Block_Group_Boundaries.shp'\u001b[0m\u001b[0;34m\u001b[0m\u001b[0;34m\u001b[0m\u001b[0m\n\u001b[1;32m      2\u001b[0m \u001b[0;34m\u001b[0m\u001b[0m\n\u001b[0;32m----> 3\u001b[0;31m \u001b[0mcbg_gdf\u001b[0m \u001b[0;34m=\u001b[0m \u001b[0mgpd\u001b[0m\u001b[0;34m.\u001b[0m\u001b[0mread_file\u001b[0m\u001b[0;34m(\u001b[0m\u001b[0mcbg_file\u001b[0m\u001b[0;34m)\u001b[0m\u001b[0;34m\u001b[0m\u001b[0;34m\u001b[0m\u001b[0m\n\u001b[0m",
      "\u001b[0;32m~/anaconda3/lib/python3.7/site-packages/geopandas/io/file.py\u001b[0m in \u001b[0;36m_read_file\u001b[0;34m(filename, bbox, mask, rows, **kwargs)\u001b[0m\n\u001b[1;32m    158\u001b[0m \u001b[0;34m\u001b[0m\u001b[0m\n\u001b[1;32m    159\u001b[0m     \u001b[0;32mwith\u001b[0m \u001b[0mfiona_env\u001b[0m\u001b[0;34m(\u001b[0m\u001b[0;34m)\u001b[0m\u001b[0;34m:\u001b[0m\u001b[0;34m\u001b[0m\u001b[0;34m\u001b[0m\u001b[0m\n\u001b[0;32m--> 160\u001b[0;31m         \u001b[0;32mwith\u001b[0m \u001b[0mreader\u001b[0m\u001b[0;34m(\u001b[0m\u001b[0mpath_or_bytes\u001b[0m\u001b[0;34m,\u001b[0m \u001b[0;34m**\u001b[0m\u001b[0mkwargs\u001b[0m\u001b[0;34m)\u001b[0m \u001b[0;32mas\u001b[0m \u001b[0mfeatures\u001b[0m\u001b[0;34m:\u001b[0m\u001b[0;34m\u001b[0m\u001b[0;34m\u001b[0m\u001b[0m\n\u001b[0m\u001b[1;32m    161\u001b[0m \u001b[0;34m\u001b[0m\u001b[0m\n\u001b[1;32m    162\u001b[0m             \u001b[0;31m# In a future Fiona release the crs attribute of features will\u001b[0m\u001b[0;34m\u001b[0m\u001b[0;34m\u001b[0m\u001b[0;34m\u001b[0m\u001b[0m\n",
      "\u001b[0;32m~/anaconda3/lib/python3.7/site-packages/fiona/env.py\u001b[0m in \u001b[0;36mwrapper\u001b[0;34m(*args, **kwargs)\u001b[0m\n\u001b[1;32m    398\u001b[0m     \u001b[0;32mdef\u001b[0m \u001b[0mwrapper\u001b[0m\u001b[0;34m(\u001b[0m\u001b[0;34m*\u001b[0m\u001b[0margs\u001b[0m\u001b[0;34m,\u001b[0m \u001b[0;34m**\u001b[0m\u001b[0mkwargs\u001b[0m\u001b[0;34m)\u001b[0m\u001b[0;34m:\u001b[0m\u001b[0;34m\u001b[0m\u001b[0;34m\u001b[0m\u001b[0m\n\u001b[1;32m    399\u001b[0m         \u001b[0;32mif\u001b[0m \u001b[0mlocal\u001b[0m\u001b[0;34m.\u001b[0m\u001b[0m_env\u001b[0m\u001b[0;34m:\u001b[0m\u001b[0;34m\u001b[0m\u001b[0;34m\u001b[0m\u001b[0m\n\u001b[0;32m--> 400\u001b[0;31m             \u001b[0;32mreturn\u001b[0m \u001b[0mf\u001b[0m\u001b[0;34m(\u001b[0m\u001b[0;34m*\u001b[0m\u001b[0margs\u001b[0m\u001b[0;34m,\u001b[0m \u001b[0;34m**\u001b[0m\u001b[0mkwargs\u001b[0m\u001b[0;34m)\u001b[0m\u001b[0;34m\u001b[0m\u001b[0;34m\u001b[0m\u001b[0m\n\u001b[0m\u001b[1;32m    401\u001b[0m         \u001b[0;32melse\u001b[0m\u001b[0;34m:\u001b[0m\u001b[0;34m\u001b[0m\u001b[0;34m\u001b[0m\u001b[0m\n\u001b[1;32m    402\u001b[0m             \u001b[0;32mif\u001b[0m \u001b[0misinstance\u001b[0m\u001b[0;34m(\u001b[0m\u001b[0margs\u001b[0m\u001b[0;34m[\u001b[0m\u001b[0;36m0\u001b[0m\u001b[0;34m]\u001b[0m\u001b[0;34m,\u001b[0m \u001b[0mstr\u001b[0m\u001b[0;34m)\u001b[0m\u001b[0;34m:\u001b[0m\u001b[0;34m\u001b[0m\u001b[0;34m\u001b[0m\u001b[0m\n",
      "\u001b[0;32m~/anaconda3/lib/python3.7/site-packages/fiona/__init__.py\u001b[0m in \u001b[0;36mopen\u001b[0;34m(fp, mode, driver, schema, crs, encoding, layer, vfs, enabled_drivers, crs_wkt, **kwargs)\u001b[0m\n\u001b[1;32m    255\u001b[0m         \u001b[0;32mif\u001b[0m \u001b[0mmode\u001b[0m \u001b[0;32min\u001b[0m \u001b[0;34m(\u001b[0m\u001b[0;34m'a'\u001b[0m\u001b[0;34m,\u001b[0m \u001b[0;34m'r'\u001b[0m\u001b[0;34m)\u001b[0m\u001b[0;34m:\u001b[0m\u001b[0;34m\u001b[0m\u001b[0;34m\u001b[0m\u001b[0m\n\u001b[1;32m    256\u001b[0m             c = Collection(path, mode, driver=driver, encoding=encoding,\n\u001b[0;32m--> 257\u001b[0;31m                            layer=layer, enabled_drivers=enabled_drivers, **kwargs)\n\u001b[0m\u001b[1;32m    258\u001b[0m         \u001b[0;32melif\u001b[0m \u001b[0mmode\u001b[0m \u001b[0;34m==\u001b[0m \u001b[0;34m'w'\u001b[0m\u001b[0;34m:\u001b[0m\u001b[0;34m\u001b[0m\u001b[0;34m\u001b[0m\u001b[0m\n\u001b[1;32m    259\u001b[0m             \u001b[0;32mif\u001b[0m \u001b[0mschema\u001b[0m\u001b[0;34m:\u001b[0m\u001b[0;34m\u001b[0m\u001b[0;34m\u001b[0m\u001b[0m\n",
      "\u001b[0;32m~/anaconda3/lib/python3.7/site-packages/fiona/collection.py\u001b[0m in \u001b[0;36m__init__\u001b[0;34m(self, path, mode, driver, schema, crs, encoding, layer, vsi, archive, enabled_drivers, crs_wkt, ignore_fields, ignore_geometry, **kwargs)\u001b[0m\n\u001b[1;32m    160\u001b[0m             \u001b[0;32mif\u001b[0m \u001b[0mself\u001b[0m\u001b[0;34m.\u001b[0m\u001b[0mmode\u001b[0m \u001b[0;34m==\u001b[0m \u001b[0;34m'r'\u001b[0m\u001b[0;34m:\u001b[0m\u001b[0;34m\u001b[0m\u001b[0;34m\u001b[0m\u001b[0m\n\u001b[1;32m    161\u001b[0m                 \u001b[0mself\u001b[0m\u001b[0;34m.\u001b[0m\u001b[0msession\u001b[0m \u001b[0;34m=\u001b[0m \u001b[0mSession\u001b[0m\u001b[0;34m(\u001b[0m\u001b[0;34m)\u001b[0m\u001b[0;34m\u001b[0m\u001b[0;34m\u001b[0m\u001b[0m\n\u001b[0;32m--> 162\u001b[0;31m                 \u001b[0mself\u001b[0m\u001b[0;34m.\u001b[0m\u001b[0msession\u001b[0m\u001b[0;34m.\u001b[0m\u001b[0mstart\u001b[0m\u001b[0;34m(\u001b[0m\u001b[0mself\u001b[0m\u001b[0;34m,\u001b[0m \u001b[0;34m**\u001b[0m\u001b[0mkwargs\u001b[0m\u001b[0;34m)\u001b[0m\u001b[0;34m\u001b[0m\u001b[0;34m\u001b[0m\u001b[0m\n\u001b[0m\u001b[1;32m    163\u001b[0m             \u001b[0;32melif\u001b[0m \u001b[0mself\u001b[0m\u001b[0;34m.\u001b[0m\u001b[0mmode\u001b[0m \u001b[0;32min\u001b[0m \u001b[0;34m(\u001b[0m\u001b[0;34m'a'\u001b[0m\u001b[0;34m,\u001b[0m \u001b[0;34m'w'\u001b[0m\u001b[0;34m)\u001b[0m\u001b[0;34m:\u001b[0m\u001b[0;34m\u001b[0m\u001b[0;34m\u001b[0m\u001b[0m\n\u001b[1;32m    164\u001b[0m                 \u001b[0mself\u001b[0m\u001b[0;34m.\u001b[0m\u001b[0msession\u001b[0m \u001b[0;34m=\u001b[0m \u001b[0mWritingSession\u001b[0m\u001b[0;34m(\u001b[0m\u001b[0;34m)\u001b[0m\u001b[0;34m\u001b[0m\u001b[0;34m\u001b[0m\u001b[0m\n",
      "\u001b[0;32mfiona/ogrext.pyx\u001b[0m in \u001b[0;36mfiona.ogrext.Session.start\u001b[0;34m()\u001b[0m\n",
      "\u001b[0;32mfiona/_shim.pyx\u001b[0m in \u001b[0;36mfiona._shim.gdal_open_vector\u001b[0;34m()\u001b[0m\n",
      "\u001b[0;31mDriverError\u001b[0m: E:\\USC_OneDrive\\OneDrive - University of South Carolina\\Research\\Park_visits\\vectors\\USA_Block_Group_Boundaries.shp: No such file or directory"
     ]
    }
   ],
   "source": [
    "cbg_file = r'E:\\USC_OneDrive\\OneDrive - University of South Carolina\\Research\\Park_visits\\vectors\\USA_Block_Group_Boundaries.shp'\n",
    "\n",
    "cbg_gdf = gpd.read_file(cbg_file)"
   ]
  },
  {
   "cell_type": "code",
   "execution_count": 6,
   "metadata": {
    "ExecuteTime": {
     "end_time": "2021-06-06T03:07:55.999367Z",
     "start_time": "2021-06-06T03:07:02.332739Z"
    },
    "scrolled": true
   },
   "outputs": [
    {
     "ename": "NameError",
     "evalue": "name 'cbg_gdf' is not defined",
     "output_type": "error",
     "traceback": [
      "\u001b[0;31m---------------------------------------------------------------------------\u001b[0m",
      "\u001b[0;31mNameError\u001b[0m                                 Traceback (most recent call last)",
      "\u001b[0;32m<ipython-input-6-d1d4ed0fe89b>\u001b[0m in \u001b[0;36m<module>\u001b[0;34m\u001b[0m\n\u001b[0;32m----> 1\u001b[0;31m \u001b[0mcbg_gdf\u001b[0m\u001b[0;34m.\u001b[0m\u001b[0mplot\u001b[0m\u001b[0;34m(\u001b[0m\u001b[0;34m)\u001b[0m\u001b[0;34m\u001b[0m\u001b[0;34m\u001b[0m\u001b[0m\n\u001b[0m",
      "\u001b[0;31mNameError\u001b[0m: name 'cbg_gdf' is not defined"
     ]
    }
   ],
   "source": [
    "cbg_gdf.plot()"
   ]
  },
  {
   "cell_type": "code",
   "execution_count": 8,
   "metadata": {
    "ExecuteTime": {
     "end_time": "2021-06-06T03:08:05.273815Z",
     "start_time": "2021-06-06T03:08:02.476001Z"
    }
   },
   "outputs": [
    {
     "name": "stderr",
     "output_type": "stream",
     "text": [
      "<ipython-input-8-2c9d60ba308c>:1: UserWarning: Geometry is in a geographic CRS. Results from 'centroid' are likely incorrect. Use 'GeoSeries.to_crs()' to re-project geometries to a projected CRS before this operation.\n",
      "\n",
      "  cbg_gdf[\"centroid\"] = cbg_gdf[\"geometry\"].centroid\n"
     ]
    }
   ],
   "source": [
    "cbg_gdf[\"centroid\"] = cbg_gdf[\"geometry\"].centroid"
   ]
  },
  {
   "cell_type": "code",
   "execution_count": 9,
   "metadata": {
    "ExecuteTime": {
     "end_time": "2021-06-06T03:08:09.506699Z",
     "start_time": "2021-06-06T03:08:05.974944Z"
    },
    "scrolled": true
   },
   "outputs": [
    {
     "data": {
      "text/plain": [
       "0         25.869012\n",
       "1         21.170714\n",
       "2         21.262815\n",
       "3         21.267758\n",
       "4         21.262688\n",
       "            ...    \n",
       "219826    46.829819\n",
       "219827    46.974708\n",
       "219828    46.774227\n",
       "219829    47.250169\n",
       "219830    52.371811\n",
       "Name: lat, Length: 219831, dtype: float64"
      ]
     },
     "execution_count": 9,
     "metadata": {},
     "output_type": "execute_result"
    }
   ],
   "source": [
    "cbg_gdf[\"lon\"] = cbg_gdf[\"centroid\"].x\n",
    "cbg_gdf[\"lat\"] = cbg_gdf[\"centroid\"].y\n",
    "cbg_gdf[\"lat\"]"
   ]
  },
  {
   "cell_type": "code",
   "execution_count": 10,
   "metadata": {
    "ExecuteTime": {
     "end_time": "2021-06-06T03:08:10.061716Z",
     "start_time": "2021-06-06T03:08:10.058723Z"
    }
   },
   "outputs": [],
   "source": [
    "edges_file = r'H:\\Safegraph\\Monthly Places Patterns (aka Patterns) Dec 2020 - Present\\patterns\\2021\\05\\05\\02\\monthly_pattern_to_present_edges_2021-05-05.csv'"
   ]
  },
  {
   "cell_type": "code",
   "execution_count": 11,
   "metadata": {
    "ExecuteTime": {
     "end_time": "2021-06-06T03:08:48.530643Z",
     "start_time": "2021-06-06T03:08:12.923668Z"
    },
    "scrolled": true
   },
   "outputs": [
    {
     "name": "stderr",
     "output_type": "stream",
     "text": [
      "C:\\ProgramData\\Anaconda3\\lib\\site-packages\\IPython\\core\\interactiveshell.py:3071: DtypeWarning: Columns (1) have mixed types.Specify dtype option on import or set low_memory=False.\n",
      "  has_raised = await self.run_ast_nodes(code_ast.body, cell_name,\n"
     ]
    },
    {
     "data": {
      "text/html": [
       "<div>\n",
       "<style scoped>\n",
       "    .dataframe tbody tr th:only-of-type {\n",
       "        vertical-align: middle;\n",
       "    }\n",
       "\n",
       "    .dataframe tbody tr th {\n",
       "        vertical-align: top;\n",
       "    }\n",
       "\n",
       "    .dataframe thead th {\n",
       "        text-align: right;\n",
       "    }\n",
       "</style>\n",
       "<table border=\"1\" class=\"dataframe\">\n",
       "  <thead>\n",
       "    <tr style=\"text-align: right;\">\n",
       "      <th></th>\n",
       "      <th>placekey</th>\n",
       "      <th>visitor_home_cbgs</th>\n",
       "      <th>visits</th>\n",
       "    </tr>\n",
       "  </thead>\n",
       "  <tbody>\n",
       "    <tr>\n",
       "      <th>0</th>\n",
       "      <td>227-222@5pw-3bs-p7q</td>\n",
       "      <td>551332034063</td>\n",
       "      <td>4</td>\n",
       "    </tr>\n",
       "    <tr>\n",
       "      <th>1</th>\n",
       "      <td>227-222@5pw-3bs-p7q</td>\n",
       "      <td>170318125003</td>\n",
       "      <td>4</td>\n",
       "    </tr>\n",
       "    <tr>\n",
       "      <th>2</th>\n",
       "      <td>222-222@8f3-4ts-pvz</td>\n",
       "      <td>220419503002</td>\n",
       "      <td>8</td>\n",
       "    </tr>\n",
       "    <tr>\n",
       "      <th>3</th>\n",
       "      <td>222-222@8f3-4ts-pvz</td>\n",
       "      <td>220419503001</td>\n",
       "      <td>6</td>\n",
       "    </tr>\n",
       "    <tr>\n",
       "      <th>4</th>\n",
       "      <td>222-222@8f3-4ts-pvz</td>\n",
       "      <td>220419506001</td>\n",
       "      <td>6</td>\n",
       "    </tr>\n",
       "    <tr>\n",
       "      <th>...</th>\n",
       "      <td>...</td>\n",
       "      <td>...</td>\n",
       "      <td>...</td>\n",
       "    </tr>\n",
       "    <tr>\n",
       "      <th>82602676</th>\n",
       "      <td>222-222@5xc-qyx-fs5</td>\n",
       "      <td>410670328001</td>\n",
       "      <td>4</td>\n",
       "    </tr>\n",
       "    <tr>\n",
       "      <th>82602677</th>\n",
       "      <td>223-222@8gb-cpy-swk</td>\n",
       "      <td>471779308003</td>\n",
       "      <td>5</td>\n",
       "    </tr>\n",
       "    <tr>\n",
       "      <th>82602678</th>\n",
       "      <td>223-222@8gb-cpy-swk</td>\n",
       "      <td>471779302001</td>\n",
       "      <td>4</td>\n",
       "    </tr>\n",
       "    <tr>\n",
       "      <th>82602679</th>\n",
       "      <td>223-222@8gb-cpy-swk</td>\n",
       "      <td>471779301001</td>\n",
       "      <td>4</td>\n",
       "    </tr>\n",
       "    <tr>\n",
       "      <th>82602680</th>\n",
       "      <td>223-222@8gb-cpy-swk</td>\n",
       "      <td>470159602001</td>\n",
       "      <td>4</td>\n",
       "    </tr>\n",
       "  </tbody>\n",
       "</table>\n",
       "<p>82602681 rows × 3 columns</p>\n",
       "</div>"
      ],
      "text/plain": [
       "                     placekey visitor_home_cbgs  visits\n",
       "0         227-222@5pw-3bs-p7q      551332034063       4\n",
       "1         227-222@5pw-3bs-p7q      170318125003       4\n",
       "2         222-222@8f3-4ts-pvz      220419503002       8\n",
       "3         222-222@8f3-4ts-pvz      220419503001       6\n",
       "4         222-222@8f3-4ts-pvz      220419506001       6\n",
       "...                       ...               ...     ...\n",
       "82602676  222-222@5xc-qyx-fs5      410670328001       4\n",
       "82602677  223-222@8gb-cpy-swk      471779308003       5\n",
       "82602678  223-222@8gb-cpy-swk      471779302001       4\n",
       "82602679  223-222@8gb-cpy-swk      471779301001       4\n",
       "82602680  223-222@8gb-cpy-swk      470159602001       4\n",
       "\n",
       "[82602681 rows x 3 columns]"
      ]
     },
     "execution_count": 11,
     "metadata": {},
     "output_type": "execute_result"
    }
   ],
   "source": [
    "edge_df = pd.read_csv(edges_file)\n",
    "edge_df"
   ]
  },
  {
   "cell_type": "code",
   "execution_count": 12,
   "metadata": {
    "ExecuteTime": {
     "end_time": "2021-06-06T03:09:09.184281Z",
     "start_time": "2021-06-06T03:08:48.531641Z"
    }
   },
   "outputs": [],
   "source": [
    "g1 = edge_df.groupby(\"visitor_home_cbgs\", as_index=False).sum()"
   ]
  },
  {
   "cell_type": "code",
   "execution_count": 13,
   "metadata": {
    "ExecuteTime": {
     "end_time": "2021-06-06T03:09:09.258753Z",
     "start_time": "2021-06-06T03:09:09.185307Z"
    }
   },
   "outputs": [
    {
     "data": {
      "text/html": [
       "<div>\n",
       "<style scoped>\n",
       "    .dataframe tbody tr th:only-of-type {\n",
       "        vertical-align: middle;\n",
       "    }\n",
       "\n",
       "    .dataframe tbody tr th {\n",
       "        vertical-align: top;\n",
       "    }\n",
       "\n",
       "    .dataframe thead th {\n",
       "        text-align: right;\n",
       "    }\n",
       "</style>\n",
       "<table border=\"1\" class=\"dataframe\">\n",
       "  <thead>\n",
       "    <tr style=\"text-align: right;\">\n",
       "      <th></th>\n",
       "      <th>visitor_home_cbgs</th>\n",
       "      <th>visits</th>\n",
       "    </tr>\n",
       "  </thead>\n",
       "  <tbody>\n",
       "    <tr>\n",
       "      <th>134165</th>\n",
       "      <td>360610081004</td>\n",
       "      <td>4</td>\n",
       "    </tr>\n",
       "    <tr>\n",
       "      <th>31400</th>\n",
       "      <td>60952532052</td>\n",
       "      <td>4</td>\n",
       "    </tr>\n",
       "    <tr>\n",
       "      <th>134946</th>\n",
       "      <td>360610297000</td>\n",
       "      <td>4</td>\n",
       "    </tr>\n",
       "    <tr>\n",
       "      <th>134947</th>\n",
       "      <td>360610297001</td>\n",
       "      <td>4</td>\n",
       "    </tr>\n",
       "    <tr>\n",
       "      <th>434050</th>\n",
       "      <td>720310502312</td>\n",
       "      <td>4</td>\n",
       "    </tr>\n",
       "    <tr>\n",
       "      <th>...</th>\n",
       "      <td>...</td>\n",
       "      <td>...</td>\n",
       "    </tr>\n",
       "    <tr>\n",
       "      <th>264488</th>\n",
       "      <td>120950167301</td>\n",
       "      <td>84217</td>\n",
       "    </tr>\n",
       "    <tr>\n",
       "      <th>405114</th>\n",
       "      <td>481576732002</td>\n",
       "      <td>95431</td>\n",
       "    </tr>\n",
       "    <tr>\n",
       "      <th>264527</th>\n",
       "      <td>120950171032</td>\n",
       "      <td>99123</td>\n",
       "    </tr>\n",
       "    <tr>\n",
       "      <th>405100</th>\n",
       "      <td>481576729001</td>\n",
       "      <td>109075</td>\n",
       "    </tr>\n",
       "    <tr>\n",
       "      <th>405108</th>\n",
       "      <td>481576731011</td>\n",
       "      <td>136180</td>\n",
       "    </tr>\n",
       "  </tbody>\n",
       "</table>\n",
       "<p>435908 rows × 2 columns</p>\n",
       "</div>"
      ],
      "text/plain": [
       "       visitor_home_cbgs  visits\n",
       "134165      360610081004       4\n",
       "31400        60952532052       4\n",
       "134946      360610297000       4\n",
       "134947      360610297001       4\n",
       "434050      720310502312       4\n",
       "...                  ...     ...\n",
       "264488      120950167301   84217\n",
       "405114      481576732002   95431\n",
       "264527      120950171032   99123\n",
       "405100      481576729001  109075\n",
       "405108      481576731011  136180\n",
       "\n",
       "[435908 rows x 2 columns]"
      ]
     },
     "execution_count": 13,
     "metadata": {},
     "output_type": "execute_result"
    }
   ],
   "source": [
    "g1.sort_values(\"visits\")"
   ]
  },
  {
   "cell_type": "code",
   "execution_count": 16,
   "metadata": {
    "ExecuteTime": {
     "end_time": "2021-06-06T03:09:23.681495Z",
     "start_time": "2021-06-06T03:09:23.633623Z"
    }
   },
   "outputs": [
    {
     "data": {
      "text/plain": [
       "456033796"
      ]
     },
     "execution_count": 16,
     "metadata": {},
     "output_type": "execute_result"
    }
   ],
   "source": [
    "edge_df['visits'].sum()"
   ]
  },
  {
   "cell_type": "code",
   "execution_count": 17,
   "metadata": {
    "ExecuteTime": {
     "end_time": "2021-06-06T03:09:27.761721Z",
     "start_time": "2021-06-06T03:09:27.688684Z"
    }
   },
   "outputs": [],
   "source": [
    "assert(edge_df['visits'].sum() == g1['visits'].sum())"
   ]
  },
  {
   "cell_type": "markdown",
   "metadata": {
    "ExecuteTime": {
     "end_time": "2021-06-06T02:10:32.218741Z",
     "start_time": "2021-06-06T02:10:32.215729Z"
    }
   },
   "source": [
    "# load home panel"
   ]
  },
  {
   "cell_type": "code",
   "execution_count": 21,
   "metadata": {
    "ExecuteTime": {
     "end_time": "2021-06-06T03:11:30.784495Z",
     "start_time": "2021-06-06T03:11:01.270789Z"
    }
   },
   "outputs": [
    {
     "data": {
      "text/html": [
       "<div>\n",
       "<style scoped>\n",
       "    .dataframe tbody tr th:only-of-type {\n",
       "        vertical-align: middle;\n",
       "    }\n",
       "\n",
       "    .dataframe tbody tr th {\n",
       "        vertical-align: top;\n",
       "    }\n",
       "\n",
       "    .dataframe thead th {\n",
       "        text-align: right;\n",
       "    }\n",
       "</style>\n",
       "<table border=\"1\" class=\"dataframe\">\n",
       "  <thead>\n",
       "    <tr style=\"text-align: right;\">\n",
       "      <th></th>\n",
       "      <th>placekey</th>\n",
       "      <th>visitor_home_cbgs</th>\n",
       "      <th>visits</th>\n",
       "    </tr>\n",
       "  </thead>\n",
       "  <tbody>\n",
       "    <tr>\n",
       "      <th>364</th>\n",
       "      <td>223-222@64h-vkv-f2k</td>\n",
       "      <td>450150207252</td>\n",
       "      <td>4</td>\n",
       "    </tr>\n",
       "    <tr>\n",
       "      <th>1236</th>\n",
       "      <td>224-223@8gd-q65-ckf</td>\n",
       "      <td>450450028121</td>\n",
       "      <td>4</td>\n",
       "    </tr>\n",
       "    <tr>\n",
       "      <th>1431</th>\n",
       "      <td>223-222@8gf-jp6-qvf</td>\n",
       "      <td>450910614011</td>\n",
       "      <td>7</td>\n",
       "    </tr>\n",
       "    <tr>\n",
       "      <th>1432</th>\n",
       "      <td>223-222@8gf-jp6-qvf</td>\n",
       "      <td>450910619003</td>\n",
       "      <td>5</td>\n",
       "    </tr>\n",
       "    <tr>\n",
       "      <th>1433</th>\n",
       "      <td>223-222@8gf-jp6-qvf</td>\n",
       "      <td>450910616012</td>\n",
       "      <td>4</td>\n",
       "    </tr>\n",
       "    <tr>\n",
       "      <th>...</th>\n",
       "      <td>...</td>\n",
       "      <td>...</td>\n",
       "      <td>...</td>\n",
       "    </tr>\n",
       "    <tr>\n",
       "      <th>82574299</th>\n",
       "      <td>224-222@8gq-wg4-cwk</td>\n",
       "      <td>450910609073</td>\n",
       "      <td>4</td>\n",
       "    </tr>\n",
       "    <tr>\n",
       "      <th>82574749</th>\n",
       "      <td>zzy-224@645-9t9-swk</td>\n",
       "      <td>450510505002</td>\n",
       "      <td>4</td>\n",
       "    </tr>\n",
       "    <tr>\n",
       "      <th>82574751</th>\n",
       "      <td>zzy-224@645-9t9-swk</td>\n",
       "      <td>450570112012</td>\n",
       "      <td>4</td>\n",
       "    </tr>\n",
       "    <tr>\n",
       "      <th>82574756</th>\n",
       "      <td>zzy-224@645-9t9-swk</td>\n",
       "      <td>450510602091</td>\n",
       "      <td>4</td>\n",
       "    </tr>\n",
       "    <tr>\n",
       "      <th>82575275</th>\n",
       "      <td>225-222@8gg-stz-cyv</td>\n",
       "      <td>450599201031</td>\n",
       "      <td>4</td>\n",
       "    </tr>\n",
       "  </tbody>\n",
       "</table>\n",
       "<p>1692515 rows × 3 columns</p>\n",
       "</div>"
      ],
      "text/plain": [
       "                     placekey visitor_home_cbgs  visits\n",
       "364       223-222@64h-vkv-f2k      450150207252       4\n",
       "1236      224-223@8gd-q65-ckf      450450028121       4\n",
       "1431      223-222@8gf-jp6-qvf      450910614011       7\n",
       "1432      223-222@8gf-jp6-qvf      450910619003       5\n",
       "1433      223-222@8gf-jp6-qvf      450910616012       4\n",
       "...                       ...               ...     ...\n",
       "82574299  224-222@8gq-wg4-cwk      450910609073       4\n",
       "82574749  zzy-224@645-9t9-swk      450510505002       4\n",
       "82574751  zzy-224@645-9t9-swk      450570112012       4\n",
       "82574756  zzy-224@645-9t9-swk      450510602091       4\n",
       "82575275  225-222@8gg-stz-cyv      450599201031       4\n",
       "\n",
       "[1692515 rows x 3 columns]"
      ]
     },
     "execution_count": 21,
     "metadata": {},
     "output_type": "execute_result"
    }
   ],
   "source": [
    "len(edge_df[edge_df['visitor_home_cbgs'].str[:2] == \"45\"])"
   ]
  },
  {
   "cell_type": "code",
   "execution_count": 26,
   "metadata": {
    "ExecuteTime": {
     "end_time": "2021-06-06T03:12:59.276561Z",
     "start_time": "2021-06-06T03:12:59.198531Z"
    },
    "scrolled": true
   },
   "outputs": [
    {
     "data": {
      "text/html": [
       "<div>\n",
       "<style scoped>\n",
       "    .dataframe tbody tr th:only-of-type {\n",
       "        vertical-align: middle;\n",
       "    }\n",
       "\n",
       "    .dataframe tbody tr th {\n",
       "        vertical-align: top;\n",
       "    }\n",
       "\n",
       "    .dataframe thead th {\n",
       "        text-align: right;\n",
       "    }\n",
       "</style>\n",
       "<table border=\"1\" class=\"dataframe\">\n",
       "  <thead>\n",
       "    <tr style=\"text-align: right;\">\n",
       "      <th></th>\n",
       "      <th>year</th>\n",
       "      <th>month</th>\n",
       "      <th>state</th>\n",
       "      <th>census_block_group</th>\n",
       "      <th>number_devices_residing</th>\n",
       "    </tr>\n",
       "  </thead>\n",
       "  <tbody>\n",
       "    <tr>\n",
       "      <th>0</th>\n",
       "      <td>2021</td>\n",
       "      <td>4</td>\n",
       "      <td>ak</td>\n",
       "      <td>20200028123</td>\n",
       "      <td>63</td>\n",
       "    </tr>\n",
       "    <tr>\n",
       "      <th>1</th>\n",
       "      <td>2021</td>\n",
       "      <td>4</td>\n",
       "      <td>ak</td>\n",
       "      <td>20900007001</td>\n",
       "      <td>64</td>\n",
       "    </tr>\n",
       "    <tr>\n",
       "      <th>2</th>\n",
       "      <td>2021</td>\n",
       "      <td>4</td>\n",
       "      <td>ak</td>\n",
       "      <td>20200015004</td>\n",
       "      <td>60</td>\n",
       "    </tr>\n",
       "    <tr>\n",
       "      <th>3</th>\n",
       "      <td>2021</td>\n",
       "      <td>4</td>\n",
       "      <td>ak</td>\n",
       "      <td>20200028112</td>\n",
       "      <td>74</td>\n",
       "    </tr>\n",
       "    <tr>\n",
       "      <th>4</th>\n",
       "      <td>2021</td>\n",
       "      <td>4</td>\n",
       "      <td>ak</td>\n",
       "      <td>21950002003</td>\n",
       "      <td>9</td>\n",
       "    </tr>\n",
       "    <tr>\n",
       "      <th>...</th>\n",
       "      <td>...</td>\n",
       "      <td>...</td>\n",
       "      <td>...</td>\n",
       "      <td>...</td>\n",
       "      <td>...</td>\n",
       "    </tr>\n",
       "    <tr>\n",
       "      <th>219991</th>\n",
       "      <td>2021</td>\n",
       "      <td>4</td>\n",
       "      <td>wy</td>\n",
       "      <td>560399677024</td>\n",
       "      <td>66</td>\n",
       "    </tr>\n",
       "    <tr>\n",
       "      <th>219992</th>\n",
       "      <td>2021</td>\n",
       "      <td>4</td>\n",
       "      <td>wy</td>\n",
       "      <td>560210003002</td>\n",
       "      <td>490</td>\n",
       "    </tr>\n",
       "    <tr>\n",
       "      <th>219993</th>\n",
       "      <td>2021</td>\n",
       "      <td>4</td>\n",
       "      <td>wy</td>\n",
       "      <td>560199552003</td>\n",
       "      <td>49</td>\n",
       "    </tr>\n",
       "    <tr>\n",
       "      <th>219994</th>\n",
       "      <td>2021</td>\n",
       "      <td>4</td>\n",
       "      <td>wy</td>\n",
       "      <td>560050002004</td>\n",
       "      <td>154</td>\n",
       "    </tr>\n",
       "    <tr>\n",
       "      <th>219995</th>\n",
       "      <td>2021</td>\n",
       "      <td>4</td>\n",
       "      <td>wy</td>\n",
       "      <td>560039626002</td>\n",
       "      <td>92</td>\n",
       "    </tr>\n",
       "  </tbody>\n",
       "</table>\n",
       "<p>219996 rows × 5 columns</p>\n",
       "</div>"
      ],
      "text/plain": [
       "        year  month state  census_block_group  number_devices_residing\n",
       "0       2021      4    ak         20200028123                       63\n",
       "1       2021      4    ak         20900007001                       64\n",
       "2       2021      4    ak         20200015004                       60\n",
       "3       2021      4    ak         20200028112                       74\n",
       "4       2021      4    ak         21950002003                        9\n",
       "...      ...    ...   ...                 ...                      ...\n",
       "219991  2021      4    wy        560399677024                       66\n",
       "219992  2021      4    wy        560210003002                      490\n",
       "219993  2021      4    wy        560199552003                       49\n",
       "219994  2021      4    wy        560050002004                      154\n",
       "219995  2021      4    wy        560039626002                       92\n",
       "\n",
       "[219996 rows x 5 columns]"
      ]
     },
     "execution_count": 26,
     "metadata": {},
     "output_type": "execute_result"
    }
   ],
   "source": [
    "home_panel_file = r\"H:\\Safegraph\\Monthly Places Patterns (aka Patterns) Dec 2020 - Present\\home_panel_summary\\2021\\05\\05\\02\\home_panel_summary.csv\"\n",
    "\n",
    "home_panel_df = pd.read_csv(home_panel_file)\n",
    "home_panel_df"
   ]
  },
  {
   "cell_type": "code",
   "execution_count": 27,
   "metadata": {
    "ExecuteTime": {
     "end_time": "2021-06-06T03:13:05.150566Z",
     "start_time": "2021-06-06T03:13:05.006680Z"
    }
   },
   "outputs": [],
   "source": [
    "home_panel_df[\"census_block_group\"] = home_panel_df[\"census_block_group\"].astype(str)"
   ]
  },
  {
   "cell_type": "code",
   "execution_count": 23,
   "metadata": {
    "ExecuteTime": {
     "end_time": "2021-06-06T03:12:24.716418Z",
     "start_time": "2021-06-06T03:12:24.393378Z"
    }
   },
   "outputs": [
    {
     "data": {
      "text/html": [
       "<div>\n",
       "<style scoped>\n",
       "    .dataframe tbody tr th:only-of-type {\n",
       "        vertical-align: middle;\n",
       "    }\n",
       "\n",
       "    .dataframe tbody tr th {\n",
       "        vertical-align: top;\n",
       "    }\n",
       "\n",
       "    .dataframe thead th {\n",
       "        text-align: right;\n",
       "    }\n",
       "</style>\n",
       "<table border=\"1\" class=\"dataframe\">\n",
       "  <thead>\n",
       "    <tr style=\"text-align: right;\">\n",
       "      <th></th>\n",
       "      <th>visitor_home_cbgs</th>\n",
       "      <th>visits</th>\n",
       "    </tr>\n",
       "  </thead>\n",
       "  <tbody>\n",
       "    <tr>\n",
       "      <th>391075</th>\n",
       "      <td>450019501001</td>\n",
       "      <td>2644</td>\n",
       "    </tr>\n",
       "    <tr>\n",
       "      <th>391076</th>\n",
       "      <td>450019501002</td>\n",
       "      <td>1868</td>\n",
       "    </tr>\n",
       "    <tr>\n",
       "      <th>391077</th>\n",
       "      <td>450019501003</td>\n",
       "      <td>1814</td>\n",
       "    </tr>\n",
       "    <tr>\n",
       "      <th>391078</th>\n",
       "      <td>450019502001</td>\n",
       "      <td>3470</td>\n",
       "    </tr>\n",
       "    <tr>\n",
       "      <th>391079</th>\n",
       "      <td>450019502002</td>\n",
       "      <td>5672</td>\n",
       "    </tr>\n",
       "    <tr>\n",
       "      <th>...</th>\n",
       "      <td>...</td>\n",
       "      <td>...</td>\n",
       "    </tr>\n",
       "    <tr>\n",
       "      <th>394126</th>\n",
       "      <td>450910618021</td>\n",
       "      <td>5840</td>\n",
       "    </tr>\n",
       "    <tr>\n",
       "      <th>394127</th>\n",
       "      <td>450910618022</td>\n",
       "      <td>8615</td>\n",
       "    </tr>\n",
       "    <tr>\n",
       "      <th>394128</th>\n",
       "      <td>450910619001</td>\n",
       "      <td>4243</td>\n",
       "    </tr>\n",
       "    <tr>\n",
       "      <th>394129</th>\n",
       "      <td>450910619002</td>\n",
       "      <td>5352</td>\n",
       "    </tr>\n",
       "    <tr>\n",
       "      <th>394130</th>\n",
       "      <td>450910619003</td>\n",
       "      <td>4220</td>\n",
       "    </tr>\n",
       "  </tbody>\n",
       "</table>\n",
       "<p>3056 rows × 2 columns</p>\n",
       "</div>"
      ],
      "text/plain": [
       "       visitor_home_cbgs  visits\n",
       "391075      450019501001    2644\n",
       "391076      450019501002    1868\n",
       "391077      450019501003    1814\n",
       "391078      450019502001    3470\n",
       "391079      450019502002    5672\n",
       "...                  ...     ...\n",
       "394126      450910618021    5840\n",
       "394127      450910618022    8615\n",
       "394128      450910619001    4243\n",
       "394129      450910619002    5352\n",
       "394130      450910619003    4220\n",
       "\n",
       "[3056 rows x 2 columns]"
      ]
     },
     "execution_count": 23,
     "metadata": {},
     "output_type": "execute_result"
    }
   ],
   "source": [
    "g1[g1['visitor_home_cbgs'].str[:2] == \"45\"]"
   ]
  },
  {
   "cell_type": "code",
   "execution_count": 28,
   "metadata": {
    "ExecuteTime": {
     "end_time": "2021-06-06T03:13:10.457126Z",
     "start_time": "2021-06-06T03:13:09.352621Z"
    }
   },
   "outputs": [],
   "source": [
    "merged_df = pd.merge(cbg_gdf, g1[g1['visitor_home_cbgs'].str[:2] == \"45\"], how=\"left\", left_on=\"FIPS\", right_on=\"visitor_home_cbgs\")\n",
    "merged_df = pd.merge(merged_df, home_panel_df, how=\"left\", left_on=\"FIPS\", right_on=\"census_block_group\") "
   ]
  },
  {
   "cell_type": "code",
   "execution_count": 29,
   "metadata": {
    "ExecuteTime": {
     "end_time": "2021-06-06T03:13:13.386361Z",
     "start_time": "2021-06-06T03:13:12.810537Z"
    }
   },
   "outputs": [],
   "source": [
    "merged_df = merged_df.fillna(0)\n",
    "filtered = merged_df[merged_df[\"visits\"] > 0]"
   ]
  },
  {
   "cell_type": "code",
   "execution_count": 30,
   "metadata": {
    "ExecuteTime": {
     "end_time": "2021-06-06T03:13:14.572928Z",
     "start_time": "2021-06-06T03:13:14.558986Z"
    }
   },
   "outputs": [
    {
     "data": {
      "text/plain": [
       "3051"
      ]
     },
     "execution_count": 30,
     "metadata": {},
     "output_type": "execute_result"
    }
   ],
   "source": [
    "filtered = filtered[filtered[\"number_devices_residing\"] > 0]\n",
    "len(filtered)"
   ]
  },
  {
   "cell_type": "code",
   "execution_count": 31,
   "metadata": {
    "ExecuteTime": {
     "end_time": "2021-06-06T03:13:17.211798Z",
     "start_time": "2021-06-06T03:13:17.168909Z"
    }
   },
   "outputs": [
    {
     "data": {
      "text/html": [
       "<div>\n",
       "<style scoped>\n",
       "    .dataframe tbody tr th:only-of-type {\n",
       "        vertical-align: middle;\n",
       "    }\n",
       "\n",
       "    .dataframe tbody tr th {\n",
       "        vertical-align: top;\n",
       "    }\n",
       "\n",
       "    .dataframe thead th {\n",
       "        text-align: right;\n",
       "    }\n",
       "</style>\n",
       "<table border=\"1\" class=\"dataframe\">\n",
       "  <thead>\n",
       "    <tr style=\"text-align: right;\">\n",
       "      <th></th>\n",
       "      <th>STATE_FIPS</th>\n",
       "      <th>CNTY_FIPS</th>\n",
       "      <th>STCOFIPS</th>\n",
       "      <th>TRACT</th>\n",
       "      <th>BLKGRP</th>\n",
       "      <th>FIPS</th>\n",
       "      <th>POPULATION</th>\n",
       "      <th>POP_SQMI</th>\n",
       "      <th>POP2010</th>\n",
       "      <th>POP10_SQMI</th>\n",
       "      <th>...</th>\n",
       "      <th>centroid</th>\n",
       "      <th>lon</th>\n",
       "      <th>lat</th>\n",
       "      <th>visitor_home_cbgs</th>\n",
       "      <th>visits</th>\n",
       "      <th>year</th>\n",
       "      <th>month</th>\n",
       "      <th>state</th>\n",
       "      <th>census_block_group</th>\n",
       "      <th>number_devices_residing</th>\n",
       "    </tr>\n",
       "  </thead>\n",
       "  <tbody>\n",
       "    <tr>\n",
       "      <th>132908</th>\n",
       "      <td>45</td>\n",
       "      <td>049</td>\n",
       "      <td>45049</td>\n",
       "      <td>920400</td>\n",
       "      <td>4</td>\n",
       "      <td>450499204004</td>\n",
       "      <td>2067</td>\n",
       "      <td>36.6</td>\n",
       "      <td>2120</td>\n",
       "      <td>37.5</td>\n",
       "      <td>...</td>\n",
       "      <td>POINT (-81.30936 32.75147)</td>\n",
       "      <td>-81.309363</td>\n",
       "      <td>32.751475</td>\n",
       "      <td>450499204004</td>\n",
       "      <td>974.0</td>\n",
       "      <td>2021.0</td>\n",
       "      <td>4.0</td>\n",
       "      <td>sc</td>\n",
       "      <td>450499204004</td>\n",
       "      <td>58.0</td>\n",
       "    </tr>\n",
       "    <tr>\n",
       "      <th>132909</th>\n",
       "      <td>45</td>\n",
       "      <td>005</td>\n",
       "      <td>45005</td>\n",
       "      <td>970400</td>\n",
       "      <td>3</td>\n",
       "      <td>450059704003</td>\n",
       "      <td>1772</td>\n",
       "      <td>15.7</td>\n",
       "      <td>1946</td>\n",
       "      <td>17.2</td>\n",
       "      <td>...</td>\n",
       "      <td>POINT (-81.34291 32.86622)</td>\n",
       "      <td>-81.342911</td>\n",
       "      <td>32.866216</td>\n",
       "      <td>450059704003</td>\n",
       "      <td>909.0</td>\n",
       "      <td>2021.0</td>\n",
       "      <td>4.0</td>\n",
       "      <td>sc</td>\n",
       "      <td>450059704003</td>\n",
       "      <td>40.0</td>\n",
       "    </tr>\n",
       "    <tr>\n",
       "      <th>132910</th>\n",
       "      <td>45</td>\n",
       "      <td>005</td>\n",
       "      <td>45005</td>\n",
       "      <td>970200</td>\n",
       "      <td>6</td>\n",
       "      <td>450059702006</td>\n",
       "      <td>629</td>\n",
       "      <td>9.9</td>\n",
       "      <td>659</td>\n",
       "      <td>10.3</td>\n",
       "      <td>...</td>\n",
       "      <td>POINT (-81.41825 32.95077)</td>\n",
       "      <td>-81.418252</td>\n",
       "      <td>32.950773</td>\n",
       "      <td>450059702006</td>\n",
       "      <td>653.0</td>\n",
       "      <td>2021.0</td>\n",
       "      <td>4.0</td>\n",
       "      <td>sc</td>\n",
       "      <td>450059702006</td>\n",
       "      <td>45.0</td>\n",
       "    </tr>\n",
       "    <tr>\n",
       "      <th>132911</th>\n",
       "      <td>45</td>\n",
       "      <td>049</td>\n",
       "      <td>45049</td>\n",
       "      <td>920500</td>\n",
       "      <td>1</td>\n",
       "      <td>450499205001</td>\n",
       "      <td>1253</td>\n",
       "      <td>12.8</td>\n",
       "      <td>1038</td>\n",
       "      <td>10.6</td>\n",
       "      <td>...</td>\n",
       "      <td>POINT (-81.31108 32.63960)</td>\n",
       "      <td>-81.311076</td>\n",
       "      <td>32.639601</td>\n",
       "      <td>450499205001</td>\n",
       "      <td>990.0</td>\n",
       "      <td>2021.0</td>\n",
       "      <td>4.0</td>\n",
       "      <td>sc</td>\n",
       "      <td>450499205001</td>\n",
       "      <td>53.0</td>\n",
       "    </tr>\n",
       "    <tr>\n",
       "      <th>132927</th>\n",
       "      <td>45</td>\n",
       "      <td>013</td>\n",
       "      <td>45013</td>\n",
       "      <td>002104</td>\n",
       "      <td>2</td>\n",
       "      <td>450130021042</td>\n",
       "      <td>3015</td>\n",
       "      <td>995.0</td>\n",
       "      <td>2980</td>\n",
       "      <td>983.5</td>\n",
       "      <td>...</td>\n",
       "      <td>POINT (-80.95713 32.29364)</td>\n",
       "      <td>-80.957126</td>\n",
       "      <td>32.293636</td>\n",
       "      <td>450130021042</td>\n",
       "      <td>3765.0</td>\n",
       "      <td>2021.0</td>\n",
       "      <td>4.0</td>\n",
       "      <td>sc</td>\n",
       "      <td>450130021042</td>\n",
       "      <td>190.0</td>\n",
       "    </tr>\n",
       "    <tr>\n",
       "      <th>...</th>\n",
       "      <td>...</td>\n",
       "      <td>...</td>\n",
       "      <td>...</td>\n",
       "      <td>...</td>\n",
       "      <td>...</td>\n",
       "      <td>...</td>\n",
       "      <td>...</td>\n",
       "      <td>...</td>\n",
       "      <td>...</td>\n",
       "      <td>...</td>\n",
       "      <td>...</td>\n",
       "      <td>...</td>\n",
       "      <td>...</td>\n",
       "      <td>...</td>\n",
       "      <td>...</td>\n",
       "      <td>...</td>\n",
       "      <td>...</td>\n",
       "      <td>...</td>\n",
       "      <td>...</td>\n",
       "      <td>...</td>\n",
       "      <td>...</td>\n",
       "    </tr>\n",
       "    <tr>\n",
       "      <th>142596</th>\n",
       "      <td>45</td>\n",
       "      <td>069</td>\n",
       "      <td>45069</td>\n",
       "      <td>960301</td>\n",
       "      <td>4</td>\n",
       "      <td>450699603014</td>\n",
       "      <td>667</td>\n",
       "      <td>2382.1</td>\n",
       "      <td>679</td>\n",
       "      <td>2425.0</td>\n",
       "      <td>...</td>\n",
       "      <td>POINT (-79.67175 34.62010)</td>\n",
       "      <td>-79.671750</td>\n",
       "      <td>34.620100</td>\n",
       "      <td>450699603014</td>\n",
       "      <td>727.0</td>\n",
       "      <td>2021.0</td>\n",
       "      <td>4.0</td>\n",
       "      <td>sc</td>\n",
       "      <td>450699603014</td>\n",
       "      <td>36.0</td>\n",
       "    </tr>\n",
       "    <tr>\n",
       "      <th>142597</th>\n",
       "      <td>45</td>\n",
       "      <td>069</td>\n",
       "      <td>45069</td>\n",
       "      <td>960100</td>\n",
       "      <td>1</td>\n",
       "      <td>450699601001</td>\n",
       "      <td>893</td>\n",
       "      <td>31.4</td>\n",
       "      <td>917</td>\n",
       "      <td>32.2</td>\n",
       "      <td>...</td>\n",
       "      <td>POINT (-79.87382 34.74993)</td>\n",
       "      <td>-79.873817</td>\n",
       "      <td>34.749927</td>\n",
       "      <td>450699601001</td>\n",
       "      <td>928.0</td>\n",
       "      <td>2021.0</td>\n",
       "      <td>4.0</td>\n",
       "      <td>sc</td>\n",
       "      <td>450699601001</td>\n",
       "      <td>45.0</td>\n",
       "    </tr>\n",
       "    <tr>\n",
       "      <th>142653</th>\n",
       "      <td>45</td>\n",
       "      <td>069</td>\n",
       "      <td>45069</td>\n",
       "      <td>960400</td>\n",
       "      <td>2</td>\n",
       "      <td>450699604002</td>\n",
       "      <td>1020</td>\n",
       "      <td>118.1</td>\n",
       "      <td>1029</td>\n",
       "      <td>119.1</td>\n",
       "      <td>...</td>\n",
       "      <td>POINT (-79.56569 34.68008)</td>\n",
       "      <td>-79.565686</td>\n",
       "      <td>34.680081</td>\n",
       "      <td>450699604002</td>\n",
       "      <td>1586.0</td>\n",
       "      <td>2021.0</td>\n",
       "      <td>4.0</td>\n",
       "      <td>sc</td>\n",
       "      <td>450699604002</td>\n",
       "      <td>83.0</td>\n",
       "    </tr>\n",
       "    <tr>\n",
       "      <th>142654</th>\n",
       "      <td>45</td>\n",
       "      <td>069</td>\n",
       "      <td>45069</td>\n",
       "      <td>960400</td>\n",
       "      <td>4</td>\n",
       "      <td>450699604004</td>\n",
       "      <td>889</td>\n",
       "      <td>74.7</td>\n",
       "      <td>943</td>\n",
       "      <td>79.2</td>\n",
       "      <td>...</td>\n",
       "      <td>POINT (-79.50712 34.63325)</td>\n",
       "      <td>-79.507116</td>\n",
       "      <td>34.633249</td>\n",
       "      <td>450699604004</td>\n",
       "      <td>959.0</td>\n",
       "      <td>2021.0</td>\n",
       "      <td>4.0</td>\n",
       "      <td>sc</td>\n",
       "      <td>450699604004</td>\n",
       "      <td>45.0</td>\n",
       "    </tr>\n",
       "    <tr>\n",
       "      <th>142655</th>\n",
       "      <td>45</td>\n",
       "      <td>069</td>\n",
       "      <td>45069</td>\n",
       "      <td>960400</td>\n",
       "      <td>3</td>\n",
       "      <td>450699604003</td>\n",
       "      <td>1543</td>\n",
       "      <td>296.7</td>\n",
       "      <td>1541</td>\n",
       "      <td>296.3</td>\n",
       "      <td>...</td>\n",
       "      <td>POINT (-79.51594 34.66185)</td>\n",
       "      <td>-79.515943</td>\n",
       "      <td>34.661849</td>\n",
       "      <td>450699604003</td>\n",
       "      <td>1381.0</td>\n",
       "      <td>2021.0</td>\n",
       "      <td>4.0</td>\n",
       "      <td>sc</td>\n",
       "      <td>450699604003</td>\n",
       "      <td>77.0</td>\n",
       "    </tr>\n",
       "  </tbody>\n",
       "</table>\n",
       "<p>3051 rows × 63 columns</p>\n",
       "</div>"
      ],
      "text/plain": [
       "       STATE_FIPS CNTY_FIPS STCOFIPS   TRACT BLKGRP          FIPS  POPULATION  \\\n",
       "132908         45       049    45049  920400      4  450499204004        2067   \n",
       "132909         45       005    45005  970400      3  450059704003        1772   \n",
       "132910         45       005    45005  970200      6  450059702006         629   \n",
       "132911         45       049    45049  920500      1  450499205001        1253   \n",
       "132927         45       013    45013  002104      2  450130021042        3015   \n",
       "...           ...       ...      ...     ...    ...           ...         ...   \n",
       "142596         45       069    45069  960301      4  450699603014         667   \n",
       "142597         45       069    45069  960100      1  450699601001         893   \n",
       "142653         45       069    45069  960400      2  450699604002        1020   \n",
       "142654         45       069    45069  960400      4  450699604004         889   \n",
       "142655         45       069    45069  960400      3  450699604003        1543   \n",
       "\n",
       "        POP_SQMI  POP2010  POP10_SQMI  ...                    centroid  \\\n",
       "132908      36.6     2120        37.5  ...  POINT (-81.30936 32.75147)   \n",
       "132909      15.7     1946        17.2  ...  POINT (-81.34291 32.86622)   \n",
       "132910       9.9      659        10.3  ...  POINT (-81.41825 32.95077)   \n",
       "132911      12.8     1038        10.6  ...  POINT (-81.31108 32.63960)   \n",
       "132927     995.0     2980       983.5  ...  POINT (-80.95713 32.29364)   \n",
       "...          ...      ...         ...  ...                         ...   \n",
       "142596    2382.1      679      2425.0  ...  POINT (-79.67175 34.62010)   \n",
       "142597      31.4      917        32.2  ...  POINT (-79.87382 34.74993)   \n",
       "142653     118.1     1029       119.1  ...  POINT (-79.56569 34.68008)   \n",
       "142654      74.7      943        79.2  ...  POINT (-79.50712 34.63325)   \n",
       "142655     296.7     1541       296.3  ...  POINT (-79.51594 34.66185)   \n",
       "\n",
       "              lon        lat  visitor_home_cbgs  visits    year  month  state  \\\n",
       "132908 -81.309363  32.751475       450499204004   974.0  2021.0    4.0     sc   \n",
       "132909 -81.342911  32.866216       450059704003   909.0  2021.0    4.0     sc   \n",
       "132910 -81.418252  32.950773       450059702006   653.0  2021.0    4.0     sc   \n",
       "132911 -81.311076  32.639601       450499205001   990.0  2021.0    4.0     sc   \n",
       "132927 -80.957126  32.293636       450130021042  3765.0  2021.0    4.0     sc   \n",
       "...           ...        ...                ...     ...     ...    ...    ...   \n",
       "142596 -79.671750  34.620100       450699603014   727.0  2021.0    4.0     sc   \n",
       "142597 -79.873817  34.749927       450699601001   928.0  2021.0    4.0     sc   \n",
       "142653 -79.565686  34.680081       450699604002  1586.0  2021.0    4.0     sc   \n",
       "142654 -79.507116  34.633249       450699604004   959.0  2021.0    4.0     sc   \n",
       "142655 -79.515943  34.661849       450699604003  1381.0  2021.0    4.0     sc   \n",
       "\n",
       "        census_block_group  number_devices_residing  \n",
       "132908        450499204004                     58.0  \n",
       "132909        450059704003                     40.0  \n",
       "132910        450059702006                     45.0  \n",
       "132911        450499205001                     53.0  \n",
       "132927        450130021042                    190.0  \n",
       "...                    ...                      ...  \n",
       "142596        450699603014                     36.0  \n",
       "142597        450699601001                     45.0  \n",
       "142653        450699604002                     83.0  \n",
       "142654        450699604004                     45.0  \n",
       "142655        450699604003                     77.0  \n",
       "\n",
       "[3051 rows x 63 columns]"
      ]
     },
     "execution_count": 31,
     "metadata": {},
     "output_type": "execute_result"
    }
   ],
   "source": [
    "filtered"
   ]
  },
  {
   "cell_type": "code",
   "execution_count": 32,
   "metadata": {
    "ExecuteTime": {
     "end_time": "2021-06-06T03:13:20.789044Z",
     "start_time": "2021-06-06T03:13:20.773085Z"
    }
   },
   "outputs": [
    {
     "data": {
      "text/plain": [
       "132908    16.793103\n",
       "132909    22.725000\n",
       "132910    14.511111\n",
       "132911    18.679245\n",
       "132927    19.815789\n",
       "            ...    \n",
       "142596    20.194444\n",
       "142597    20.622222\n",
       "142653    19.108434\n",
       "142654    21.311111\n",
       "142655    17.935065\n",
       "Name: mean_visits, Length: 3051, dtype: float64"
      ]
     },
     "execution_count": 32,
     "metadata": {},
     "output_type": "execute_result"
    }
   ],
   "source": [
    "filtered[\"mean_visits\"] = filtered['visits'] / filtered[\"number_devices_residing\"]\n",
    "filtered[\"mean_visits\"]"
   ]
  },
  {
   "cell_type": "code",
   "execution_count": 34,
   "metadata": {
    "ExecuteTime": {
     "end_time": "2021-06-06T03:13:38.671184Z",
     "start_time": "2021-06-06T03:13:38.396420Z"
    }
   },
   "outputs": [
    {
     "data": {
      "text/html": [
       "<div>\n",
       "<style scoped>\n",
       "    .dataframe tbody tr th:only-of-type {\n",
       "        vertical-align: middle;\n",
       "    }\n",
       "\n",
       "    .dataframe tbody tr th {\n",
       "        vertical-align: top;\n",
       "    }\n",
       "\n",
       "    .dataframe thead th {\n",
       "        text-align: right;\n",
       "    }\n",
       "</style>\n",
       "<table border=\"1\" class=\"dataframe\">\n",
       "  <thead>\n",
       "    <tr style=\"text-align: right;\">\n",
       "      <th></th>\n",
       "      <th>visitor_home_cbgs</th>\n",
       "      <th>visits</th>\n",
       "    </tr>\n",
       "  </thead>\n",
       "  <tbody>\n",
       "    <tr>\n",
       "      <th>391075</th>\n",
       "      <td>450019501001</td>\n",
       "      <td>2644</td>\n",
       "    </tr>\n",
       "    <tr>\n",
       "      <th>391076</th>\n",
       "      <td>450019501002</td>\n",
       "      <td>1868</td>\n",
       "    </tr>\n",
       "    <tr>\n",
       "      <th>391077</th>\n",
       "      <td>450019501003</td>\n",
       "      <td>1814</td>\n",
       "    </tr>\n",
       "    <tr>\n",
       "      <th>391078</th>\n",
       "      <td>450019502001</td>\n",
       "      <td>3470</td>\n",
       "    </tr>\n",
       "    <tr>\n",
       "      <th>391079</th>\n",
       "      <td>450019502002</td>\n",
       "      <td>5672</td>\n",
       "    </tr>\n",
       "    <tr>\n",
       "      <th>...</th>\n",
       "      <td>...</td>\n",
       "      <td>...</td>\n",
       "    </tr>\n",
       "    <tr>\n",
       "      <th>394126</th>\n",
       "      <td>450910618021</td>\n",
       "      <td>5840</td>\n",
       "    </tr>\n",
       "    <tr>\n",
       "      <th>394127</th>\n",
       "      <td>450910618022</td>\n",
       "      <td>8615</td>\n",
       "    </tr>\n",
       "    <tr>\n",
       "      <th>394128</th>\n",
       "      <td>450910619001</td>\n",
       "      <td>4243</td>\n",
       "    </tr>\n",
       "    <tr>\n",
       "      <th>394129</th>\n",
       "      <td>450910619002</td>\n",
       "      <td>5352</td>\n",
       "    </tr>\n",
       "    <tr>\n",
       "      <th>394130</th>\n",
       "      <td>450910619003</td>\n",
       "      <td>4220</td>\n",
       "    </tr>\n",
       "  </tbody>\n",
       "</table>\n",
       "<p>3056 rows × 2 columns</p>\n",
       "</div>"
      ],
      "text/plain": [
       "       visitor_home_cbgs  visits\n",
       "391075      450019501001    2644\n",
       "391076      450019501002    1868\n",
       "391077      450019501003    1814\n",
       "391078      450019502001    3470\n",
       "391079      450019502002    5672\n",
       "...                  ...     ...\n",
       "394126      450910618021    5840\n",
       "394127      450910618022    8615\n",
       "394128      450910619001    4243\n",
       "394129      450910619002    5352\n",
       "394130      450910619003    4220\n",
       "\n",
       "[3056 rows x 2 columns]"
      ]
     },
     "execution_count": 34,
     "metadata": {},
     "output_type": "execute_result"
    }
   ],
   "source": [
    "g1[g1['visitor_home_cbgs'].str[:2] == \"45\"][[\"visitor_home_cbgs\", \"visits\"]]"
   ]
  },
  {
   "cell_type": "code",
   "execution_count": 41,
   "metadata": {
    "ExecuteTime": {
     "end_time": "2021-06-06T03:14:43.024185Z",
     "start_time": "2021-06-06T03:14:42.995226Z"
    }
   },
   "outputs": [
    {
     "data": {
      "text/html": [
       "<div>\n",
       "<style scoped>\n",
       "    .dataframe tbody tr th:only-of-type {\n",
       "        vertical-align: middle;\n",
       "    }\n",
       "\n",
       "    .dataframe tbody tr th {\n",
       "        vertical-align: top;\n",
       "    }\n",
       "\n",
       "    .dataframe thead th {\n",
       "        text-align: right;\n",
       "    }\n",
       "</style>\n",
       "<table border=\"1\" class=\"dataframe\">\n",
       "  <thead>\n",
       "    <tr style=\"text-align: right;\">\n",
       "      <th></th>\n",
       "      <th>POP2010</th>\n",
       "      <th>visitor_home_cbgs</th>\n",
       "      <th>visits</th>\n",
       "      <th>mean_visits</th>\n",
       "    </tr>\n",
       "  </thead>\n",
       "  <tbody>\n",
       "    <tr>\n",
       "      <th>138022</th>\n",
       "      <td>1767</td>\n",
       "      <td>450830238023</td>\n",
       "      <td>7187.0</td>\n",
       "      <td>38.228723</td>\n",
       "    </tr>\n",
       "    <tr>\n",
       "      <th>137114</th>\n",
       "      <td>2096</td>\n",
       "      <td>450070101022</td>\n",
       "      <td>7204.0</td>\n",
       "      <td>38.319149</td>\n",
       "    </tr>\n",
       "    <tr>\n",
       "      <th>137382</th>\n",
       "      <td>2243</td>\n",
       "      <td>450450028131</td>\n",
       "      <td>5833.0</td>\n",
       "      <td>38.375000</td>\n",
       "    </tr>\n",
       "    <tr>\n",
       "      <th>141097</th>\n",
       "      <td>706</td>\n",
       "      <td>450190026122</td>\n",
       "      <td>1005.0</td>\n",
       "      <td>38.653846</td>\n",
       "    </tr>\n",
       "    <tr>\n",
       "      <th>138037</th>\n",
       "      <td>1015</td>\n",
       "      <td>450830238021</td>\n",
       "      <td>3672.0</td>\n",
       "      <td>39.483871</td>\n",
       "    </tr>\n",
       "    <tr>\n",
       "      <th>137451</th>\n",
       "      <td>746</td>\n",
       "      <td>450830218042</td>\n",
       "      <td>793.0</td>\n",
       "      <td>39.650000</td>\n",
       "    </tr>\n",
       "    <tr>\n",
       "      <th>141266</th>\n",
       "      <td>712</td>\n",
       "      <td>450190047013</td>\n",
       "      <td>1361.0</td>\n",
       "      <td>40.029412</td>\n",
       "    </tr>\n",
       "    <tr>\n",
       "      <th>134354</th>\n",
       "      <td>701</td>\n",
       "      <td>450790108032</td>\n",
       "      <td>1507.0</td>\n",
       "      <td>40.729730</td>\n",
       "    </tr>\n",
       "    <tr>\n",
       "      <th>137173</th>\n",
       "      <td>616</td>\n",
       "      <td>450450020053</td>\n",
       "      <td>961.0</td>\n",
       "      <td>41.782609</td>\n",
       "    </tr>\n",
       "    <tr>\n",
       "      <th>134299</th>\n",
       "      <td>695</td>\n",
       "      <td>450790013001</td>\n",
       "      <td>114.0</td>\n",
       "      <td>57.000000</td>\n",
       "    </tr>\n",
       "  </tbody>\n",
       "</table>\n",
       "</div>"
      ],
      "text/plain": [
       "        POP2010 visitor_home_cbgs  visits  mean_visits\n",
       "138022     1767      450830238023  7187.0    38.228723\n",
       "137114     2096      450070101022  7204.0    38.319149\n",
       "137382     2243      450450028131  5833.0    38.375000\n",
       "141097      706      450190026122  1005.0    38.653846\n",
       "138037     1015      450830238021  3672.0    39.483871\n",
       "137451      746      450830218042   793.0    39.650000\n",
       "141266      712      450190047013  1361.0    40.029412\n",
       "134354      701      450790108032  1507.0    40.729730\n",
       "137173      616      450450020053   961.0    41.782609\n",
       "134299      695      450790013001   114.0    57.000000"
      ]
     },
     "execution_count": 41,
     "metadata": {},
     "output_type": "execute_result"
    }
   ],
   "source": [
    "high_visits = filtered.sort_values('mean_visits')[-10:]\n",
    "#high_visits = filtered.sort_values('mean_visits')[:10]\n",
    "high_visits[[\"POP2010\", \"visitor_home_cbgs\", \"visits\", \"mean_visits\"]]"
   ]
  },
  {
   "cell_type": "code",
   "execution_count": 36,
   "metadata": {
    "ExecuteTime": {
     "end_time": "2021-06-06T03:13:47.015974Z",
     "start_time": "2021-06-06T03:13:47.012981Z"
    }
   },
   "outputs": [],
   "source": [
    "mapbox_token = \"pk.eyJ1IjoiZ2xhZGNvbG9yIiwiYSI6ImNrMGc0am1rMDAzdXYzY3BuZ2FhY3kwaWcifQ.LsAN-_5jQ6Sox9pN4upKSw\""
   ]
  },
  {
   "cell_type": "code",
   "execution_count": 61,
   "metadata": {
    "ExecuteTime": {
     "end_time": "2021-06-07T14:35:00.749798Z",
     "start_time": "2021-06-07T14:35:00.690950Z"
    }
   },
   "outputs": [
    {
     "data": {
      "application/vnd.plotly.v1+json": {
       "config": {
        "plotlyServerURL": "https://plot.ly"
       },
       "data": [
        {
         "customdata": [
          [
           "450830238023",
           38.22872340425532
          ],
          [
           "450070101022",
           38.319148936170215
          ],
          [
           "450450028131",
           38.375
          ],
          [
           "450190026122",
           38.65384615384615
          ],
          [
           "450830238021",
           39.483870967741936
          ],
          [
           "450830218042",
           39.65
          ],
          [
           "450190047013",
           40.029411764705884
          ],
          [
           "450790108032",
           40.729729729729726
          ],
          [
           "450450020053",
           41.78260869565217
          ],
          [
           "450790013001",
           57
          ]
         ],
         "hovertemplate": "lat=%{lat}<br>lon=%{lon}<br>FIPS=%{customdata[0]}<br>mean_visits=%{customdata[1]}<extra></extra>",
         "lat": [
          34.797708859141146,
          34.73341993256706,
          34.835982425277145,
          32.81913337688523,
          34.817389226499444,
          34.991911078584955,
          32.78329529146189,
          34.0683690409065,
          34.782808318373114,
          34.01227279141471
         ],
         "legendgroup": "",
         "lon": [
          -81.93492663034063,
          -82.51286814137681,
          -82.23736952483598,
          -80.01719764624868,
          -81.82421087400704,
          -82.00362622825145,
          -79.8645494799495,
          -80.9759218637306,
          -82.38324054942564,
          -81.01266790204545
         ],
         "marker": {
          "color": "fuchsia"
         },
         "mode": "markers",
         "name": "",
         "showlegend": false,
         "subplot": "mapbox",
         "type": "scattermapbox"
        }
       ],
       "layout": {
        "height": 1000,
        "legend": {
         "tracegroupgap": 0
        },
        "mapbox": {
         "accesstoken": "pk.eyJ1IjoiZ2xhZGNvbG9yIiwiYSI6ImNrMGc0am1rMDAzdXYzY3BuZ2FhY3kwaWcifQ.LsAN-_5jQ6Sox9pN4upKSw",
         "center": {
          "lat": 34.26422903411112,
          "lon": -81.47665788402118
         },
         "domain": {
          "x": [
           0,
           1
          ],
          "y": [
           0,
           1
          ]
         },
         "style": "satellite-streets",
         "zoom": 2
        },
        "margin": {
         "b": 0,
         "l": 0,
         "r": 0,
         "t": 0
        },
        "template": {
         "data": {
          "bar": [
           {
            "error_x": {
             "color": "#2a3f5f"
            },
            "error_y": {
             "color": "#2a3f5f"
            },
            "marker": {
             "line": {
              "color": "#E5ECF6",
              "width": 0.5
             }
            },
            "type": "bar"
           }
          ],
          "barpolar": [
           {
            "marker": {
             "line": {
              "color": "#E5ECF6",
              "width": 0.5
             }
            },
            "type": "barpolar"
           }
          ],
          "carpet": [
           {
            "aaxis": {
             "endlinecolor": "#2a3f5f",
             "gridcolor": "white",
             "linecolor": "white",
             "minorgridcolor": "white",
             "startlinecolor": "#2a3f5f"
            },
            "baxis": {
             "endlinecolor": "#2a3f5f",
             "gridcolor": "white",
             "linecolor": "white",
             "minorgridcolor": "white",
             "startlinecolor": "#2a3f5f"
            },
            "type": "carpet"
           }
          ],
          "choropleth": [
           {
            "colorbar": {
             "outlinewidth": 0,
             "ticks": ""
            },
            "type": "choropleth"
           }
          ],
          "contour": [
           {
            "colorbar": {
             "outlinewidth": 0,
             "ticks": ""
            },
            "colorscale": [
             [
              0,
              "#0d0887"
             ],
             [
              0.1111111111111111,
              "#46039f"
             ],
             [
              0.2222222222222222,
              "#7201a8"
             ],
             [
              0.3333333333333333,
              "#9c179e"
             ],
             [
              0.4444444444444444,
              "#bd3786"
             ],
             [
              0.5555555555555556,
              "#d8576b"
             ],
             [
              0.6666666666666666,
              "#ed7953"
             ],
             [
              0.7777777777777778,
              "#fb9f3a"
             ],
             [
              0.8888888888888888,
              "#fdca26"
             ],
             [
              1,
              "#f0f921"
             ]
            ],
            "type": "contour"
           }
          ],
          "contourcarpet": [
           {
            "colorbar": {
             "outlinewidth": 0,
             "ticks": ""
            },
            "type": "contourcarpet"
           }
          ],
          "heatmap": [
           {
            "colorbar": {
             "outlinewidth": 0,
             "ticks": ""
            },
            "colorscale": [
             [
              0,
              "#0d0887"
             ],
             [
              0.1111111111111111,
              "#46039f"
             ],
             [
              0.2222222222222222,
              "#7201a8"
             ],
             [
              0.3333333333333333,
              "#9c179e"
             ],
             [
              0.4444444444444444,
              "#bd3786"
             ],
             [
              0.5555555555555556,
              "#d8576b"
             ],
             [
              0.6666666666666666,
              "#ed7953"
             ],
             [
              0.7777777777777778,
              "#fb9f3a"
             ],
             [
              0.8888888888888888,
              "#fdca26"
             ],
             [
              1,
              "#f0f921"
             ]
            ],
            "type": "heatmap"
           }
          ],
          "heatmapgl": [
           {
            "colorbar": {
             "outlinewidth": 0,
             "ticks": ""
            },
            "colorscale": [
             [
              0,
              "#0d0887"
             ],
             [
              0.1111111111111111,
              "#46039f"
             ],
             [
              0.2222222222222222,
              "#7201a8"
             ],
             [
              0.3333333333333333,
              "#9c179e"
             ],
             [
              0.4444444444444444,
              "#bd3786"
             ],
             [
              0.5555555555555556,
              "#d8576b"
             ],
             [
              0.6666666666666666,
              "#ed7953"
             ],
             [
              0.7777777777777778,
              "#fb9f3a"
             ],
             [
              0.8888888888888888,
              "#fdca26"
             ],
             [
              1,
              "#f0f921"
             ]
            ],
            "type": "heatmapgl"
           }
          ],
          "histogram": [
           {
            "marker": {
             "colorbar": {
              "outlinewidth": 0,
              "ticks": ""
             }
            },
            "type": "histogram"
           }
          ],
          "histogram2d": [
           {
            "colorbar": {
             "outlinewidth": 0,
             "ticks": ""
            },
            "colorscale": [
             [
              0,
              "#0d0887"
             ],
             [
              0.1111111111111111,
              "#46039f"
             ],
             [
              0.2222222222222222,
              "#7201a8"
             ],
             [
              0.3333333333333333,
              "#9c179e"
             ],
             [
              0.4444444444444444,
              "#bd3786"
             ],
             [
              0.5555555555555556,
              "#d8576b"
             ],
             [
              0.6666666666666666,
              "#ed7953"
             ],
             [
              0.7777777777777778,
              "#fb9f3a"
             ],
             [
              0.8888888888888888,
              "#fdca26"
             ],
             [
              1,
              "#f0f921"
             ]
            ],
            "type": "histogram2d"
           }
          ],
          "histogram2dcontour": [
           {
            "colorbar": {
             "outlinewidth": 0,
             "ticks": ""
            },
            "colorscale": [
             [
              0,
              "#0d0887"
             ],
             [
              0.1111111111111111,
              "#46039f"
             ],
             [
              0.2222222222222222,
              "#7201a8"
             ],
             [
              0.3333333333333333,
              "#9c179e"
             ],
             [
              0.4444444444444444,
              "#bd3786"
             ],
             [
              0.5555555555555556,
              "#d8576b"
             ],
             [
              0.6666666666666666,
              "#ed7953"
             ],
             [
              0.7777777777777778,
              "#fb9f3a"
             ],
             [
              0.8888888888888888,
              "#fdca26"
             ],
             [
              1,
              "#f0f921"
             ]
            ],
            "type": "histogram2dcontour"
           }
          ],
          "mesh3d": [
           {
            "colorbar": {
             "outlinewidth": 0,
             "ticks": ""
            },
            "type": "mesh3d"
           }
          ],
          "parcoords": [
           {
            "line": {
             "colorbar": {
              "outlinewidth": 0,
              "ticks": ""
             }
            },
            "type": "parcoords"
           }
          ],
          "pie": [
           {
            "automargin": true,
            "type": "pie"
           }
          ],
          "scatter": [
           {
            "marker": {
             "colorbar": {
              "outlinewidth": 0,
              "ticks": ""
             }
            },
            "type": "scatter"
           }
          ],
          "scatter3d": [
           {
            "line": {
             "colorbar": {
              "outlinewidth": 0,
              "ticks": ""
             }
            },
            "marker": {
             "colorbar": {
              "outlinewidth": 0,
              "ticks": ""
             }
            },
            "type": "scatter3d"
           }
          ],
          "scattercarpet": [
           {
            "marker": {
             "colorbar": {
              "outlinewidth": 0,
              "ticks": ""
             }
            },
            "type": "scattercarpet"
           }
          ],
          "scattergeo": [
           {
            "marker": {
             "colorbar": {
              "outlinewidth": 0,
              "ticks": ""
             }
            },
            "type": "scattergeo"
           }
          ],
          "scattergl": [
           {
            "marker": {
             "colorbar": {
              "outlinewidth": 0,
              "ticks": ""
             }
            },
            "type": "scattergl"
           }
          ],
          "scattermapbox": [
           {
            "marker": {
             "colorbar": {
              "outlinewidth": 0,
              "ticks": ""
             }
            },
            "type": "scattermapbox"
           }
          ],
          "scatterpolar": [
           {
            "marker": {
             "colorbar": {
              "outlinewidth": 0,
              "ticks": ""
             }
            },
            "type": "scatterpolar"
           }
          ],
          "scatterpolargl": [
           {
            "marker": {
             "colorbar": {
              "outlinewidth": 0,
              "ticks": ""
             }
            },
            "type": "scatterpolargl"
           }
          ],
          "scatterternary": [
           {
            "marker": {
             "colorbar": {
              "outlinewidth": 0,
              "ticks": ""
             }
            },
            "type": "scatterternary"
           }
          ],
          "surface": [
           {
            "colorbar": {
             "outlinewidth": 0,
             "ticks": ""
            },
            "colorscale": [
             [
              0,
              "#0d0887"
             ],
             [
              0.1111111111111111,
              "#46039f"
             ],
             [
              0.2222222222222222,
              "#7201a8"
             ],
             [
              0.3333333333333333,
              "#9c179e"
             ],
             [
              0.4444444444444444,
              "#bd3786"
             ],
             [
              0.5555555555555556,
              "#d8576b"
             ],
             [
              0.6666666666666666,
              "#ed7953"
             ],
             [
              0.7777777777777778,
              "#fb9f3a"
             ],
             [
              0.8888888888888888,
              "#fdca26"
             ],
             [
              1,
              "#f0f921"
             ]
            ],
            "type": "surface"
           }
          ],
          "table": [
           {
            "cells": {
             "fill": {
              "color": "#EBF0F8"
             },
             "line": {
              "color": "white"
             }
            },
            "header": {
             "fill": {
              "color": "#C8D4E3"
             },
             "line": {
              "color": "white"
             }
            },
            "type": "table"
           }
          ]
         },
         "layout": {
          "annotationdefaults": {
           "arrowcolor": "#2a3f5f",
           "arrowhead": 0,
           "arrowwidth": 1
          },
          "autotypenumbers": "strict",
          "coloraxis": {
           "colorbar": {
            "outlinewidth": 0,
            "ticks": ""
           }
          },
          "colorscale": {
           "diverging": [
            [
             0,
             "#8e0152"
            ],
            [
             0.1,
             "#c51b7d"
            ],
            [
             0.2,
             "#de77ae"
            ],
            [
             0.3,
             "#f1b6da"
            ],
            [
             0.4,
             "#fde0ef"
            ],
            [
             0.5,
             "#f7f7f7"
            ],
            [
             0.6,
             "#e6f5d0"
            ],
            [
             0.7,
             "#b8e186"
            ],
            [
             0.8,
             "#7fbc41"
            ],
            [
             0.9,
             "#4d9221"
            ],
            [
             1,
             "#276419"
            ]
           ],
           "sequential": [
            [
             0,
             "#0d0887"
            ],
            [
             0.1111111111111111,
             "#46039f"
            ],
            [
             0.2222222222222222,
             "#7201a8"
            ],
            [
             0.3333333333333333,
             "#9c179e"
            ],
            [
             0.4444444444444444,
             "#bd3786"
            ],
            [
             0.5555555555555556,
             "#d8576b"
            ],
            [
             0.6666666666666666,
             "#ed7953"
            ],
            [
             0.7777777777777778,
             "#fb9f3a"
            ],
            [
             0.8888888888888888,
             "#fdca26"
            ],
            [
             1,
             "#f0f921"
            ]
           ],
           "sequentialminus": [
            [
             0,
             "#0d0887"
            ],
            [
             0.1111111111111111,
             "#46039f"
            ],
            [
             0.2222222222222222,
             "#7201a8"
            ],
            [
             0.3333333333333333,
             "#9c179e"
            ],
            [
             0.4444444444444444,
             "#bd3786"
            ],
            [
             0.5555555555555556,
             "#d8576b"
            ],
            [
             0.6666666666666666,
             "#ed7953"
            ],
            [
             0.7777777777777778,
             "#fb9f3a"
            ],
            [
             0.8888888888888888,
             "#fdca26"
            ],
            [
             1,
             "#f0f921"
            ]
           ]
          },
          "colorway": [
           "#636efa",
           "#EF553B",
           "#00cc96",
           "#ab63fa",
           "#FFA15A",
           "#19d3f3",
           "#FF6692",
           "#B6E880",
           "#FF97FF",
           "#FECB52"
          ],
          "font": {
           "color": "#2a3f5f"
          },
          "geo": {
           "bgcolor": "white",
           "lakecolor": "white",
           "landcolor": "#E5ECF6",
           "showlakes": true,
           "showland": true,
           "subunitcolor": "white"
          },
          "hoverlabel": {
           "align": "left"
          },
          "hovermode": "closest",
          "mapbox": {
           "style": "light"
          },
          "paper_bgcolor": "white",
          "plot_bgcolor": "#E5ECF6",
          "polar": {
           "angularaxis": {
            "gridcolor": "white",
            "linecolor": "white",
            "ticks": ""
           },
           "bgcolor": "#E5ECF6",
           "radialaxis": {
            "gridcolor": "white",
            "linecolor": "white",
            "ticks": ""
           }
          },
          "scene": {
           "xaxis": {
            "backgroundcolor": "#E5ECF6",
            "gridcolor": "white",
            "gridwidth": 2,
            "linecolor": "white",
            "showbackground": true,
            "ticks": "",
            "zerolinecolor": "white"
           },
           "yaxis": {
            "backgroundcolor": "#E5ECF6",
            "gridcolor": "white",
            "gridwidth": 2,
            "linecolor": "white",
            "showbackground": true,
            "ticks": "",
            "zerolinecolor": "white"
           },
           "zaxis": {
            "backgroundcolor": "#E5ECF6",
            "gridcolor": "white",
            "gridwidth": 2,
            "linecolor": "white",
            "showbackground": true,
            "ticks": "",
            "zerolinecolor": "white"
           }
          },
          "shapedefaults": {
           "line": {
            "color": "#2a3f5f"
           }
          },
          "ternary": {
           "aaxis": {
            "gridcolor": "white",
            "linecolor": "white",
            "ticks": ""
           },
           "baxis": {
            "gridcolor": "white",
            "linecolor": "white",
            "ticks": ""
           },
           "bgcolor": "#E5ECF6",
           "caxis": {
            "gridcolor": "white",
            "linecolor": "white",
            "ticks": ""
           }
          },
          "title": {
           "x": 0.05
          },
          "xaxis": {
           "automargin": true,
           "gridcolor": "white",
           "linecolor": "white",
           "ticks": "",
           "title": {
            "standoff": 15
           },
           "zerolinecolor": "white",
           "zerolinewidth": 2
          },
          "yaxis": {
           "automargin": true,
           "gridcolor": "white",
           "linecolor": "white",
           "ticks": "",
           "title": {
            "standoff": 15
           },
           "zerolinecolor": "white",
           "zerolinewidth": 2
          }
         }
        }
       }
      },
      "text/html": [
       "<div>                            <div id=\"6cd4680f-17b4-468d-91c1-006af8d62911\" class=\"plotly-graph-div\" style=\"height:1000px; width:100%;\"></div>            <script type=\"text/javascript\">                require([\"plotly\"], function(Plotly) {                    window.PLOTLYENV=window.PLOTLYENV || {};                                    if (document.getElementById(\"6cd4680f-17b4-468d-91c1-006af8d62911\")) {                    Plotly.newPlot(                        \"6cd4680f-17b4-468d-91c1-006af8d62911\",                        [{\"customdata\": [[\"450830238023\", 38.22872340425532], [\"450070101022\", 38.319148936170215], [\"450450028131\", 38.375], [\"450190026122\", 38.65384615384615], [\"450830238021\", 39.483870967741936], [\"450830218042\", 39.65], [\"450190047013\", 40.029411764705884], [\"450790108032\", 40.729729729729726], [\"450450020053\", 41.78260869565217], [\"450790013001\", 57.0]], \"hovertemplate\": \"lat=%{lat}<br>lon=%{lon}<br>FIPS=%{customdata[0]}<br>mean_visits=%{customdata[1]}<extra></extra>\", \"lat\": [34.797708859141146, 34.73341993256706, 34.835982425277145, 32.81913337688523, 34.817389226499444, 34.991911078584955, 32.78329529146189, 34.0683690409065, 34.782808318373114, 34.01227279141471], \"legendgroup\": \"\", \"lon\": [-81.93492663034063, -82.51286814137681, -82.23736952483598, -80.01719764624868, -81.82421087400704, -82.00362622825145, -79.8645494799495, -80.9759218637306, -82.38324054942564, -81.01266790204545], \"marker\": {\"color\": \"fuchsia\"}, \"mode\": \"markers\", \"name\": \"\", \"showlegend\": false, \"subplot\": \"mapbox\", \"type\": \"scattermapbox\"}],                        {\"height\": 1000, \"legend\": {\"tracegroupgap\": 0}, \"mapbox\": {\"accesstoken\": \"pk.eyJ1IjoiZ2xhZGNvbG9yIiwiYSI6ImNrMGc0am1rMDAzdXYzY3BuZ2FhY3kwaWcifQ.LsAN-_5jQ6Sox9pN4upKSw\", \"center\": {\"lat\": 34.26422903411112, \"lon\": -81.47665788402118}, \"domain\": {\"x\": [0.0, 1.0], \"y\": [0.0, 1.0]}, \"style\": \"satellite-streets\", \"zoom\": 2}, \"margin\": {\"b\": 0, \"l\": 0, \"r\": 0, \"t\": 0}, \"template\": {\"data\": {\"bar\": [{\"error_x\": {\"color\": \"#2a3f5f\"}, \"error_y\": {\"color\": \"#2a3f5f\"}, \"marker\": {\"line\": {\"color\": \"#E5ECF6\", \"width\": 0.5}}, \"type\": \"bar\"}], \"barpolar\": [{\"marker\": {\"line\": {\"color\": \"#E5ECF6\", \"width\": 0.5}}, \"type\": \"barpolar\"}], \"carpet\": [{\"aaxis\": {\"endlinecolor\": \"#2a3f5f\", \"gridcolor\": \"white\", \"linecolor\": \"white\", \"minorgridcolor\": \"white\", \"startlinecolor\": \"#2a3f5f\"}, \"baxis\": {\"endlinecolor\": \"#2a3f5f\", \"gridcolor\": \"white\", \"linecolor\": \"white\", \"minorgridcolor\": \"white\", \"startlinecolor\": \"#2a3f5f\"}, \"type\": \"carpet\"}], \"choropleth\": [{\"colorbar\": {\"outlinewidth\": 0, \"ticks\": \"\"}, \"type\": \"choropleth\"}], \"contour\": [{\"colorbar\": {\"outlinewidth\": 0, \"ticks\": \"\"}, \"colorscale\": [[0.0, \"#0d0887\"], [0.1111111111111111, \"#46039f\"], [0.2222222222222222, \"#7201a8\"], [0.3333333333333333, \"#9c179e\"], [0.4444444444444444, \"#bd3786\"], [0.5555555555555556, \"#d8576b\"], [0.6666666666666666, \"#ed7953\"], [0.7777777777777778, \"#fb9f3a\"], [0.8888888888888888, \"#fdca26\"], [1.0, \"#f0f921\"]], \"type\": \"contour\"}], \"contourcarpet\": [{\"colorbar\": {\"outlinewidth\": 0, \"ticks\": \"\"}, \"type\": \"contourcarpet\"}], \"heatmap\": [{\"colorbar\": {\"outlinewidth\": 0, \"ticks\": \"\"}, \"colorscale\": [[0.0, \"#0d0887\"], [0.1111111111111111, \"#46039f\"], [0.2222222222222222, \"#7201a8\"], [0.3333333333333333, \"#9c179e\"], [0.4444444444444444, \"#bd3786\"], [0.5555555555555556, \"#d8576b\"], [0.6666666666666666, \"#ed7953\"], [0.7777777777777778, \"#fb9f3a\"], [0.8888888888888888, \"#fdca26\"], [1.0, \"#f0f921\"]], \"type\": \"heatmap\"}], \"heatmapgl\": [{\"colorbar\": {\"outlinewidth\": 0, \"ticks\": \"\"}, \"colorscale\": [[0.0, \"#0d0887\"], [0.1111111111111111, \"#46039f\"], [0.2222222222222222, \"#7201a8\"], [0.3333333333333333, \"#9c179e\"], [0.4444444444444444, \"#bd3786\"], [0.5555555555555556, \"#d8576b\"], [0.6666666666666666, \"#ed7953\"], [0.7777777777777778, \"#fb9f3a\"], [0.8888888888888888, \"#fdca26\"], [1.0, \"#f0f921\"]], \"type\": \"heatmapgl\"}], \"histogram\": [{\"marker\": {\"colorbar\": {\"outlinewidth\": 0, \"ticks\": \"\"}}, \"type\": \"histogram\"}], \"histogram2d\": [{\"colorbar\": {\"outlinewidth\": 0, \"ticks\": \"\"}, \"colorscale\": [[0.0, \"#0d0887\"], [0.1111111111111111, \"#46039f\"], [0.2222222222222222, \"#7201a8\"], [0.3333333333333333, \"#9c179e\"], [0.4444444444444444, \"#bd3786\"], [0.5555555555555556, \"#d8576b\"], [0.6666666666666666, \"#ed7953\"], [0.7777777777777778, \"#fb9f3a\"], [0.8888888888888888, \"#fdca26\"], [1.0, \"#f0f921\"]], \"type\": \"histogram2d\"}], \"histogram2dcontour\": [{\"colorbar\": {\"outlinewidth\": 0, \"ticks\": \"\"}, \"colorscale\": [[0.0, \"#0d0887\"], [0.1111111111111111, \"#46039f\"], [0.2222222222222222, \"#7201a8\"], [0.3333333333333333, \"#9c179e\"], [0.4444444444444444, \"#bd3786\"], [0.5555555555555556, \"#d8576b\"], [0.6666666666666666, \"#ed7953\"], [0.7777777777777778, \"#fb9f3a\"], [0.8888888888888888, \"#fdca26\"], [1.0, \"#f0f921\"]], \"type\": \"histogram2dcontour\"}], \"mesh3d\": [{\"colorbar\": {\"outlinewidth\": 0, \"ticks\": \"\"}, \"type\": \"mesh3d\"}], \"parcoords\": [{\"line\": {\"colorbar\": {\"outlinewidth\": 0, \"ticks\": \"\"}}, \"type\": \"parcoords\"}], \"pie\": [{\"automargin\": true, \"type\": \"pie\"}], \"scatter\": [{\"marker\": {\"colorbar\": {\"outlinewidth\": 0, \"ticks\": \"\"}}, \"type\": \"scatter\"}], \"scatter3d\": [{\"line\": {\"colorbar\": {\"outlinewidth\": 0, \"ticks\": \"\"}}, \"marker\": {\"colorbar\": {\"outlinewidth\": 0, \"ticks\": \"\"}}, \"type\": \"scatter3d\"}], \"scattercarpet\": [{\"marker\": {\"colorbar\": {\"outlinewidth\": 0, \"ticks\": \"\"}}, \"type\": \"scattercarpet\"}], \"scattergeo\": [{\"marker\": {\"colorbar\": {\"outlinewidth\": 0, \"ticks\": \"\"}}, \"type\": \"scattergeo\"}], \"scattergl\": [{\"marker\": {\"colorbar\": {\"outlinewidth\": 0, \"ticks\": \"\"}}, \"type\": \"scattergl\"}], \"scattermapbox\": [{\"marker\": {\"colorbar\": {\"outlinewidth\": 0, \"ticks\": \"\"}}, \"type\": \"scattermapbox\"}], \"scatterpolar\": [{\"marker\": {\"colorbar\": {\"outlinewidth\": 0, \"ticks\": \"\"}}, \"type\": \"scatterpolar\"}], \"scatterpolargl\": [{\"marker\": {\"colorbar\": {\"outlinewidth\": 0, \"ticks\": \"\"}}, \"type\": \"scatterpolargl\"}], \"scatterternary\": [{\"marker\": {\"colorbar\": {\"outlinewidth\": 0, \"ticks\": \"\"}}, \"type\": \"scatterternary\"}], \"surface\": [{\"colorbar\": {\"outlinewidth\": 0, \"ticks\": \"\"}, \"colorscale\": [[0.0, \"#0d0887\"], [0.1111111111111111, \"#46039f\"], [0.2222222222222222, \"#7201a8\"], [0.3333333333333333, \"#9c179e\"], [0.4444444444444444, \"#bd3786\"], [0.5555555555555556, \"#d8576b\"], [0.6666666666666666, \"#ed7953\"], [0.7777777777777778, \"#fb9f3a\"], [0.8888888888888888, \"#fdca26\"], [1.0, \"#f0f921\"]], \"type\": \"surface\"}], \"table\": [{\"cells\": {\"fill\": {\"color\": \"#EBF0F8\"}, \"line\": {\"color\": \"white\"}}, \"header\": {\"fill\": {\"color\": \"#C8D4E3\"}, \"line\": {\"color\": \"white\"}}, \"type\": \"table\"}]}, \"layout\": {\"annotationdefaults\": {\"arrowcolor\": \"#2a3f5f\", \"arrowhead\": 0, \"arrowwidth\": 1}, \"autotypenumbers\": \"strict\", \"coloraxis\": {\"colorbar\": {\"outlinewidth\": 0, \"ticks\": \"\"}}, \"colorscale\": {\"diverging\": [[0, \"#8e0152\"], [0.1, \"#c51b7d\"], [0.2, \"#de77ae\"], [0.3, \"#f1b6da\"], [0.4, \"#fde0ef\"], [0.5, \"#f7f7f7\"], [0.6, \"#e6f5d0\"], [0.7, \"#b8e186\"], [0.8, \"#7fbc41\"], [0.9, \"#4d9221\"], [1, \"#276419\"]], \"sequential\": [[0.0, \"#0d0887\"], [0.1111111111111111, \"#46039f\"], [0.2222222222222222, \"#7201a8\"], [0.3333333333333333, \"#9c179e\"], [0.4444444444444444, \"#bd3786\"], [0.5555555555555556, \"#d8576b\"], [0.6666666666666666, \"#ed7953\"], [0.7777777777777778, \"#fb9f3a\"], [0.8888888888888888, \"#fdca26\"], [1.0, \"#f0f921\"]], \"sequentialminus\": [[0.0, \"#0d0887\"], [0.1111111111111111, \"#46039f\"], [0.2222222222222222, \"#7201a8\"], [0.3333333333333333, \"#9c179e\"], [0.4444444444444444, \"#bd3786\"], [0.5555555555555556, \"#d8576b\"], [0.6666666666666666, \"#ed7953\"], [0.7777777777777778, \"#fb9f3a\"], [0.8888888888888888, \"#fdca26\"], [1.0, \"#f0f921\"]]}, \"colorway\": [\"#636efa\", \"#EF553B\", \"#00cc96\", \"#ab63fa\", \"#FFA15A\", \"#19d3f3\", \"#FF6692\", \"#B6E880\", \"#FF97FF\", \"#FECB52\"], \"font\": {\"color\": \"#2a3f5f\"}, \"geo\": {\"bgcolor\": \"white\", \"lakecolor\": \"white\", \"landcolor\": \"#E5ECF6\", \"showlakes\": true, \"showland\": true, \"subunitcolor\": \"white\"}, \"hoverlabel\": {\"align\": \"left\"}, \"hovermode\": \"closest\", \"mapbox\": {\"style\": \"light\"}, \"paper_bgcolor\": \"white\", \"plot_bgcolor\": \"#E5ECF6\", \"polar\": {\"angularaxis\": {\"gridcolor\": \"white\", \"linecolor\": \"white\", \"ticks\": \"\"}, \"bgcolor\": \"#E5ECF6\", \"radialaxis\": {\"gridcolor\": \"white\", \"linecolor\": \"white\", \"ticks\": \"\"}}, \"scene\": {\"xaxis\": {\"backgroundcolor\": \"#E5ECF6\", \"gridcolor\": \"white\", \"gridwidth\": 2, \"linecolor\": \"white\", \"showbackground\": true, \"ticks\": \"\", \"zerolinecolor\": \"white\"}, \"yaxis\": {\"backgroundcolor\": \"#E5ECF6\", \"gridcolor\": \"white\", \"gridwidth\": 2, \"linecolor\": \"white\", \"showbackground\": true, \"ticks\": \"\", \"zerolinecolor\": \"white\"}, \"zaxis\": {\"backgroundcolor\": \"#E5ECF6\", \"gridcolor\": \"white\", \"gridwidth\": 2, \"linecolor\": \"white\", \"showbackground\": true, \"ticks\": \"\", \"zerolinecolor\": \"white\"}}, \"shapedefaults\": {\"line\": {\"color\": \"#2a3f5f\"}}, \"ternary\": {\"aaxis\": {\"gridcolor\": \"white\", \"linecolor\": \"white\", \"ticks\": \"\"}, \"baxis\": {\"gridcolor\": \"white\", \"linecolor\": \"white\", \"ticks\": \"\"}, \"bgcolor\": \"#E5ECF6\", \"caxis\": {\"gridcolor\": \"white\", \"linecolor\": \"white\", \"ticks\": \"\"}}, \"title\": {\"x\": 0.05}, \"xaxis\": {\"automargin\": true, \"gridcolor\": \"white\", \"linecolor\": \"white\", \"ticks\": \"\", \"title\": {\"standoff\": 15}, \"zerolinecolor\": \"white\", \"zerolinewidth\": 2}, \"yaxis\": {\"automargin\": true, \"gridcolor\": \"white\", \"linecolor\": \"white\", \"ticks\": \"\", \"title\": {\"standoff\": 15}, \"zerolinecolor\": \"white\", \"zerolinewidth\": 2}}}},                        {\"responsive\": true}                    ).then(function(){\n",
       "                            \n",
       "var gd = document.getElementById('6cd4680f-17b4-468d-91c1-006af8d62911');\n",
       "var x = new MutationObserver(function (mutations, observer) {{\n",
       "        var display = window.getComputedStyle(gd).display;\n",
       "        if (!display || display === 'none') {{\n",
       "            console.log([gd, 'removed!']);\n",
       "            Plotly.purge(gd);\n",
       "            observer.disconnect();\n",
       "        }}\n",
       "}});\n",
       "\n",
       "// Listen for the removal of the full notebook cells\n",
       "var notebookContainer = gd.closest('#notebook-container');\n",
       "if (notebookContainer) {{\n",
       "    x.observe(notebookContainer, {childList: true});\n",
       "}}\n",
       "\n",
       "// Listen for the clearing of the current output cell\n",
       "var outputEl = gd.closest('.output');\n",
       "if (outputEl) {{\n",
       "    x.observe(outputEl, {childList: true});\n",
       "}}\n",
       "\n",
       "                        })                };                });            </script>        </div>"
      ]
     },
     "metadata": {},
     "output_type": "display_data"
    }
   ],
   "source": [
    "# fig = go.Figure(go.Scattermapbox())\n",
    "# fig = go.Figure(go.Scattergeo())\n",
    "\n",
    "fig = px.scatter_mapbox(high_visits, lat=\"lat\", lon=\"lon\",  hover_data=[\"FIPS\", \"mean_visits\"],\n",
    "                          zoom=2,\n",
    "                          color_discrete_sequence=[\"fuchsia\"])\n",
    "\n",
    "\n",
    "\n",
    "\n",
    "\n",
    "# draw county boundaries\n",
    "'''\n",
    "for idx, row in high_visits.iterrows():\n",
    "    if isinstance(row['geometry'], shapely.geometry.MultiPolygon):\n",
    "        print('MultiPolygon' )\n",
    "    else:\n",
    "        polygon_lons = row['geometry'].exterior.coords.xy[0]\n",
    "        polygon_lats = row['geometry'].exterior.coords.xy[1]\n",
    "        #print(polygon_lons)\n",
    "        #print(polygon_lats)\n",
    "        fig.add_trace(\n",
    "            go.Scattergeo(\n",
    "                #locationmode = 'USA-states',\n",
    "                lon = np.array(polygon_lons),\n",
    "                lat = np.array(polygon_lats),\n",
    "                mode = 'lines',\n",
    "                line = dict(width = 2,color = 'red'),\n",
    "                opacity = 0.5,\n",
    "                fill=\"toself\",\n",
    "                \n",
    "            )\n",
    "        )\n",
    "'''\n",
    "\n",
    "###    \n",
    "fig.update_layout(\n",
    "    mapbox_style=\"satellite-streets\",  \n",
    "     # mapbox_style=\"stamen-terrain\",  \n",
    "                  mapbox_accesstoken=mapbox_token,        \n",
    "                 )\n",
    "\n",
    "fig.update_layout(margin={\"r\":0,\"t\":0,\"l\":0,\"b\":0}, \\\n",
    "                  height=1000)\n",
    "fig.show()"
   ]
  },
  {
   "cell_type": "code",
   "execution_count": 65,
   "metadata": {
    "ExecuteTime": {
     "end_time": "2021-06-07T14:35:51.513647Z",
     "start_time": "2021-06-07T14:35:51.459156Z"
    }
   },
   "outputs": [
    {
     "data": {
      "application/vnd.plotly.v1+json": {
       "config": {
        "plotlyServerURL": "https://plot.ly"
       },
       "data": [
        {
         "coloraxis": "coloraxis",
         "customdata": [
          [
           "450830238023"
          ],
          [
           "450070101022"
          ],
          [
           "450450028131"
          ],
          [
           "450190026122"
          ],
          [
           "450830238021"
          ],
          [
           "450830218042"
          ],
          [
           "450190047013"
          ],
          [
           "450790108032"
          ],
          [
           "450450020053"
          ],
          [
           "450790013001"
          ]
         ],
         "hovertemplate": "mean_visits=%{z}<br>lat=%{lat}<br>lon=%{lon}<br>FIPS=%{customdata[0]}<extra></extra>",
         "lat": [
          34.797708859141146,
          34.73341993256706,
          34.835982425277145,
          32.81913337688523,
          34.817389226499444,
          34.991911078584955,
          32.78329529146189,
          34.0683690409065,
          34.782808318373114,
          34.01227279141471
         ],
         "lon": [
          -81.93492663034063,
          -82.51286814137681,
          -82.23736952483598,
          -80.01719764624868,
          -81.82421087400704,
          -82.00362622825145,
          -79.8645494799495,
          -80.9759218637306,
          -82.38324054942564,
          -81.01266790204545
         ],
         "name": "",
         "radius": 10,
         "subplot": "mapbox",
         "type": "densitymapbox",
         "z": [
          38.22872340425532,
          38.319148936170215,
          38.375,
          38.65384615384615,
          39.483870967741936,
          39.65,
          40.029411764705884,
          40.729729729729726,
          41.78260869565217,
          57
         ]
        }
       ],
       "layout": {
        "coloraxis": {
         "colorbar": {
          "title": {
           "text": "mean_visits"
          }
         },
         "colorscale": [
          [
           0,
           "#0d0887"
          ],
          [
           0.1111111111111111,
           "#46039f"
          ],
          [
           0.2222222222222222,
           "#7201a8"
          ],
          [
           0.3333333333333333,
           "#9c179e"
          ],
          [
           0.4444444444444444,
           "#bd3786"
          ],
          [
           0.5555555555555556,
           "#d8576b"
          ],
          [
           0.6666666666666666,
           "#ed7953"
          ],
          [
           0.7777777777777778,
           "#fb9f3a"
          ],
          [
           0.8888888888888888,
           "#fdca26"
          ],
          [
           1,
           "#f0f921"
          ]
         ]
        },
        "height": 1000,
        "legend": {
         "tracegroupgap": 0
        },
        "mapbox": {
         "accesstoken": "pk.eyJ1IjoiZ2xhZGNvbG9yIiwiYSI6ImNrMGc0am1rMDAzdXYzY3BuZ2FhY3kwaWcifQ.LsAN-_5jQ6Sox9pN4upKSw",
         "center": {
          "lat": 34.26422903411112,
          "lon": -81.47665788402118
         },
         "domain": {
          "x": [
           0,
           1
          ],
          "y": [
           0,
           1
          ]
         },
         "style": "satellite-streets",
         "zoom": 3
        },
        "margin": {
         "t": 60
        },
        "template": {
         "data": {
          "bar": [
           {
            "error_x": {
             "color": "#2a3f5f"
            },
            "error_y": {
             "color": "#2a3f5f"
            },
            "marker": {
             "line": {
              "color": "#E5ECF6",
              "width": 0.5
             }
            },
            "type": "bar"
           }
          ],
          "barpolar": [
           {
            "marker": {
             "line": {
              "color": "#E5ECF6",
              "width": 0.5
             }
            },
            "type": "barpolar"
           }
          ],
          "carpet": [
           {
            "aaxis": {
             "endlinecolor": "#2a3f5f",
             "gridcolor": "white",
             "linecolor": "white",
             "minorgridcolor": "white",
             "startlinecolor": "#2a3f5f"
            },
            "baxis": {
             "endlinecolor": "#2a3f5f",
             "gridcolor": "white",
             "linecolor": "white",
             "minorgridcolor": "white",
             "startlinecolor": "#2a3f5f"
            },
            "type": "carpet"
           }
          ],
          "choropleth": [
           {
            "colorbar": {
             "outlinewidth": 0,
             "ticks": ""
            },
            "type": "choropleth"
           }
          ],
          "contour": [
           {
            "colorbar": {
             "outlinewidth": 0,
             "ticks": ""
            },
            "colorscale": [
             [
              0,
              "#0d0887"
             ],
             [
              0.1111111111111111,
              "#46039f"
             ],
             [
              0.2222222222222222,
              "#7201a8"
             ],
             [
              0.3333333333333333,
              "#9c179e"
             ],
             [
              0.4444444444444444,
              "#bd3786"
             ],
             [
              0.5555555555555556,
              "#d8576b"
             ],
             [
              0.6666666666666666,
              "#ed7953"
             ],
             [
              0.7777777777777778,
              "#fb9f3a"
             ],
             [
              0.8888888888888888,
              "#fdca26"
             ],
             [
              1,
              "#f0f921"
             ]
            ],
            "type": "contour"
           }
          ],
          "contourcarpet": [
           {
            "colorbar": {
             "outlinewidth": 0,
             "ticks": ""
            },
            "type": "contourcarpet"
           }
          ],
          "heatmap": [
           {
            "colorbar": {
             "outlinewidth": 0,
             "ticks": ""
            },
            "colorscale": [
             [
              0,
              "#0d0887"
             ],
             [
              0.1111111111111111,
              "#46039f"
             ],
             [
              0.2222222222222222,
              "#7201a8"
             ],
             [
              0.3333333333333333,
              "#9c179e"
             ],
             [
              0.4444444444444444,
              "#bd3786"
             ],
             [
              0.5555555555555556,
              "#d8576b"
             ],
             [
              0.6666666666666666,
              "#ed7953"
             ],
             [
              0.7777777777777778,
              "#fb9f3a"
             ],
             [
              0.8888888888888888,
              "#fdca26"
             ],
             [
              1,
              "#f0f921"
             ]
            ],
            "type": "heatmap"
           }
          ],
          "heatmapgl": [
           {
            "colorbar": {
             "outlinewidth": 0,
             "ticks": ""
            },
            "colorscale": [
             [
              0,
              "#0d0887"
             ],
             [
              0.1111111111111111,
              "#46039f"
             ],
             [
              0.2222222222222222,
              "#7201a8"
             ],
             [
              0.3333333333333333,
              "#9c179e"
             ],
             [
              0.4444444444444444,
              "#bd3786"
             ],
             [
              0.5555555555555556,
              "#d8576b"
             ],
             [
              0.6666666666666666,
              "#ed7953"
             ],
             [
              0.7777777777777778,
              "#fb9f3a"
             ],
             [
              0.8888888888888888,
              "#fdca26"
             ],
             [
              1,
              "#f0f921"
             ]
            ],
            "type": "heatmapgl"
           }
          ],
          "histogram": [
           {
            "marker": {
             "colorbar": {
              "outlinewidth": 0,
              "ticks": ""
             }
            },
            "type": "histogram"
           }
          ],
          "histogram2d": [
           {
            "colorbar": {
             "outlinewidth": 0,
             "ticks": ""
            },
            "colorscale": [
             [
              0,
              "#0d0887"
             ],
             [
              0.1111111111111111,
              "#46039f"
             ],
             [
              0.2222222222222222,
              "#7201a8"
             ],
             [
              0.3333333333333333,
              "#9c179e"
             ],
             [
              0.4444444444444444,
              "#bd3786"
             ],
             [
              0.5555555555555556,
              "#d8576b"
             ],
             [
              0.6666666666666666,
              "#ed7953"
             ],
             [
              0.7777777777777778,
              "#fb9f3a"
             ],
             [
              0.8888888888888888,
              "#fdca26"
             ],
             [
              1,
              "#f0f921"
             ]
            ],
            "type": "histogram2d"
           }
          ],
          "histogram2dcontour": [
           {
            "colorbar": {
             "outlinewidth": 0,
             "ticks": ""
            },
            "colorscale": [
             [
              0,
              "#0d0887"
             ],
             [
              0.1111111111111111,
              "#46039f"
             ],
             [
              0.2222222222222222,
              "#7201a8"
             ],
             [
              0.3333333333333333,
              "#9c179e"
             ],
             [
              0.4444444444444444,
              "#bd3786"
             ],
             [
              0.5555555555555556,
              "#d8576b"
             ],
             [
              0.6666666666666666,
              "#ed7953"
             ],
             [
              0.7777777777777778,
              "#fb9f3a"
             ],
             [
              0.8888888888888888,
              "#fdca26"
             ],
             [
              1,
              "#f0f921"
             ]
            ],
            "type": "histogram2dcontour"
           }
          ],
          "mesh3d": [
           {
            "colorbar": {
             "outlinewidth": 0,
             "ticks": ""
            },
            "type": "mesh3d"
           }
          ],
          "parcoords": [
           {
            "line": {
             "colorbar": {
              "outlinewidth": 0,
              "ticks": ""
             }
            },
            "type": "parcoords"
           }
          ],
          "pie": [
           {
            "automargin": true,
            "type": "pie"
           }
          ],
          "scatter": [
           {
            "marker": {
             "colorbar": {
              "outlinewidth": 0,
              "ticks": ""
             }
            },
            "type": "scatter"
           }
          ],
          "scatter3d": [
           {
            "line": {
             "colorbar": {
              "outlinewidth": 0,
              "ticks": ""
             }
            },
            "marker": {
             "colorbar": {
              "outlinewidth": 0,
              "ticks": ""
             }
            },
            "type": "scatter3d"
           }
          ],
          "scattercarpet": [
           {
            "marker": {
             "colorbar": {
              "outlinewidth": 0,
              "ticks": ""
             }
            },
            "type": "scattercarpet"
           }
          ],
          "scattergeo": [
           {
            "marker": {
             "colorbar": {
              "outlinewidth": 0,
              "ticks": ""
             }
            },
            "type": "scattergeo"
           }
          ],
          "scattergl": [
           {
            "marker": {
             "colorbar": {
              "outlinewidth": 0,
              "ticks": ""
             }
            },
            "type": "scattergl"
           }
          ],
          "scattermapbox": [
           {
            "marker": {
             "colorbar": {
              "outlinewidth": 0,
              "ticks": ""
             }
            },
            "type": "scattermapbox"
           }
          ],
          "scatterpolar": [
           {
            "marker": {
             "colorbar": {
              "outlinewidth": 0,
              "ticks": ""
             }
            },
            "type": "scatterpolar"
           }
          ],
          "scatterpolargl": [
           {
            "marker": {
             "colorbar": {
              "outlinewidth": 0,
              "ticks": ""
             }
            },
            "type": "scatterpolargl"
           }
          ],
          "scatterternary": [
           {
            "marker": {
             "colorbar": {
              "outlinewidth": 0,
              "ticks": ""
             }
            },
            "type": "scatterternary"
           }
          ],
          "surface": [
           {
            "colorbar": {
             "outlinewidth": 0,
             "ticks": ""
            },
            "colorscale": [
             [
              0,
              "#0d0887"
             ],
             [
              0.1111111111111111,
              "#46039f"
             ],
             [
              0.2222222222222222,
              "#7201a8"
             ],
             [
              0.3333333333333333,
              "#9c179e"
             ],
             [
              0.4444444444444444,
              "#bd3786"
             ],
             [
              0.5555555555555556,
              "#d8576b"
             ],
             [
              0.6666666666666666,
              "#ed7953"
             ],
             [
              0.7777777777777778,
              "#fb9f3a"
             ],
             [
              0.8888888888888888,
              "#fdca26"
             ],
             [
              1,
              "#f0f921"
             ]
            ],
            "type": "surface"
           }
          ],
          "table": [
           {
            "cells": {
             "fill": {
              "color": "#EBF0F8"
             },
             "line": {
              "color": "white"
             }
            },
            "header": {
             "fill": {
              "color": "#C8D4E3"
             },
             "line": {
              "color": "white"
             }
            },
            "type": "table"
           }
          ]
         },
         "layout": {
          "annotationdefaults": {
           "arrowcolor": "#2a3f5f",
           "arrowhead": 0,
           "arrowwidth": 1
          },
          "autotypenumbers": "strict",
          "coloraxis": {
           "colorbar": {
            "outlinewidth": 0,
            "ticks": ""
           }
          },
          "colorscale": {
           "diverging": [
            [
             0,
             "#8e0152"
            ],
            [
             0.1,
             "#c51b7d"
            ],
            [
             0.2,
             "#de77ae"
            ],
            [
             0.3,
             "#f1b6da"
            ],
            [
             0.4,
             "#fde0ef"
            ],
            [
             0.5,
             "#f7f7f7"
            ],
            [
             0.6,
             "#e6f5d0"
            ],
            [
             0.7,
             "#b8e186"
            ],
            [
             0.8,
             "#7fbc41"
            ],
            [
             0.9,
             "#4d9221"
            ],
            [
             1,
             "#276419"
            ]
           ],
           "sequential": [
            [
             0,
             "#0d0887"
            ],
            [
             0.1111111111111111,
             "#46039f"
            ],
            [
             0.2222222222222222,
             "#7201a8"
            ],
            [
             0.3333333333333333,
             "#9c179e"
            ],
            [
             0.4444444444444444,
             "#bd3786"
            ],
            [
             0.5555555555555556,
             "#d8576b"
            ],
            [
             0.6666666666666666,
             "#ed7953"
            ],
            [
             0.7777777777777778,
             "#fb9f3a"
            ],
            [
             0.8888888888888888,
             "#fdca26"
            ],
            [
             1,
             "#f0f921"
            ]
           ],
           "sequentialminus": [
            [
             0,
             "#0d0887"
            ],
            [
             0.1111111111111111,
             "#46039f"
            ],
            [
             0.2222222222222222,
             "#7201a8"
            ],
            [
             0.3333333333333333,
             "#9c179e"
            ],
            [
             0.4444444444444444,
             "#bd3786"
            ],
            [
             0.5555555555555556,
             "#d8576b"
            ],
            [
             0.6666666666666666,
             "#ed7953"
            ],
            [
             0.7777777777777778,
             "#fb9f3a"
            ],
            [
             0.8888888888888888,
             "#fdca26"
            ],
            [
             1,
             "#f0f921"
            ]
           ]
          },
          "colorway": [
           "#636efa",
           "#EF553B",
           "#00cc96",
           "#ab63fa",
           "#FFA15A",
           "#19d3f3",
           "#FF6692",
           "#B6E880",
           "#FF97FF",
           "#FECB52"
          ],
          "font": {
           "color": "#2a3f5f"
          },
          "geo": {
           "bgcolor": "white",
           "lakecolor": "white",
           "landcolor": "#E5ECF6",
           "showlakes": true,
           "showland": true,
           "subunitcolor": "white"
          },
          "hoverlabel": {
           "align": "left"
          },
          "hovermode": "closest",
          "mapbox": {
           "style": "light"
          },
          "paper_bgcolor": "white",
          "plot_bgcolor": "#E5ECF6",
          "polar": {
           "angularaxis": {
            "gridcolor": "white",
            "linecolor": "white",
            "ticks": ""
           },
           "bgcolor": "#E5ECF6",
           "radialaxis": {
            "gridcolor": "white",
            "linecolor": "white",
            "ticks": ""
           }
          },
          "scene": {
           "xaxis": {
            "backgroundcolor": "#E5ECF6",
            "gridcolor": "white",
            "gridwidth": 2,
            "linecolor": "white",
            "showbackground": true,
            "ticks": "",
            "zerolinecolor": "white"
           },
           "yaxis": {
            "backgroundcolor": "#E5ECF6",
            "gridcolor": "white",
            "gridwidth": 2,
            "linecolor": "white",
            "showbackground": true,
            "ticks": "",
            "zerolinecolor": "white"
           },
           "zaxis": {
            "backgroundcolor": "#E5ECF6",
            "gridcolor": "white",
            "gridwidth": 2,
            "linecolor": "white",
            "showbackground": true,
            "ticks": "",
            "zerolinecolor": "white"
           }
          },
          "shapedefaults": {
           "line": {
            "color": "#2a3f5f"
           }
          },
          "ternary": {
           "aaxis": {
            "gridcolor": "white",
            "linecolor": "white",
            "ticks": ""
           },
           "baxis": {
            "gridcolor": "white",
            "linecolor": "white",
            "ticks": ""
           },
           "bgcolor": "#E5ECF6",
           "caxis": {
            "gridcolor": "white",
            "linecolor": "white",
            "ticks": ""
           }
          },
          "title": {
           "x": 0.05
          },
          "xaxis": {
           "automargin": true,
           "gridcolor": "white",
           "linecolor": "white",
           "ticks": "",
           "title": {
            "standoff": 15
           },
           "zerolinecolor": "white",
           "zerolinewidth": 2
          },
          "yaxis": {
           "automargin": true,
           "gridcolor": "white",
           "linecolor": "white",
           "ticks": "",
           "title": {
            "standoff": 15
           },
           "zerolinecolor": "white",
           "zerolinewidth": 2
          }
         }
        }
       }
      },
      "text/html": [
       "<div>                            <div id=\"6b1fd259-d46d-4306-955b-2e52bd51761c\" class=\"plotly-graph-div\" style=\"height:1000px; width:100%;\"></div>            <script type=\"text/javascript\">                require([\"plotly\"], function(Plotly) {                    window.PLOTLYENV=window.PLOTLYENV || {};                                    if (document.getElementById(\"6b1fd259-d46d-4306-955b-2e52bd51761c\")) {                    Plotly.newPlot(                        \"6b1fd259-d46d-4306-955b-2e52bd51761c\",                        [{\"coloraxis\": \"coloraxis\", \"customdata\": [[\"450830238023\"], [\"450070101022\"], [\"450450028131\"], [\"450190026122\"], [\"450830238021\"], [\"450830218042\"], [\"450190047013\"], [\"450790108032\"], [\"450450020053\"], [\"450790013001\"]], \"hovertemplate\": \"mean_visits=%{z}<br>lat=%{lat}<br>lon=%{lon}<br>FIPS=%{customdata[0]}<extra></extra>\", \"lat\": [34.797708859141146, 34.73341993256706, 34.835982425277145, 32.81913337688523, 34.817389226499444, 34.991911078584955, 32.78329529146189, 34.0683690409065, 34.782808318373114, 34.01227279141471], \"lon\": [-81.93492663034063, -82.51286814137681, -82.23736952483598, -80.01719764624868, -81.82421087400704, -82.00362622825145, -79.8645494799495, -80.9759218637306, -82.38324054942564, -81.01266790204545], \"name\": \"\", \"radius\": 10, \"subplot\": \"mapbox\", \"type\": \"densitymapbox\", \"z\": [38.22872340425532, 38.319148936170215, 38.375, 38.65384615384615, 39.483870967741936, 39.65, 40.029411764705884, 40.729729729729726, 41.78260869565217, 57.0]}],                        {\"coloraxis\": {\"colorbar\": {\"title\": {\"text\": \"mean_visits\"}}, \"colorscale\": [[0.0, \"#0d0887\"], [0.1111111111111111, \"#46039f\"], [0.2222222222222222, \"#7201a8\"], [0.3333333333333333, \"#9c179e\"], [0.4444444444444444, \"#bd3786\"], [0.5555555555555556, \"#d8576b\"], [0.6666666666666666, \"#ed7953\"], [0.7777777777777778, \"#fb9f3a\"], [0.8888888888888888, \"#fdca26\"], [1.0, \"#f0f921\"]]}, \"height\": 1000, \"legend\": {\"tracegroupgap\": 0}, \"mapbox\": {\"accesstoken\": \"pk.eyJ1IjoiZ2xhZGNvbG9yIiwiYSI6ImNrMGc0am1rMDAzdXYzY3BuZ2FhY3kwaWcifQ.LsAN-_5jQ6Sox9pN4upKSw\", \"center\": {\"lat\": 34.26422903411112, \"lon\": -81.47665788402118}, \"domain\": {\"x\": [0.0, 1.0], \"y\": [0.0, 1.0]}, \"style\": \"satellite-streets\", \"zoom\": 3}, \"margin\": {\"t\": 60}, \"template\": {\"data\": {\"bar\": [{\"error_x\": {\"color\": \"#2a3f5f\"}, \"error_y\": {\"color\": \"#2a3f5f\"}, \"marker\": {\"line\": {\"color\": \"#E5ECF6\", \"width\": 0.5}}, \"type\": \"bar\"}], \"barpolar\": [{\"marker\": {\"line\": {\"color\": \"#E5ECF6\", \"width\": 0.5}}, \"type\": \"barpolar\"}], \"carpet\": [{\"aaxis\": {\"endlinecolor\": \"#2a3f5f\", \"gridcolor\": \"white\", \"linecolor\": \"white\", \"minorgridcolor\": \"white\", \"startlinecolor\": \"#2a3f5f\"}, \"baxis\": {\"endlinecolor\": \"#2a3f5f\", \"gridcolor\": \"white\", \"linecolor\": \"white\", \"minorgridcolor\": \"white\", \"startlinecolor\": \"#2a3f5f\"}, \"type\": \"carpet\"}], \"choropleth\": [{\"colorbar\": {\"outlinewidth\": 0, \"ticks\": \"\"}, \"type\": \"choropleth\"}], \"contour\": [{\"colorbar\": {\"outlinewidth\": 0, \"ticks\": \"\"}, \"colorscale\": [[0.0, \"#0d0887\"], [0.1111111111111111, \"#46039f\"], [0.2222222222222222, \"#7201a8\"], [0.3333333333333333, \"#9c179e\"], [0.4444444444444444, \"#bd3786\"], [0.5555555555555556, \"#d8576b\"], [0.6666666666666666, \"#ed7953\"], [0.7777777777777778, \"#fb9f3a\"], [0.8888888888888888, \"#fdca26\"], [1.0, \"#f0f921\"]], \"type\": \"contour\"}], \"contourcarpet\": [{\"colorbar\": {\"outlinewidth\": 0, \"ticks\": \"\"}, \"type\": \"contourcarpet\"}], \"heatmap\": [{\"colorbar\": {\"outlinewidth\": 0, \"ticks\": \"\"}, \"colorscale\": [[0.0, \"#0d0887\"], [0.1111111111111111, \"#46039f\"], [0.2222222222222222, \"#7201a8\"], [0.3333333333333333, \"#9c179e\"], [0.4444444444444444, \"#bd3786\"], [0.5555555555555556, \"#d8576b\"], [0.6666666666666666, \"#ed7953\"], [0.7777777777777778, \"#fb9f3a\"], [0.8888888888888888, \"#fdca26\"], [1.0, \"#f0f921\"]], \"type\": \"heatmap\"}], \"heatmapgl\": [{\"colorbar\": {\"outlinewidth\": 0, \"ticks\": \"\"}, \"colorscale\": [[0.0, \"#0d0887\"], [0.1111111111111111, \"#46039f\"], [0.2222222222222222, \"#7201a8\"], [0.3333333333333333, \"#9c179e\"], [0.4444444444444444, \"#bd3786\"], [0.5555555555555556, \"#d8576b\"], [0.6666666666666666, \"#ed7953\"], [0.7777777777777778, \"#fb9f3a\"], [0.8888888888888888, \"#fdca26\"], [1.0, \"#f0f921\"]], \"type\": \"heatmapgl\"}], \"histogram\": [{\"marker\": {\"colorbar\": {\"outlinewidth\": 0, \"ticks\": \"\"}}, \"type\": \"histogram\"}], \"histogram2d\": [{\"colorbar\": {\"outlinewidth\": 0, \"ticks\": \"\"}, \"colorscale\": [[0.0, \"#0d0887\"], [0.1111111111111111, \"#46039f\"], [0.2222222222222222, \"#7201a8\"], [0.3333333333333333, \"#9c179e\"], [0.4444444444444444, \"#bd3786\"], [0.5555555555555556, \"#d8576b\"], [0.6666666666666666, \"#ed7953\"], [0.7777777777777778, \"#fb9f3a\"], [0.8888888888888888, \"#fdca26\"], [1.0, \"#f0f921\"]], \"type\": \"histogram2d\"}], \"histogram2dcontour\": [{\"colorbar\": {\"outlinewidth\": 0, \"ticks\": \"\"}, \"colorscale\": [[0.0, \"#0d0887\"], [0.1111111111111111, \"#46039f\"], [0.2222222222222222, \"#7201a8\"], [0.3333333333333333, \"#9c179e\"], [0.4444444444444444, \"#bd3786\"], [0.5555555555555556, \"#d8576b\"], [0.6666666666666666, \"#ed7953\"], [0.7777777777777778, \"#fb9f3a\"], [0.8888888888888888, \"#fdca26\"], [1.0, \"#f0f921\"]], \"type\": \"histogram2dcontour\"}], \"mesh3d\": [{\"colorbar\": {\"outlinewidth\": 0, \"ticks\": \"\"}, \"type\": \"mesh3d\"}], \"parcoords\": [{\"line\": {\"colorbar\": {\"outlinewidth\": 0, \"ticks\": \"\"}}, \"type\": \"parcoords\"}], \"pie\": [{\"automargin\": true, \"type\": \"pie\"}], \"scatter\": [{\"marker\": {\"colorbar\": {\"outlinewidth\": 0, \"ticks\": \"\"}}, \"type\": \"scatter\"}], \"scatter3d\": [{\"line\": {\"colorbar\": {\"outlinewidth\": 0, \"ticks\": \"\"}}, \"marker\": {\"colorbar\": {\"outlinewidth\": 0, \"ticks\": \"\"}}, \"type\": \"scatter3d\"}], \"scattercarpet\": [{\"marker\": {\"colorbar\": {\"outlinewidth\": 0, \"ticks\": \"\"}}, \"type\": \"scattercarpet\"}], \"scattergeo\": [{\"marker\": {\"colorbar\": {\"outlinewidth\": 0, \"ticks\": \"\"}}, \"type\": \"scattergeo\"}], \"scattergl\": [{\"marker\": {\"colorbar\": {\"outlinewidth\": 0, \"ticks\": \"\"}}, \"type\": \"scattergl\"}], \"scattermapbox\": [{\"marker\": {\"colorbar\": {\"outlinewidth\": 0, \"ticks\": \"\"}}, \"type\": \"scattermapbox\"}], \"scatterpolar\": [{\"marker\": {\"colorbar\": {\"outlinewidth\": 0, \"ticks\": \"\"}}, \"type\": \"scatterpolar\"}], \"scatterpolargl\": [{\"marker\": {\"colorbar\": {\"outlinewidth\": 0, \"ticks\": \"\"}}, \"type\": \"scatterpolargl\"}], \"scatterternary\": [{\"marker\": {\"colorbar\": {\"outlinewidth\": 0, \"ticks\": \"\"}}, \"type\": \"scatterternary\"}], \"surface\": [{\"colorbar\": {\"outlinewidth\": 0, \"ticks\": \"\"}, \"colorscale\": [[0.0, \"#0d0887\"], [0.1111111111111111, \"#46039f\"], [0.2222222222222222, \"#7201a8\"], [0.3333333333333333, \"#9c179e\"], [0.4444444444444444, \"#bd3786\"], [0.5555555555555556, \"#d8576b\"], [0.6666666666666666, \"#ed7953\"], [0.7777777777777778, \"#fb9f3a\"], [0.8888888888888888, \"#fdca26\"], [1.0, \"#f0f921\"]], \"type\": \"surface\"}], \"table\": [{\"cells\": {\"fill\": {\"color\": \"#EBF0F8\"}, \"line\": {\"color\": \"white\"}}, \"header\": {\"fill\": {\"color\": \"#C8D4E3\"}, \"line\": {\"color\": \"white\"}}, \"type\": \"table\"}]}, \"layout\": {\"annotationdefaults\": {\"arrowcolor\": \"#2a3f5f\", \"arrowhead\": 0, \"arrowwidth\": 1}, \"autotypenumbers\": \"strict\", \"coloraxis\": {\"colorbar\": {\"outlinewidth\": 0, \"ticks\": \"\"}}, \"colorscale\": {\"diverging\": [[0, \"#8e0152\"], [0.1, \"#c51b7d\"], [0.2, \"#de77ae\"], [0.3, \"#f1b6da\"], [0.4, \"#fde0ef\"], [0.5, \"#f7f7f7\"], [0.6, \"#e6f5d0\"], [0.7, \"#b8e186\"], [0.8, \"#7fbc41\"], [0.9, \"#4d9221\"], [1, \"#276419\"]], \"sequential\": [[0.0, \"#0d0887\"], [0.1111111111111111, \"#46039f\"], [0.2222222222222222, \"#7201a8\"], [0.3333333333333333, \"#9c179e\"], [0.4444444444444444, \"#bd3786\"], [0.5555555555555556, \"#d8576b\"], [0.6666666666666666, \"#ed7953\"], [0.7777777777777778, \"#fb9f3a\"], [0.8888888888888888, \"#fdca26\"], [1.0, \"#f0f921\"]], \"sequentialminus\": [[0.0, \"#0d0887\"], [0.1111111111111111, \"#46039f\"], [0.2222222222222222, \"#7201a8\"], [0.3333333333333333, \"#9c179e\"], [0.4444444444444444, \"#bd3786\"], [0.5555555555555556, \"#d8576b\"], [0.6666666666666666, \"#ed7953\"], [0.7777777777777778, \"#fb9f3a\"], [0.8888888888888888, \"#fdca26\"], [1.0, \"#f0f921\"]]}, \"colorway\": [\"#636efa\", \"#EF553B\", \"#00cc96\", \"#ab63fa\", \"#FFA15A\", \"#19d3f3\", \"#FF6692\", \"#B6E880\", \"#FF97FF\", \"#FECB52\"], \"font\": {\"color\": \"#2a3f5f\"}, \"geo\": {\"bgcolor\": \"white\", \"lakecolor\": \"white\", \"landcolor\": \"#E5ECF6\", \"showlakes\": true, \"showland\": true, \"subunitcolor\": \"white\"}, \"hoverlabel\": {\"align\": \"left\"}, \"hovermode\": \"closest\", \"mapbox\": {\"style\": \"light\"}, \"paper_bgcolor\": \"white\", \"plot_bgcolor\": \"#E5ECF6\", \"polar\": {\"angularaxis\": {\"gridcolor\": \"white\", \"linecolor\": \"white\", \"ticks\": \"\"}, \"bgcolor\": \"#E5ECF6\", \"radialaxis\": {\"gridcolor\": \"white\", \"linecolor\": \"white\", \"ticks\": \"\"}}, \"scene\": {\"xaxis\": {\"backgroundcolor\": \"#E5ECF6\", \"gridcolor\": \"white\", \"gridwidth\": 2, \"linecolor\": \"white\", \"showbackground\": true, \"ticks\": \"\", \"zerolinecolor\": \"white\"}, \"yaxis\": {\"backgroundcolor\": \"#E5ECF6\", \"gridcolor\": \"white\", \"gridwidth\": 2, \"linecolor\": \"white\", \"showbackground\": true, \"ticks\": \"\", \"zerolinecolor\": \"white\"}, \"zaxis\": {\"backgroundcolor\": \"#E5ECF6\", \"gridcolor\": \"white\", \"gridwidth\": 2, \"linecolor\": \"white\", \"showbackground\": true, \"ticks\": \"\", \"zerolinecolor\": \"white\"}}, \"shapedefaults\": {\"line\": {\"color\": \"#2a3f5f\"}}, \"ternary\": {\"aaxis\": {\"gridcolor\": \"white\", \"linecolor\": \"white\", \"ticks\": \"\"}, \"baxis\": {\"gridcolor\": \"white\", \"linecolor\": \"white\", \"ticks\": \"\"}, \"bgcolor\": \"#E5ECF6\", \"caxis\": {\"gridcolor\": \"white\", \"linecolor\": \"white\", \"ticks\": \"\"}}, \"title\": {\"x\": 0.05}, \"xaxis\": {\"automargin\": true, \"gridcolor\": \"white\", \"linecolor\": \"white\", \"ticks\": \"\", \"title\": {\"standoff\": 15}, \"zerolinecolor\": \"white\", \"zerolinewidth\": 2}, \"yaxis\": {\"automargin\": true, \"gridcolor\": \"white\", \"linecolor\": \"white\", \"ticks\": \"\", \"title\": {\"standoff\": 15}, \"zerolinecolor\": \"white\", \"zerolinewidth\": 2}}}},                        {\"responsive\": true}                    ).then(function(){\n",
       "                            \n",
       "var gd = document.getElementById('6b1fd259-d46d-4306-955b-2e52bd51761c');\n",
       "var x = new MutationObserver(function (mutations, observer) {{\n",
       "        var display = window.getComputedStyle(gd).display;\n",
       "        if (!display || display === 'none') {{\n",
       "            console.log([gd, 'removed!']);\n",
       "            Plotly.purge(gd);\n",
       "            observer.disconnect();\n",
       "        }}\n",
       "}});\n",
       "\n",
       "// Listen for the removal of the full notebook cells\n",
       "var notebookContainer = gd.closest('#notebook-container');\n",
       "if (notebookContainer) {{\n",
       "    x.observe(notebookContainer, {childList: true});\n",
       "}}\n",
       "\n",
       "// Listen for the clearing of the current output cell\n",
       "var outputEl = gd.closest('.output');\n",
       "if (outputEl) {{\n",
       "    x.observe(outputEl, {childList: true});\n",
       "}}\n",
       "\n",
       "                        })                };                });            </script>        </div>"
      ]
     },
     "metadata": {},
     "output_type": "display_data"
    }
   ],
   "source": [
    "fig = px.density_mapbox(high_visits, lat=high_visits.lat, lon=high_visits.lon, z=high_visits[\"mean_visits\"], radius=10, hover_data=['FIPS'],\n",
    "                         zoom=3,\n",
    "                        )\n",
    "\n",
    "fig.update_layout(mapbox_style=\"satellite-streets\",                  \n",
    "                  mapbox_accesstoken=mapbox_token,  \n",
    "                  height=1000, \n",
    "                  )\n",
    "fig.show()"
   ]
  },
  {
   "cell_type": "code",
   "execution_count": 12,
   "metadata": {
    "ExecuteTime": {
     "end_time": "2021-06-06T03:04:49.358178Z",
     "start_time": "2021-06-06T03:04:03.742319Z"
    }
   },
   "outputs": [
    {
     "ename": "NameError",
     "evalue": "name 'geolayer' is not defined",
     "output_type": "error",
     "traceback": [
      "\u001b[0;31m---------------------------------------------------------------------------\u001b[0m",
      "\u001b[0;31mNameError\u001b[0m                                 Traceback (most recent call last)",
      "\u001b[0;32m<ipython-input-12-2378b0d7ced1>\u001b[0m in \u001b[0;36m<module>\u001b[0;34m\u001b[0m\n\u001b[1;32m     13\u001b[0m             'source': {\n\u001b[1;32m     14\u001b[0m                 \u001b[0;34m'type'\u001b[0m\u001b[0;34m:\u001b[0m \u001b[0;34m\"FeatureCollection\"\u001b[0m\u001b[0;34m,\u001b[0m\u001b[0;34m\u001b[0m\u001b[0;34m\u001b[0m\u001b[0m\n\u001b[0;32m---> 15\u001b[0;31m                 \u001b[0;34m'features'\u001b[0m\u001b[0;34m:\u001b[0m \u001b[0;34m[\u001b[0m\u001b[0mgeolayer\u001b[0m\u001b[0;34m]\u001b[0m\u001b[0;34m\u001b[0m\u001b[0;34m\u001b[0m\u001b[0m\n\u001b[0m\u001b[1;32m     16\u001b[0m             },\n\u001b[1;32m     17\u001b[0m             'type': \"fill\", 'below': \"traces\", 'color': \"royalblue\"}]},\n",
      "\u001b[0;31mNameError\u001b[0m: name 'geolayer' is not defined"
     ]
    }
   ],
   "source": [
    "import plotly.graph_objects as go\n",
    "\n",
    "fig = go.Figure(go.Scattermapbox(\n",
    "    mode = \"markers\",\n",
    "    lon = [-73.605], lat = [45.51],\n",
    "    marker = {'size': 20, 'color': [\"cyan\"]}))\n",
    "\n",
    "fig.update_layout(\n",
    "    mapbox = {\n",
    "        'style': \"stamen-terrain\",\n",
    "        'center': { 'lon': -73.6, 'lat': 45.5},\n",
    "        'zoom': 12, 'layers': [{\n",
    "            'source': {\n",
    "                'type': \"FeatureCollection\",\n",
    "                'features': [geolayer]\n",
    "            },\n",
    "            'type': \"fill\", 'below': \"traces\", 'color': \"royalblue\"}]},\n",
    "    margin = {'l':0, 'r':0, 'b':0, 't':0})\n",
    "\n",
    "fig.show()"
   ]
  },
  {
   "cell_type": "code",
   "execution_count": 102,
   "metadata": {
    "ExecuteTime": {
     "end_time": "2021-06-06T03:04:03.701442Z",
     "start_time": "2021-06-06T03:02:45.885057Z"
    }
   },
   "outputs": [],
   "source": [
    "geolayer = filtered[['geometry']].to_json()"
   ]
  },
  {
   "cell_type": "code",
   "execution_count": 103,
   "metadata": {
    "ExecuteTime": {
     "end_time": "2021-06-06T03:04:03.741337Z",
     "start_time": "2021-06-06T03:04:03.701442Z"
    }
   },
   "outputs": [],
   "source": [
    "high_visits[[\"mean_visits\", 'geometry']]"
   ]
  },
  {
   "cell_type": "markdown",
   "metadata": {
    "ExecuteTime": {
     "end_time": "2021-06-03T04:24:03.383540Z",
     "start_time": "2021-06-03T04:24:03.380545Z"
    }
   },
   "source": [
    "# Process backfill weekly Patterns"
   ]
  },
  {
   "cell_type": "code",
   "execution_count": 13,
   "metadata": {
    "ExecuteTime": {
     "end_time": "2021-06-06T02:35:40.825553Z",
     "start_time": "2021-06-06T02:35:40.538494Z"
    }
   },
   "outputs": [],
   "source": [
    "\n",
    "import os\n",
    "import glob\n",
    "\n",
    "import pandas as pd\n",
    "import dask\n",
    "import dask.dataframe as dd\n",
    "\n",
    "# from dask.distributed import Client\n",
    "\n"
   ]
  },
  {
   "cell_type": "code",
   "execution_count": 14,
   "metadata": {
    "ExecuteTime": {
     "end_time": "2021-06-05T03:21:30.368603Z",
     "start_time": "2021-06-05T03:21:30.357627Z"
    }
   },
   "outputs": [],
   "source": [
    "\n",
    "\n",
    "def get_all_files(root_dir, extions=[\".gz\"]):\n",
    "    found_files = []\n",
    "    for rt_dir, dirs, files in os.walk(root_dir):\n",
    "        for ext in extions:\n",
    "            ext = ext.lower()\n",
    "            ext_len = len(ext)\n",
    "            for file in files:\n",
    "                file_ext = file[-(ext_len):]\n",
    "                # print(file)\n",
    "                file_ext = file_ext.lower()\n",
    "                if file_ext == ext:\n",
    "                    file_name = os.path.join(rt_dir, file)\n",
    "                    found_files.append(file_name)\n",
    "                    \n",
    "    return found_files\n",
    "                \n",
    "                            \n",
    "def get_dir_from_files(files):\n",
    "    dirs = [os.path.dirname(f) for f in files]\n",
    "    dirs = list(set(dirs))  \n",
    "    return dirs\n",
    "    \n",
    "def process_dir(dirs):\n",
    "    total = len(dirs)\n",
    "    while len(dirs) > 0:\n",
    "        d = dirs.pop(0)\n",
    "        \n",
    "        print(\"Processing: \", d)\n",
    "        \n",
    "        csvs = glob.glob(os.path.join(d, \"*csv.gz\"))\n",
    "        # print(csvs)\n",
    "        dfs = []\n",
    "        for csv in csvs:\n",
    "            # print(csv)\n",
    "            df = pd.read_csv(csv)\n",
    "            dfs.append(df)\n",
    "            \n",
    "        df_all = pd.concat(dfs)\n",
    "        \n",
    "        pair_list = []\n",
    "        \n",
    "        df_all.apply(unfold_row_dict, args=(pair_list,), axis=1)\n",
    "        \n",
    "        pair_list_df = pd.DataFrame(pair_list)\n",
    "        \n",
    "        if 'safegraph_place_id' in list(df_all.columns):\n",
    "            pair_list_df.columns = [\"safegraph_place_id\", \"visitor_home_cbgs\", \"visits\"]\n",
    "        \n",
    "        if 'placekey' in list(df_all.columns): \n",
    "            pair_list_df.columns = [\"placekey\", \"visitor_home_cbgs\", \"visits\"]\n",
    "        \n",
    "        \n",
    "        saved_name = os.path.join(d, \"edges.csv\")\n",
    "        pair_list_df.to_csv(saved_name, index=False)\n",
    "        \n",
    "        \n",
    "        print(\"number of edges:\", len(pair_list_df))\n",
    "        \n",
    "        print(f\"Processed {total - len(dirs)} / {total}.\")\n",
    "        \n",
    "        # df = dd.read_csv(csvs, blocksize=None, encoding='windows-1252').compute(scheduler='processes')\n",
    "\n",
    "def unfold_row_dict(row, result_list):\n",
    "    \n",
    "    # print(type(row))\n",
    "    # print(row.index)\n",
    "    \n",
    "    if 'safegraph_place_id' in row.index:\n",
    "        placekey = row[\"safegraph_place_id\"]\n",
    "        \n",
    "    if 'placekey' in row.index:        \n",
    "        placekey = row[\"placekey\"]\n",
    "        \n",
    "    a_dict = json.loads(row[\"visitor_home_cbgs\"])\n",
    "    result_list += list(zip([placekey] * len(a_dict.keys()), a_dict.keys(), a_dict.values()))\n",
    "    \n",
    "    \n"
   ]
  },
  {
   "cell_type": "code",
   "execution_count": 21,
   "metadata": {
    "ExecuteTime": {
     "end_time": "2021-06-04T03:10:35.229227Z",
     "start_time": "2021-06-04T02:31:03.623678Z"
    }
   },
   "outputs": [
    {
     "data": {
      "text/plain": [
       "['/media/gpu/easystore/Safegraph/Weekly Places Patterns (for data from 2020-11-30 to Present)/patterns/2021/01/13/19',\n",
       " '/media/gpu/easystore/Safegraph/Weekly Places Patterns (for data from 2020-11-30 to Present)/patterns/2020/12/23/18',\n",
       " '/media/gpu/easystore/Safegraph/Weekly Places Patterns (for data from 2020-11-30 to Present)/patterns/2021/05/19/18',\n",
       " '/media/gpu/easystore/Safegraph/Weekly Places Patterns (for data from 2020-11-30 to Present)/patterns/2021/05/26/18',\n",
       " '/media/gpu/easystore/Safegraph/Weekly Places Patterns (for data from 2020-11-30 to Present)/patterns/2021/06/16/18',\n",
       " '/media/gpu/easystore/Safegraph/Weekly Places Patterns (for data from 2020-11-30 to Present)/patterns/2021/02/17/17',\n",
       " '/media/gpu/easystore/Safegraph/Weekly Places Patterns (for data from 2020-11-30 to Present)/patterns/2021/02/24/18',\n",
       " '/media/gpu/easystore/Safegraph/Weekly Places Patterns (for data from 2020-11-30 to Present)/patterns/2021/02/03/21',\n",
       " '/media/gpu/easystore/Safegraph/Weekly Places Patterns (for data from 2020-11-30 to Present)/patterns/2021/04/21/09',\n",
       " '/media/gpu/easystore/Safegraph/Weekly Places Patterns (for data from 2020-11-30 to Present)/patterns/2021/04/14/04',\n",
       " '/media/gpu/easystore/Safegraph/Weekly Places Patterns (for data from 2020-11-30 to Present)/patterns/2021/03/17/19',\n",
       " '/media/gpu/easystore/Safegraph/Weekly Places Patterns (for data from 2020-11-30 to Present)/patterns/2021/07/07/20',\n",
       " '/media/gpu/easystore/Safegraph/Weekly Places Patterns (for data from 2020-11-30 to Present)/patterns/2021/01/20/19',\n",
       " '/media/gpu/easystore/Safegraph/Weekly Places Patterns (for data from 2020-11-30 to Present)/patterns/2021/03/03/22',\n",
       " '/media/gpu/easystore/Safegraph/Weekly Places Patterns (for data from 2020-11-30 to Present)/patterns/2021/07/14/17',\n",
       " '/media/gpu/easystore/Safegraph/Weekly Places Patterns (for data from 2020-11-30 to Present)/patterns/2021/06/09/18',\n",
       " '/media/gpu/easystore/Safegraph/Weekly Places Patterns (for data from 2020-11-30 to Present)/patterns/2021/06/30/18',\n",
       " '/media/gpu/easystore/Safegraph/Weekly Places Patterns (for data from 2020-11-30 to Present)/patterns/2021/03/24/18',\n",
       " '/media/gpu/easystore/Safegraph/Weekly Places Patterns (for data from 2020-11-30 to Present)/patterns/2021/05/05/20',\n",
       " '/media/gpu/easystore/Safegraph/Weekly Places Patterns (for data from 2020-11-30 to Present)/patterns/2020/12/09/18',\n",
       " '/media/gpu/easystore/Safegraph/Weekly Places Patterns (for data from 2020-11-30 to Present)/patterns/2021/01/06/19',\n",
       " '/media/gpu/easystore/Safegraph/Weekly Places Patterns (for data from 2020-11-30 to Present)/patterns/2021/04/28/06',\n",
       " '/media/gpu/easystore/Safegraph/Weekly Places Patterns (for data from 2020-11-30 to Present)/patterns/2021/03/11/18',\n",
       " '/media/gpu/easystore/Safegraph/Weekly Places Patterns (for data from 2020-11-30 to Present)/patterns/2020/12/30/18',\n",
       " '/media/gpu/easystore/Safegraph/Weekly Places Patterns (for data from 2020-11-30 to Present)/patterns/2021/02/10/19',\n",
       " '/media/gpu/easystore/Safegraph/Weekly Places Patterns (for data from 2020-11-30 to Present)/patterns/2021/01/27/21',\n",
       " '/media/gpu/easystore/Safegraph/Weekly Places Patterns (for data from 2020-11-30 to Present)/patterns/2020/12/16/18',\n",
       " '/media/gpu/easystore/Safegraph/Weekly Places Patterns (for data from 2020-11-30 to Present)/patterns/2021/06/02/18',\n",
       " '/media/gpu/easystore/Safegraph/Weekly Places Patterns (for data from 2020-11-30 to Present)/patterns/2021/03/31/17',\n",
       " '/media/gpu/easystore/Safegraph/Weekly Places Patterns (for data from 2020-11-30 to Present)/patterns/2021/06/23/17',\n",
       " '/media/gpu/easystore/Safegraph/Weekly Places Patterns (for data from 2020-11-30 to Present)/patterns/2021/04/07/06',\n",
       " '/media/gpu/easystore/Safegraph/Weekly Places Patterns (for data from 2020-11-30 to Present)/patterns/2021/05/13/03']"
      ]
     },
     "execution_count": 21,
     "metadata": {},
     "output_type": "execute_result"
    }
   ],
   "source": [
    "root_dir = r'H:\\Safegraph\\Weekly Places Patterns Backfill for Dec 2020 and Onward Release\\patterns_backfill\\2020\\12\\14\\21' # finished\n",
    "root_dir = r'H:\\Safegraph\\Weekly Places Patterns (for data from 2020-11-30 to Present)\\patterns'  # processed\n",
    "root_dir = r'H:\\Safegraph\\Monthly Places Patterns (aka Patterns) Jan 2018 - Apr 2020'  # processed\n",
    "root_dir = r\"H:\\Safegraph\\Monthly Places Patterns (aka Patterns) May 2020 - Nov 2020\\patterns\" # processed\n",
    "root_dir = r'/media/gpu/easystore/Safegraph/Weekly Places Patterns (for data from 2020-11-30 to Present)/patterns'  \n",
    "\n",
    "\n",
    "def process_dir_split(dirs):\n",
    "    total = len(dirs)\n",
    "    while len(dirs) > 0:\n",
    "        d = dirs.pop(0)\n",
    "        \n",
    "        print(\"Processing: \", d)\n",
    "        \n",
    "        csvs = glob.glob(os.path.join(d, \"*csv.gz\"))\n",
    "        # print(csvs)\n",
    "        dfs = []\n",
    "        for csv in csvs:\n",
    "            # print(csv)\n",
    "            df = pd.read_csv(csv)\n",
    "            dfs.append(df)\n",
    "            \n",
    "        df_all = pd.concat(dfs)\n",
    "        \n",
    "        pair_list = []\n",
    "        \n",
    "        df_all.apply(unfold_row_dict, args=(pair_list,), axis=1)\n",
    "        \n",
    "        pair_list_df = pd.DataFrame(pair_list)\n",
    "        \n",
    "        if 'safegraph_place_id' in list(df_all.columns):\n",
    "            pair_list_df.columns = [\"safegraph_place_id\", \"visitor_home_cbgs\", \"visits\"]\n",
    "        \n",
    "        if 'placekey' in list(df_all.columns): \n",
    "            pair_list_df.columns = [\"placekey\", \"visitor_home_cbgs\", \"visits\"]\n",
    "        \n",
    "        \n",
    "        saved_name = os.path.join(d, \"edges.csv\")\n",
    "        pair_list_df.to_csv(saved_name, index=False)\n",
    "        \n",
    "        \n",
    "        print(\"number of edges:\", len(pair_list_df))\n",
    "        \n",
    "        print(f\"Processed {total - len(dirs)} / {total}.\")\n",
    "        \n",
    "\n",
    "# split files to county_levels\n",
    "found_files = get_all_files(root_dir, extions=[\".gz\"])\n",
    "dirs = get_dir_from_files(found_files)\n",
    "\n",
    "dirs\n",
    "# process_dir(dirs[:])"
   ]
  },
  {
   "cell_type": "markdown",
   "metadata": {
    "ExecuteTime": {
     "end_time": "2021-06-05T00:05:15.053191Z",
     "start_time": "2021-06-05T00:05:15.041223Z"
    }
   },
   "source": [
    "## rename"
   ]
  },
  {
   "cell_type": "code",
   "execution_count": 61,
   "metadata": {
    "ExecuteTime": {
     "end_time": "2021-06-05T02:11:20.277948Z",
     "start_time": "2021-06-05T02:11:18.500057Z"
    },
    "scrolled": true
   },
   "outputs": [
    {
     "name": "stdout",
     "output_type": "stream",
     "text": [
      "Requirement already satisfied: natsort in c:\\programdata\\anaconda3\\lib\\site-packages (7.1.0)\n",
      "Note: you may need to restart the kernel to use updated packages.\n"
     ]
    }
   ],
   "source": [
    "pip install natsort"
   ]
  },
  {
   "cell_type": "code",
   "execution_count": 7,
   "metadata": {
    "ExecuteTime": {
     "end_time": "2021-06-05T03:21:05.488828Z",
     "start_time": "2021-06-05T03:21:05.463239Z"
    }
   },
   "outputs": [],
   "source": [
    "from natsort import natsorted"
   ]
  },
  {
   "cell_type": "code",
   "execution_count": null,
   "metadata": {},
   "outputs": [],
   "source": []
  },
  {
   "cell_type": "code",
   "execution_count": 8,
   "metadata": {
    "ExecuteTime": {
     "end_time": "2021-06-05T03:22:14.584959Z",
     "start_time": "2021-06-05T03:22:14.569009Z"
    }
   },
   "outputs": [
    {
     "ename": "NameError",
     "evalue": "name 'get_all_files' is not defined",
     "output_type": "error",
     "traceback": [
      "\u001b[0;31m---------------------------------------------------------------------------\u001b[0m",
      "\u001b[0;31mNameError\u001b[0m                                 Traceback (most recent call last)",
      "\u001b[0;32m<ipython-input-8-5943cc91f829>\u001b[0m in \u001b[0;36m<module>\u001b[0;34m\u001b[0m\n\u001b[1;32m      7\u001b[0m \u001b[0;34m\u001b[0m\u001b[0m\n\u001b[1;32m      8\u001b[0m \u001b[0;34m\u001b[0m\u001b[0m\n\u001b[0;32m----> 9\u001b[0;31m \u001b[0mfound_files\u001b[0m \u001b[0;34m=\u001b[0m \u001b[0mget_all_files\u001b[0m\u001b[0;34m(\u001b[0m\u001b[0mroot_dir\u001b[0m\u001b[0;34m,\u001b[0m \u001b[0mextions\u001b[0m\u001b[0;34m=\u001b[0m\u001b[0;34m[\u001b[0m\u001b[0;34m\".gz\"\u001b[0m\u001b[0;34m]\u001b[0m\u001b[0;34m)\u001b[0m\u001b[0;34m\u001b[0m\u001b[0;34m\u001b[0m\u001b[0m\n\u001b[0m\u001b[1;32m     10\u001b[0m \u001b[0;34m\u001b[0m\u001b[0m\n\u001b[1;32m     11\u001b[0m \u001b[0mdirs\u001b[0m \u001b[0;34m=\u001b[0m \u001b[0mget_dir_from_files\u001b[0m\u001b[0;34m(\u001b[0m\u001b[0mfound_files\u001b[0m\u001b[0;34m)\u001b[0m\u001b[0;34m\u001b[0m\u001b[0;34m\u001b[0m\u001b[0m\n",
      "\u001b[0;31mNameError\u001b[0m: name 'get_all_files' is not defined"
     ]
    }
   ],
   "source": [
    "root_dir = r'H:\\Safegraph\\Weekly Places Patterns Backfill for Dec 2020 and Onward Release\\patterns_backfill\\2020\\12\\14\\21' # finished\n",
    "root_dir = r'H:\\Safegraph\\Weekly Places Patterns (for data from 2020-11-30 to Present)\\patterns'  # processed\n",
    "root_dir = r'H:\\Safegraph\\Monthly Places Patterns (aka Patterns) Jan 2018 - Apr 2020'  # processed\n",
    "root_dir = r'H:\\Safegraph\\Monthly Places Patterns (aka Patterns) Dec 2020 - Present\\patterns'  # processed\n",
    "root_dir = r\"H:\\Safegraph\\Monthly Places Patterns (aka Patterns) May 2020 - Nov 2020\\patterns\" # processed\n",
    "root_dir = r\"H:\\Safegraph\\Monthly Places Patterns (aka Patterns) Dec 2020 - Present\\patterns_backfill\"\n",
    "\n",
    "\n",
    "found_files = get_all_files(root_dir, extions=[\".gz\"])\n",
    "\n",
    "dirs = get_dir_from_files(found_files)\n",
    "dirs = natsorted(dirs)\n",
    "# print(dirs)\n",
    "\n",
    "\n",
    "\n",
    "def generate_edge_file_name(root_dir, dataset=\"monthly_pattern_backfill\"):\n",
    "    if dataset == \"monthly_pattern_backfill\":\n",
    "        month = root_dir[-7:].replace(\"\\\\\", \"-\")\n",
    "        basename = f\"{dataset}_{month}.csv\"\n",
    "        file_name = os.path.join(root_dir, basename)\n",
    "        return (file_name)\n",
    "    \n",
    "for d in dirs:\n",
    "    date = generate_edge_file_name(d, dataset=\"monthly_pattern_backfill\")\n",
    "    print(date)"
   ]
  },
  {
   "cell_type": "code",
   "execution_count": 24,
   "metadata": {
    "ExecuteTime": {
     "end_time": "2021-06-03T19:13:12.072585Z",
     "start_time": "2021-06-03T19:12:49.348283Z"
    }
   },
   "outputs": [
    {
     "data": {
      "text/plain": [
       "safegraph_place_id            object\n",
       "location_name                 object\n",
       "street_address                object\n",
       "city                          object\n",
       "region                        object\n",
       "postal_code                    int64\n",
       "safegraph_brand_ids           object\n",
       "brands                        object\n",
       "date_range_start              object\n",
       "date_range_end                object\n",
       "raw_visit_counts               int64\n",
       "raw_visitor_counts             int64\n",
       "visits_by_day                 object\n",
       "poi_cbg                      float64\n",
       "visitor_home_cbgs             object\n",
       "visitor_daytime_cbgs          object\n",
       "visitor_work_cbgs             object\n",
       "visitor_country_of_origin     object\n",
       "distance_from_home           float64\n",
       "median_dwell                 float64\n",
       "bucketed_dwell_times          object\n",
       "related_same_day_brand        object\n",
       "related_same_month_brand      object\n",
       "popularity_by_hour            object\n",
       "popularity_by_day             object\n",
       "device_type                   object\n",
       "dtype: object"
      ]
     },
     "execution_count": 24,
     "metadata": {},
     "output_type": "execute_result"
    }
   ],
   "source": [
    "csv_file = r\"H:\\Safegraph\\Monthly Places Patterns (aka Patterns) Jan 2018 - Apr 2020\\2018\\01\\patterns-part1.csv.gz\"\n",
    "    \n",
    "df = pd.read_csv(csv_file)    \n",
    "df.dtypes\n"
   ]
  },
  {
   "cell_type": "code",
   "execution_count": null,
   "metadata": {},
   "outputs": [],
   "source": [
    "\n",
    "    \n",
    "# s_ddf = df.sample(len(df))\n",
    "s_ddf = df.sample(10000)\n",
    "# s_ddf = ddf.sample(0.0006)\n",
    "print(len(s_ddf))\n",
    "print(type(s_ddf))\n",
    "\n",
    "\n",
    "pair_list = []\n",
    "# df[\"pairs\"] = df.apply(unfold_row_dict1, axis=1)\n",
    "df.apply(unfold_row_dict, args=(pair_list,), axis=1)"
   ]
  }
 ],
 "metadata": {
  "kernelspec": {
   "display_name": "Python 3",
   "language": "python",
   "name": "python3"
  },
  "language_info": {
   "codemirror_mode": {
    "name": "ipython",
    "version": 3
   },
   "file_extension": ".py",
   "mimetype": "text/x-python",
   "name": "python",
   "nbconvert_exporter": "python",
   "pygments_lexer": "ipython3",
   "version": "3.7.6"
  },
  "toc": {
   "base_numbering": 1,
   "nav_menu": {},
   "number_sections": true,
   "sideBar": true,
   "skip_h1_title": false,
   "title_cell": "Table of Contents",
   "title_sidebar": "Contents",
   "toc_cell": false,
   "toc_position": {
    "height": "calc(100% - 180px)",
    "left": "10px",
    "top": "150px",
    "width": "165px"
   },
   "toc_section_display": true,
   "toc_window_display": true
  }
 },
 "nbformat": 4,
 "nbformat_minor": 4
}
